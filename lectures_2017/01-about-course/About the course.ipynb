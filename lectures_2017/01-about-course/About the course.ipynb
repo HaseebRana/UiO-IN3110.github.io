{
 "cells": [
  {
   "cell_type": "markdown",
   "metadata": {
    "slideshow": {
     "slide_type": "slide"
    }
   },
   "source": [
    "# About the INF3331/INF4331 course\n",
    "<img src=\"https://imgs.xkcd.com/comics/python.png\" style=\"width: 400px;\"/>"
   ]
  },
  {
   "cell_type": "markdown",
   "metadata": {
    "slideshow": {
     "slide_type": "slide"
    }
   },
   "source": [
    "## Teachers\n",
    "\n",
    "  * Simon Funke (simon@simula.no)\n",
    "    <img src=\"figs/funke.jpg\" style=\"width: 100px;\"/>\n",
    "  * Karl-Erik Holter\n",
    "    <img src=\"figs/karl-erik.jpg\" style=\"width: 100px;\"/>\n",
    "  * Guest lecturers: \n",
    "      * Benjamin Ragan-Kelley (Simula) \n",
    "      * Jonathan Feinberg (Expert Analytics)\n",
    "  * Teaching assistants and assignment correctors"
   ]
  },
  {
   "cell_type": "markdown",
   "metadata": {
    "slideshow": {
     "slide_type": "subslide"
    }
   },
   "source": [
    "## What we use higher level languages for...\n",
    "  * creating efficient working (or problem solving) environments\n",
    "  * developing large-scale simulation software (which solves partial differential equations)\n",
    "  * making flexible and user-friendly software!\n",
    "  * We mostly use the Bash and Python languages (also thaught in this course)"
   ]
  },
  {
   "cell_type": "markdown",
   "metadata": {
    "slideshow": {
     "slide_type": "subslide"
    }
   },
   "source": [
    "## Some of our research migrates into this course\n",
    "\n",
    "Computer simulation of fibre stresses in beating heart - (Hernik Finsberg et al, PhD student at Simula):\n",
    "<video controls src=\"figs/heart.mp4\" />"
   ]
  },
  {
   "cell_type": "markdown",
   "metadata": {
    "slideshow": {
     "slide_type": "subslide"
    }
   },
   "source": [
    "## Some of our research migrates into this course\n",
    "\n",
    "Assimilation and simulation of blood flow through an aneurysm from MRI scans - (Simon Funke et al, Simula):\n",
    "<video controls src=\"figs/aneurysm.mp4\"  style=\"width: 600px;\"/>\n",
    "\n",
    "There are lots of opportunities for Master projects related to this course\n",
    "\n"
   ]
  },
  {
   "cell_type": "markdown",
   "metadata": {
    "slideshow": {
     "slide_type": "subslide"
    }
   },
   "source": [
    "## Course content\n",
    "\n",
    "  * Scripting in general\n",
    "  * Basic Bash programming\n",
    "  * Python introduction for beginners (two weeks)\n",
    "  * Efficient Python with vectorization and NumPy arrays\n",
    "  * Combining Python with C and C++  \n",
    "  * Regular expressions / abstract syntax tree (maybe)\n",
    "  * Creating web interfaces to Python scripts\n",
    "  * Programming tools: version control systems, modules, profiling, documenting, tests"
   ]
  },
  {
   "cell_type": "markdown",
   "metadata": {
    "slideshow": {
     "slide_type": "subslide"
    }
   },
   "source": [
    "## What you will learn\n",
    "\n",
    "  * Scripting in general, but with most examples taken from scientific computing\n",
    "  * Jump into useful scripts and dissect the code\n",
    "  * Learning by doing\n",
    "  * Find examples, look up man pages, Web docs and textbooks on demand\n",
    "  * Get the overview\n",
    "  * Customize existing code\n",
    "  * **Have fun and work with useful things**"
   ]
  },
  {
   "cell_type": "markdown",
   "metadata": {
    "slideshow": {
     "slide_type": "subslide"
    }
   },
   "source": [
    "## Background 1: INF3331 vs INF1100\n",
    "\n",
    "  * Wide range of backgrounds with respect to Python and general programming experience\n",
    "\n",
    "  * Since INF3331 does not build on INF1100, some overlap is inevitable\n",
    "\n",
    "  * Two weeks of basic Python intro not useful for those with INF1100 background\n",
    "\n",
    "  * INF3331 has more focus on scripting and practical problem solving\n",
    "\n",
    "  * We welcome any feedback on how we can make INF3331 interesting and challenging for students with different backgrounds"
   ]
  },
  {
   "cell_type": "markdown",
   "metadata": {
    "slideshow": {
     "slide_type": "subslide"
    }
   },
   "source": [
    "## Background 2: INF3331 vs INF4331\n",
    "  * Same lectures and group sessions.\n",
    "  * INF4331 has some more exercises than INF3331.\n",
    "  * More points are needed to pass INF4331."
   ]
  },
  {
   "cell_type": "markdown",
   "metadata": {
    "slideshow": {
     "slide_type": "subslide"
    }
   },
   "source": [
    "## Background 3: Mathematics\n",
    "\n",
    "  * Very little mathematics is needed to complete the course.\n",
    "  * Basic knowledge will make life easier:\n",
    "\n",
    "      * General functions, such as $f(x) = ax +b$, and how they are turned into computer code\n",
    "      * Standard mathematical functions such as $\\sin(x),\\cos(x)$ and exponential functions\n",
    "      * Simple matrix-vector operations\n",
    "\n",
    "\n",
    "  * A learn-on-demand strategy should work fine, as long as you do not panic at the sight of a mathematical expression."
   ]
  },
  {
   "cell_type": "markdown",
   "metadata": {
    "slideshow": {
     "slide_type": "subslide"
    }
   },
   "source": [
    "## Teaching material (1)\n",
    "\n",
    "* Lecture slides and videos here: https://uio-inf3331.github.io. The lectures are video recorded and will be updated as we go along.\n",
    "* Assignments on the [course webpage](http://www.uio.no/studier/emner/matnat/ifi/INF3331/h17/oppgaver.html).\n",
    "* Associated book (optional): H. P. Langtangen: Python Scripting for Computational Science, 3rd/4th edition, Springer 2014. The book is based on Python 2, but can easily converted to Python 3. Ebook version available through the UiO Library (free).\n",
    "  <img src=\"http://t0.gstatic.com/images?q=tbn:ANd9GcTDbJBbghC-sCXiS1a5OYfEz0G7LhWl2CcEJgLGwwPeC_fA7naQ\" >\n",
    "\n",
    "\n",
    "You must find the rest: manuals, textbooks, google\n",
    "\n"
   ]
  },
  {
   "cell_type": "markdown",
   "metadata": {
    "slideshow": {
     "slide_type": "subslide"
    }
   },
   "source": [
    "## Teaching material (2)\n",
    "\n",
    "Good Python literature:\n",
    "* Harms and McDonald: The Quick Python Book, 2nd edition, 2010\n",
    "* Beazley: Python Essential Reference, 4th edition, 2009\n",
    "* Mark Pilgrim: Dive into Python 3, 2004\n",
    "\n",
    "<img src=\"figs/beazley_grayson_harms.jpg\" >\n"
   ]
  },
  {
   "cell_type": "markdown",
   "metadata": {
    "slideshow": {
     "slide_type": "subslide"
    }
   },
   "source": [
    "## We will use Piazza as a knowledge platform\n",
    "\n",
    "  * Allows students to ask and answer questions.\n",
    "  * Great discussion platform.\n",
    "  * Lecturers/teaching assistants will be active on the platform to help.\n",
    "  * Sign up: [http://piazza.com/uio.no/fall2017/inf3331inf4331](http://piazza.com/uio.no/fall2017/inf3331inf4331)\n",
    "<img src=\"figs/piazza.jpg\" style=\"width: 1200px;\"/>  "
   ]
  },
  {
   "cell_type": "markdown",
   "metadata": {
    "slideshow": {
     "slide_type": "subslide"
    }
   },
   "source": [
    "## Lectures and groups (1)\n",
    "\n",
    "  * Lectures: Fridays 10:15 - 12:00.\n",
    "  * Lecture slides available on the course website before each lecture.\n",
    "  * Video recorded lecture will be made available after each lecture (videos from previous year already available).\n",
    "  * Assignments will be published Fridays.\n",
    "  * Weekly groups sessions (see course website) in addition to Piazza.\n",
    "  * **Groups and exercises are the core of the course: problem solving is in focus**."
   ]
  },
  {
   "cell_type": "markdown",
   "metadata": {
    "slideshow": {
     "slide_type": "subslide"
    }
   },
   "source": [
    "## Lectures and groups (2)\n",
    "\n",
    "  * Today: Introduction: scripting vs regular programming, version control systems\n",
    "  * Next week: Basic shell scripting\n",
    "  * Week 3-4: Python introduction (not needed if you have INF1100)\n",
    "  * ..."
   ]
  },
  {
   "cell_type": "markdown",
   "metadata": {
    "slideshow": {
     "slide_type": "subslide"
    }
   },
   "source": [
    "## Group classes and assignments\n",
    "\n",
    "  * Mix of short (1 week) and large (3+1 weeks) assignments.\n",
    "  * Deadlines are published on course website.\n",
    "  * Group classes will be regular group classes, where you work on your assignments and can ask questions.\n",
    "  * No strict requirement to show up in group classes, but useful to ask questions and discuss solutions.  \n",
    "  * Group classes start next week."
   ]
  },
  {
   "cell_type": "markdown",
   "metadata": {
    "slideshow": {
     "slide_type": "subslide"
    }
   },
   "source": [
    "## Assignments and reviews\n",
    "\n",
    "  * Each student solves the assignments individually.\n",
    "  * Large assignments have a peer review system to correct the assignments.\n",
    "  * Assignments and reviews are handed in electronically on github.\n",
    "  * All assignments and reviews are corrected by INF3331 correctors and give points towards passing the course.\n",
    "  * First assignment: today."
   ]
  },
  {
   "cell_type": "markdown",
   "metadata": {
    "slideshow": {
     "slide_type": "subslide"
    }
   },
   "source": [
    "## Peer-review of large assignments\n",
    "\n",
    "  * After the assignment is handed in, you are given a *marking group* (rettegruppe) with 1-3 students in each.\n",
    "\n",
    "  * Each marking group will get the assignments from 1-3 other students.\n",
    "\n",
    "  * For each assignment you evaluate, you should write a report, which comments and evaluates the quality of the programming, and provide constructive feedback.\n",
    "\n",
    "  * When, where and how you organize the evaluation is up to you, but the intention is to do the evaluation in groups.\n",
    "\n",
    "  * Deadline for reports: one week after you have been assigned to the marking groups."
   ]
  },
  {
   "cell_type": "markdown",
   "metadata": {
    "slideshow": {
     "slide_type": "subslide"
    }
   },
   "source": [
    "## How to pass the course\n",
    "\n",
    "  * **No exam**! \n",
    "  * **No grades (only pass/fail) **!\n",
    "  * The assignments give points towards passing the course.\n",
    "  * The peer-review also gives points.\n",
    "  * NF3331: The total number of points will be 150. The course is passed with a minimum of 120 points.\n",
    "  * INF4331: The total number of points will be 180. The course is passed with a minimum of 145 points."
   ]
  },
  {
   "cell_type": "markdown",
   "metadata": {
    "slideshow": {
     "slide_type": "subslide"
    }
   },
   "source": [
    "## Assignments are handed in using github\n",
    "\n",
    "  * Everyone needs to obtain an account on github (its free).\n",
    "  * We will establish a *classroom* on github. For this we need from everyone:\n",
    "      * Full name\n",
    "      * Email\n",
    "      * UiO username\n",
    "      * Github user name\n",
    "  * For this, please fill out a web form (see link on next slide)\n",
    "  * We will create a git repository on github where you can upload the assignment solutions."
   ]
  },
  {
   "cell_type": "markdown",
   "metadata": {
    "slideshow": {
     "slide_type": "subslide"
    }
   },
   "source": [
    "## Things to do in the first week\n",
    "\n",
    "  1. Create a github account.\n",
    "  2. Register course attendence on https://goo.gl/forms/Y6TjRYD81Moj4jbN2\n",
    "  3. Wait (typically one day) until I created your personal github repository (it will be named https://github.com/UiO-INF3331/INF3331-uio_username). You will get an invitation email from github to join a new team. Once you did this you will have access to your repository.\n",
    "     \n",
    "     **Note**: The repo will be called `INF3331-uio_username` independently if you are in INF3331 or INF4331.\n",
    "  4. Sign up to INF3331/INF4331 course on Piazza: http://piazza.com/uio.no/fall2017/inf3331inf4331\n",
    "  5. (Optional) Do the interactive git tutorial on <https://try.github.io>\n",
    "  6. Solve the first assignment: http://www.uio.no/studier/emner/matnat/ifi/INF3331/h17/oppgaver.html.\n",
    "  \n",
    "** Important: ** Do steps 1-4 as early as possible!"
   ]
  },
  {
   "cell_type": "markdown",
   "metadata": {
    "slideshow": {
     "slide_type": "subslide"
    }
   },
   "source": [
    "## Why has the course been organized like this?\n",
    "\n",
    "  * \"Problem solving\" is best learnt by solving a large number of problems.\n",
    "  * With limited resources, this is the only way we can maintain the large number of mandatory assignments.\n",
    "  * You learn from reading and inspecting each other's code.\n",
    "  * **Goal**: more flexible implementation, but which still allows a high volume of programming exercises.\n"
   ]
  },
  {
   "cell_type": "markdown",
   "metadata": {
    "slideshow": {
     "slide_type": "subslide"
    }
   },
   "source": [
    "## Software for this course\n",
    "\n",
    "  * Git (see https://git-scm.com)\n",
    "  * Bash runs on Windows (via `cygwin`, or maybe even Windows Subsystem for Linux), Mac, Linux.\n",
    "  * Python 3 runs on Windows, Mac, Linux (we recommend the `anaconda` distribution).\n",
    "  * C (GCC) runs on Windows, Mac, Linux.\n",
    "  * Mac and Linux computers should work flawlessly, Windows probably also."
   ]
  },
  {
   "cell_type": "markdown",
   "metadata": {
    "slideshow": {
     "slide_type": "subslide"
    }
   },
   "source": [
    "## Final words\n",
    "\n",
    "* For more information, see the [course web page](http://www.uio.no/studier/emner/matnat/ifi/INF3331/h17/oppgaver.html).\n",
    "\n",
    "* Use Piazza to ask, and answer questions.\n",
    "\n",
    "* For feedback email me: `simon@simula.no`"
   ]
  }
 ],
 "metadata": {
  "celltoolbar": "Slideshow",
  "kernelspec": {
   "display_name": "Python 3",
   "language": "python",
   "name": "python3"
  },
  "language_info": {
   "codemirror_mode": {
    "name": "ipython",
    "version": 3
   },
   "file_extension": ".py",
   "mimetype": "text/x-python",
   "name": "python",
   "nbconvert_exporter": "python",
   "pygments_lexer": "ipython3",
   "version": "3.6.1"
  },
  "livereveal": {
   "scroll": true,
   "start_slideshow_at": "selected",
   "theme": "serif"
  }
 },
 "nbformat": 4,
 "nbformat_minor": 1
}
