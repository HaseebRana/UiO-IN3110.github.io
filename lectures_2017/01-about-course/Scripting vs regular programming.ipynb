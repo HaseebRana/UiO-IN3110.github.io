{
 "cells": [
  {
   "cell_type": "markdown",
   "metadata": {
    "slideshow": {
     "slide_type": "slide"
    }
   },
   "source": [
    "# Scripting vs regular programming"
   ]
  },
  {
   "cell_type": "markdown",
   "metadata": {
    "slideshow": {
     "slide_type": "subslide"
    }
   },
   "source": [
    "## What is a script?\n",
    "\n",
    "* Very high-level, often short, program written in a high-level scripting language\n",
    "* Scripting languages:\n",
    "<img src=\"figs/scripting_languages.svg\" style=\"width: 500px;\"/>\n",
    "\n",
    "* This course: Python + a taste of Bash (Unix shell)"
   ]
  },
  {
   "cell_type": "markdown",
   "metadata": {
    "slideshow": {
     "slide_type": "notes"
    }
   },
   "source": [
    "## Python is one of the most popular programming language\n",
    "\n",
    "### TIOBE Index - very long term history\n",
    "<img src=\"https://lh3.googleusercontent.com/D9D-9lXuygtkunqMs-NmjTAjG3pbYTZTwTbCnXsKkj-iKIx0Gg03bJx9feNKnnQqeoLCnHghwZQc689pEmKcBp2vnWkW4tYdJxfTRDXXrVxAI0HIfy3htRDgrwniDLln6LkQAWrme00\"/>      "
   ]
  },
  {
   "cell_type": "markdown",
   "metadata": {
    "slideshow": {
     "slide_type": "subslide"
    }
   },
   "source": [
    "## Characteristics of a script\n",
    "\n",
    "  * Glue other programs together and automate tasks\n",
    "\n",
    "  * Extensive text processing\n",
    "\n",
    "  * File and directory manipulation\n",
    "\n",
    "  * Often special-purpose code\n",
    "\n",
    "  * Many small interacting scripts may yield a big system\n",
    "\n",
    "  * Perhaps a special-purpose GUI on top\n",
    "\n",
    "  * (Sometimes) portable across Unix, Windows, Mac\n",
    "\n",
    "  * Interpreted program (no compilation+linking)"
   ]
  },
  {
   "cell_type": "markdown",
   "metadata": {
    "slideshow": {
     "slide_type": "subslide"
    }
   },
   "source": [
    "## Why not stick to Java or C/C++?\n",
    "\n",
    "Features of scripting languages compared to Java, C/C++ and Fortran:\n",
    "\n",
    "  * shorter, more high-level programs\n",
    "  * much faster software development\n",
    "  * more convenient programming\n",
    "  * you feel more productive. The three main reasons are:\n",
    "      * no variable declarations, but lots of consistency checks at run time\n",
    "      * technical details are hidden: no pointers, automatic garbage collection, ...\n",
    "      * easy to combine software components and interact with the OS\n",
    "      * lots of standardized libraries and tools     "
   ]
  },
  {
   "cell_type": "markdown",
   "metadata": {
    "slideshow": {
     "slide_type": "subslide"
    }
   },
   "source": [
    "## Scripts yield short code\n",
    "\n",
    "\n",
    "Consider reading real numbers from a file, where each line\n",
    "can contain an arbitrary number of real numbers:"
   ]
  },
  {
   "cell_type": "markdown",
   "metadata": {
    "slideshow": {
     "slide_type": "-"
    }
   },
   "source": [
    "```\n",
    "1.1  9   5.2\n",
    "1.762543E-02\n",
    "0 0.01 0.001\n",
    "        \n",
    "   9 3 7\n",
    "```\n"
   ]
  },
  {
   "cell_type": "markdown",
   "metadata": {
    "slideshow": {
     "slide_type": "-"
    }
   },
   "source": [
    "Python solution:"
   ]
  },
  {
   "cell_type": "code",
   "execution_count": 1,
   "metadata": {
    "slideshow": {
     "slide_type": "-"
    }
   },
   "outputs": [
    {
     "ename": "FileNotFoundError",
     "evalue": "[Errno 2] No such file or directory: 'myfile.txt'",
     "output_type": "error",
     "traceback": [
      "\u001b[0;31m---------------------------------------------------------------------------\u001b[0m",
      "\u001b[0;31mFileNotFoundError\u001b[0m                         Traceback (most recent call last)",
      "\u001b[0;32m<ipython-input-1-c591e891008d>\u001b[0m in \u001b[0;36m<module>\u001b[0;34m()\u001b[0m\n\u001b[0;32m----> 1\u001b[0;31m \u001b[0mF\u001b[0m \u001b[0;34m=\u001b[0m \u001b[0mopen\u001b[0m\u001b[0;34m(\u001b[0m\u001b[0;34m\"myfile.txt\"\u001b[0m\u001b[0;34m,\u001b[0m \u001b[0;34m'r'\u001b[0m\u001b[0;34m)\u001b[0m\u001b[0;34m\u001b[0m\u001b[0m\n\u001b[0m\u001b[1;32m      2\u001b[0m \u001b[0mn\u001b[0m \u001b[0;34m=\u001b[0m \u001b[0mF\u001b[0m\u001b[0;34m.\u001b[0m\u001b[0mread\u001b[0m\u001b[0;34m(\u001b[0m\u001b[0;34m)\u001b[0m\u001b[0;34m.\u001b[0m\u001b[0msplit\u001b[0m\u001b[0;34m(\u001b[0m\u001b[0;34m)\u001b[0m\u001b[0;34m\u001b[0m\u001b[0m\n",
      "\u001b[0;31mFileNotFoundError\u001b[0m: [Errno 2] No such file or directory: 'myfile.txt'"
     ]
    }
   ],
   "source": [
    "F = open(\"myfile.txt\", 'r')\n",
    "n = F.read().split()"
   ]
  },
  {
   "cell_type": "code",
   "execution_count": null,
   "metadata": {
    "collapsed": true
   },
   "outputs": [],
   "source": [
    "print(n)"
   ]
  },
  {
   "cell_type": "markdown",
   "metadata": {
    "slideshow": {
     "slide_type": "subslide"
    }
   },
   "source": [
    "## Using regular expressions (1)\n",
    "\n",
    "\n",
    "Suppose we want to read complex numbers written as text"
   ]
  },
  {
   "cell_type": "markdown",
   "metadata": {},
   "source": [
    "`(-3, 1.4)` or `(-1.437625E-9, 7.11)`  or  `(  4, 2 )`"
   ]
  },
  {
   "cell_type": "markdown",
   "metadata": {},
   "source": [
    "Python solution:"
   ]
  },
  {
   "cell_type": "code",
   "execution_count": null,
   "metadata": {
    "collapsed": true
   },
   "outputs": [],
   "source": [
    "import re\n",
    "m = re.search(r'\\(\\s*([^,]+)\\s*,\\s*([^,]+)\\s*\\)',\n",
    "              '(  -3,1.4)')\n",
    "re, im = [float(x) for x in m.groups()]"
   ]
  },
  {
   "cell_type": "markdown",
   "metadata": {},
   "source": [
    "(This will only find the first match of the regular expression, use\n",
    "`re.findall` to return a list of all matches.)"
   ]
  },
  {
   "cell_type": "markdown",
   "metadata": {
    "slideshow": {
     "slide_type": "subslide"
    }
   },
   "source": [
    "## Using regular expressions (2)\n",
    "\n",
    "\n",
    "Regular expressions like"
   ]
  },
  {
   "cell_type": "markdown",
   "metadata": {},
   "source": [
    "        \\(\\s*([^,]+)\\s*,\\s*([^,]+)\\s*\\)\n"
   ]
  },
  {
   "cell_type": "markdown",
   "metadata": {},
   "source": [
    "constitute a powerful language for specifying text patterns\n",
    "\n",
    "Doing the same thing, without regular expressions, in Fortran and C requires quite some low-level code at the character array level\n",
    "\n",
    "**Remark**: we could read pairs (-3, 1.4) without using regular expressions,"
   ]
  },
  {
   "cell_type": "code",
   "execution_count": null,
   "metadata": {
    "collapsed": true
   },
   "outputs": [],
   "source": [
    "s = '(-3,  1.4 )'\n",
    "re, im = s[1:-1].split(',')"
   ]
  },
  {
   "cell_type": "markdown",
   "metadata": {
    "slideshow": {
     "slide_type": "subslide"
    }
   },
   "source": [
    "## Script variables are not declared\n",
    "\n",
    "\n",
    "Example of a Python function:"
   ]
  },
  {
   "cell_type": "code",
   "execution_count": null,
   "metadata": {
    "collapsed": true
   },
   "outputs": [],
   "source": [
    "def debug(leading_text, variable):\n",
    "    if os.environ.get('MYDEBUG', '0') == '1':\n",
    "        print leading_text, variable"
   ]
  },
  {
   "cell_type": "markdown",
   "metadata": {},
   "source": [
    "Dumps **any** printable variable\n",
    "(number, list, hash, heterogeneous structure)\n",
    "\n",
    "Printing can be turned on/off by setting the\n",
    "environment variable `MYDEBUG`"
   ]
  },
  {
   "cell_type": "markdown",
   "metadata": {
    "slideshow": {
     "slide_type": "subslide"
    }
   },
   "source": [
    "## The same function in C++\n",
    "\n",
    "\n",
    "Templates can be used to mimic dynamically typed languages\n",
    "\n",
    "Not as quick and convenient programming:"
   ]
  },
  {
   "cell_type": "markdown",
   "metadata": {},
   "source": [
    "```C++\n",
    "template <class T>\n",
    "void debug(std::ostream& o,\n",
    "           const std::string& leading_text,\n",
    "           const T& variable)\n",
    "{\n",
    "  char* c = getenv(\"MYDEBUG\");\n",
    "  bool defined = false;\n",
    "  if (c != NULL) {  // if MYDEBUG is defined ...\n",
    "    if (std::string(c) == \"1\") {  // if MYDEBUG is true ...\n",
    "      defined = true;\n",
    "    }\n",
    "  }\n",
    "  if (defined) {\n",
    "    o <<  leading_text << \" \" << variable << std::endl;\n",
    "  }\n",
    "}\n",
    "```"
   ]
  },
  {
   "cell_type": "markdown",
   "metadata": {
    "slideshow": {
     "slide_type": "subslide"
    }
   },
   "source": [
    "## The relation to OOP\n",
    "\n",
    "Object-oriented programming can also be used to parameterize typesL\n",
    "\n",
    "* Introduce base class `A` and a range of subclasses, all with a (virtual) print function\n",
    "* Let `debug` work with `var` as an `A` reference\n",
    "* Now `debug` works for all subclasses of `A`\n",
    "\n",
    "**Advantage**: complete control of the legal variable types that `debug` are allowed to print (may be important in big systems to ensure that a function can only make transactions with certain objects)\n",
    "\n",
    "**Disadvantage**: much more work, much more code, less reuse of `debug` in new occasions"
   ]
  },
  {
   "cell_type": "markdown",
   "metadata": {
    "slideshow": {
     "slide_type": "slide"
    }
   },
   "source": [
    "## Flexible function interfaces (1)\n",
    "\n",
    "\n",
    "User-friendly environments (Matlab, Maple, Mathematica, S-Plus, ...)\n",
    "allow flexible function interfaces\n",
    "\n",
    "Novice user:"
   ]
  },
  {
   "cell_type": "code",
   "execution_count": null,
   "metadata": {
    "collapsed": true
   },
   "outputs": [],
   "source": [
    "# f is some data\n",
    "plot(f)"
   ]
  },
  {
   "cell_type": "markdown",
   "metadata": {},
   "source": [
    "More control of the plot:"
   ]
  },
  {
   "cell_type": "code",
   "execution_count": null,
   "metadata": {
    "collapsed": true
   },
   "outputs": [],
   "source": [
    "plot(f, label='f', xrange=[0,10])"
   ]
  },
  {
   "cell_type": "markdown",
   "metadata": {},
   "source": [
    "More fine-tuning:"
   ]
  },
  {
   "cell_type": "code",
   "execution_count": null,
   "metadata": {
    "collapsed": true
   },
   "outputs": [],
   "source": [
    "plot(f, label='f', xrange=[0,10], title='f demo',\n",
    "     linetype='dashed', linecolor='red')"
   ]
  },
  {
   "cell_type": "markdown",
   "metadata": {
    "slideshow": {
     "slide_type": "subslide"
    }
   },
   "source": [
    "## Flexible function interfaces (2)\n",
    "\n",
    "\n",
    "In C++, some flexibility is obtained using default argument\n",
    "  values, e.g.,"
   ]
  },
  {
   "cell_type": "markdown",
   "metadata": {},
   "source": [
    "```C++\n",
    "void plot(const double[]& data, const char[] label='', const char[] title = '', const char[] linecolor='black')\n",
    "```"
   ]
  },
  {
   "cell_type": "markdown",
   "metadata": {},
   "source": [
    "Limited flexibility, since the order of arguments is significant.\n",
    "\n",
    "Python uses keyword arguments = function arguments with\n",
    "keywords and default values, e.g.,"
   ]
  },
  {
   "cell_type": "code",
   "execution_count": null,
   "metadata": {
    "collapsed": true
   },
   "outputs": [],
   "source": [
    "def plot(data, label='', xrange=None, title='',\n",
    "         linetype='solid', linecolor='black', ...)"
   ]
  },
  {
   "cell_type": "markdown",
   "metadata": {},
   "source": [
    "The sequence and number of arguments in the call\n",
    "can be chosen by the user"
   ]
  },
  {
   "cell_type": "markdown",
   "metadata": {
    "slideshow": {
     "slide_type": "subslide"
    }
   },
   "source": [
    "## Classification of languages (1)\n",
    "\n",
    "\n",
    "Many criteria can be used to classify computer languages\n",
    "\n",
    "#### Dynamically vs statically typed languages\n",
    "\n",
    "Python (dynamic):"
   ]
  },
  {
   "cell_type": "code",
   "execution_count": null,
   "metadata": {
    "collapsed": true
   },
   "outputs": [],
   "source": [
    "c = 1            # c is an integer\n",
    "c = [1,2,3]      # c is a list"
   ]
  },
  {
   "cell_type": "markdown",
   "metadata": {},
   "source": [
    "C (static):"
   ]
  },
  {
   "cell_type": "markdown",
   "metadata": {},
   "source": [
    "```C++\n",
    "double c; c = 5.2;   # c can only hold doubles\n",
    "c = \"a string...\"    # compiler error\n",
    "```"
   ]
  },
  {
   "cell_type": "markdown",
   "metadata": {
    "slideshow": {
     "slide_type": "subslide"
    }
   },
   "source": [
    "## Classification of languages (2)\n",
    "\n",
    "\n",
    "#### Weakly vs strongly typed languages\n",
    "Perl (weak):"
   ]
  },
  {
   "cell_type": "markdown",
   "metadata": {},
   "source": [
    "```\n",
    "$b = '1.2'\n",
    "$c = 5*$b;   # implicit type conversion: '1.2' -> 1.2\n",
    "```\n"
   ]
  },
  {
   "cell_type": "markdown",
   "metadata": {},
   "source": [
    "Python (strong):"
   ]
  },
  {
   "cell_type": "code",
   "execution_count": 3,
   "metadata": {},
   "outputs": [
    {
     "ename": "TypeError",
     "evalue": "a float is required",
     "output_type": "error",
     "traceback": [
      "\u001b[0;31m---------------------------------------------------------------------------\u001b[0m",
      "\u001b[0;31mTypeError\u001b[0m                                 Traceback (most recent call last)",
      "\u001b[0;32m<ipython-input-3-dece3e1eac37>\u001b[0m in \u001b[0;36m<module>\u001b[0;34m()\u001b[0m\n\u001b[1;32m      2\u001b[0m \u001b[0mb\u001b[0m \u001b[0;34m=\u001b[0m \u001b[0;34m'1.2'\u001b[0m\u001b[0;34m\u001b[0m\u001b[0m\n\u001b[1;32m      3\u001b[0m \u001b[0mc\u001b[0m \u001b[0;34m=\u001b[0m \u001b[0;36m5\u001b[0m\u001b[0;34m*\u001b[0m\u001b[0mb\u001b[0m                 \u001b[0;31m# legal, but probably not the result you want\u001b[0m\u001b[0;34m\u001b[0m\u001b[0m\n\u001b[0;32m----> 4\u001b[0;31m \u001b[0mc\u001b[0m \u001b[0;34m=\u001b[0m \u001b[0mmath\u001b[0m\u001b[0;34m.\u001b[0m\u001b[0mexp\u001b[0m\u001b[0;34m(\u001b[0m\u001b[0mb\u001b[0m\u001b[0;34m)\u001b[0m         \u001b[0;31m# illegal, no implicit type conversion\u001b[0m\u001b[0;34m\u001b[0m\u001b[0m\n\u001b[0m\u001b[1;32m      5\u001b[0m \u001b[0mc\u001b[0m \u001b[0;34m=\u001b[0m \u001b[0mmath\u001b[0m\u001b[0;34m.\u001b[0m\u001b[0mexp\u001b[0m\u001b[0;34m(\u001b[0m\u001b[0mfloat\u001b[0m\u001b[0;34m(\u001b[0m\u001b[0mb\u001b[0m\u001b[0;34m)\u001b[0m\u001b[0;34m)\u001b[0m  \u001b[0;31m# legal\u001b[0m\u001b[0;34m\u001b[0m\u001b[0m\n",
      "\u001b[0;31mTypeError\u001b[0m: a float is required"
     ]
    }
   ],
   "source": [
    "import math\n",
    "b = '1.2'\n",
    "c = 5*b                 # legal, but probably not the result you want\n",
    "c = math.exp(b)         # illegal, no implicit type conversion\n",
    "c = math.exp(float(b))  # legal"
   ]
  },
  {
   "cell_type": "markdown",
   "metadata": {
    "slideshow": {
     "slide_type": "subslide"
    }
   },
   "source": [
    "## Classification of languages (3)\n",
    "\n",
    "  * Interpreted vs compiled languages\n",
    "  * Dynamically vs statically typed (or type-safe) languages\n",
    "  * High-level vs low-level languages (Python-C)\n",
    "  * Scripting vs system languages"
   ]
  },
  {
   "cell_type": "markdown",
   "metadata": {
    "slideshow": {
     "slide_type": "subslide"
    }
   },
   "source": [
    "## Turning files into code (1)\n",
    "\n",
    "Code can be constructed and executed at run-time\n",
    "\n",
    "Consider an input file with the syntax"
   ]
  },
  {
   "cell_type": "markdown",
   "metadata": {},
   "source": [
    "```\n",
    "a = 1.2\n",
    "no of iterations = 100\n",
    "solution strategy = 'implicit'\n",
    "c1 = 0\n",
    "c2 = 0.1\n",
    "A = 4\n",
    "```"
   ]
  },
  {
   "cell_type": "markdown",
   "metadata": {},
   "source": [
    "How can we read this file and define variables `a`, `no_of_iterations`, `solution_strategy`, `c1`, `c2`, `A` with the specified values?"
   ]
  },
  {
   "cell_type": "markdown",
   "metadata": {
    "slideshow": {
     "slide_type": "subslide"
    }
   },
   "source": [
    "## Turning files into code (2)\n",
    "\n",
    "\n",
    "The answer lies in this short and generic code:"
   ]
  },
  {
   "cell_type": "code",
   "execution_count": null,
   "metadata": {
    "collapsed": true
   },
   "outputs": [],
   "source": [
    "file = open('inputfile.dat', 'r')\n",
    "for line in file:\n",
    "    # first replace blanks on the left-hand side of = by _\n",
    "    variable, value = line.split('=')\n",
    "    variable = variable.strip()  # strip leading and trailing blanks\n",
    "    variable = re.sub(' ', '_', variable)\n",
    "    exec(variable + '=' + value)   # magic..."
   ]
  },
  {
   "cell_type": "markdown",
   "metadata": {},
   "source": [
    "This cannot be done in Fortran, C or C++! Why?"
   ]
  },
  {
   "cell_type": "markdown",
   "metadata": {
    "slideshow": {
     "slide_type": "subslide"
    }
   },
   "source": [
    "## Scripts can be slow\n",
    "\n",
    "\n",
    "Perl and Python scripts are first compiled to byte-code.\n",
    "\n",
    "The byte-code is then *interpreted*.\n",
    "\n",
    "Text processing is usually as fast as in C.\n",
    "\n",
    "Loops over large data structures might be very slow."
   ]
  },
  {
   "cell_type": "code",
   "execution_count": null,
   "metadata": {
    "collapsed": true
   },
   "outputs": [],
   "source": [
    "for i in range(len(A)):\n",
    "    A[i] = ..."
   ]
  },
  {
   "cell_type": "markdown",
   "metadata": {},
   "source": [
    "Fortran, C and C++ compilers are good at optimizing such loops at compile time and produce very efficient assembly code (e.g. 100 times faster).\n",
    "\n",
    "Fortunately, long loops in scripts can easily be migrated to Fortran or C."
   ]
  },
  {
   "cell_type": "markdown",
   "metadata": {
    "slideshow": {
     "slide_type": "subslide"
    }
   },
   "source": [
    "## Scripts may be fast enough\n",
    "\n",
    "Read 100 000 (x,y) data from file and write (x,f(y)) out again\n",
    "\n",
    "  * Pure Python: 4s\n",
    "\n",
    "  * Pure Perl: 3s\n",
    "\n",
    "  * Pure Tcl: 11s\n",
    "\n",
    "  * Pure C (fscanf/fprintf): 1s\n",
    "\n",
    "  * Pure C++ (iostream): 3.6s\n",
    "\n",
    "  * Pure C++ (buffered streams): 2.5s\n",
    "\n",
    "  * Numerical Python modules: 2.2s (!)\n",
    "\n",
    "  * Remark: in practice, 100 000 data points are written and read in binary format, resulting in much smaller differences"
   ]
  },
  {
   "cell_type": "markdown",
   "metadata": {
    "slideshow": {
     "slide_type": "subslide"
    }
   },
   "source": [
    "## When scripting is convenient (1)\n",
    "\n",
    "  * The application's main task is to connect together existing components\n",
    "\n",
    "  * The application includes a graphical user interface\n",
    "\n",
    "  * The application performs extensive string/text manipulation\n",
    "\n",
    "  * The design of the application code is expected to change significantly\n",
    "\n",
    "  * CPU-time intensive parts can be migrated to C/C++ or Fortran"
   ]
  },
  {
   "cell_type": "markdown",
   "metadata": {
    "slideshow": {
     "slide_type": "subslide"
    }
   },
   "source": [
    "## When scripting is convenient (2)\n",
    "\n",
    "  * The application can be made short if it operates heavily on list or hash structures\n",
    "\n",
    "  * The application is supposed to communicate with Web servers\n",
    "\n",
    "  * The application should run without modifications on Unix, Windows, and Macintosh computers, also when a GUI is included"
   ]
  },
  {
   "cell_type": "markdown",
   "metadata": {
    "slideshow": {
     "slide_type": "subslide"
    }
   },
   "source": [
    "## When to use C, C++, Java, Fortran\n",
    "\n",
    "  * Does the application implement complicated algorithms and data structures?\n",
    "\n",
    "  * Does the application manipulate large datasets so that execution speed is critical?\n",
    "\n",
    "  * Are the application's functions well-defined and changing slowly?\n",
    "\n",
    "  * Will type-safe languages be an advantage, e.g., in large development teams?"
   ]
  },
  {
   "cell_type": "markdown",
   "metadata": {
    "slideshow": {
     "slide_type": "subslide"
    }
   },
   "source": [
    "## Some personal applications of scripting\n",
    "\n",
    "  * Get the power of Unix also in non-Unix environments\n",
    "\n",
    "  * Automate manual interaction with the computer\n",
    "\n",
    "  * Customize your own working environment and become more efficient\n",
    "\n",
    "  * Increase the reliability of your work (what you did is documented in the script)\n",
    "\n",
    "  * Have more fun!"
   ]
  },
  {
   "cell_type": "markdown",
   "metadata": {
    "slideshow": {
     "slide_type": "subslide"
    }
   },
   "source": [
    "## Some business applications of scripting\n",
    "\n",
    "  * Python and Perl are very popular in the open source movement and Linux environments\n",
    "\n",
    "  * Python, Ruby and Javascript are widely used for creating Web services (Django, Plone)\n",
    "\n",
    "  * Python and Perl (and Tcl) replace 'home-made' (application-specific) scripting interfaces\n",
    "\n",
    "  * Many companies want candidates with Python experience"
   ]
  },
  {
   "cell_type": "markdown",
   "metadata": {
    "slideshow": {
     "slide_type": "subslide"
    }
   },
   "source": [
    "## What about mission-critical operations?\n",
    "\n",
    "  * Scripting languages are free\n",
    "\n",
    "  * What about companies that do mission-critical operations?\n",
    "\n",
    "  * Can we use Python when sending a man to Mars?\n",
    "\n",
    "  * Who is responsible for the quality of products?"
   ]
  },
  {
   "cell_type": "markdown",
   "metadata": {
    "slideshow": {
     "slide_type": "subslide"
    }
   },
   "source": [
    "## The reliability of scripting tools\n",
    "\n",
    "  * Scripting languages are developed as a world-wide collaboration of volunteers (open source model)\n",
    "\n",
    "  * The open source community as a whole is responsible for the quality\n",
    "\n",
    "  * There is a single repository for the source codes (plus mirror sites)\n",
    "\n",
    "  * This source is read, tested and controlled by a very large number of people (and experts)\n",
    "\n",
    "  * The reliability of *large* open source projects like Linux, Python, and Perl appears to be very good - at least as good as commercial software"
   ]
  },
  {
   "cell_type": "markdown",
   "metadata": {
    "slideshow": {
     "slide_type": "subslide"
    }
   },
   "source": [
    "## Practical problem solving\n",
    "\n",
    "  * Problem: you are not an expert (yet)\n",
    "\n",
    "  * Where to find detailed info, and how to understand it?\n",
    "\n",
    "  * The efficient programmer navigates quickly in the jungle of textbooks, man pages, README files, source code examples, Web sites, news groups, ... and has a gut feeling for what to look for\n",
    "\n",
    "  * The aim of the course is to improve your practical problem-solving abilities\n",
    "- - - - - -\n",
    "*You think you know when you learn, are more sure when you can write, even more when you can teach, but certain when you can program* \n",
    "\n",
    "Alan Perlis"
   ]
  }
 ],
 "metadata": {
  "celltoolbar": "Slideshow",
  "kernelspec": {
   "display_name": "Python 3",
   "language": "python",
   "name": "python3"
  },
  "language_info": {
   "codemirror_mode": {
    "name": "ipython",
    "version": 3
   },
   "file_extension": ".py",
   "mimetype": "text/x-python",
   "name": "python",
   "nbconvert_exporter": "python",
   "pygments_lexer": "ipython3",
   "version": "3.6.1"
  },
  "livereveal": {
   "scroll": true,
   "start_slideshow_at": "selected",
   "theme": "serif"
  }
 },
 "nbformat": 4,
 "nbformat_minor": 1
}
