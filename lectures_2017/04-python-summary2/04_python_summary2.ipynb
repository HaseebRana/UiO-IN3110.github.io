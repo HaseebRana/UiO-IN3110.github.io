{
 "cells": [
  {
   "cell_type": "markdown",
   "metadata": {
    "slideshow": {
     "slide_type": "slide"
    }
   },
   "source": [
    "# Further Python topics \n",
    "\n",
    "\n",
    "\n",
    "<img src=\"https://imgs.xkcd.com/comics/students.png\" style=\"width: 800px;\"/>"
   ]
  },
  {
   "cell_type": "markdown",
   "metadata": {
    "slideshow": {
     "slide_type": "subslide"
    }
   },
   "source": [
    "## Contents\n",
    "\n",
    "* Classes\n",
    "  * Static attributes\n",
    "  * Properties\n",
    "  * Inheritance\n",
    "* The lifetime of variables\n",
    "* Documenting your code\n",
    "* Using and writing modules\n",
    "* Testing  "
   ]
  },
  {
   "cell_type": "markdown",
   "metadata": {
    "slideshow": {
     "slide_type": "subslide"
    }
   },
   "source": [
    "## Before we start, some updates\n",
    "\n",
    "**Assignment 3**\n",
    "* Deadline is today.\n",
    "\n",
    "**Assignment 4**\n",
    "* Published today!\n",
    "* 3 weeks deadline followed by a 1 week peer-review\n",
    "* Topic: Numerical Python (NumPy) and integration with C\n",
    "\n",
    "** Group sessions **\n",
    "* Gruppe 6 has been cancelled\n",
    "* Gruppe 2 is now in a computer lab (IT-seminarrom Sed)"
   ]
  },
  {
   "cell_type": "markdown",
   "metadata": {
    "slideshow": {
     "slide_type": "subslide"
    }
   },
   "source": [
    "## Lecture overview for the next weeks\n",
    "\n",
    "* today      -  More Python basics\n",
    "* 22 Sept    -  Numpy / Matplotlib / Profiling\n",
    "* 29 Sept    -  Mixed programming / Cython\n",
    "* 06 October -  Ipython Notebook (Guest lecture by Benjamin Ragan-Kelley)"
   ]
  },
  {
   "cell_type": "markdown",
   "metadata": {
    "slideshow": {
     "slide_type": "slide"
    }
   },
   "source": [
    "# More on classes in Python"
   ]
  },
  {
   "cell_type": "markdown",
   "metadata": {
    "slideshow": {
     "slide_type": "subslide"
    }
   },
   "source": [
    "## What is the `self` variable?"
   ]
  },
  {
   "cell_type": "markdown",
   "metadata": {},
   "source": [
    "Consider this class:"
   ]
  },
  {
   "cell_type": "code",
   "execution_count": 1,
   "metadata": {
    "collapsed": true,
    "slideshow": {
     "slide_type": "-"
    }
   },
   "outputs": [],
   "source": [
    " class Car(object):\n",
    "    \"\"\" Class docstring \"\"\"\n",
    "    \n",
    "    def __init__(self, color):       # Constructor\n",
    "        self.color = color           # Class variable\n",
    "        self.sound = \"Roaar\"\n",
    "\n",
    "    def start(self):                 # member function\n",
    "        print(self.sound)\n",
    "        \n",
    "car = Car(\"blue\")"
   ]
  },
  {
   "cell_type": "markdown",
   "metadata": {
    "slideshow": {
     "slide_type": "fragment"
    }
   },
   "source": [
    "### The role of `self`\n",
    "\n",
    "`self` is the instance object that Python automatically passes to the class instance's method as its first argument when called. \n",
    "\n",
    "In other words:\n",
    "\n",
    "```python\n",
    "car.start()\n",
    "```\n",
    "and\n",
    "```\n",
    "Car.start(self=car)\n",
    "``` \n",
    "do the same!\n",
    "\n",
    "Note: the name `self` is arbitrary - but a good choice in most cases.\n"
   ]
  },
  {
   "cell_type": "markdown",
   "metadata": {
    "slideshow": {
     "slide_type": "fragment"
    }
   },
   "source": [
    "### And why do we need it?"
   ]
  },
  {
   "cell_type": "markdown",
   "metadata": {
    "slideshow": {
     "slide_type": "fragment"
    }
   },
   "source": [
    "`self` is used to access other attributes or methods of the object from inside the method.\n",
    "```python\n",
    "class Car(object):\n",
    "    # ...\n",
    "    def start(self):          \n",
    "        print(self.sound)  # accesses the variable of that car instance\n",
    "```        "
   ]
  },
  {
   "cell_type": "markdown",
   "metadata": {
    "slideshow": {
     "slide_type": "subslide"
    }
   },
   "source": [
    "## Subclasses\n",
    "\n",
    "* Python has a similar class concept as in Java and C++, but:\n",
    "  * All functions are virtual\n",
    "  * No private/protected variables (the effect can be \"simulated\")\n",
    "  * This makes class programming easier and faster than in C++ and Java:\n",
    "* Python supports single and multiple inheritance"
   ]
  },
  {
   "cell_type": "markdown",
   "metadata": {
    "slideshow": {
     "slide_type": "slide"
    }
   },
   "source": [
    "## Implementing a subclass\n",
    "\n",
    "Subclasses can be used to **inherit** the member functions/attributes from its Base class.\n",
    "\n",
    "It is usefull to create **specialisation** of a class without code duplication.\n",
    "\n",
    "Let's create a subclass `Golf` that inherits from `Car`:"
   ]
  },
  {
   "cell_type": "code",
   "execution_count": 44,
   "metadata": {
    "collapsed": true
   },
   "outputs": [],
   "source": [
    "class Golf(Car):\n",
    "    def __init__(self, color):\n",
    "        Car.__init__(self, color)         # Calls the Car constructor\n",
    "                                          # self.color and self.sound now exist\n",
    "        self.sound = \"(Golf) RRROOAR\"     # Change the sound"
   ]
  },
  {
   "cell_type": "markdown",
   "metadata": {
    "slideshow": {
     "slide_type": "fragment"
    }
   },
   "source": [
    "If a subclass function is not implemented, Python will try to call the function of the class:"
   ]
  },
  {
   "cell_type": "code",
   "execution_count": 3,
   "metadata": {},
   "outputs": [
    {
     "name": "stdout",
     "output_type": "stream",
     "text": [
      "(Golf) RRROOAR\n"
     ]
    }
   ],
   "source": [
    "golf = Golf(\"white\")\n",
    "golf.start()          # Calls the Car's start function."
   ]
  },
  {
   "cell_type": "markdown",
   "metadata": {
    "slideshow": {
     "slide_type": "fragment"
    }
   },
   "source": [
    "We can add special Subclasses can also have additional functions:"
   ]
  },
  {
   "cell_type": "code",
   "execution_count": 4,
   "metadata": {
    "collapsed": true,
    "slideshow": {
     "slide_type": "-"
    }
   },
   "outputs": [],
   "source": [
    "class DieselGolf(Golf):\n",
    "    def cheat(self):\n",
    "        self.sound = \"(Golf) SSsssss\""
   ]
  },
  {
   "cell_type": "code",
   "execution_count": 45,
   "metadata": {
    "slideshow": {
     "slide_type": "fragment"
    }
   },
   "outputs": [
    {
     "name": "stdout",
     "output_type": "stream",
     "text": [
      "(Golf) SSsssss\n"
     ]
    }
   ],
   "source": [
    "diesel_golf = DieselGolf(\"green\")\n",
    "diesel_golf.cheat()\n",
    "diesel_golf.start()"
   ]
  },
  {
   "cell_type": "markdown",
   "metadata": {
    "slideshow": {
     "slide_type": "subslide"
    }
   },
   "source": [
    "### The `object` class is the mother of all classes"
   ]
  },
  {
   "cell_type": "markdown",
   "metadata": {},
   "source": [
    "If you do not want to inherit from a user-defined class, then use the *mother-class* `object`:\n",
    "```python\n",
    "class Car(object):\n",
    "    # ...\n",
    "```"
   ]
  },
  {
   "cell_type": "markdown",
   "metadata": {},
   "source": [
    "We can use the `dir` function to inspect  which functions the `object` class implements:"
   ]
  },
  {
   "cell_type": "code",
   "execution_count": 6,
   "metadata": {},
   "outputs": [
    {
     "data": {
      "text/plain": [
       "['__class__',\n",
       " '__delattr__',\n",
       " '__dir__',\n",
       " '__doc__',\n",
       " '__eq__',\n",
       " '__format__',\n",
       " '__ge__',\n",
       " '__getattribute__',\n",
       " '__gt__',\n",
       " '__hash__',\n",
       " '__init__',\n",
       " '__le__',\n",
       " '__lt__',\n",
       " '__ne__',\n",
       " '__new__',\n",
       " '__reduce__',\n",
       " '__reduce_ex__',\n",
       " '__repr__',\n",
       " '__setattr__',\n",
       " '__sizeof__',\n",
       " '__str__',\n",
       " '__subclasshook__']"
      ]
     },
     "execution_count": 6,
     "metadata": {},
     "output_type": "execute_result"
    }
   ],
   "source": [
    "dir(object)"
   ]
  },
  {
   "cell_type": "markdown",
   "metadata": {},
   "source": [
    "Aha! This explains why this works:"
   ]
  },
  {
   "cell_type": "code",
   "execution_count": 7,
   "metadata": {},
   "outputs": [
    {
     "data": {
      "text/plain": [
       "'<__main__.Car object at 0x7f602d49c2e8>'"
      ]
     },
     "execution_count": 7,
     "metadata": {},
     "output_type": "execute_result"
    }
   ],
   "source": [
    "str(car)"
   ]
  },
  {
   "cell_type": "markdown",
   "metadata": {},
   "source": [
    "or this:"
   ]
  },
  {
   "cell_type": "code",
   "execution_count": 46,
   "metadata": {},
   "outputs": [
    {
     "data": {
      "text/plain": [
       "False"
      ]
     },
     "execution_count": 46,
     "metadata": {},
     "output_type": "execute_result"
    }
   ],
   "source": [
    "Car(\"black\") == Car(\"black\")"
   ]
  },
  {
   "cell_type": "markdown",
   "metadata": {
    "slideshow": {
     "slide_type": "subslide"
    }
   },
   "source": [
    "## Comment on object-orientation\n",
    "Consider:"
   ]
  },
  {
   "cell_type": "code",
   "execution_count": 49,
   "metadata": {},
   "outputs": [
    {
     "name": "stdout",
     "output_type": "stream",
     "text": [
      "(Golf) RRROOAR\n"
     ]
    }
   ],
   "source": [
    "# this function works with any object that has a start function\n",
    "def start(v):\n",
    "    v.start()\n",
    "\n",
    "start(golf)"
   ]
  },
  {
   "cell_type": "markdown",
   "metadata": {
    "slideshow": {
     "slide_type": "fragment"
    }
   },
   "source": [
    "* In C++/Java we would declare `v` as a `Car` reference and rely on `golf.start()` to call the virtual function `start` in `Golf`.\n",
    "* The same works in Python, but we do not need inheritance and virtual functions here: `v.start()` will work for **any** object `v` that has a callable attribute `start` that takes no arguments."
   ]
  },
  {
   "cell_type": "markdown",
   "metadata": {
    "slideshow": {
     "slide_type": "subslide"
    }
   },
   "source": [
    "## Testing on the class type\n",
    "\n",
    "It can be usefull to check the type of an object.\n",
    "\n",
    "For example if the object is an instance of a class:\n",
    "```python\n",
    "if isinstance(obj, Car): # True\n",
    "    # Treat obj as a car\n",
    "```"
   ]
  },
  {
   "cell_type": "markdown",
   "metadata": {
    "slideshow": {
     "slide_type": "fragment"
    }
   },
   "source": [
    "Test if a class is a subclass of another:\n",
    "```python\n",
    "if issubclass(Golf, Car):\n",
    "    # ...\n",
    "```"
   ]
  },
  {
   "cell_type": "markdown",
   "metadata": {
    "slideshow": {
     "slide_type": "fragment"
    }
   },
   "source": [
    "Test if two objects are of the same class:\n",
    "```python\n",
    "if car.__class__ is golf.__class__:\n",
    "```\n",
    "(`car.__class__` refers the class object of instance `car`)"
   ]
  },
  {
   "cell_type": "markdown",
   "metadata": {
    "slideshow": {
     "slide_type": "subslide"
    }
   },
   "source": [
    "## Private/non-public data"
   ]
  },
  {
   "cell_type": "markdown",
   "metadata": {
    "slideshow": {
     "slide_type": "fragment"
    }
   },
   "source": [
    "There is no technical way of preventing users from manipulating data and methods in an object:"
   ]
  },
  {
   "cell_type": "code",
   "execution_count": 10,
   "metadata": {},
   "outputs": [
    {
     "name": "stdout",
     "output_type": "stream",
     "text": [
      "---\n"
     ]
    }
   ],
   "source": [
    "car.start = lambda: print(\"---\")\n",
    "car.start()"
   ]
  },
  {
   "cell_type": "markdown",
   "metadata": {
    "slideshow": {
     "slide_type": "fragment"
    }
   },
   "source": [
    "However, there are some conventions: \n",
    "* Names **starting with one underscore** are treated as non-public (\"protected\").\n",
    "* Names **starting with one double underscore** are considered strictly private (Python mangles class name with method name in this case: `obj.__some` has actually the name `_classname__some`).\n",
    "* Names **starting and ending with double underscores** are special methods and attributes (discussed later)"
   ]
  },
  {
   "cell_type": "markdown",
   "metadata": {
    "slideshow": {
     "slide_type": "fragment"
    }
   },
   "source": [
    "Here is an example..."
   ]
  },
  {
   "cell_type": "code",
   "execution_count": 11,
   "metadata": {
    "collapsed": true
   },
   "outputs": [],
   "source": [
    "class MyClass(object):\n",
    "    def __init__(self):\n",
    "        self.a   = 2       # public var\n",
    "        self._b  = 1       # non-public var\n",
    "        self.__c = 3       # private var\n",
    "        \n",
    "    def __hidden(self):    # private function\n",
    "        pass"
   ]
  },
  {
   "cell_type": "markdown",
   "metadata": {
    "slideshow": {
     "slide_type": "fragment"
    }
   },
   "source": [
    "and how to use it:"
   ]
  },
  {
   "cell_type": "code",
   "execution_count": 12,
   "metadata": {
    "collapsed": true,
    "slideshow": {
     "slide_type": "fragment"
    }
   },
   "outputs": [],
   "source": [
    "m = MyClass()\n",
    "m.a\n",
    "m._b\n",
    "m._MyClass__c         # m.__c has been mangled\n",
    "m._MyClass__hidden()  # m.__hidden has been mangled"
   ]
  },
  {
   "cell_type": "markdown",
   "metadata": {
    "slideshow": {
     "slide_type": "slide"
    }
   },
   "source": [
    "## Special attributes"
   ]
  },
  {
   "cell_type": "markdown",
   "metadata": {},
   "source": [
    "Listing all methods and attributes with `dir` reveils that these instances have already some *special* attributes:"
   ]
  },
  {
   "cell_type": "code",
   "execution_count": 13,
   "metadata": {},
   "outputs": [
    {
     "data": {
      "text/plain": [
       "['__class__',\n",
       " '__delattr__',\n",
       " '__dict__',\n",
       " '__dir__',\n",
       " '__doc__',\n",
       " '__eq__',\n",
       " '__format__',\n",
       " '__ge__',\n",
       " '__getattribute__',\n",
       " '__gt__',\n",
       " '__hash__',\n",
       " '__init__',\n",
       " '__le__',\n",
       " '__lt__',\n",
       " '__module__',\n",
       " '__ne__',\n",
       " '__new__',\n",
       " '__reduce__',\n",
       " '__reduce_ex__',\n",
       " '__repr__',\n",
       " '__setattr__',\n",
       " '__sizeof__',\n",
       " '__str__',\n",
       " '__subclasshook__',\n",
       " '__weakref__',\n",
       " 'color',\n",
       " 'sound',\n",
       " 'start']"
      ]
     },
     "execution_count": 13,
     "metadata": {},
     "output_type": "execute_result"
    }
   ],
   "source": [
    "dir(car)"
   ]
  },
  {
   "cell_type": "markdown",
   "metadata": {
    "slideshow": {
     "slide_type": "subslide"
    }
   },
   "source": [
    "Let's inspect some of these:"
   ]
  },
  {
   "cell_type": "code",
   "execution_count": 14,
   "metadata": {},
   "outputs": [
    {
     "data": {
      "text/plain": [
       "{'color': 'white', 'sound': '(Golf) RRROOAR'}"
      ]
     },
     "execution_count": 14,
     "metadata": {},
     "output_type": "execute_result"
    }
   ],
   "source": [
    "golf.__dict__"
   ]
  },
  {
   "cell_type": "markdown",
   "metadata": {
    "slideshow": {
     "slide_type": "fragment"
    }
   },
   "source": [
    "**Conclusion**: `__dict__` returns a dictionary of user-defined attributes."
   ]
  },
  {
   "cell_type": "markdown",
   "metadata": {
    "slideshow": {
     "slide_type": "fragment"
    }
   },
   "source": [
    "Name of class, name of method:"
   ]
  },
  {
   "cell_type": "code",
   "execution_count": 15,
   "metadata": {
    "collapsed": true
   },
   "outputs": [
    {
     "data": {
      "text/plain": [
       "__main__.Golf"
      ]
     },
     "execution_count": 15,
     "metadata": {},
     "output_type": "execute_result"
    }
   ],
   "source": [
    "golf.__class__          # class of object"
   ]
  },
  {
   "cell_type": "code",
   "execution_count": 16,
   "metadata": {
    "collapsed": true
   },
   "outputs": [
    {
     "data": {
      "text/plain": [
       "'Golf'"
      ]
     },
     "execution_count": 16,
     "metadata": {},
     "output_type": "execute_result"
    }
   ],
   "source": [
    "golf.__class__.__name__ # name of class"
   ]
  },
  {
   "cell_type": "markdown",
   "metadata": {
    "slideshow": {
     "slide_type": "subslide"
    }
   },
   "source": [
    "## Special methods\n",
    "* Special methods have leading and trailing double underscores.\n",
    "* If implemented, Python calls these special  methods on certain operations. "
   ]
  },
  {
   "cell_type": "markdown",
   "metadata": {
    "slideshow": {
     "slide_type": "fragment"
    }
   },
   "source": [
    "* Here are some operations defined by special methods:\n",
    "  ```python\n",
    "    str(a)            # calls a.__str__()\n",
    "                      # also called with print(a)!\n",
    "    f = a(1.2, True)  # calls f = a.__call__(1.2, True)\n",
    "    a == b            # calls a.__eq__(self, b)\n",
    "    ```"
   ]
  },
  {
   "cell_type": "markdown",
   "metadata": {
    "slideshow": {
     "slide_type": "slide"
    }
   },
   "source": [
    "## Example: functions with extra parameters\n",
    "\n",
    "Suppose we need a function of `x` and `y` with three additional parameters `a`, `b`, and `c`:"
   ]
  },
  {
   "cell_type": "code",
   "execution_count": 17,
   "metadata": {
    "collapsed": true
   },
   "outputs": [],
   "source": [
    "def f(x, y, a, b, c):\n",
    "    return a + b*x + c*y*y"
   ]
  },
  {
   "cell_type": "markdown",
   "metadata": {},
   "source": [
    "Suppose we need to send this function to another function"
   ]
  },
  {
   "cell_type": "code",
   "execution_count": 18,
   "metadata": {
    "collapsed": true
   },
   "outputs": [],
   "source": [
    "def gridvalues(f, xcoor, ycoor, file):\n",
    "    for i in range(len(xcoor)):\n",
    "        for j in range(len(ycoor)):\n",
    "            fval = f(xcoor[i], ycoor[j])\n",
    "            file.write('%g %g %g\\n' % (xcoor[i], ycoor[j], fval))"
   ]
  },
  {
   "cell_type": "markdown",
   "metadata": {},
   "source": [
    "* `func` is expected to be a function of `x` and `y` only (many libraries make such assumptions!)\n",
    "* How can we send our `f` function to `gridvalues`?"
   ]
  },
  {
   "cell_type": "markdown",
   "metadata": {
    "slideshow": {
     "slide_type": "subslide"
    }
   },
   "source": [
    "## Possible (inferior) solution\n",
    "**Bad solution 1**: global parameters"
   ]
  },
  {
   "cell_type": "markdown",
   "metadata": {},
   "source": [
    "```python\n",
    "global a, b, c\n",
    "#...\n",
    "def f(x, y):\n",
    "    return a + b*x + c*y*y\n",
    "\n",
    "#...\n",
    "a = 0.5;  b = 1;  c = 0.01\n",
    "gridvalues(f, xcoor, ycoor, somefile)\n",
    "```"
   ]
  },
  {
   "cell_type": "markdown",
   "metadata": {},
   "source": [
    "**Problem**: Global variables are usually considered evil!"
   ]
  },
  {
   "cell_type": "markdown",
   "metadata": {
    "slideshow": {
     "slide_type": "subslide"
    }
   },
   "source": [
    "## Possible (inferior) solution\n",
    "**Bad solution 2**: keyword arguments with default values"
   ]
  },
  {
   "cell_type": "markdown",
   "metadata": {},
   "source": [
    "```python\n",
    "def f(x, y, a=0.5, b=1, c=0.01):\n",
    "    return a + b*x + c*y*y\n",
    "\n",
    "# ...\n",
    "gridvalues(f, xcoor, ycoor, somefile)\n",
    "```\n",
    "\n",
    "**Problem**: Useless for other values of `a`, `b`, `c`"
   ]
  },
  {
   "cell_type": "markdown",
   "metadata": {
    "slideshow": {
     "slide_type": "subslide"
    }
   },
   "source": [
    "## Solution: class with `__call__` operator\n",
    "\n",
    "Make a class with function behavior instead of a pure function.\n",
    "  2. Make the parameters class attributes.\n",
    "  3. Implement the special `__call__`  function."
   ]
  },
  {
   "cell_type": "code",
   "execution_count": 19,
   "metadata": {
    "collapsed": true,
    "slideshow": {
     "slide_type": "fragment"
    }
   },
   "outputs": [],
   "source": [
    "class F(object):\n",
    "    def __init__(self, a=1, b=1, c=1):\n",
    "        self.a = a\n",
    "        self.b = b\n",
    "        self.c = c\n",
    "\n",
    "    def __call__(self, x, y):    # special method!\n",
    "        return self.a + self.b*x + self.c*y*y"
   ]
  },
  {
   "cell_type": "markdown",
   "metadata": {
    "slideshow": {
     "slide_type": "fragment"
    }
   },
   "source": [
    "Now, instances can be called as ordinary functions, but with *x* and *y* as the only formal arguments:"
   ]
  },
  {
   "cell_type": "code",
   "execution_count": 20,
   "metadata": {
    "collapsed": true,
    "slideshow": {
     "slide_type": "-"
    }
   },
   "outputs": [],
   "source": [
    "f = F(a=0.5, c=0.01)\n",
    "# can now call f as\n",
    "v = f(0.1, 2)\n",
    "# ...\n",
    "gridvalues(f, xcoor=[], ycoor=[], file=\"somefile\")"
   ]
  },
  {
   "cell_type": "markdown",
   "metadata": {
    "slideshow": {
     "slide_type": "slide"
    }
   },
   "source": [
    "## Class variables\n",
    "Static data (or class variables) are common to all class instances."
   ]
  },
  {
   "cell_type": "code",
   "execution_count": 50,
   "metadata": {
    "collapsed": true
   },
   "outputs": [],
   "source": [
    "class Point(object):\n",
    "    \" A class representing a 2D point \"\n",
    "\n",
    "    counter = 0 # class variable, counts number of instances\n",
    "    \n",
    "    def __init__(self, x, y):\n",
    "        self.x = x\n",
    "        self.y = y;\n",
    "        Point.counter += 1"
   ]
  },
  {
   "cell_type": "code",
   "execution_count": 51,
   "metadata": {
    "collapsed": true,
    "slideshow": {
     "slide_type": "fragment"
    }
   },
   "outputs": [],
   "source": [
    "for i in range(1000):\n",
    "        p = Point(i*0.01, i*0.001)"
   ]
  },
  {
   "cell_type": "markdown",
   "metadata": {
    "slideshow": {
     "slide_type": "fragment"
    }
   },
   "source": [
    "Class variables can be accessed without an instance:"
   ]
  },
  {
   "cell_type": "code",
   "execution_count": 52,
   "metadata": {
    "slideshow": {
     "slide_type": "-"
    }
   },
   "outputs": [
    {
     "data": {
      "text/plain": [
       "1000"
      ]
     },
     "execution_count": 52,
     "metadata": {},
     "output_type": "execute_result"
    }
   ],
   "source": [
    "Point.counter"
   ]
  },
  {
   "cell_type": "markdown",
   "metadata": {
    "slideshow": {
     "slide_type": "fragment"
    }
   },
   "source": [
    "... or with with an instance:"
   ]
  },
  {
   "cell_type": "code",
   "execution_count": 24,
   "metadata": {
    "slideshow": {
     "slide_type": "-"
    }
   },
   "outputs": [
    {
     "data": {
      "text/plain": [
       "1000"
      ]
     },
     "execution_count": 24,
     "metadata": {},
     "output_type": "execute_result"
    }
   ],
   "source": [
    "p.counter      "
   ]
  },
  {
   "cell_type": "markdown",
   "metadata": {
    "slideshow": {
     "slide_type": "subslide"
    }
   },
   "source": [
    "## Class methods\n",
    "Python also allow class methods (that is, methods that can be called without having an instance):"
   ]
  },
  {
   "cell_type": "code",
   "execution_count": 81,
   "metadata": {
    "collapsed": true
   },
   "outputs": [],
   "source": [
    "class Point(object):\n",
    "    \" A class representing a 2D point \"\n",
    "    _counter = 0\n",
    "    \n",
    "    def __init__(self, x, y):\n",
    "        self.x = x; self.y = y\n",
    "        Point._counter += 1\n",
    " \n",
    "    @classmethod\n",
    "    def ncopies(cls):  # Instaed of self, we now take a reference to the class\n",
    "        return cls._counter"
   ]
  },
  {
   "cell_type": "markdown",
   "metadata": {
    "slideshow": {
     "slide_type": "fragment"
    }
   },
   "source": [
    "`ncopies` can be called directly from the class:"
   ]
  },
  {
   "cell_type": "code",
   "execution_count": 82,
   "metadata": {
    "slideshow": {
     "slide_type": "-"
    }
   },
   "outputs": [
    {
     "data": {
      "text/plain": [
       "0"
      ]
     },
     "execution_count": 82,
     "metadata": {},
     "output_type": "execute_result"
    }
   ],
   "source": [
    "Point.ncopies()"
   ]
  },
  {
   "cell_type": "markdown",
   "metadata": {
    "slideshow": {
     "slide_type": "fragment"
    }
   },
   "source": [
    "... or from an instance"
   ]
  },
  {
   "cell_type": "code",
   "execution_count": 83,
   "metadata": {
    "slideshow": {
     "slide_type": "-"
    }
   },
   "outputs": [
    {
     "data": {
      "text/plain": [
       "1"
      ]
     },
     "execution_count": 83,
     "metadata": {},
     "output_type": "execute_result"
    }
   ],
   "source": [
    "p = Point(0, 0)\n",
    "p.ncopies()"
   ]
  },
  {
   "cell_type": "markdown",
   "metadata": {
    "slideshow": {
     "slide_type": "slide"
    }
   },
   "source": [
    "# Properties"
   ]
  },
  {
   "cell_type": "markdown",
   "metadata": {
    "slideshow": {
     "slide_type": "subslide"
    }
   },
   "source": [
    "## Properties example\n",
    "\n",
    "How can we prevent invalid x, y values?"
   ]
  },
  {
   "cell_type": "code",
   "execution_count": 28,
   "metadata": {},
   "outputs": [
    {
     "name": "stdout",
     "output_type": "stream",
     "text": [
      "should not be allowed\n"
     ]
    }
   ],
   "source": [
    "p = Point(x=0, y=0)\n",
    "\n",
    "p.x = \"should not be allowed\" \n",
    "print(p.x)  "
   ]
  },
  {
   "cell_type": "markdown",
   "metadata": {
    "slideshow": {
     "slide_type": "subslide"
    }
   },
   "source": [
    "### **First Idea**: Implement get/set functions"
   ]
  },
  {
   "cell_type": "code",
   "execution_count": 62,
   "metadata": {
    "collapsed": true
   },
   "outputs": [],
   "source": [
    "class SafePoint(Point):\n",
    "    def set_x(self, x):\n",
    "        if isinstance(x, float):\n",
    "            self._x = x         # store x value is a non-public variable\n",
    "        else:\n",
    "            print(\"Invalid value for x coordinate\")\n",
    " \n",
    "    def get_x(self):\n",
    "        return self._x"
   ]
  },
  {
   "cell_type": "code",
   "execution_count": 63,
   "metadata": {
    "collapsed": true,
    "slideshow": {
     "slide_type": "fragment"
    }
   },
   "outputs": [],
   "source": [
    "point = SafePoint(1, 1)\n",
    "point.set_x(3.4)   "
   ]
  },
  {
   "cell_type": "code",
   "execution_count": 31,
   "metadata": {
    "slideshow": {
     "slide_type": "subslide"
    }
   },
   "outputs": [
    {
     "name": "stdout",
     "output_type": "stream",
     "text": [
      "3.14\n"
     ]
    }
   ],
   "source": [
    "point.set_x(3.14) \n",
    "print(point.get_x())"
   ]
  },
  {
   "cell_type": "markdown",
   "metadata": {
    "slideshow": {
     "slide_type": "fragment"
    }
   },
   "source": [
    "**Advantage**: get/set functions allow finer access control (e.g. type-checking, read-only variables). \n",
    "\n",
    "**Disadantage**: Tedious to write and not very Pythonic!"
   ]
  },
  {
   "cell_type": "markdown",
   "metadata": {
    "slideshow": {
     "slide_type": "subslide"
    }
   },
   "source": [
    "## A better solution: Properties\n",
    "Python has \"intelligent\" assignment operators, known as\n",
    "*properties*. "
   ]
  },
  {
   "cell_type": "markdown",
   "metadata": {
    "slideshow": {
     "slide_type": "fragment"
    }
   },
   "source": [
    "With properties, assignments may imply a function call:"
   ]
  },
  {
   "cell_type": "markdown",
   "metadata": {
    "collapsed": true,
    "slideshow": {
     "slide_type": "-"
    }
   },
   "source": [
    "```python\n",
    "point.set_x(data)\n",
    "data = point.get_x()\n",
    "```"
   ]
  },
  {
   "cell_type": "markdown",
   "metadata": {},
   "source": [
    "can be made equivalent to"
   ]
  },
  {
   "cell_type": "markdown",
   "metadata": {
    "collapsed": true
   },
   "source": [
    "```python\n",
    "point.x = data\n",
    "data = point.x\n",
    "```"
   ]
  },
  {
   "cell_type": "markdown",
   "metadata": {
    "slideshow": {
     "slide_type": "fragment"
    }
   },
   "source": [
    "Creating properties is simple:"
   ]
  },
  {
   "cell_type": "code",
   "execution_count": 85,
   "metadata": {
    "collapsed": true
   },
   "outputs": [],
   "source": [
    "class SafePoint(Point):\n",
    "\n",
    "    @property\n",
    "    def x(self):\n",
    "        print(\"Retrieving x value\")\n",
    "        return self._x\n",
    "    \n",
    "    \n",
    "    @x.setter\n",
    "    def x(self, x):\n",
    "        if isinstance(x, float):\n",
    "            self._x = x  \n",
    "        else:\n",
    "            print(\"Invalid value for x coordinate\")"
   ]
  },
  {
   "cell_type": "markdown",
   "metadata": {
    "slideshow": {
     "slide_type": "fragment"
    }
   },
   "source": [
    "Example:"
   ]
  },
  {
   "cell_type": "code",
   "execution_count": 86,
   "metadata": {
    "slideshow": {
     "slide_type": "-"
    }
   },
   "outputs": [
    {
     "name": "stdout",
     "output_type": "stream",
     "text": [
      "Retrieving x value\n"
     ]
    }
   ],
   "source": [
    "point = SafePoint(1.0, 1.0)\n",
    "point.x = 1.4\n",
    "x = point.x"
   ]
  },
  {
   "cell_type": "markdown",
   "metadata": {
    "slideshow": {
     "slide_type": "subslide"
    }
   },
   "source": [
    "## Attribute access - recommended style\n",
    "\n",
    "* Use **direct access** if user is allowed to read *and* assign values to the attribute.\n",
    "* Use **properties** to restrict access, with a corresponding underlying non-public class attribute.\n",
    "* Use **properties** when assignment or reading requires a set of associated operations.\n",
    "* **Never use get/set** functions explicitly."
   ]
  },
  {
   "cell_type": "markdown",
   "metadata": {
    "slideshow": {
     "slide_type": "subslide"
    }
   },
   "source": [
    "## Scope\n",
    "The scope defines how long variables in Python *live*."
   ]
  },
  {
   "cell_type": "markdown",
   "metadata": {
    "slideshow": {
     "slide_type": "fragment"
    }
   },
   "source": [
    "#### Local scope\n",
    "Function arguments and variables declared inside the function have *local scope*. Once the function finishes, these variables are freed."
   ]
  },
  {
   "cell_type": "markdown",
   "metadata": {
    "slideshow": {
     "slide_type": "fragment"
    }
   },
   "source": [
    "#### Global scope\n",
    "Variables defined outside the function have *global scope*. These variables can be accessed and changed by the function and are accessible after the function returns."
   ]
  },
  {
   "cell_type": "markdown",
   "metadata": {
    "slideshow": {
     "slide_type": "subslide"
    }
   },
   "source": [
    "## What is the output of this code?"
   ]
  },
  {
   "cell_type": "code",
   "execution_count": 70,
   "metadata": {
    "slideshow": {
     "slide_type": "-"
    }
   },
   "outputs": [
    {
     "name": "stdout",
     "output_type": "stream",
     "text": [
      "1\n"
     ]
    },
    {
     "ename": "NameError",
     "evalue": "name 'xxx' is not defined",
     "output_type": "error",
     "traceback": [
      "\u001b[0;31m---------------------------------------------------------------------------\u001b[0m",
      "\u001b[0;31mNameError\u001b[0m                                 Traceback (most recent call last)",
      "\u001b[0;32m<ipython-input-70-86b00200d277>\u001b[0m in \u001b[0;36m<module>\u001b[0;34m()\u001b[0m\n\u001b[1;32m      4\u001b[0m \u001b[0;34m\u001b[0m\u001b[0m\n\u001b[1;32m      5\u001b[0m \u001b[0mf\u001b[0m\u001b[0;34m(\u001b[0m\u001b[0;34m)\u001b[0m\u001b[0;34m\u001b[0m\u001b[0m\n\u001b[0;32m----> 6\u001b[0;31m \u001b[0mxxx\u001b[0m\u001b[0;34m\u001b[0m\u001b[0m\n\u001b[0m",
      "\u001b[0;31mNameError\u001b[0m: name 'xxx' is not defined"
     ]
    }
   ],
   "source": [
    "def f():\n",
    "    xxx = 1  # local scope\n",
    "    print(xxx)\n",
    " \n",
    "f()\n",
    "xxx"
   ]
  },
  {
   "cell_type": "markdown",
   "metadata": {
    "slideshow": {
     "slide_type": "subslide"
    }
   },
   "source": [
    "## What is the output of this code?"
   ]
  },
  {
   "cell_type": "code",
   "execution_count": 71,
   "metadata": {
    "slideshow": {
     "slide_type": "-"
    }
   },
   "outputs": [
    {
     "name": "stdout",
     "output_type": "stream",
     "text": [
      "1\n",
      "2\n"
     ]
    }
   ],
   "source": [
    "# global scope\n",
    "a = 1 \n",
    "\n",
    "def f():\n",
    "    print(a)\n",
    "\n",
    "f()\n",
    "a = 2\n",
    "f()"
   ]
  },
  {
   "cell_type": "markdown",
   "metadata": {
    "slideshow": {
     "slide_type": "subslide"
    }
   },
   "source": [
    "## What is the output of this code?"
   ]
  },
  {
   "cell_type": "code",
   "execution_count": 73,
   "metadata": {
    "slideshow": {
     "slide_type": "-"
    }
   },
   "outputs": [
    {
     "name": "stdout",
     "output_type": "stream",
     "text": [
      "['Hello']\n"
     ]
    }
   ],
   "source": [
    "# global scope\n",
    "a = [\"Hello\"]\n",
    "\n",
    "def f():\n",
    "    a = [\"Hello\"]\n",
    "    def g():\n",
    "        a.append(\"world?\")\n",
    "    g()\n",
    "\n",
    "f()\n",
    "print(a)"
   ]
  },
  {
   "cell_type": "markdown",
   "metadata": {
    "slideshow": {
     "slide_type": "slide"
    }
   },
   "source": [
    "# Modules"
   ]
  },
  {
   "cell_type": "markdown",
   "metadata": {
    "collapsed": true,
    "slideshow": {
     "slide_type": "subslide"
    }
   },
   "source": [
    "### What is a Python module?\n",
    "A module is a file consisting of Python code. A module can define functions, classes and variables. A module can also include runnable code."
   ]
  },
  {
   "cell_type": "markdown",
   "metadata": {
    "collapsed": true,
    "slideshow": {
     "slide_type": "subslide"
    }
   },
   "source": [
    "### What is it good for?\n",
    "\n",
    "Use modules to organize your program logically\n",
    "  * Split the code into several files for easier maintenance.\n",
    "  * Group related code into a module.\n",
    "  * Share common code between scripts.\n",
    "  * Publish modules on the web for other people to use."
   ]
  },
  {
   "cell_type": "markdown",
   "metadata": {
    "collapsed": true,
    "slideshow": {
     "slide_type": "subslide"
    }
   },
   "source": [
    "## Using modules\n",
    "\n",
    "Python comes with already with many modules that you can use.\n",
    "For example, let's import the module called `sys` and access its `argv` variable:\n",
    "\n",
    "```python\n",
    "import sys\n",
    "x = float(sys.argv[1])\n",
    "```"
   ]
  },
  {
   "cell_type": "markdown",
   "metadata": {
    "collapsed": true,
    "slideshow": {
     "slide_type": "fragment"
    }
   },
   "source": [
    "Import module member `argv` into current namespace:\n",
    "\n",
    "```python\n",
    "from sys import argv\n",
    "x = float(argv[1])\n",
    "```"
   ]
  },
  {
   "cell_type": "markdown",
   "metadata": {
    "collapsed": true,
    "slideshow": {
     "slide_type": "fragment"
    }
   },
   "source": [
    "Import everything from `sys` (not recommended):\n",
    "\n",
    "```python\n",
    "from sys import *\n",
    "x = float(argv[1])\n",
    "\n",
    "flags = ''\n",
    "# Ooops, flags was also imported from sys, this new flags\n",
    "# name overwrites sys.flags!\n",
    "```"
   ]
  },
  {
   "cell_type": "markdown",
   "metadata": {
    "collapsed": true,
    "slideshow": {
     "slide_type": "fragment"
    }
   },
   "source": [
    "Import `argv` under an alias:\n",
    "\n",
    "```python\n",
    "from sys import argv as a\n",
    "x = float(a[1])\n",
    "```"
   ]
  },
  {
   "cell_type": "markdown",
   "metadata": {},
   "source": [
    "## Making your own Python modules\n",
    "\n",
    " * Reuse scripts by wrapping them in classes or functions.\n",
    " * Collect classes and functions in library modules. How? \n",
    "     * Just put classes and functions in a file `MyMod.py`\n",
    "     * Put `MyMod.py` in one of the directories where Python can find it (see next section)"
   ]
  },
  {
   "cell_type": "markdown",
   "metadata": {
    "collapsed": true,
    "slideshow": {
     "slide_type": "subslide"
    }
   },
   "source": [
    "Examples:\n",
    "\n",
    "```python\n",
    "import MyMod\n",
    "# or\n",
    "import MyMod as M   # M is a short form\n",
    "# or\n",
    "from MyMod import *\n",
    "# or\n",
    "from MyMod import myspecialfunction, myotherspecialfunction\n",
    "```"
   ]
  },
  {
   "cell_type": "markdown",
   "metadata": {
    "slideshow": {
     "slide_type": "subslide"
    }
   },
   "source": [
    "## How does Python find your modules?\n",
    "\n",
    "\n",
    "Python has some \"official\" module directories, typically\n",
    "\n",
    "* `/usr/lib/python3.5/site-packages`\n",
    "* environment variable `PYTHONPATH`\n",
    "* current working directory"
   ]
  },
  {
   "cell_type": "markdown",
   "metadata": {
    "slideshow": {
     "slide_type": "fragment"
    }
   },
   "source": [
    "The environment variable `PYTHONPATH` contains a list of search directories:\n",
    "\n",
    "```bash\n",
    "> echo $PYTHONPATH\n",
    "/home/simon/src/cbc.block:/home/simon/src/opticell\n",
    "```"
   ]
  },
  {
   "cell_type": "markdown",
   "metadata": {
    "slideshow": {
     "slide_type": "fragment"
    }
   },
   "source": [
    "If you have created a new module in `/home/simon/mymod`, add it to your PYTHONPATH:\n",
    "\n",
    "```bash\n",
    "> export PYTHONPATH=/home/simon/mymod:$PYTHONPATH\n",
    "```"
   ]
  },
  {
   "cell_type": "markdown",
   "metadata": {
    "collapsed": true,
    "slideshow": {
     "slide_type": "fragment"
    }
   },
   "source": [
    "The new path will now also be searched by Python\n",
    "\n",
    "```bash\n",
    "> echo $PYTHONPATH\n",
    "/home/simon/mymod:/home/simon/src/cbc.block:/home/simon/src/opticell\n",
    "```"
   ]
  },
  {
   "cell_type": "markdown",
   "metadata": {
    "collapsed": true
   },
   "source": [
    "## Test block in a module\n",
    "\n",
    "\n",
    "Module files can have a test/demo section at the end:\n",
    "    "
   ]
  },
  {
   "cell_type": "markdown",
   "metadata": {
    "collapsed": true
   },
   "source": [
    "```python\n",
    "if __name__ == '__main__':\n",
    "    infile = sys.argv[1]; outfile = sys.argv[2]\n",
    "    for i in sys.argv[3:]:\n",
    "        create(infile, outfile, i)\n",
    "```        "
   ]
  },
  {
   "cell_type": "markdown",
   "metadata": {
    "collapsed": true
   },
   "source": [
    "* The block is executed *only if* the module file is run as a program (not if imported by another script)\n",
    "* The tests at the end of a module often serve as good examples on the usage of the module"
   ]
  },
  {
   "cell_type": "markdown",
   "metadata": {
    "collapsed": true,
    "slideshow": {
     "slide_type": "subslide"
    }
   },
   "source": [
    "## Packages\n",
    "\n",
    " * A set of modules can be collected in a *package*\n",
    " * A package is organized as module files in a directory tree\n",
    " * Each subdirectory has a file `__init__.py` (can be empty)\n",
    " * More infos: [Section 6 in the Python Tutorial](https://docs.python.org/3/tutorial/modules.html)  "
   ]
  },
  {
   "cell_type": "markdown",
   "metadata": {
    "collapsed": true,
    "slideshow": {
     "slide_type": "subslide"
    }
   },
   "source": [
    "## Packages\n",
    "\n",
    "Example directory tree:"
   ]
  },
  {
   "cell_type": "markdown",
   "metadata": {
    "collapsed": true
   },
   "source": [
    "```bash\n",
    "MyMod\n",
    "   __init__.py\n",
    "   numerics\n",
    "       __init__.py\n",
    "       pde\n",
    "           __init__.py\n",
    "           grids.py     # contains fdm_grids object\n",
    "```"
   ]
  },
  {
   "cell_type": "markdown",
   "metadata": {
    "collapsed": true,
    "slideshow": {
     "slide_type": "fragment"
    }
   },
   "source": [
    "Can import modules in the tree like this:\n",
    "    "
   ]
  },
  {
   "cell_type": "markdown",
   "metadata": {
    "collapsed": true
   },
   "source": [
    "```python\n",
    "from MyMod.numerics.pde.grids import fdm_grids\n",
    "\n",
    "grid = fdm_grids()\n",
    "grid.domain(xmin=0, xmax=1, ymin=0, ymax=1)\n",
    "...\n",
    "```"
   ]
  },
  {
   "cell_type": "markdown",
   "metadata": {
    "collapsed": true,
    "slideshow": {
     "slide_type": "subslide"
    }
   },
   "source": [
    "## Docstrings - Document your code!"
   ]
  },
  {
   "cell_type": "markdown",
   "metadata": {},
   "source": [
    "Python treats a string in the first line of a module/function/class definition as a special **documentation string**.:"
   ]
  },
  {
   "cell_type": "code",
   "execution_count": 74,
   "metadata": {
    "collapsed": true
   },
   "outputs": [],
   "source": [
    "\"\"\"\n",
    "A collection of mathematical functions.\n",
    "\"\"\"\n",
    "\n",
    "from math import sin\n",
    "\n",
    "def minsin(x):\n",
    "    \"\"\" Calculates the sin of a number and returns the result\n",
    "    \n",
    "    A more detailed description goes here.\n",
    "    \"\"\"\n",
    "    return sin(x)\n",
    "    "
   ]
  },
  {
   "cell_type": "markdown",
   "metadata": {},
   "source": [
    "**Docstring guideline**: The first line should always be a short, concise summary of the functions’s purpose. A more detailed description can follow below seperated by a newline.\n",
    "\n",
    "See http://sphinxcontrib-napoleon.readthedocs.io/en/latest/example_google.html for a complete docstring example.\n",
    "    "
   ]
  },
  {
   "cell_type": "markdown",
   "metadata": {},
   "source": [
    "* Some code editors will present this docstring for you on request. For example in `IPython (notebook)`:"
   ]
  },
  {
   "cell_type": "code",
   "execution_count": 75,
   "metadata": {
    "collapsed": true
   },
   "outputs": [],
   "source": [
    "minsin?"
   ]
  },
  {
   "cell_type": "markdown",
   "metadata": {},
   "source": [
    "* You can also explicitely access the doc string:"
   ]
  },
  {
   "cell_type": "code",
   "execution_count": 76,
   "metadata": {},
   "outputs": [
    {
     "name": "stdout",
     "output_type": "stream",
     "text": [
      " Calculates the sin of a number and returns the result\n",
      "    \n",
      "    A more detailed description goes here.\n",
      "    \n"
     ]
    }
   ],
   "source": [
    "print(minsin.__doc__)"
   ]
  },
  {
   "cell_type": "markdown",
   "metadata": {
    "slideshow": {
     "slide_type": "slide"
    }
   },
   "source": [
    "# Testing\n",
    "\n",
    "\n",
    "\n",
    "<img src=\"https://imgs.xkcd.com/comics/random_number.png\" style=\"width: 800px;\"/>"
   ]
  },
  {
   "cell_type": "markdown",
   "metadata": {
    "slideshow": {
     "slide_type": "subslide"
    }
   },
   "source": [
    "## Why should we test?\n",
    "\n",
    "* To check correctness of software.\n",
    "* To ensure that future changes do not break functionality.\n",
    "* To check if the software runs succesfully in a different environment (newer Python version, upgraded libraries, different operating system)"
   ]
  },
  {
   "cell_type": "markdown",
   "metadata": {
    "slideshow": {
     "slide_type": "subslide"
    }
   },
   "source": [
    "## A few options in Python\n",
    "\n",
    "* [Unittest](https://docs.python.org/3/library/unittest.html)\n",
    "\n",
    "* [Doctest](https://docs.python.org/3/library/doctest.html)\n",
    "* [Py.test](http://pytest.org/) (will be used here)"
   ]
  },
  {
   "cell_type": "markdown",
   "metadata": {
    "slideshow": {
     "slide_type": "subslide"
    }
   },
   "source": [
    "## How to use py.test"
   ]
  },
  {
   "cell_type": "markdown",
   "metadata": {
    "slideshow": {
     "slide_type": "fragment"
    }
   },
   "source": [
    "Say you have a function `absolute_value` in a file that needs testing:\n",
    "```python\n",
    "# script.py \n",
    "def absolute_value(x):\n",
    "    if x < 0:\n",
    "        return x\n",
    "    else:\n",
    "        return -x\n",
    "```        "
   ]
  },
  {
   "cell_type": "markdown",
   "metadata": {
    "slideshow": {
     "slide_type": "fragment"
    }
   },
   "source": [
    "Create a associated test file `test_script.py`:"
   ]
  },
  {
   "cell_type": "code",
   "execution_count": 40,
   "metadata": {
    "collapsed": true,
    "slideshow": {
     "slide_type": "-"
    }
   },
   "outputs": [],
   "source": [
    "# test_script.py\n",
    "from script import absolute_value    # Import the function \n",
    "\n",
    "def test_funcs():                    # py.test will automatically run all functions starting with test_\n",
    "    assert absolute_value(-3) == 3   # Add some tests here...\n",
    "    assert absolute_value(5)  == 5   # If one of the assert's evaluate to False, the test will fail\n",
    "    assert absolute_value(0)  == 0    "
   ]
  },
  {
   "cell_type": "code",
   "execution_count": 41,
   "metadata": {},
   "outputs": [
    {
     "name": "stdout",
     "output_type": "stream",
     "text": [
      "\u001b[1m============================= test session starts ==============================\u001b[0m\n",
      "platform linux -- Python 3.5.2, pytest-3.0.4, py-1.4.31, pluggy-0.4.0 -- /home/sf1409/miniconda3/bin/python\n",
      "cachedir: .cache\n",
      "rootdir: /home/sf1409/Documents/inf3331/UiO-INF3331.github.io/lectures/04-python-summary2, inifile: \n",
      "collected 1 items \u001b[0m\u001b[1m\n",
      "\u001b[0m\n",
      "test_script.py::test_func \u001b[31mFAILED\u001b[0m\n",
      "\n",
      "=================================== FAILURES ===================================\n",
      "\u001b[31m\u001b[1m__________________________________ test_func ___________________________________\u001b[0m\n",
      "\n",
      "\u001b[1m    def test_func():\u001b[0m\n",
      "\u001b[1m>       assert absolute_value(-3) == 3\u001b[0m\n",
      "\u001b[31m\u001b[1mE       assert -3 == 3\u001b[0m\n",
      "\u001b[31m\u001b[1mE        +  where -3 = absolute_value(-3)\u001b[0m\n",
      "\n",
      "\u001b[31m\u001b[1mtest_script.py\u001b[0m:4: AssertionError\n",
      "\u001b[31m\u001b[1m=========================== 1 failed in 0.03 seconds ===========================\u001b[0m\n"
     ]
    }
   ],
   "source": [
    "!py.test test_script.py -v"
   ]
  },
  {
   "cell_type": "markdown",
   "metadata": {
    "slideshow": {
     "slide_type": "subslide"
    }
   },
   "source": [
    "# Using py.test\n",
    "Let's fix our implementation..."
   ]
  },
  {
   "cell_type": "code",
   "execution_count": 1,
   "metadata": {
    "collapsed": true
   },
   "outputs": [
    {
     "name": "stdout",
     "output_type": "stream",
     "text": [
      "def absolute_value(x):\r\n",
      "    if x < 0:\r\n",
      "        return x\r\n",
      "    else:\r\n",
      "        return -x\r\n"
     ]
    }
   ],
   "source": [
    "!cat script.py"
   ]
  },
  {
   "cell_type": "markdown",
   "metadata": {},
   "source": [
    "and run the tests again"
   ]
  },
  {
   "cell_type": "code",
   "execution_count": 43,
   "metadata": {},
   "outputs": [
    {
     "name": "stdout",
     "output_type": "stream",
     "text": [
      "\u001b[1m============================= test session starts ==============================\u001b[0m\r\n",
      "platform linux -- Python 3.5.2, pytest-3.0.4, py-1.4.31, pluggy-0.4.0 -- /home/sf1409/miniconda3/bin/python\r\n",
      "cachedir: .cache\r\n",
      "rootdir: /home/sf1409/Documents/inf3331/UiO-INF3331.github.io/lectures/04-python-summary2, inifile: \r\n",
      "\u001b[1m\r",
      "collecting 0 items\u001b[0m\u001b[1m\r",
      "collecting 1 items\u001b[0m\u001b[1m\r",
      "collected 1 items \r\n",
      "\u001b[0m\r\n",
      "test_script.py::test_func \u001b[31mFAILED\u001b[0m\r\n",
      "\r\n",
      "=================================== FAILURES ===================================\r\n",
      "\u001b[1m\u001b[31m__________________________________ test_func ___________________________________\u001b[0m\r\n",
      "\r\n",
      "\u001b[1m    def test_func():\u001b[0m\r\n",
      "\u001b[1m>       assert absolute_value(-3) == 3\u001b[0m\r\n",
      "\u001b[1m\u001b[31mE       assert -3 == 3\u001b[0m\r\n",
      "\u001b[1m\u001b[31mE        +  where -3 = absolute_value(-3)\u001b[0m\r\n",
      "\r\n",
      "\u001b[1m\u001b[31mtest_script.py\u001b[0m:4: AssertionError\r\n",
      "\u001b[1m\u001b[31m=========================== 1 failed in 0.03 seconds ===========================\u001b[0m\r\n"
     ]
    }
   ],
   "source": [
    "!py.test test_scrMipt.py -v"
   ]
  },
  {
   "cell_type": "markdown",
   "metadata": {
    "slideshow": {
     "slide_type": "subslide"
    }
   },
   "source": [
    "## Good testing practices\n",
    "\n",
    "* Add new test while you develop new features.\n",
    "* Make each test an unique stand alone example.\n",
    "* Making tests resource undemanding.\n",
    "* Run test suite before each commit-push.\n",
    "* Make test function names descriptive.\n",
    "* Quick way to learn other peoples code is through test suits."
   ]
  }
 ],
 "metadata": {
  "celltoolbar": "Slideshow",
  "kernelspec": {
   "display_name": "Python 3",
   "language": "python",
   "name": "python3"
  },
  "language_info": {
   "codemirror_mode": {
    "name": "ipython",
    "version": 3
   },
   "file_extension": ".py",
   "mimetype": "text/x-python",
   "name": "python",
   "nbconvert_exporter": "python",
   "pygments_lexer": "ipython3",
   "version": "3.5.2"
  },
  "livereveal": {
   "scroll": true,
   "start_slideshow_at": "selected",
   "theme": "serif"
  }
 },
 "nbformat": 4,
 "nbformat_minor": 1
}
