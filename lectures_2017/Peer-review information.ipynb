{
 "cells": [
  {
   "cell_type": "markdown",
   "metadata": {
    "collapsed": true
   },
   "source": [
    "### Greetings from Simon and the new-born baby.\n",
    "\n",
    "Hi INF3331/INF4331 students! I hope things are going well. \n",
    "\n",
    "Please excuse me if I do not answer as quickly as usual on requests, somebody else keeps me busy these days. :)\n",
    "\n",
    "\n",
    "<img src=\"baby.jpg\" style=\"width: 400px;\"/>\n",
    "\n",
    "\n",
    "\n",
    "Enjoy the guest lecture and see you in two weeks!\n",
    "\n"
   ]
  },
  {
   "cell_type": "markdown",
   "metadata": {},
   "source": [
    "## General information about peer-review\n",
    "\n",
    "* Assignment 4 due this Friday\n",
    "* Followed by a one week peer-review assignment\n",
    "* **Important**: You need to do the peer-review in order to get the points for assignment 4!\n",
    "\n",
    "\n",
    "### Peer-review process\n",
    "   * You will be put in groups of 2 or 3.\n",
    "   * You will get (read and write) access to 2 or 3 other students solution.\n",
    "   * The review assignment is to give **constructive** feedback for these students\n",
    "   * Write the feedback in Latex and push it to the students repository.\n",
    "   * How you organise the review process is up to you. Your group can e.g. meet in person and discuss the solutions together, or split up the work and communicate via email.\n",
    "\n",
    "\n",
    "You will receive an email with your group partners and a Latex template on Saturday. \n",
    "\n",
    "\n"
   ]
  },
  {
   "cell_type": "markdown",
   "metadata": {},
   "source": [
    "### Peer-review Points\n",
    "   * A review is worth up to 10 points (all students in a group get the same amount of points). "
   ]
  }
 ],
 "metadata": {
  "kernelspec": {
   "display_name": "Python 3",
   "language": "python",
   "name": "python3"
  },
  "language_info": {
   "codemirror_mode": {
    "name": "ipython",
    "version": 3
   },
   "file_extension": ".py",
   "mimetype": "text/x-python",
   "name": "python",
   "nbconvert_exporter": "python",
   "pygments_lexer": "ipython3",
   "version": "3.5.2"
  }
 },
 "nbformat": 4,
 "nbformat_minor": 2
}
