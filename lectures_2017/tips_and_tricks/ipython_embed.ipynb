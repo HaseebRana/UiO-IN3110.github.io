{
 "cells": [
  {
   "cell_type": "markdown",
   "metadata": {},
   "source": [
    "# Tip of the week: IPython\n",
    "\n",
    "\n",
    "<img src=\"figs/tips.svg\" style=\"width: 400px;\"/>\n"
   ]
  },
  {
   "cell_type": "markdown",
   "metadata": {},
   "source": [
    "## Interactive Python\n",
    "\n",
    "\n",
    "  * Typing just `python` gives you an interactive Python shell.\n",
    "\n",
    "  * IPython (start with `ipython`) is better. It can also run scripts:\n",
    "```bash\n",
    "> ipython\n",
    "In [1]: run hw.py 3.14159\n",
    "```\n",
    "\n",
    "  * IPython supports tab completion, additional help commands, and much more, ...\n",
    "\n",
    "  * You can launch an IPython shell anywhere in the program with\n",
    "```python\n",
    "from IPython import embed; embed()\n",
    "```\n",
    "  * IPython comes integrated with an debugger (launch with `ipython ---pdb`)\n",
    "\n",
    "  * `pdb` is automatically invoked when an exception occurs "
   ]
  }
 ],
 "metadata": {
  "kernelspec": {
   "display_name": "Python 3",
   "language": "python",
   "name": "python3"
  },
  "language_info": {
   "codemirror_mode": {
    "name": "ipython",
    "version": 3
   },
   "file_extension": ".py",
   "mimetype": "text/x-python",
   "name": "python",
   "nbconvert_exporter": "python",
   "pygments_lexer": "ipython3",
   "version": "3.6.1"
  },
  "livereveal": {
   "scroll": true,
   "start_slideshow_at": "selected",
   "theme": "serif"
  }
 },
 "nbformat": 4,
 "nbformat_minor": 2
}
