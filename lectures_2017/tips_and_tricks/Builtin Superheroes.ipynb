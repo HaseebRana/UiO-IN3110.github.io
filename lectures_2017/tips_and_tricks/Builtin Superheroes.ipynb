{
 "cells": [
  {
   "cell_type": "markdown",
   "metadata": {},
   "source": [
    "# Tip of the week: Data analysis YouTube video\n",
    "Suggested by Karl-Erik\n",
    "\n",
    "<img src=\"figs/tips.svg\" style=\"width: 400px;\"/>"
   ]
  },
  {
   "cell_type": "markdown",
   "metadata": {},
   "source": [
    "This video: https://www.youtube.com/watch?v=j6VSAsKAj98 is very fun and pretty educational. I learned about some cool corners of Python I was unaware of, and I think the students would like it too. It'd be great to add it as a link for further viewing in your presentation tomorrow. The data analysis starts at 18:00 or so, although it doesn't actually use Pandas. \n",
    "\n",
    "---\n",
    "Karl-Erik"
   ]
  }
 ],
 "metadata": {
  "kernelspec": {
   "display_name": "Python 3",
   "language": "python",
   "name": "python3"
  },
  "language_info": {
   "codemirror_mode": {
    "name": "ipython",
    "version": 3
   },
   "file_extension": ".py",
   "mimetype": "text/x-python",
   "name": "python",
   "nbconvert_exporter": "python",
   "pygments_lexer": "ipython3",
   "version": "3.5.2"
  }
 },
 "nbformat": 4,
 "nbformat_minor": 2
}
