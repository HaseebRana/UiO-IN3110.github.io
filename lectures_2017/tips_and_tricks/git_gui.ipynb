{
 "cells": [
  {
   "cell_type": "markdown",
   "metadata": {
    "collapsed": true
   },
   "source": [
    "# Tip of the week: GUIs\n",
    "\n",
    "\n",
    "<img src=\"figs/tips.svg\" style=\"width: 400px;\"/>\n"
   ]
  },
  {
   "cell_type": "markdown",
   "metadata": {},
   "source": [
    "## Graphical interface to `git diff`"
   ]
  },
  {
   "cell_type": "markdown",
   "metadata": {},
   "source": [
    "The output `git diff` works well for small changes:\n",
    "    \n",
    "<img src=\"figs/git_diff.png\" style=\"width: 400px;\"/>\n",
    "    "
   ]
  },
  {
   "cell_type": "markdown",
   "metadata": {},
   "source": [
    "If much text has been changed in a file, it is often nicer to use a graphical diff tool:\n",
    "    \n",
    "<img src=\"figs/git_meld.png\" style=\"width: 600px;\"/>\n",
    "    "
   ]
  },
  {
   "cell_type": "markdown",
   "metadata": {},
   "source": [
    "Setup (tested on Linux):\n",
    "    1. Install meld (http://meldmerge.org/)\n",
    "    2. Open `~/.gitconfig` and append the lines:\n",
    "        [diff]\n",
    "            tool = meld  \n",
    "    3. In your repo, run `git difftool` to start the graphical diff"
   ]
  },
  {
   "cell_type": "markdown",
   "metadata": {},
   "source": [
    "## Full Graphical User Interfaces for Git"
   ]
  },
  {
   "cell_type": "markdown",
   "metadata": {},
   "source": [
    "There exists also full-fleshed GUIs for Git. Here is a screenshot of the tool `SourceTree`:\n",
    "\n",
    "\n",
    "<img src=\"figs/git_guis.png\" style=\"width: 600px;\"/>\n",
    "    \n",
    "Check out https://git-scm.com/downloads/guis for an overview."
   ]
  }
 ],
 "metadata": {
  "kernelspec": {
   "display_name": "Python 3",
   "language": "python",
   "name": "python3"
  },
  "language_info": {
   "codemirror_mode": {
    "name": "ipython",
    "version": 3
   },
   "file_extension": ".py",
   "mimetype": "text/x-python",
   "name": "python",
   "nbconvert_exporter": "python",
   "pygments_lexer": "ipython3",
   "version": "3.5.2"
  }
 },
 "nbformat": 4,
 "nbformat_minor": 2
}
