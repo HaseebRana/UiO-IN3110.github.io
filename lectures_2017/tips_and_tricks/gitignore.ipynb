{
 "cells": [
  {
   "cell_type": "markdown",
   "metadata": {},
   "source": [
    "# Tip of the week\n",
    "\n",
    "\n",
    "<img src=\"figs/tips.svg\" style=\"width: 400px;\"/>\n",
    "\n",
    "### `gitignore` file\n",
    "\n",
    "\n",
    "A `.gitignore` file allows you to intentionally ignore untracked files in Git.\n",
    "\n",
    "\n",
    "It is used to avoid committing files from your working directory that are not useful to other collaborators, for example temporary files, compilation files, etc.\n",
    "\n",
    "### Example\n",
    "\n",
    "Here is a `git status` command without a `.gitignore` file:\n",
    "\n",
    "<img src=\"figs/git_log_without_gitignore.jpg\" style=\"width: 600px;\"/>\n",
    "\n",
    "As you can see, `git` lists many untracked files that we are not interested in (`.cache`, `*.pyc`, ...). If we used `git add . && git commit -a -m \"Add changes\"`, we would accidentaly all these unwanted files.\n",
    "\n",
    "\n",
    "### How to create a `.gitignore` file\n",
    "\n",
    "\n",
    "* Make a file `.gitignore` using your text editor in the root of the git repository.\n",
    "* In there, write the file name(s) you want to ignore\n",
    "* You can use wildcard like: `*.pyc` ignoring any file with extension `.pyc`\n",
    "* Add and commiy the `.gitignore` file your the project\n",
    "\n",
    "\n",
    "For the example above, we could use the following `.gitignore` file:\n",
    "\n",
    "\n",
    "```bash\n",
    "*.pyc\n",
    ".cache/*\n",
    "*.swp\n",
    "docs/_build/*\n",
    "docs/build/*\n",
    "```\n",
    "\n",
    "\n",
    "\n",
    "If we now call `git status` again, it looks a lot cleaner:\n",
    "\n",
    "<img src=\"figs/git_log_with_gitignore.jpg\" style=\"width: 600px;\"/>\n",
    "\n",
    "\n",
    "\n"
   ]
  },
  {
   "cell_type": "markdown",
   "metadata": {},
   "source": [
    "**Tip**: You can download default github `.gitignore` files for many programming languages here: https://github.com/github/gitignore"
   ]
  }
 ],
 "metadata": {
  "kernelspec": {
   "display_name": "Bash",
   "language": "bash",
   "name": "bash"
  },
  "language_info": {
   "codemirror_mode": "shell",
   "file_extension": ".sh",
   "mimetype": "text/x-sh",
   "name": "bash"
  }
 },
 "nbformat": 4,
 "nbformat_minor": 2
}
