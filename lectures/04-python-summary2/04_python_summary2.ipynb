{
 "cells": [
  {
   "cell_type": "markdown",
   "metadata": {
    "slideshow": {
     "slide_type": "slide"
    }
   },
   "source": [
    "# Becoming a Python Guru\n",
    "\n",
    "\n",
    "<img src=\"https://imgs.xkcd.com/comics/random_number.png\" style=\"width: 800px;\"/>\n"
   ]
  },
  {
   "cell_type": "markdown",
   "metadata": {},
   "source": [
    "## Lecture today:\n",
    "\n",
    "* Essential tools to write better Python\n",
    " * List comprehensions\n",
    " * Iterators\n",
    " * Decorators\n",
    " * Good documentation \n",
    "* Error handling\n",
    "\n",
    "  * Python3 Type hints\n",
    "* Testing your code\n",
    "* Structuring your project\n",
    "    * Modules and setup.py files    \n"
   ]
  },
  {
   "cell_type": "markdown",
   "metadata": {},
   "source": [
    " **Why document your code?**\n",
    "\n",
    "Of paramount importance to produce good code **understandable by others and the author**, and hence maintainable in the long run.\n",
    "\n",
    "If you want to learn more on how to write comments, I recommend reading this blog post: http://antirez.com/news/124"
   ]
  }
 ],
 "metadata": {
  "celltoolbar": "Slideshow",
  "kernelspec": {
   "display_name": "Python 3",
   "language": "python",
   "name": "python3"
  },
  "language_info": {
   "codemirror_mode": {
    "name": "ipython",
    "version": 3
   },
   "file_extension": ".py",
   "mimetype": "text/x-python",
   "name": "python",
   "nbconvert_exporter": "python",
   "pygments_lexer": "ipython3",
   "version": "3.7.3"
  },
  "livereveal": {
   "scroll": true,
   "start_slideshow_at": "selected",
   "theme": "serif"
  }
 },
 "nbformat": 4,
 "nbformat_minor": 1
}
