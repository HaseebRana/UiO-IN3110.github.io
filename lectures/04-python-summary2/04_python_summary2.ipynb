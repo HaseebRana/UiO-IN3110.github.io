{
 "cells": [
  {
   "cell_type": "markdown",
   "metadata": {
    "slideshow": {
     "slide_type": "slide"
    }
   },
   "source": [
    "# Modules, documentation and testing\n",
    "\n",
    "\n",
    "<img src=\"https://imgs.xkcd.com/comics/random_number.png\" style=\"width: 800px;\"/>\n"
   ]
  },
  {
   "cell_type": "markdown",
   "metadata": {},
   "source": [
    " **Why document your code?**\n",
    "\n",
    "Of paramount importance to produce good code **understandable by others and the author**, and hence maintainable in the long run.\n",
    "\n",
    "If you want to learn more on how to write comments, I recommend reading this blog post: http://antirez.com/news/124"
   ]
  },
  {
   "cell_type": "markdown",
   "metadata": {
    "slideshow": {
     "slide_type": "slide"
    }
   },
   "source": [
    "# Modules"
   ]
  },
  {
   "cell_type": "markdown",
   "metadata": {
    "collapsed": true,
    "slideshow": {
     "slide_type": "subslide"
    }
   },
   "source": [
    "### What is a Python module?\n",
    "A module is a file consisting of Python code. A module can define functions, classes and variables. A module can also include runnable code."
   ]
  },
  {
   "cell_type": "markdown",
   "metadata": {
    "collapsed": true,
    "slideshow": {
     "slide_type": "subslide"
    }
   },
   "source": [
    "### What is it good for?\n",
    "\n",
    "Use modules to organize your program logically\n",
    "  * Split the code into several files for easier maintenance.\n",
    "  * Group related code into a module.\n",
    "  * Share common code between scripts.\n",
    "  * Publish modules on the web for other people to use."
   ]
  },
  {
   "cell_type": "markdown",
   "metadata": {
    "collapsed": true,
    "slideshow": {
     "slide_type": "subslide"
    }
   },
   "source": [
    "## Using modules\n",
    "\n",
    "Python comes with already with many modules that you can use.\n",
    "For example, let's import the module called `sys` and access its `argv` variable:\n",
    "\n",
    "```python\n",
    "import sys\n",
    "x = float(sys.argv[1])\n",
    "```"
   ]
  },
  {
   "cell_type": "markdown",
   "metadata": {
    "collapsed": true,
    "slideshow": {
     "slide_type": "fragment"
    }
   },
   "source": [
    "Import module member `argv` into current namespace:\n",
    "\n",
    "```python\n",
    "from sys import argv\n",
    "x = float(argv[1])\n",
    "```"
   ]
  },
  {
   "cell_type": "markdown",
   "metadata": {
    "collapsed": true,
    "slideshow": {
     "slide_type": "fragment"
    }
   },
   "source": [
    "Import everything from `sys` (not recommended):\n",
    "\n",
    "```python\n",
    "from sys import *\n",
    "x = float(argv[1])\n",
    "\n",
    "flags = ''\n",
    "# Ooops, flags was also imported from sys, this new flags\n",
    "# name overwrites sys.flags!\n",
    "```"
   ]
  },
  {
   "cell_type": "markdown",
   "metadata": {
    "collapsed": true,
    "slideshow": {
     "slide_type": "fragment"
    }
   },
   "source": [
    "Import `argv` under an alias:\n",
    "\n",
    "```python\n",
    "from sys import argv as a\n",
    "x = float(a[1])\n",
    "```"
   ]
  },
  {
   "cell_type": "markdown",
   "metadata": {},
   "source": [
    "## Making your own Python modules\n",
    "\n",
    "\n",
    " * Put classes and functions that should be part of the module in a Python file (e.g. `my_module.py`)"
   ]
  },
  {
   "cell_type": "markdown",
   "metadata": {
    "collapsed": true,
    "slideshow": {
     "slide_type": "subslide"
    }
   },
   "source": [
    "Examples:\n",
    "\n",
    "```python\n",
    "import my_module\n",
    "# or\n",
    "import my_module as mm   # M is a short form\n",
    "# or\n",
    "from my_module import *  # import all variables/classes/functions \n",
    "# or\n",
    "from my_module import my_function\n",
    "```"
   ]
  },
  {
   "cell_type": "markdown",
   "metadata": {
    "collapsed": true
   },
   "source": [
    "## Test block in a module\n",
    "\n",
    "\n",
    "Module files can have a test/demo section at the end:\n",
    "    "
   ]
  },
  {
   "cell_type": "markdown",
   "metadata": {
    "collapsed": true
   },
   "source": [
    "```python\n",
    "if __name__ == '__main__':\n",
    "    infile = sys.argv[1]; outfile = sys.argv[2]\n",
    "    for i in sys.argv[3:]:\n",
    "        create(infile, outfile, i)\n",
    "```        "
   ]
  },
  {
   "cell_type": "markdown",
   "metadata": {
    "collapsed": true
   },
   "source": [
    "* The block is executed *only if* the module file is run as a program (not if imported by another script)\n",
    "* The tests at the end of a module often serve as good examples on the usage of the module"
   ]
  },
  {
   "cell_type": "markdown",
   "metadata": {
    "collapsed": true,
    "slideshow": {
     "slide_type": "subslide"
    }
   },
   "source": [
    "## Packages\n",
    "\n",
    " * A set of modules can be collected in a *package*\n",
    " * A package is organized as module files in a directory tree\n",
    " * Each subdirectory must have a `__init__.py` file  (can be empty)\n",
    " * More infos: [Section 6 in the Python Tutorial](https://docs.python.org/3/tutorial/modules.html)  "
   ]
  },
  {
   "cell_type": "markdown",
   "metadata": {
    "collapsed": true,
    "slideshow": {
     "slide_type": "subslide"
    }
   },
   "source": [
    "## Packages\n",
    "\n",
    "Example directory tree of a Python package:"
   ]
  },
  {
   "cell_type": "markdown",
   "metadata": {
    "collapsed": true
   },
   "source": [
    "```bash\n",
    "pde_solver/\n",
    "   __init__.py\n",
    "   numerics/\n",
    "       __init__.py\n",
    "       pde/\n",
    "           __init__.py\n",
    "           grids.py     # contains fdm_grids object\n",
    "```"
   ]
  },
  {
   "cell_type": "markdown",
   "metadata": {
    "collapsed": true,
    "slideshow": {
     "slide_type": "fragment"
    }
   },
   "source": [
    "Can import modules in the tree like this:\n",
    "    "
   ]
  },
  {
   "cell_type": "markdown",
   "metadata": {
    "collapsed": true
   },
   "source": [
    "```python\n",
    "from pde_solver.numerics.pde.grids import fdm_grids\n",
    "\n",
    "grid = fdm_grids()\n",
    "grid.domain(xmin=0, xmax=1, ymin=0, ymax=1)\n",
    "...\n",
    "```"
   ]
  },
  {
   "cell_type": "markdown",
   "metadata": {
    "slideshow": {
     "slide_type": "subslide"
    }
   },
   "source": [
    "## How does Python find your packages/modules?\n",
    "\n",
    "\n",
    "When importing a package or module, Python tries to find it in multiples places, including:\n",
    "\n",
    "* `/usr/lib/python3.5/site-packages`       <-- This depends on your OS and Python version\n",
    "* paths defined by the environment variable `PYTHONPATH`\n",
    "* your current working directory"
   ]
  },
  {
   "cell_type": "markdown",
   "metadata": {
    "slideshow": {
     "slide_type": "fragment"
    }
   },
   "source": [
    "## Option 1: Adding your module path to PYTHONPATH\n",
    "\n",
    "Let's assume that your module is stored in the path `/home/simon/mymod/`. In your current (!) Bash session, you can add this path to the Python search with:"
   ]
  },
  {
   "cell_type": "markdown",
   "metadata": {
    "slideshow": {
     "slide_type": "fragment"
    }
   },
   "source": [
    "\n",
    "```bash\n",
    "> export PYTHONPATH=/home/simon/mymod:$PYTHONPATH\n",
    "```"
   ]
  },
  {
   "cell_type": "markdown",
   "metadata": {
    "slideshow": {
     "slide_type": "slide"
    }
   },
   "source": [
    "# Option 2: Create a setup.py file\n",
    "\n",
    "Create a `setup.py` file in your package/module directory.\n",
    "\n",
    "```python\n",
    "from distutils.core import setup\n",
    "\n",
    "setup(\n",
    "    name='PDE Solver',\n",
    "    version='1.0',\n",
    "    packages=['pde_solver',]\n",
    ")\n",
    "```\n",
    "\n"
   ]
  },
  {
   "cell_type": "markdown",
   "metadata": {},
   "source": [
    "and install with \n",
    "```bash\n",
    "pip3 install . --user  # For single-user installation\n",
    "pip3 install .         # For system wide installation\n",
    "```"
   ]
  },
  {
   "cell_type": "markdown",
   "metadata": {
    "slideshow": {
     "slide_type": "fragment"
    }
   },
   "source": [
    "The directory tree of the final Python project is then:"
   ]
  },
  {
   "cell_type": "markdown",
   "metadata": {},
   "source": [
    "```bash\n",
    "PDESolver/\n",
    "    setup.py          # setup/installation script\n",
    "    requirements.txt  # list package dependencies here\n",
    "    README.txt\n",
    "    pde_solver/       # The actual Python package/modules\n",
    "       __init__.py\n",
    "       numerics/\n",
    "           __init__.py\n",
    "           pde/\n",
    "               __init__.py\n",
    "               grids.py     # contains fdm_grids object\n",
    "```"
   ]
  },
  {
   "cell_type": "markdown",
   "metadata": {},
   "source": [
    "# pip can install external packages\n",
    "\n",
    "Similar, to the `conda` command, `pip` can be used to install additional Python packages:\n",
    "```bash\n",
    "pip3 install scipy --user  # Install from the Python package index PyPI\n",
    "pip3 install git+https://bitbucket.org/dolfin-adjoint/pyadjoint.git  # Install from a git repository\n",
    "``` "
   ]
  },
  {
   "cell_type": "markdown",
   "metadata": {
    "collapsed": true,
    "slideshow": {
     "slide_type": "subslide"
    }
   },
   "source": [
    "## Docstrings - Document your code!"
   ]
  },
  {
   "cell_type": "markdown",
   "metadata": {},
   "source": [
    "Python treats a string in the first line of a module/function/class definition as a special **documentation string**.:"
   ]
  },
  {
   "cell_type": "code",
   "execution_count": 3,
   "metadata": {
    "collapsed": true
   },
   "outputs": [],
   "source": [
    "\"\"\"\n",
    "A collection of mathematical functions.\n",
    "\"\"\"\n",
    "\n",
    "from math import sin\n",
    "\n",
    "def minsin(x):\n",
    "    \"\"\" Calculates the sin of a number and returns the result\n",
    "    \n",
    "    A more detailed description goes here.\n",
    "    \"\"\"\n",
    "    return sin(x)\n",
    "    "
   ]
  },
  {
   "cell_type": "markdown",
   "metadata": {},
   "source": [
    "**Docstring guideline**: The first line should always be a short, concise summary of the functions’s purpose. A more detailed description can follow below seperated by a newline.\n",
    "\n",
    "See http://sphinxcontrib-napoleon.readthedocs.io/en/latest/example_google.html for a complete docstring example.\n",
    "    "
   ]
  },
  {
   "cell_type": "markdown",
   "metadata": {},
   "source": [
    "* Some code editors will present this docstring for you on request. For example in `IPython (notebook)`:"
   ]
  },
  {
   "cell_type": "markdown",
   "metadata": {},
   "source": [
    "* You can also explicitely access the doc string:"
   ]
  },
  {
   "cell_type": "code",
   "execution_count": 4,
   "metadata": {
    "collapsed": true
   },
   "outputs": [],
   "source": [
    "minsin?"
   ]
  },
  {
   "cell_type": "markdown",
   "metadata": {
    "slideshow": {
     "slide_type": "slide"
    }
   },
   "source": [
    "# Testing\n"
   ]
  },
  {
   "cell_type": "markdown",
   "metadata": {
    "slideshow": {
     "slide_type": "subslide"
    }
   },
   "source": [
    "## Why should we test?\n",
    "\n",
    "* To check correctness of software.\n",
    "* To ensure that future changes do not break functionality.\n",
    "* To check if the software runs succesfully in a different environment (newer Python version, upgraded libraries, different operating system)"
   ]
  },
  {
   "cell_type": "markdown",
   "metadata": {
    "slideshow": {
     "slide_type": "subslide"
    }
   },
   "source": [
    "## A few options in Python\n",
    "\n",
    "* [Unittest](https://docs.python.org/3/library/unittest.html)\n",
    "\n",
    "* [Doctest](https://docs.python.org/3/library/doctest.html)\n",
    "* [Py.test](http://pytest.org/) (will be used here)"
   ]
  },
  {
   "cell_type": "markdown",
   "metadata": {
    "slideshow": {
     "slide_type": "subslide"
    }
   },
   "source": [
    "## How to use py.test"
   ]
  },
  {
   "cell_type": "markdown",
   "metadata": {
    "slideshow": {
     "slide_type": "fragment"
    }
   },
   "source": [
    "Say you have a function `absolute_value` in a file that needs testing:\n",
    "```python\n",
    "# script.py \n",
    "def absolute_value(x):\n",
    "    if x < 0:\n",
    "        return x\n",
    "    else:\n",
    "        return -x\n",
    "```        "
   ]
  },
  {
   "cell_type": "markdown",
   "metadata": {
    "slideshow": {
     "slide_type": "fragment"
    }
   },
   "source": [
    "Create a associated test file `test_script.py`:"
   ]
  },
  {
   "cell_type": "code",
   "execution_count": 7,
   "metadata": {
    "collapsed": true,
    "slideshow": {
     "slide_type": "-"
    }
   },
   "outputs": [],
   "source": [
    "# test_script.py\n",
    "from script import absolute_value    # Import the function \n",
    "\n",
    "def test_funcs():                    # py.test will automatically run all functions starting with test_\n",
    "    assert absolute_value(-3) == 3   # Add some tests here...\n",
    "    assert absolute_value(5)  == 5   # If one of the assert's evaluate to False, the test will fail\n",
    "    assert absolute_value(0)  == 0    "
   ]
  },
  {
   "cell_type": "code",
   "execution_count": 8,
   "metadata": {},
   "outputs": [
    {
     "name": "stdout",
     "output_type": "stream",
     "text": [
      "\u001b[1m============================= test session starts ==============================\u001b[0m\n",
      "platform linux -- Python 3.5.2, pytest-3.0.4, py-1.4.31, pluggy-0.4.0 -- /home/sf1409/miniconda3/bin/python\n",
      "cachedir: .cache\n",
      "rootdir: /home/sf1409/Documents/inf3331/UiO-INF3331.github.io/lectures/04-python-summary2, inifile: \n",
      "collected 1 items \u001b[0m\u001b[1m\n",
      "\u001b[0m\n",
      "test_script.py::test_func \u001b[31mFAILED\u001b[0m\n",
      "\n",
      "=================================== FAILURES ===================================\n",
      "\u001b[1m\u001b[31m__________________________________ test_func ___________________________________\u001b[0m\n",
      "\n",
      "\u001b[1m    def test_func():\u001b[0m\n",
      "\u001b[1m>       assert absolute_value(-3) == 3\u001b[0m\n",
      "\u001b[1m\u001b[31mE       assert -3 == 3\u001b[0m\n",
      "\u001b[1m\u001b[31mE        +  where -3 = absolute_value(-3)\u001b[0m\n",
      "\n",
      "\u001b[1m\u001b[31mtest_script.py\u001b[0m:4: AssertionError\n",
      "\u001b[1m\u001b[31m=========================== 1 failed in 0.03 seconds ===========================\u001b[0m\n"
     ]
    }
   ],
   "source": [
    "!py.test test_script.py -v"
   ]
  },
  {
   "cell_type": "markdown",
   "metadata": {
    "slideshow": {
     "slide_type": "subslide"
    }
   },
   "source": [
    "# Using py.test\n",
    "Let's fix our implementation..."
   ]
  },
  {
   "cell_type": "code",
   "execution_count": 9,
   "metadata": {},
   "outputs": [
    {
     "name": "stdout",
     "output_type": "stream",
     "text": [
      "def absolute_value(x):\r\n",
      "    if x < 0:\r\n",
      "        return -x\r\n",
      "    else:\r\n",
      "        return x\r\n"
     ]
    }
   ],
   "source": [
    "!cat script.py"
   ]
  },
  {
   "cell_type": "markdown",
   "metadata": {},
   "source": [
    "and run the tests again"
   ]
  },
  {
   "cell_type": "code",
   "execution_count": 14,
   "metadata": {},
   "outputs": [
    {
     "name": "stdout",
     "output_type": "stream",
     "text": [
      "\u001b[1m============================= test session starts ==============================\u001b[0m\r\n",
      "platform linux2 -- Python 2.7.15rc1, pytest-3.3.2, py-1.5.2, pluggy-0.6.0 -- /usr/bin/python2\r\n",
      "cachedir: .cache\r\n",
      "rootdir: /media/simon/Data/simon/Documents/inf3331/UiO-INF3331.github.io/lectures/04-python-summary2, inifile:\r\n",
      "plugins: xdist-1.22.1, forked-0.2\r\n",
      "\u001b[1m\r",
      "collecting 0 items                                                             \u001b[0m\u001b[1m\r",
      "collecting 1 item                                                              \u001b[0m\u001b[1m\r",
      "collected 1 item                                                               \u001b[0m\r\n",
      "\r\n",
      "test_script.py::test_func \u001b[32mPASSED\u001b[0m\u001b[36m                                         [100%]\u001b[0m\r\n",
      "\r\n",
      "\u001b[32m\u001b[1m=========================== 1 passed in 0.00 seconds ===========================\u001b[0m\r\n"
     ]
    }
   ],
   "source": [
    "!py.test test_script.py -v"
   ]
  },
  {
   "cell_type": "markdown",
   "metadata": {
    "slideshow": {
     "slide_type": "subslide"
    }
   },
   "source": [
    "## Good testing practices\n",
    "\n",
    "* Add new test while you develop new features.\n",
    "* Make each test an unique stand alone example.\n",
    "* Making tests resource undemanding.\n",
    "* Run test suite before each commit-push.\n",
    "* Make test function names descriptive.\n",
    "* Quick way to learn other peoples code is through test suits."
   ]
  }
 ],
 "metadata": {
  "celltoolbar": "Slideshow",
  "kernelspec": {
   "display_name": "Python 3",
   "language": "python",
   "name": "python3"
  },
  "language_info": {
   "codemirror_mode": {
    "name": "ipython",
    "version": 3
   },
   "file_extension": ".py",
   "mimetype": "text/x-python",
   "name": "python",
   "nbconvert_exporter": "python",
   "pygments_lexer": "ipython3",
   "version": "3.7.3"
  },
  "livereveal": {
   "scroll": true,
   "start_slideshow_at": "selected",
   "theme": "serif"
  }
 },
 "nbformat": 4,
 "nbformat_minor": 1
}
