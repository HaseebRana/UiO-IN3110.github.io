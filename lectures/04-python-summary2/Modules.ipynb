{
 "cells": [
  {
   "cell_type": "markdown",
   "metadata": {
    "slideshow": {
     "slide_type": "slide"
    }
   },
   "source": [
    "# Modules and Packages"
   ]
  },
  {
   "cell_type": "markdown",
   "metadata": {
    "collapsed": true,
    "slideshow": {
     "slide_type": "subslide"
    }
   },
   "source": [
    "### What is a Python module?\n",
    "A module is a file consisting of Python code. A module can define functions, classes and variables. A module can also include runnable code."
   ]
  },
  {
   "cell_type": "markdown",
   "metadata": {
    "collapsed": true,
    "slideshow": {
     "slide_type": "subslide"
    }
   },
   "source": [
    "### What is it good for?\n",
    "\n",
    "Use modules to organize your program logically\n",
    "  * Split the code into several files for easier maintenance.\n",
    "  * Group related code into a module.\n",
    "  * Share common code between scripts.\n",
    "  * Publish modules on the web for other people to use."
   ]
  },
  {
   "cell_type": "markdown",
   "metadata": {
    "collapsed": true,
    "slideshow": {
     "slide_type": "subslide"
    }
   },
   "source": [
    "## Using modules\n",
    "\n",
    "Python comes with already with many modules that you can use.\n",
    "For example, let's import the module called `sys` and access its `argv` variable:\n",
    "\n",
    "```python\n",
    "import sys\n",
    "x = float(sys.argv[1])\n",
    "```"
   ]
  },
  {
   "cell_type": "markdown",
   "metadata": {
    "collapsed": true,
    "slideshow": {
     "slide_type": "fragment"
    }
   },
   "source": [
    "Import module member `argv` into current namespace:\n",
    "\n",
    "```python\n",
    "from sys import argv\n",
    "x = float(argv[1])\n",
    "```"
   ]
  },
  {
   "cell_type": "markdown",
   "metadata": {
    "collapsed": true,
    "slideshow": {
     "slide_type": "fragment"
    }
   },
   "source": [
    "Import everything from `sys` (not recommended):\n",
    "\n",
    "```python\n",
    "from sys import *\n",
    "x = float(argv[1])\n",
    "\n",
    "flags = ''\n",
    "# Ooops, flags was also imported from sys, this new flags\n",
    "# name overwrites sys.flags!\n",
    "```"
   ]
  },
  {
   "cell_type": "markdown",
   "metadata": {
    "collapsed": true,
    "slideshow": {
     "slide_type": "fragment"
    }
   },
   "source": [
    "Import `argv` under an alias:\n",
    "\n",
    "```python\n",
    "from sys import argv as a\n",
    "x = float(a[1])\n",
    "```"
   ]
  },
  {
   "cell_type": "markdown",
   "metadata": {},
   "source": [
    "## Making your own Python modules\n",
    "\n",
    "\n",
    " * Put classes and functions that should be part of the module in a Python file (e.g. `my_module.py`)"
   ]
  },
  {
   "cell_type": "markdown",
   "metadata": {
    "collapsed": true,
    "slideshow": {
     "slide_type": "subslide"
    }
   },
   "source": [
    "Examples:\n",
    "\n",
    "```python\n",
    "import my_module\n",
    "# or\n",
    "import my_module as mm   # M is a short form\n",
    "# or\n",
    "from my_module import *  # import all variables/classes/functions \n",
    "# or\n",
    "from my_module import my_function\n",
    "```"
   ]
  },
  {
   "cell_type": "markdown",
   "metadata": {
    "collapsed": true
   },
   "source": [
    "## Test block in a module\n",
    "\n",
    "\n",
    "Module files can have a test/demo section at the end:\n",
    "    "
   ]
  },
  {
   "cell_type": "markdown",
   "metadata": {
    "collapsed": true
   },
   "source": [
    "```python\n",
    "if __name__ == '__main__':\n",
    "    infile = sys.argv[1]; outfile = sys.argv[2]\n",
    "    for i in sys.argv[3:]:\n",
    "        create(infile, outfile, i)\n",
    "```        "
   ]
  },
  {
   "cell_type": "markdown",
   "metadata": {
    "collapsed": true
   },
   "source": [
    "* The block is executed *only if* the module file is run as a program (not if imported by another script)\n",
    "* The tests at the end of a module often serve as good examples on the usage of the module"
   ]
  },
  {
   "cell_type": "markdown",
   "metadata": {
    "collapsed": true,
    "slideshow": {
     "slide_type": "subslide"
    }
   },
   "source": [
    "## Packages\n",
    "\n",
    " * A set of modules can be collected in a *package*\n",
    " * A package is organized as module files in a directory tree\n",
    " * Each subdirectory must have a `__init__.py` file  (can be empty)\n",
    " * More infos: [Section 6 in the Python Tutorial](https://docs.python.org/3/tutorial/modules.html)  "
   ]
  },
  {
   "cell_type": "markdown",
   "metadata": {
    "collapsed": true,
    "slideshow": {
     "slide_type": "subslide"
    }
   },
   "source": [
    "## Packages\n",
    "\n",
    "Example directory tree of a Python package:"
   ]
  },
  {
   "cell_type": "markdown",
   "metadata": {
    "collapsed": true
   },
   "source": [
    "```bash\n",
    "pde_solver/\n",
    "   __init__.py\n",
    "   numerics/\n",
    "       __init__.py\n",
    "       pde/\n",
    "           __init__.py\n",
    "           grids.py     # contains fdm_grids object\n",
    "```"
   ]
  },
  {
   "cell_type": "markdown",
   "metadata": {
    "collapsed": true,
    "slideshow": {
     "slide_type": "fragment"
    }
   },
   "source": [
    "Can import modules in the tree like this:\n",
    "    "
   ]
  },
  {
   "cell_type": "markdown",
   "metadata": {
    "collapsed": true
   },
   "source": [
    "```python\n",
    "from pde_solver.numerics.pde.grids import fdm_grids\n",
    "\n",
    "grid = fdm_grids()\n",
    "grid.domain(xmin=0, xmax=1, ymin=0, ymax=1)\n",
    "...\n",
    "```"
   ]
  },
  {
   "cell_type": "markdown",
   "metadata": {
    "slideshow": {
     "slide_type": "subslide"
    }
   },
   "source": [
    "## How does Python find your packages/modules?\n",
    "\n",
    "\n",
    "When importing a package or module, Python tries to find it in multiples places, including:\n",
    "\n",
    "* `/usr/lib/python3.5/site-packages`       <-- This depends on your OS and Python version\n",
    "* paths defined by the environment variable `PYTHONPATH`\n",
    "* your current working directory"
   ]
  },
  {
   "cell_type": "markdown",
   "metadata": {
    "slideshow": {
     "slide_type": "fragment"
    }
   },
   "source": [
    "## Option 1: Adding your module path to PYTHONPATH\n",
    "\n",
    "Let's assume that your module is stored in the path `/home/simon/mymod/`. In your current (!) Bash session, you can add this path to the Python search with:"
   ]
  },
  {
   "cell_type": "markdown",
   "metadata": {
    "slideshow": {
     "slide_type": "fragment"
    }
   },
   "source": [
    "\n",
    "```bash\n",
    "> export PYTHONPATH=/home/simon/mymod:$PYTHONPATH\n",
    "```"
   ]
  },
  {
   "cell_type": "markdown",
   "metadata": {
    "slideshow": {
     "slide_type": "slide"
    }
   },
   "source": [
    "# Option 2: Create a setup.py file\n",
    "\n",
    "Create a `setup.py` file in your package/module directory.\n",
    "\n",
    "```python\n",
    "from distutils.core import setup\n",
    "\n",
    "setup(\n",
    "    name='PDE Solver',\n",
    "    version='1.0',\n",
    "    packages=['pde_solver',]\n",
    ")\n",
    "```\n",
    "\n"
   ]
  },
  {
   "cell_type": "markdown",
   "metadata": {},
   "source": [
    "and install with \n",
    "```bash\n",
    "pip3 install . --user  # For single-user installation\n",
    "pip3 install .         # For system wide installation\n",
    "```"
   ]
  },
  {
   "cell_type": "markdown",
   "metadata": {
    "slideshow": {
     "slide_type": "fragment"
    }
   },
   "source": [
    "The directory tree of the final Python project is then:"
   ]
  },
  {
   "cell_type": "markdown",
   "metadata": {},
   "source": [
    "```bash\n",
    "PDESolver/\n",
    "    setup.py          # setup/installation script\n",
    "    requirements.txt  # list package dependencies here\n",
    "    README.txt\n",
    "    pde_solver/       # The actual Python package/modules\n",
    "       __init__.py\n",
    "       numerics/\n",
    "           __init__.py\n",
    "           pde/\n",
    "               __init__.py\n",
    "               grids.py     # contains fdm_grids object\n",
    "```"
   ]
  },
  {
   "cell_type": "markdown",
   "metadata": {},
   "source": [
    "# pip can install external packages\n",
    "\n",
    "Similar, to the `conda` command, `pip` can be used to install additional Python packages:\n",
    "```bash\n",
    "pip3 install scipy --user  # Install from the Python package index PyPI\n",
    "pip3 install git+https://bitbucket.org/dolfin-adjoint/pyadjoint.git  # Install from a git repository\n",
    "``` "
   ]
  }
 ],
 "metadata": {
  "celltoolbar": "Slideshow",
  "kernelspec": {
   "display_name": "Python 3",
   "language": "python",
   "name": "python3"
  },
  "language_info": {
   "codemirror_mode": {
    "name": "ipython",
    "version": 3
   },
   "file_extension": ".py",
   "mimetype": "text/x-python",
   "name": "python",
   "nbconvert_exporter": "python",
   "pygments_lexer": "ipython3",
   "version": "3.7.3"
  },
  "livereveal": {
   "scroll": true,
   "start_slideshow_at": "selected",
   "theme": "serif"
  }
 },
 "nbformat": 4,
 "nbformat_minor": 1
}
