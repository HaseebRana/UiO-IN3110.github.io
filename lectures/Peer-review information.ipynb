{
 "cells": [
  {
   "cell_type": "markdown",
   "metadata": {
    "slideshow": {
     "slide_type": "slide"
    }
   },
   "source": [
    "## Information about peer-review\n",
    "\n",
    "* Assignment 4 due today at midnight.\n",
    "* Followed by a **one week peer-review**.\n",
    "* This review is worth **up to 10 points**.\n",
    "* **Important**: You need to do the peer-review in order to get the points for assignment 4!"
   ]
  },
  {
   "cell_type": "markdown",
   "metadata": {
    "slideshow": {
     "slide_type": "subslide"
    }
   },
   "source": [
    "## Peer-review process\n",
    "   * You will be put in **groups** (typically 2 or 3 students).\n",
    "   * You will get **access to 2 or 3 other repositories** of your peers.\n",
    "   * The review assignment is to give **constructive feedback** for these students\n",
    "   * **How you organise the review process** is up to you. Your group can e.g. meet in person and discuss the solutions together, or split up the work and communicate via email.\n",
    "   * You will **receive an email** with your group partners and a Latex template **on Wednesday**. "
   ]
  },
  {
   "cell_type": "code",
   "execution_count": null,
   "metadata": {},
   "outputs": [],
   "source": []
  }
 ],
 "metadata": {
  "celltoolbar": "Slideshow",
  "kernelspec": {
   "display_name": "Python 3",
   "language": "python",
   "name": "python3"
  },
  "language_info": {
   "codemirror_mode": {
    "name": "ipython",
    "version": 3
   },
   "file_extension": ".py",
   "mimetype": "text/x-python",
   "name": "python",
   "nbconvert_exporter": "python",
   "pygments_lexer": "ipython3",
   "version": "3.7.3"
  }
 },
 "nbformat": 4,
 "nbformat_minor": 2
}
