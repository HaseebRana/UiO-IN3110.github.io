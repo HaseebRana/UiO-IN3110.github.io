{
 "cells": [
  {
   "cell_type": "markdown",
   "metadata": {
    "slideshow": {
     "slide_type": "slide"
    }
   },
   "source": [
    "# Numerical computations with NumPy\n",
    "\n",
    "\n",
    "<img src=\"https://imgs.xkcd.com/comics/students.png\" style=\"width: 800px;\"/>"
   ]
  },
  {
   "cell_type": "markdown",
   "metadata": {
    "slideshow": {
     "slide_type": "subslide"
    }
   },
   "source": [
    "## Python can be slow for numerical computations\n",
    "\n",
    "Python scripts are first compiled to byte-code.\n",
    "\n",
    "The byte-code is then *interpreted*.\n",
    "\n",
    "Text processing is usually as fast as in C.\n",
    "\n",
    "Loops over large data structures might be very slow:\n",
    "```Python\n",
    "for i in range(len(A)):\n",
    "    A[i] = ...\n",
    "```    "
   ]
  },
  {
   "cell_type": "markdown",
   "metadata": {
    "slideshow": {
     "slide_type": "fragment"
    }
   },
   "source": [
    "Fortran, C and C++ compilers are good at optimizing such loops at compile time and produce very efficient assembly code (e.g. 100 times faster).\n",
    "\n",
    "Fortunately, long loops in scripts can easily be migrated to Fortran or C."
   ]
  },
  {
   "cell_type": "markdown",
   "metadata": {},
   "source": [
    "## With NumPy, Python scripts may be fast enough\n",
    "\n",
    "Read 100 000 (x,y) data from file and write (x,f(y)) out again\n",
    "\n",
    "* Pure Python: 4s\n",
    "* Pure Perl: 3s\n",
    "* Pure Tcl: 11s\n",
    "* Pure C (fscanf/fprintf): 1s\n",
    "* Pure C++ (iostream): 3.6s\n",
    "* Pure C++ (buffered streams): 2.5s\n",
    "* Python using NumPy module: 2.2s (!)\n",
    "\n",
    "\n",
    "Remark: in practice, 100 000 data points are written and read in binary format, resulting in much smaller differences"
   ]
  },
  {
   "cell_type": "markdown",
   "metadata": {
    "slideshow": {
     "slide_type": "subslide"
    }
   },
   "source": [
    "## NumPy enables efficient numerical computing in Python\n",
    "\n",
    "Why efficient?\n",
    "\n",
    "* Offers efficient arrays (contiguous storage) with associated array operations \n",
    "* Written in C and Fortran\n",
    "\n",
    "Numerical packages before NumPy: `numeric` from the mid 90s, `numarray` from about 2000, NumPy from 2006\n",
    "\n",
    "Today NumPy is the quasi-standard."
   ]
  },
  {
   "cell_type": "markdown",
   "metadata": {
    "slideshow": {
     "slide_type": "slide"
    }
   },
   "source": [
    "## Contents\n",
    "\n",
    "* A first taste of NumPy\n",
    "* Creating arrays\n",
    "* Indexing/slicing arrays\n",
    "* Random numbers\n",
    "* Structured arrays\n",
    "* Performance considerations\n",
    "* Linear algebra\n",
    "* Plotting"
   ]
  },
  {
   "cell_type": "markdown",
   "metadata": {
    "slideshow": {
     "slide_type": "subslide"
    }
   },
   "source": [
    "## More info\n",
    "\n",
    "* The NumPy quickstart (https://docs.scipy.org/doc/numpy/user/quickstart.html)\n",
    "* Scientific Computing Tools for Python \n",
    "  (http://www.scipy.org)\n",
    "* Scipy Lecture Notes (http://scipy-lectures.org)"
   ]
  },
  {
   "cell_type": "markdown",
   "metadata": {
    "slideshow": {
     "slide_type": "subslide"
    }
   },
   "source": [
    "## A taste of NumPy\n",
    "\n",
    "**Task**: Fit a line through a set of (x, y) data points"
   ]
  },
  {
   "cell_type": "code",
   "execution_count": 70,
   "metadata": {},
   "outputs": [
    {
     "data": {
      "image/png": "[encoded data removed]",
      "text/plain": [
       "<Figure size 432x288 with 1 Axes>"
      ]
     },
     "metadata": {
      "needs_background": "light"
     },
     "output_type": "display_data"
    }
   ],
   "source": [
    "# Only needed for Jupyter\n",
    "%matplotlib inline  \n",
    "\n",
    "import numpy as np\n",
    "import matplotlib.pyplot as plt\n",
    "\n",
    "# Create the x and y datapoints\n",
    "N = 20                                  \n",
    "x = np.linspace(0.0, 1.0, N)               # coordinates\n",
    "y = -2*x + 3                               # Create y values for the datapoints\n",
    "y += np.random.normal(0, 0.25, N)          # add noise\n",
    "\n",
    "# create and solve least squares system:\n",
    "A = np.array([x, np.ones(N)])\n",
    "A = A.transpose()\n",
    "result = np.linalg.lstsq(A, y, rcond=None)\n",
    "\n",
    "# result is a 4-tuple, the solution (a,b) is the 1st entry:\n",
    "a, b = result[0]        \n",
    "\n",
    "# plot the result\n",
    "plt.plot(x, y, 'o', label='noisy data points')\n",
    "plt.plot(x, y_line, 'r', label='true line')\n",
    "plt.plot(x, a*x + b, 'b', label='fitted lined')\n",
    "\n",
    "plt.legend()\n",
    "plt.savefig('myplot.pdf')\n",
    "plt.show()"
   ]
  },
  {
   "cell_type": "markdown",
   "metadata": {
    "slideshow": {
     "slide_type": "subslide"
    }
   },
   "source": [
    "## The example, step by step (i): Import NumPy module"
   ]
  },
  {
   "cell_type": "markdown",
   "metadata": {},
   "source": [
    "Importing the `numpy` module (abbreviated as `np` for simple use):"
   ]
  },
  {
   "cell_type": "code",
   "execution_count": 71,
   "metadata": {},
   "outputs": [],
   "source": [
    "import numpy as np"
   ]
  },
  {
   "cell_type": "markdown",
   "metadata": {
    "slideshow": {
     "slide_type": "subslide"
    }
   },
   "source": [
    "## The example, step by step (ii): Create noisy data"
   ]
  },
  {
   "cell_type": "markdown",
   "metadata": {},
   "source": [
    "**Goal**: Create $N$ datapoints that satisfy the equation:\n",
    "\n",
    "$$y = 2x + 3,$$\n",
    "\n",
    "and add some white noise to the y values."
   ]
  },
  {
   "cell_type": "markdown",
   "metadata": {
    "slideshow": {
     "slide_type": "fragment"
    }
   },
   "source": [
    "**Step 1**: Create an equivally distributed array with x coordinates:"
   ]
  },
  {
   "cell_type": "code",
   "execution_count": 66,
   "metadata": {
    "collapsed": true
   },
   "outputs": [
    {
     "name": "stdout",
     "output_type": "stream",
     "text": [
      "[0.         0.05263158 0.10526316 0.15789474 0.21052632 0.26315789\n",
      " 0.31578947 0.36842105 0.42105263 0.47368421 0.52631579 0.57894737\n",
      " 0.63157895 0.68421053 0.73684211 0.78947368 0.84210526 0.89473684\n",
      " 0.94736842 1.        ]\n"
     ]
    }
   ],
   "source": [
    "# Create the x and y datapoints\n",
    "N = 20                                  \n",
    "x = np.linspace(0.0, 1.0, N)               # coordinates\n",
    "print(x)"
   ]
  },
  {
   "cell_type": "markdown",
   "metadata": {
    "slideshow": {
     "slide_type": "fragment"
    }
   },
   "source": [
    "**Step 2**: Generate the y data points using the equation above:"
   ]
  },
  {
   "cell_type": "code",
   "execution_count": null,
   "metadata": {},
   "outputs": [],
   "source": [
    "y = -2*x + 3      # Create y values for the datapoints"
   ]
  },
  {
   "cell_type": "markdown",
   "metadata": {},
   "source": [
    "**Note**: numpy performs operation elementwise (in contrast to Python lists)."
   ]
  },
  {
   "cell_type": "markdown",
   "metadata": {
    "slideshow": {
     "slide_type": "fragment"
    }
   },
   "source": [
    "**Step 3:** Add white noise:"
   ]
  },
  {
   "cell_type": "code",
   "execution_count": 67,
   "metadata": {
    "scrolled": true
   },
   "outputs": [
    {
     "name": "stdout",
     "output_type": "stream",
     "text": [
      "[2.97598906 3.19606495 2.57265626 2.14955553 2.29915357 2.89841913\n",
      " 1.99706889 2.34825261 2.04289125 2.06213548 1.88546394 1.90507181\n",
      " 1.98430728 1.01397296 1.65590554 1.19016193 1.04351139 1.41367248\n",
      " 0.96596883 0.99074507]\n"
     ]
    }
   ],
   "source": [
    "y += np.random.normal(0, 0.25, N)  # add noise\n",
    "print(y)"
   ]
  },
  {
   "cell_type": "markdown",
   "metadata": {
    "slideshow": {
     "slide_type": "subslide"
    }
   },
   "source": [
    "## The example, step by step (iii): Fit the line through the data\n",
    "\n",
    "**Task**: Identify the two line parameters a, b such that\n",
    "\n",
    "$$y \\approx a x + b$$\n",
    "for all x, y data points."
   ]
  },
  {
   "cell_type": "markdown",
   "metadata": {
    "slideshow": {
     "slide_type": "fragment"
    }
   },
   "source": [
    "More precisely, we want to identify the line where the **summed squared error is minimal**:\n",
    "\n",
    "$$\\min_{a, b} \\sum_{i=0}^N |y_i - ax_i - b|^2$$"
   ]
  },
  {
   "cell_type": "markdown",
   "metadata": {},
   "source": [
    "numpy has a built in function for solving **least squares** problems: `numpy.linalg.lstsq`:"
   ]
  },
  {
   "cell_type": "code",
   "execution_count": 75,
   "metadata": {},
   "outputs": [],
   "source": [
    "A = np.array([x, np.ones(n)])\n",
    "A = A.transpose()\n",
    "result = np.linalg.lstsq(A, y, rcond=None)\n",
    "\n",
    "a, b = result[0]"
   ]
  },
  {
   "cell_type": "markdown",
   "metadata": {
    "slideshow": {
     "slide_type": "fragment"
    }
   },
   "source": [
    "Now:\n",
    "* `a` contains the steepness (gradient) of the line.\n",
    "* `b` contains the offset of the line at `x=0`.\n",
    "\n",
    "Our line approximate is therefore:\n",
    "```python\n",
    " y = a*x + b\n",
    " ```\n",
    " \n",
    " The correct values are $a=-2$ and $b=3$. Let's check what we get:"
   ]
  },
  {
   "cell_type": "code",
   "execution_count": 80,
   "metadata": {
    "slideshow": {
     "slide_type": "skip"
    }
   },
   "outputs": [
    {
     "name": "stdout",
     "output_type": "stream",
     "text": [
      "a = -1.927070065215262\n",
      "b = 3.0681791164937464\n"
     ]
    }
   ],
   "source": [
    "print(f\"a = {a}\")\n",
    "print(f\"b = {b}\")"
   ]
  },
  {
   "cell_type": "markdown",
   "metadata": {
    "collapsed": true,
    "slideshow": {
     "slide_type": "subslide"
    }
   },
   "source": [
    "## The example, step by step (iv): Plot the results\n",
    "\n",
    "Use the `matplotlib` library to plot the result:"
   ]
  },
  {
   "cell_type": "code",
   "execution_count": 78,
   "metadata": {},
   "outputs": [
    {
     "data": {
      "image/png": "[encoded data removed]",
      "text/plain": [
       "<Figure size 432x288 with 1 Axes>"
      ]
     },
     "metadata": {
      "needs_background": "light"
     },
     "output_type": "display_data"
    }
   ],
   "source": [
    "import matplotlib.pyplot as plt\n",
    "\n",
    "plt.plot(x, y, 'o', label='data points')\n",
    "plt.plot(x, a*x + b, 'b', label='fitted lined')\n",
    "plt.plot(x, y_line, 'r', label='original line')\n",
    "plt.legend()\n",
    "plt.show()"
   ]
  },
  {
   "cell_type": "markdown",
   "metadata": {
    "slideshow": {
     "slide_type": "slide"
    }
   },
   "source": [
    "# Numpy arrays"
   ]
  },
  {
   "cell_type": "markdown",
   "metadata": {},
   "source": [
    "\n",
    "The most basic array type that NumPy provides is `ndarray`. These are N-dimensional homogenous collections of \"items\" of the same type."
   ]
  },
  {
   "cell_type": "markdown",
   "metadata": {},
   "source": [
    "```python\n",
    "np.array([5., 10., 11.])\n",
    "np.array([\"a\", \"b\", \"c\"])\n",
    "```"
   ]
  },
  {
   "cell_type": "markdown",
   "metadata": {
    "slideshow": {
     "slide_type": "fragment"
    }
   },
   "source": [
    "**Properties**:\n",
    "\n",
    "1. Arrays have a fixed size.\n",
    "2. Arrays have one associated data type. \n",
    "3. Arrays are mutable objects (values in array can be changed)"
   ]
  },
  {
   "cell_type": "markdown",
   "metadata": {
    "slideshow": {
     "slide_type": "subslide"
    }
   },
   "source": [
    "## Creating NumPy arrays"
   ]
  },
  {
   "cell_type": "markdown",
   "metadata": {},
   "source": [
    "Numpy provides convenience functions for creating common arrays:"
   ]
  },
  {
   "cell_type": "code",
   "execution_count": 8,
   "metadata": {},
   "outputs": [
    {
     "data": {
      "text/plain": [
       "array([0., 0., 0.])"
      ]
     },
     "execution_count": 8,
     "metadata": {},
     "output_type": "execute_result"
    }
   ],
   "source": [
    "np.zeros(3)"
   ]
  },
  {
   "cell_type": "code",
   "execution_count": 9,
   "metadata": {
    "slideshow": {
     "slide_type": "fragment"
    }
   },
   "outputs": [
    {
     "data": {
      "text/plain": [
       "array([1., 1., 1.])"
      ]
     },
     "execution_count": 9,
     "metadata": {},
     "output_type": "execute_result"
    }
   ],
   "source": [
    "np.ones(3)      "
   ]
  },
  {
   "cell_type": "code",
   "execution_count": 10,
   "metadata": {
    "slideshow": {
     "slide_type": "fragment"
    }
   },
   "outputs": [
    {
     "data": {
      "text/plain": [
       "array([1., 1., 1.])"
      ]
     },
     "execution_count": 10,
     "metadata": {},
     "output_type": "execute_result"
    }
   ],
   "source": [
    "np.empty(3)             # uninitialised array. Might contain arbitrary data"
   ]
  },
  {
   "cell_type": "markdown",
   "metadata": {
    "slideshow": {
     "slide_type": "subslide"
    }
   },
   "source": [
    "## Array with a sequence of numbers\n",
    "\n",
    "\n",
    "### linspace\n",
    "`linspace(a, b, n)` generates `n` uniformly spaced\n",
    "coordinates, starting with `a` and ending with `b`"
   ]
  },
  {
   "cell_type": "markdown",
   "metadata": {},
   "source": [
    "<img src=\"figs/numpy-linspace.png\" style=\"width: 500px;\"/>"
   ]
  },
  {
   "cell_type": "markdown",
   "metadata": {
    "slideshow": {
     "slide_type": "fragment"
    }
   },
   "source": [
    "Use `endpoint=False` to exclude the last point. "
   ]
  },
  {
   "cell_type": "code",
   "execution_count": 11,
   "metadata": {},
   "outputs": [
    {
     "data": {
      "text/plain": [
       "array([-3., -2., -1.,  0.,  1.])"
      ]
     },
     "execution_count": 11,
     "metadata": {},
     "output_type": "execute_result"
    }
   ],
   "source": [
    "np.linspace(-3, 2, num=5, endpoint=False)"
   ]
  },
  {
   "cell_type": "markdown",
   "metadata": {},
   "source": [
    "### arange"
   ]
  },
  {
   "cell_type": "markdown",
   "metadata": {
    "slideshow": {
     "slide_type": "fragment"
    }
   },
   "source": [
    "`arange` is the numpy equivalent of Python's `range`"
   ]
  },
  {
   "cell_type": "code",
   "execution_count": 12,
   "metadata": {},
   "outputs": [
    {
     "data": {
      "text/plain": [
       "array([-5., -3., -1.,  1.,  3.,  5.])"
      ]
     },
     "execution_count": 12,
     "metadata": {},
     "output_type": "execute_result"
    }
   ],
   "source": [
    "np.arange(-5, 6, step=2, dtype=float)"
   ]
  },
  {
   "cell_type": "markdown",
   "metadata": {
    "slideshow": {
     "slide_type": "subslide"
    }
   },
   "source": [
    "## Warning: `arange` can give unexpected results\n",
    "\n",
    "`arange`'s upper limit may or may not be included!\n",
    "\n",
    "Compare this examples:"
   ]
  },
  {
   "cell_type": "code",
   "execution_count": 13,
   "metadata": {
    "slideshow": {
     "slide_type": "fragment"
    }
   },
   "outputs": [
    {
     "data": {
      "text/plain": [
       "array([8.2 , 8.25])"
      ]
     },
     "execution_count": 13,
     "metadata": {},
     "output_type": "execute_result"
    }
   ],
   "source": [
    "np.arange(8.2, 8.2+0.05, 0.05)  # OK!"
   ]
  },
  {
   "cell_type": "markdown",
   "metadata": {
    "slideshow": {
     "slide_type": "fragment"
    }
   },
   "source": [
    "with this one:"
   ]
  },
  {
   "cell_type": "code",
   "execution_count": 14,
   "metadata": {},
   "outputs": [
    {
     "data": {
      "text/plain": [
       "array([8.2 , 8.25])"
      ]
     },
     "execution_count": 14,
     "metadata": {},
     "output_type": "execute_result"
    }
   ],
   "source": [
    "np.arange(8.2, 8.2+0.1, 0.05)   # Not OK?"
   ]
  },
  {
   "cell_type": "markdown",
   "metadata": {
    "slideshow": {
     "slide_type": "fragment"
    }
   },
   "source": [
    "**What is happening?**"
   ]
  },
  {
   "cell_type": "markdown",
   "metadata": {
    "slideshow": {
     "slide_type": "fragment"
    }
   },
   "source": [
    "**Reason**: An accumulated round-off error in the second case:"
   ]
  },
  {
   "cell_type": "code",
   "execution_count": 15,
   "metadata": {},
   "outputs": [
    {
     "data": {
      "text/plain": [
       "8.25"
      ]
     },
     "execution_count": 15,
     "metadata": {},
     "output_type": "execute_result"
    }
   ],
   "source": [
    "8.2 + 0.05"
   ]
  },
  {
   "cell_type": "code",
   "execution_count": 16,
   "metadata": {
    "slideshow": {
     "slide_type": "fragment"
    }
   },
   "outputs": [
    {
     "data": {
      "text/plain": [
       "8.299999999999999"
      ]
     },
     "execution_count": 16,
     "metadata": {},
     "output_type": "execute_result"
    }
   ],
   "source": [
    "8.2 + 0.1"
   ]
  },
  {
   "cell_type": "markdown",
   "metadata": {
    "slideshow": {
     "slide_type": "slide"
    }
   },
   "source": [
    "# Array attributes"
   ]
  },
  {
   "cell_type": "markdown",
   "metadata": {
    "slideshow": {
     "slide_type": "subslide"
    }
   },
   "source": [
    "## Important array attributes"
   ]
  },
  {
   "cell_type": "markdown",
   "metadata": {},
   "source": [
    "Given an array `a`, you have access to some useful attributes:\n",
    "\n",
    "|Attribute|Description|\n",
    "|--|-------------------------------|\n",
    "|*a.data* |Buffer to raw data|\n",
    "|*a.dtype*|Type information of data|\n",
    "|*a.ndim* |Number of dimensions|\n",
    "|*a.shape*|Tuple representing rank of array in each direction|\n",
    "|*a.size* |Total number of elements|\n",
    "|*a.nbytes* |Total number of bytes allocated for array|"
   ]
  },
  {
   "cell_type": "markdown",
   "metadata": {
    "slideshow": {
     "slide_type": "subslide"
    }
   },
   "source": [
    "## dtypes: the type of the arrays elements"
   ]
  },
  {
   "cell_type": "markdown",
   "metadata": {
    "slideshow": {
     "slide_type": "fragment"
    }
   },
   "source": [
    "Use the `dtype` argument to create an array of a specific type:\n",
    "```python\n",
    "np.zeros(3, dtype=np.int)       # integer datatype\n",
    "np.ones(3, dtype=np.float32)    # single precision\n",
    "np.array(3, dtype=np.complex)   # complex numbers\n",
    "```\n",
    "A full list of valid types can be found [here: https://docs.scipy.org/doc/numpy/reference/arrays.dtypes.html](https://docs.scipy.org/doc/numpy/reference/arrays.dtypes.html)."
   ]
  },
  {
   "cell_type": "markdown",
   "metadata": {
    "slideshow": {
     "slide_type": "fragment"
    }
   },
   "source": [
    "**Example**: given an array a, make a new array `x` of same dimension and data type:"
   ]
  },
  {
   "cell_type": "code",
   "execution_count": 17,
   "metadata": {},
   "outputs": [],
   "source": [
    "x = np.zeros(a.shape, a.dtype)"
   ]
  },
  {
   "cell_type": "markdown",
   "metadata": {
    "slideshow": {
     "slide_type": "subslide"
    }
   },
   "source": [
    "## **By default**, numpy arrays will automatically select a suitable type to store the elements:"
   ]
  },
  {
   "cell_type": "markdown",
   "metadata": {
    "slideshow": {
     "slide_type": "-"
    }
   },
   "source": [
    "The type of the array is automatically determined:\n",
    "\n",
    "Array of integers:\n",
    "\n",
    "```python\n",
    "np.array([1, 2, 3])\n",
    "```\n",
    "\n",
    "Array of floats:\n",
    "```python\n",
    "np.array([1.0, 2, 3]) \n",
    "```\n",
    "Array of automatically converted strings:\n",
    "```python\n",
    "np.array([1.0, 2, \"a\"])  # array of strings  of dtype \"<U32\" (unicode strings with max 32 characters.)\n",
    "```"
   ]
  },
  {
   "cell_type": "markdown",
   "metadata": {
    "slideshow": {
     "slide_type": "slide"
    }
   },
   "source": [
    "# More constructions of numpy arrays"
   ]
  },
  {
   "cell_type": "markdown",
   "metadata": {
    "slideshow": {
     "slide_type": "subslide"
    }
   },
   "source": [
    "## Python lists and numpy arrays"
   ]
  },
  {
   "cell_type": "markdown",
   "metadata": {
    "slideshow": {
     "slide_type": "fragment"
    }
   },
   "source": [
    "### From list to array\n",
    "array(list, [datatype]) generates a numpy.array from a list:"
   ]
  },
  {
   "cell_type": "code",
   "execution_count": 18,
   "metadata": {},
   "outputs": [],
   "source": [
    "mylist = [0, 1.2, 4, -9.1, 5, 8]\n",
    "\n",
    "a = np.array(mylist)"
   ]
  },
  {
   "cell_type": "markdown",
   "metadata": {
    "slideshow": {
     "slide_type": "subslide"
    }
   },
   "source": [
    "### From array to list"
   ]
  },
  {
   "cell_type": "code",
   "execution_count": 19,
   "metadata": {
    "slideshow": {
     "slide_type": "-"
    }
   },
   "outputs": [
    {
     "data": {
      "text/plain": [
       "[0.0, 1.2, 4.0, -9.1, 5.0, 8.0]"
      ]
     },
     "execution_count": 19,
     "metadata": {},
     "output_type": "execute_result"
    }
   ],
   "source": [
    "a.tolist()"
   ]
  },
  {
   "cell_type": "markdown",
   "metadata": {
    "slideshow": {
     "slide_type": "subslide"
    }
   },
   "source": [
    "## From \"anything\" to NumPy array\n",
    "\n",
    "Given an object a (of type int, list, tuple, array, ...),\n",
    "\n",
    "```python\n",
    "np.asarray(a)\n",
    "```\n",
    "converts a to a NumPy array if possible/necessary, tries to avoid copying"
   ]
  },
  {
   "cell_type": "markdown",
   "metadata": {
    "slideshow": {
     "slide_type": "fragment"
    }
   },
   "source": [
    "**Example**: Use asarray to allow flexible arguments in functions:"
   ]
  },
  {
   "cell_type": "code",
   "execution_count": 20,
   "metadata": {},
   "outputs": [
    {
     "data": {
      "text/plain": [
       "13"
      ]
     },
     "execution_count": 20,
     "metadata": {},
     "output_type": "execute_result"
    }
   ],
   "source": [
    "def myfunc(some_sequence):\n",
    "    a = np.asarray(some_sequence)\n",
    "    return 3*a - 5\n",
    "\n",
    "myfunc([1, 2, 3])       # list argument\n",
    "myfunc(np.zeros(10))  # array argument\n",
    "myfunc(-4.5)          # float argument\n",
    "myfunc(6)             # int argument"
   ]
  },
  {
   "cell_type": "markdown",
   "metadata": {
    "slideshow": {
     "slide_type": "subslide"
    }
   },
   "source": [
    "## Array initialization from a Python function"
   ]
  },
  {
   "cell_type": "code",
   "execution_count": 21,
   "metadata": {},
   "outputs": [
    {
     "data": {
      "text/plain": [
       "array([[ 4.,  5.,  6.,  7.,  8.,  9.],\n",
       "       [ 6.,  8., 10., 12., 14., 16.],\n",
       "       [ 6.,  9., 12., 15., 18., 21.]])"
      ]
     },
     "execution_count": 21,
     "metadata": {},
     "output_type": "execute_result"
    }
   ],
   "source": [
    "def myfunc(i, j):\n",
    "     return (i+1)*(j+4-i)\n",
    "\n",
    "# make 3x6 array where a[i,j] = myfunc(i,j):\n",
    "np.fromfunction(myfunc, (3,6))"
   ]
  },
  {
   "cell_type": "markdown",
   "metadata": {
    "slideshow": {
     "slide_type": "slide"
    }
   },
   "source": [
    "# Higher-dimensional arrays"
   ]
  },
  {
   "cell_type": "markdown",
   "metadata": {
    "slideshow": {
     "slide_type": "subslide"
    }
   },
   "source": [
    "## Creating higher-dimensional arrays"
   ]
  },
  {
   "cell_type": "markdown",
   "metadata": {},
   "source": [
    "Passing a tuple to an array constructor results in a higher-dimensional array:"
   ]
  },
  {
   "cell_type": "code",
   "execution_count": 22,
   "metadata": {},
   "outputs": [
    {
     "data": {
      "text/plain": [
       "array([[[0., 0., 0.],\n",
       "        [0., 0., 0.],\n",
       "        [0., 0., 0.]],\n",
       "\n",
       "       [[0., 0., 0.],\n",
       "        [0., 0., 0.],\n",
       "        [0., 0., 0.]]])"
      ]
     },
     "execution_count": 22,
     "metadata": {},
     "output_type": "execute_result"
    }
   ],
   "source": [
    "np.zeros((2, 3, 3))     # 2*3*3 dim. array"
   ]
  },
  {
   "cell_type": "markdown",
   "metadata": {
    "slideshow": {
     "slide_type": "fragment"
    }
   },
   "source": [
    "A two-dimensional array from two one-dimensional Python lists:"
   ]
  },
  {
   "cell_type": "code",
   "execution_count": 23,
   "metadata": {},
   "outputs": [
    {
     "data": {
      "text/plain": [
       "array([[ 0. ,  0.5,  1. ],\n",
       "       [-6.1, -2. ,  1.2]])"
      ]
     },
     "execution_count": 23,
     "metadata": {},
     "output_type": "execute_result"
    }
   ],
   "source": [
    "x = [0, 0.5, 1]\n",
    "y = [-6.1, -2, 1.2]  # Python lists\n",
    "np.array([x, y])        # form array with x and y as rows"
   ]
  },
  {
   "cell_type": "markdown",
   "metadata": {
    "slideshow": {
     "slide_type": "fragment"
    }
   },
   "source": [
    "Numpy allows up to 32 dimensions. You can retrieve the shape of an array with"
   ]
  },
  {
   "cell_type": "code",
   "execution_count": 24,
   "metadata": {
    "slideshow": {
     "slide_type": "-"
    }
   },
   "outputs": [],
   "source": [
    "a = np.zeros((2, 3, 3))\n",
    " "
   ]
  },
  {
   "cell_type": "markdown",
   "metadata": {
    "slideshow": {
     "slide_type": "slide"
    }
   },
   "source": [
    "## Changing array dimensions"
   ]
  },
  {
   "cell_type": "markdown",
   "metadata": {},
   "source": [
    "Use the `shape` attribute to change the shape of the array *without copying* data:"
   ]
  },
  {
   "cell_type": "code",
   "execution_count": 25,
   "metadata": {},
   "outputs": [],
   "source": [
    "a = np.array([0, 1.2, 4, -9.1, 5, 2])"
   ]
  },
  {
   "cell_type": "code",
   "execution_count": 26,
   "metadata": {},
   "outputs": [
    {
     "name": "stdout",
     "output_type": "stream",
     "text": [
      "[[ 0.   1.2  4. ]\n",
      " [-9.1  5.   2. ]]\n"
     ]
    }
   ],
   "source": [
    "a.shape = (2, 3)       # turn a into a 2x3 matrix\n",
    "print(a)"
   ]
  },
  {
   "cell_type": "markdown",
   "metadata": {
    "slideshow": {
     "slide_type": "fragment"
    }
   },
   "source": [
    "The reshaped array points to the same data vector, i.e. no data is copied:"
   ]
  },
  {
   "cell_type": "code",
   "execution_count": 27,
   "metadata": {},
   "outputs": [
    {
     "name": "stdout",
     "output_type": "stream",
     "text": [
      "[-10.    1.2   4.   -9.1   5.    2. ]\n"
     ]
    }
   ],
   "source": [
    "a[0,0] = -10\n",
    "a.shape = (a.size,)   # turn a into a 1D - vector again\n",
    "print(a)"
   ]
  },
  {
   "cell_type": "markdown",
   "metadata": {
    "slideshow": {
     "slide_type": "fragment"
    }
   },
   "source": [
    "The `reshape` function has (nearly) same effect as setting a.shape:"
   ]
  },
  {
   "cell_type": "code",
   "execution_count": 28,
   "metadata": {},
   "outputs": [
    {
     "data": {
      "text/plain": [
       "array([[-10. ,   1.2,   4. ],\n",
       "       [ -9.1,   5. ,   2. ]])"
      ]
     },
     "execution_count": 28,
     "metadata": {},
     "output_type": "execute_result"
    }
   ],
   "source": [
    "a.reshape(2,3)    "
   ]
  },
  {
   "cell_type": "markdown",
   "metadata": {
    "slideshow": {
     "slide_type": "subslide"
    }
   },
   "source": [
    "## NumPy data ordering\n",
    "\n",
    "Numpy allows to store array in *C* or *FORTRAN* ordering:\n",
    "\n",
    "<img src=\"array_ordering.svg\">\n",
    "**Note**: For one-dimensional arrays, the orders are equivalent."
   ]
  },
  {
   "cell_type": "markdown",
   "metadata": {
    "slideshow": {
     "slide_type": "fragment"
    }
   },
   "source": [
    "The order can be chosen with the `order` flag:"
   ]
  },
  {
   "cell_type": "code",
   "execution_count": 29,
   "metadata": {},
   "outputs": [
    {
     "data": {
      "text/plain": [
       "True"
      ]
     },
     "execution_count": 29,
     "metadata": {},
     "output_type": "execute_result"
    }
   ],
   "source": [
    "a = np.asarray([[1, 2], [3, 4]], order='F')  # Fortran order\n",
    "a.flags.f_contiguous                         # Check if Fortran ordering is used"
   ]
  },
  {
   "cell_type": "markdown",
   "metadata": {
    "slideshow": {
     "slide_type": "subslide"
    }
   },
   "source": [
    "## NumPy data ordering (2)"
   ]
  },
  {
   "cell_type": "markdown",
   "metadata": {
    "slideshow": {
     "slide_type": "-"
    }
   },
   "source": [
    "Numpy automatically converts the ordering when necessary:"
   ]
  },
  {
   "cell_type": "code",
   "execution_count": 30,
   "metadata": {},
   "outputs": [
    {
     "name": "stdout",
     "output_type": "stream",
     "text": [
      "[[2 4]\n",
      " [6 8]]\n"
     ]
    }
   ],
   "source": [
    "A = np.array([[1, 2], [3, 4]], order=\"C\")\n",
    "B = np.array([[1, 2], [3, 4]], order=\"F\")\n",
    "print(A+B)"
   ]
  },
  {
   "cell_type": "markdown",
   "metadata": {
    "slideshow": {
     "slide_type": "fragment"
    }
   },
   "source": [
    "Transposing a matrix is perfomed by swapping the ordering (without data copying):"
   ]
  },
  {
   "cell_type": "code",
   "execution_count": 31,
   "metadata": {},
   "outputs": [
    {
     "data": {
      "text/plain": [
       "True"
      ]
     },
     "execution_count": 31,
     "metadata": {},
     "output_type": "execute_result"
    }
   ],
   "source": [
    "A.transpose().flags.f_contiguous   "
   ]
  },
  {
   "cell_type": "markdown",
   "metadata": {
    "slideshow": {
     "slide_type": "slide"
    }
   },
   "source": [
    "# Array indexing"
   ]
  },
  {
   "cell_type": "markdown",
   "metadata": {
    "slideshow": {
     "slide_type": "subslide"
    }
   },
   "source": [
    "## Basic indexing\n",
    "\n",
    "The indicing syntax that we are know from list's also work for array's."
   ]
  },
  {
   "cell_type": "markdown",
   "metadata": {
    "slideshow": {
     "slide_type": "subslide"
    }
   },
   "source": [
    "### Getting values\n",
    "Slicing:\n",
    "```python\n",
    "a[1:4]           # Get 2nd to 4th element\n",
    "```\n",
    "Fancy indexing:\n",
    "```python\n",
    "a[[0, 2, 3]]     # Get entries 0, 2 and 3\n",
    "```\n",
    "**Important**: Slicing returns a *view* to the original array, i.e. no data is copied. Fancy indexing always returns a copy of the array."
   ]
  },
  {
   "cell_type": "markdown",
   "metadata": {
    "slideshow": {
     "slide_type": "subslide"
    }
   },
   "source": [
    "### Setting values\n",
    "```python\n",
    "a[2:4] = -1      # set a[2] and a[3] equal to -1\n",
    "a[-1]  = a[0]    # set last equal to first element\n",
    "a[:]   = 0       # set all elements of a equal to 0\n",
    "```"
   ]
  },
  {
   "cell_type": "markdown",
   "metadata": {
    "slideshow": {
     "slide_type": "subslide"
    }
   },
   "source": [
    "## Multi-dimensional indexing\n",
    "\n",
    "Multi-dimensional indexing has the same syntax as with list's:\n",
    "```python\n",
    "a = ones([2, 3]) # create a 2x3 matrix \n",
    "                 # (two rows, three columns)\n",
    "\n",
    "a[1,2] = 10      # set element (1,2)\n",
    "a[1][2] = 10     # equivalent syntax (slower)\n",
    "a[:,2]           # get third column\n",
    "a[1,:]           # get second row\n",
    "a[:,:] = 0       # set all elements of a equal to 0\n",
    "```"
   ]
  },
  {
   "cell_type": "markdown",
   "metadata": {
    "slideshow": {
     "slide_type": "subslide"
    }
   },
   "source": [
    "## Example: extracting sub-matrices with slicing"
   ]
  },
  {
   "cell_type": "markdown",
   "metadata": {},
   "source": [
    "Given this matrix:"
   ]
  },
  {
   "cell_type": "code",
   "execution_count": 32,
   "metadata": {},
   "outputs": [
    {
     "name": "stdout",
     "output_type": "stream",
     "text": [
      "[[ 0.  1.  2.  3.  4.  5.]\n",
      " [ 6.  7.  8.  9. 10. 11.]\n",
      " [12. 13. 14. 15. 16. 17.]\n",
      " [18. 19. 20. 21. 22. 23.]\n",
      " [24. 25. 26. 27. 28. 29.]]\n"
     ]
    }
   ],
   "source": [
    "a = np.linspace(0, 29, 30).reshape(5, 6)\n",
    "print(a)"
   ]
  },
  {
   "cell_type": "markdown",
   "metadata": {
    "slideshow": {
     "slide_type": "fragment"
    }
   },
   "source": [
    "we can use slicing to get a *view* of a subset of this matrix.\n",
    "For example to get the submatrix consisting of row 2 and 3 and every second column, we could use:"
   ]
  },
  {
   "cell_type": "code",
   "execution_count": 33,
   "metadata": {},
   "outputs": [
    {
     "data": {
      "text/plain": [
       "array([[ 0.,  1.,  2.,  3.,  4.,  5.],\n",
       "       [ 0.,  7.,  0.,  9.,  0., 11.],\n",
       "       [ 0., 13.,  0., 15.,  0., 17.],\n",
       "       [18., 19., 20., 21., 22., 23.],\n",
       "       [24., 25., 26., 27., 28., 29.]])"
      ]
     },
     "execution_count": 33,
     "metadata": {},
     "output_type": "execute_result"
    }
   ],
   "source": [
    "a[1:3,::2] = 0  # a[i,j] for i=1,2 and j=0,2,4\n",
    "a"
   ]
  },
  {
   "cell_type": "markdown",
   "metadata": {
    "slideshow": {
     "slide_type": "fragment"
    }
   },
   "source": [
    "To get the submatrix consisting of every 3rd row, and every second column starting from the third column, we would use:"
   ]
  },
  {
   "cell_type": "code",
   "execution_count": 34,
   "metadata": {},
   "outputs": [
    {
     "data": {
      "text/plain": [
       "array([[ 2.,  4.],\n",
       "       [20., 22.]])"
      ]
     },
     "execution_count": 34,
     "metadata": {},
     "output_type": "execute_result"
    }
   ],
   "source": [
    "a[::3,2::2]   # a[i,j] for i=0,3 and j=2,4"
   ]
  },
  {
   "cell_type": "markdown",
   "metadata": {
    "slideshow": {
     "slide_type": "subslide"
    }
   },
   "source": [
    "## Slices refer the array data\n",
    "\n",
    "Assigning to a sliced array will change the original array:"
   ]
  },
  {
   "cell_type": "code",
   "execution_count": 35,
   "metadata": {},
   "outputs": [
    {
     "name": "stdout",
     "output_type": "stream",
     "text": [
      "[[1.         1.        ]\n",
      " [1.         1.        ]\n",
      " [3.14159265 1.        ]]\n"
     ]
    }
   ],
   "source": [
    "a = np.ones([3, 2])\n",
    "b = a[2,:]         # get a view onto the 3rd row\n",
    "b[0] = np.pi       # assigning to b is reflected in a! \n",
    "print(a)       "
   ]
  },
  {
   "cell_type": "markdown",
   "metadata": {
    "slideshow": {
     "slide_type": "fragment"
    }
   },
   "source": [
    "To avoid referencing via slices (if needed) use copy:\n",
    "```python\n",
    "b = a[2,:].copy()  # b has its own vector structure\n",
    "```"
   ]
  },
  {
   "cell_type": "markdown",
   "metadata": {
    "slideshow": {
     "slide_type": "fragment"
    }
   },
   "source": [
    "**Note**: This behaviour is different to Python `lists`, where `a[:]` makes always a copy"
   ]
  },
  {
   "cell_type": "markdown",
   "metadata": {
    "slideshow": {
     "slide_type": "slide"
    }
   },
   "source": [
    "# Loops\n"
   ]
  },
  {
   "cell_type": "markdown",
   "metadata": {
    "slideshow": {
     "slide_type": "subslide"
    }
   },
   "source": [
    "## Loops over arrays using indices\n",
    "\n",
    "If we know the dimension of the array, we can use a nested loop to iterate over all array elements:\n",
    "\n",
    "```python\n",
    "for i in range(a.shape[0]):\n",
    "    for j in range(a.shape[1]):\n",
    "        a[i,j] = (i+1)*(j+1)*(j+2)\n",
    "        print('a[%d,%d]=%g ' % (i,j,a[i,j]),)\n",
    "    print()  # empty line after each row\n",
    "```"
   ]
  },
  {
   "cell_type": "markdown",
   "metadata": {
    "slideshow": {
     "slide_type": "fragment"
    }
   },
   "source": [
    "* Is there a more *Pythonic* way?\n",
    "* What if we do know the dimension of the array?"
   ]
  },
  {
   "cell_type": "markdown",
   "metadata": {
    "slideshow": {
     "slide_type": "slide"
    }
   },
   "source": [
    "## Better: Use standard Python loops"
   ]
  },
  {
   "cell_type": "markdown",
   "metadata": {
    "slideshow": {
     "slide_type": "-"
    }
   },
   "source": [
    "A standard for loop iterates over the first index. "
   ]
  },
  {
   "cell_type": "markdown",
   "metadata": {
    "slideshow": {
     "slide_type": "fragment"
    }
   },
   "source": [
    "**Example:** Looping over each element in a matrix:\n",
    "```python\n",
    "for row in a:\n",
    "    for element in row:\n",
    "         my_func(element)\n",
    "```"
   ]
  },
  {
   "cell_type": "markdown",
   "metadata": {
    "slideshow": {
     "slide_type": "subslide"
    }
   },
   "source": [
    "## For unknown dimensions loop over the flattened array"
   ]
  },
  {
   "cell_type": "markdown",
   "metadata": {},
   "source": [
    "View array as one-dimensional and iterate over all elements:\n",
    "```python\n",
    "for element in a.ravel():\n",
    "    my_func(element)\n",
    "```\n",
    "ravel() returns a *flattened array*, (1D version). Might return a copy if necessary. "
   ]
  },
  {
   "cell_type": "markdown",
   "metadata": {
    "slideshow": {
     "slide_type": "fragment"
    }
   },
   "source": [
    "**Advice**: Use `ravel()` only when reading elements, for assigning it is better to use `shape` or `reshape`."
   ]
  },
  {
   "cell_type": "markdown",
   "metadata": {
    "slideshow": {
     "slide_type": "subslide"
    }
   },
   "source": [
    "## Index loops for arrays with unknown dimension"
   ]
  },
  {
   "cell_type": "markdown",
   "metadata": {
    "slideshow": {
     "slide_type": "-"
    }
   },
   "source": [
    "Looping with access to the indices, can be done with `numpy.ndenumerate` (similar to `enumerate` from lists):\n",
    "```python\n",
    "for index, value in np.ndenumerate(a):\n",
    "     print(index, value)\n",
    "```\n",
    "```bash\n",
    "(0, 0) 2.0\n",
    "(0, 1) 6.0\n",
    "(0, 2) 12.0\n",
    "(0, 3) 20.0\n",
    "...\n",
    "```"
   ]
  },
  {
   "cell_type": "markdown",
   "metadata": {
    "slideshow": {
     "slide_type": "slide"
    }
   },
   "source": [
    "# Array computations"
   ]
  },
  {
   "cell_type": "markdown",
   "metadata": {
    "slideshow": {
     "slide_type": "subslide"
    }
   },
   "source": [
    "## Arithmetic operations\n",
    "\n",
    "Arithmetic operations can be used with arrays:"
   ]
  },
  {
   "cell_type": "code",
   "execution_count": 36,
   "metadata": {},
   "outputs": [],
   "source": [
    "b = 3*a - 1    # a is array, b becomes array"
   ]
  },
  {
   "cell_type": "markdown",
   "metadata": {},
   "source": [
    "1. compute `t1 = 3*a`\n",
    "2. compute `t2= t1 - 1`\n",
    "3. set `b = t2`"
   ]
  },
  {
   "cell_type": "markdown",
   "metadata": {
    "slideshow": {
     "slide_type": "subslide"
    }
   },
   "source": [
    "## Array operations are much faster than element-wise operations"
   ]
  },
  {
   "cell_type": "markdown",
   "metadata": {},
   "source": [
    "Let's compare the array versus element-wise operation on a 10 million large array."
   ]
  },
  {
   "cell_type": "markdown",
   "metadata": {
    "slideshow": {
     "slide_type": "fragment"
    }
   },
   "source": [
    "#### Element wise implementation"
   ]
  },
  {
   "cell_type": "code",
   "execution_count": 37,
   "metadata": {},
   "outputs": [
    {
     "name": "stderr",
     "output_type": "stream",
     "text": [
      "/usr/lib/python3/dist-packages/ipykernel_launcher.py:3: DeprecationWarning: object of type <class 'float'> cannot be safely interpreted as an integer.\n",
      "  This is separate from the ipykernel package so we can avoid doing imports until\n",
      "/usr/lib/python3/dist-packages/ipykernel_launcher.py:5: DeprecationWarning: time.clock has been deprecated in Python 3.3 and will be removed from Python 3.8: use time.perf_counter or time.process_time instead\n",
      "  \"\"\"\n"
     ]
    },
    {
     "name": "stdout",
     "output_type": "stream",
     "text": [
      "5.732 sec\n"
     ]
    },
    {
     "name": "stderr",
     "output_type": "stream",
     "text": [
      "/usr/lib/python3/dist-packages/ipykernel_launcher.py:9: DeprecationWarning: time.clock has been deprecated in Python 3.3 and will be removed from Python 3.8: use time.perf_counter or time.process_time instead\n",
      "  if __name__ == '__main__':\n"
     ]
    }
   ],
   "source": [
    "import time  # module for measuring CPU time\n",
    "\n",
    "a = np.linspace(0, 1, 1e+07)  # create a large array\n",
    "\n",
    "t0 = time.clock()\n",
    "b = np.zeros(a.size)\n",
    "for i in range(a.size): \n",
    "    b[i] = 3*a[i] - 1\n",
    "t1 = time.clock()\n",
    "print('{:.3f} sec'.format(t1-t0))"
   ]
  },
  {
   "cell_type": "markdown",
   "metadata": {
    "slideshow": {
     "slide_type": "subslide"
    }
   },
   "source": [
    "#### Implementation with array operations"
   ]
  },
  {
   "cell_type": "code",
   "execution_count": 38,
   "metadata": {
    "slideshow": {
     "slide_type": "-"
    }
   },
   "outputs": [
    {
     "name": "stdout",
     "output_type": "stream",
     "text": [
      "0.031 sec\n"
     ]
    },
    {
     "name": "stderr",
     "output_type": "stream",
     "text": [
      "/usr/lib/python3/dist-packages/ipykernel_launcher.py:1: DeprecationWarning: time.clock has been deprecated in Python 3.3 and will be removed from Python 3.8: use time.perf_counter or time.process_time instead\n",
      "  \"\"\"Entry point for launching an IPython kernel.\n",
      "/usr/lib/python3/dist-packages/ipykernel_launcher.py:3: DeprecationWarning: time.clock has been deprecated in Python 3.3 and will be removed from Python 3.8: use time.perf_counter or time.process_time instead\n",
      "  This is separate from the ipykernel package so we can avoid doing imports until\n"
     ]
    }
   ],
   "source": [
    "t2 = time.clock()\n",
    "b = 3*a -1\n",
    "t3 = time.clock() \n",
    "print('{:.3f} sec'.format(t3-t2))"
   ]
  },
  {
   "cell_type": "markdown",
   "metadata": {
    "slideshow": {
     "slide_type": "fragment"
    }
   },
   "source": [
    "or in other words, a speed-up of:"
   ]
  },
  {
   "cell_type": "code",
   "execution_count": 39,
   "metadata": {},
   "outputs": [
    {
     "name": "stdout",
     "output_type": "stream",
     "text": [
      "183.0310055241586\n"
     ]
    }
   ],
   "source": [
    "print((t1-t0)/(t3-t2))"
   ]
  },
  {
   "cell_type": "markdown",
   "metadata": {
    "slideshow": {
     "slide_type": "slide"
    }
   },
   "source": [
    "## Numpy standard math functions can take array arguments"
   ]
  },
  {
   "cell_type": "markdown",
   "metadata": {},
   "source": [
    "```python\n",
    "# let b be an array\n",
    "b = np.linspace(0, 100, 99)\n",
    "\n",
    "c = np.sin(b)\n",
    "c = np.arcsin(c)\n",
    "c = np.sinh(b)\n",
    "# same functions for the cos and tan families\n",
    "\n",
    "c = b**2.5  # power function\n",
    "c = np.log(b)\n",
    "c = np.exp(b)\n",
    "c = np.sqrt(b)\n",
    "```"
   ]
  },
  {
   "cell_type": "markdown",
   "metadata": {
    "slideshow": {
     "slide_type": "fragment"
    }
   },
   "source": [
    "**Note**: The maths function from the math module (from math import sin, ...) also work on arrays, but are slower that the numpy implementations!"
   ]
  },
  {
   "cell_type": "markdown",
   "metadata": {},
   "source": [
    "# Vectorization user-defined functions"
   ]
  },
  {
   "cell_type": "markdown",
   "metadata": {},
   "source": [
    "Imagine you have implemented your own function and would like to apply it to all elements in an array:"
   ]
  },
  {
   "cell_type": "code",
   "execution_count": 40,
   "metadata": {},
   "outputs": [],
   "source": [
    "a = np.linspace(-1, 1, 11)\n",
    "\n",
    "def myfunc(x):\n",
    "    print(\"x = \", x)\n",
    "    if x > 0:\n",
    "        return 0\n",
    "    else:\n",
    "        return x**2\n",
    "\n",
    "# myfunc(a)  # ?? "
   ]
  },
  {
   "cell_type": "markdown",
   "metadata": {
    "slideshow": {
     "slide_type": "fragment"
    }
   },
   "source": [
    "**Problem**: myfunc operates on the entire array instead of elementwise operations."
   ]
  },
  {
   "cell_type": "markdown",
   "metadata": {
    "slideshow": {
     "slide_type": "fragment"
    }
   },
   "source": [
    "**Potential solution**: Loop over each array element and call myfunc - **this is slow**!"
   ]
  },
  {
   "cell_type": "markdown",
   "metadata": {
    "collapsed": true,
    "slideshow": {
     "slide_type": "fragment"
    }
   },
   "source": [
    "**Better solution**: Convert myfunc to a *vectorized* function: "
   ]
  },
  {
   "cell_type": "code",
   "execution_count": 41,
   "metadata": {},
   "outputs": [
    {
     "name": "stdout",
     "output_type": "stream",
     "text": [
      "x =  -1.0\n",
      "x =  -1.0\n",
      "x =  -0.8\n",
      "x =  -0.6\n",
      "x =  -0.3999999999999999\n",
      "x =  -0.19999999999999996\n",
      "x =  0.0\n",
      "x =  0.20000000000000018\n",
      "x =  0.40000000000000013\n",
      "x =  0.6000000000000001\n",
      "x =  0.8\n",
      "x =  1.0\n"
     ]
    }
   ],
   "source": [
    "vfunc = np.vectorize(myfunc)\n",
    "b = vfunc(a)          "
   ]
  },
  {
   "cell_type": "markdown",
   "metadata": {
    "slideshow": {
     "slide_type": "slide"
    }
   },
   "source": [
    "## Other useful array operations"
   ]
  },
  {
   "cell_type": "markdown",
   "metadata": {},
   "source": [
    "```python\n",
    "# a is an array\n",
    "a.clip(min=3, max=12)  # clip elements (elementwise)\n",
    "a.mean(); np.mean(a)      # mean value\n",
    "a.var();  np.var(a)       # variance\n",
    "a.std();  np.std(a)       # standard deviation\n",
    "np.median(a)\n",
    "np.cov(x,y)               # covariance\n",
    "np.trapz(a)               # Trapezoidal integration\n",
    "np.diff(a)                # finite differences (da/dx)\n",
    "\n",
    "# more Matlab-like functions:\n",
    "corrcoef, cumprod, diag, linalg.eig, eye, fliplr, flipud, max, min,\n",
    "prod, ptp, rot90, squeeze, sum, linalg.svd, tri, tril, triu\n",
    "```"
   ]
  },
  {
   "cell_type": "markdown",
   "metadata": {
    "slideshow": {
     "slide_type": "slide"
    }
   },
   "source": [
    "# Plotting with matplotlib"
   ]
  },
  {
   "cell_type": "markdown",
   "metadata": {},
   "source": [
    "Matplotlib is the most popular package in SciPy for creating publication quality figures. The easiest way to use matplotlib is to import the submodule \"pyplot\". This is heavily inspired by Matlab, and should therefore be easy to get used to if you already have experience with that."
   ]
  },
  {
   "cell_type": "markdown",
   "metadata": {
    "slideshow": {
     "slide_type": "subslide"
    }
   },
   "source": [
    "## Learning resources\n",
    "\n",
    "* [Matplotlib tutorial in the scipy lectures](http://www.scipy-lectures.org/intro/matplotlib/matplotlib.html)\n",
    "* [Matplotlib tutorial](http://www.labri.fr/perso/nrougier/teaching/matplotlib) by Nicolas P. Rougier\n",
    "* [Matplotlib Gallery](http://matplotlib.org/gallery.html)\n",
    "<center>![matplotlib_gallery](matplotlib_gallery.png \"Python\")Matplotlib Gallery</center>"
   ]
  },
  {
   "cell_type": "markdown",
   "metadata": {
    "slideshow": {
     "slide_type": "subslide"
    }
   },
   "source": [
    "# A simple plot\n"
   ]
  },
  {
   "cell_type": "markdown",
   "metadata": {
    "slideshow": {
     "slide_type": "-"
    }
   },
   "source": [
    "Plotting one, or multiple sets of data is done with:"
   ]
  },
  {
   "cell_type": "code",
   "execution_count": 42,
   "metadata": {},
   "outputs": [
    {
     "data": {
      "image/png": "[encoded data removed]",
      "text/plain": [
       "<Figure size 432x288 with 1 Axes>"
      ]
     },
     "metadata": {
      "needs_background": "light"
     },
     "output_type": "display_data"
    }
   ],
   "source": [
    "import matplotlib.pyplot as plt\n",
    "import numpy as np\n",
    "\n",
    "X = np.linspace(-np.pi, np.pi, 5, endpoint=True)\n",
    "Y = np.cos(X)\n",
    "Z = np.exp(X)\n",
    "\n",
    "plt.plot(X, Y)\n",
    "plt.plot(X, Z)\n",
    "\n",
    "plt.show()"
   ]
  },
  {
   "cell_type": "markdown",
   "metadata": {
    "slideshow": {
     "slide_type": "subslide"
    }
   },
   "source": [
    "# Adjusting your plot\n"
   ]
  },
  {
   "cell_type": "markdown",
   "metadata": {},
   "source": [
    "Typical adjustments:\n",
    "* Change line color, thickness, type\n",
    "* Change axis settings\n",
    "* Add labels, legends\n",
    "* ..."
   ]
  },
  {
   "cell_type": "code",
   "execution_count": 43,
   "metadata": {},
   "outputs": [
    {
     "data": {
      "image/png": "[encoded data removed]",
      "text/plain": [
       "<Figure size 432x288 with 1 Axes>"
      ]
     },
     "metadata": {
      "needs_background": "light"
     },
     "output_type": "display_data"
    },
    {
     "data": {
      "text/plain": [
       "<Figure size 432x288 with 0 Axes>"
      ]
     },
     "metadata": {},
     "output_type": "display_data"
    }
   ],
   "source": [
    "plt.plot(X, Y, label=\"cos\", color=\"blue\", linewidth=2.5, linestyle=\"-\")    # Add labels for the legend\n",
    "plt.plot(X, Z, label=\"exp\", color=\"red\", linewidth=2.5, linestyle=\"--\")\n",
    "\n",
    "plt.xlabel('x')   # Add labels for the axis\n",
    "plt.ylabel('function value')   # Add labels for the axis\n",
    "\n",
    "plt.legend(loc=2)\n",
    "plt.show()\n",
    "plt.savefig(\"file.pdf\")"
   ]
  },
  {
   "cell_type": "markdown",
   "metadata": {
    "slideshow": {
     "slide_type": "subslide"
    }
   },
   "source": [
    "# Other types of plots"
   ]
  },
  {
   "cell_type": "markdown",
   "metadata": {},
   "source": [
    "|Function name|Plot type|\n",
    "|--|-------------------------------|\n",
    "|*pyplot.scatter* |Scatter plot|\n",
    "|*pyplot.bar* |Bar plot|\n",
    "|*pyplot.counturf* |Contour plot|\n",
    "|*pyplot.imshow* |Showing images (on grids)|\n",
    "|*pyplot.pie* | Pie charts |\n",
    "|*pyplot.plot_surface* | 3D charts |"
   ]
  },
  {
   "cell_type": "markdown",
   "metadata": {
    "slideshow": {
     "slide_type": "subslide"
    }
   },
   "source": [
    "## Example of a scatter plot"
   ]
  },
  {
   "cell_type": "code",
   "execution_count": 44,
   "metadata": {
    "slideshow": {
     "slide_type": "-"
    }
   },
   "outputs": [
    {
     "data": {
      "image/png": "[encoded data removed]",
      "text/plain": [
       "<Figure size 432x288 with 1 Axes>"
      ]
     },
     "metadata": {
      "needs_background": "light"
     },
     "output_type": "display_data"
    }
   ],
   "source": [
    "n = 1024\n",
    "X = np.random.normal(0, 1, n)\n",
    "Y = np.random.normal(0, 1, n)\n",
    "T = np.arctan2(Y, X)\n",
    "\n",
    "plt.axes([0.025, 0.025, 0.95, 0.95])\n",
    "plt.scatter(X, Y, s=75, c=T, alpha=.5)\n",
    "\n",
    "\n",
    "plt.show()"
   ]
  },
  {
   "cell_type": "code",
   "execution_count": null,
   "metadata": {},
   "outputs": [],
   "source": []
  },
  {
   "cell_type": "markdown",
   "metadata": {
    "slideshow": {
     "slide_type": "subslide"
    }
   },
   "source": [
    "## Plotting a function of x\n",
    "To start trying out plotting, let's first define a function to plot:\n",
    "$$ f(x) = (x - 3) (x - 5) (x - 7) + 85 $$"
   ]
  },
  {
   "cell_type": "code",
   "execution_count": 45,
   "metadata": {},
   "outputs": [],
   "source": [
    "def func(x):\n",
    "    return (x - 3) * (x - 5) * (x - 7) + 85"
   ]
  },
  {
   "cell_type": "markdown",
   "metadata": {
    "slideshow": {
     "slide_type": "fragment"
    }
   },
   "source": [
    "Next, we plot this function on $  \\ x \\in [0, 10] $"
   ]
  },
  {
   "cell_type": "code",
   "execution_count": 46,
   "metadata": {},
   "outputs": [],
   "source": [
    "import numpy as np\n",
    "\n",
    "# Calculate plot points:\n",
    "x = np.linspace(0, 10)\n",
    "np.linspace?"
   ]
  },
  {
   "cell_type": "code",
   "execution_count": 47,
   "metadata": {},
   "outputs": [
    {
     "data": {
      "text/plain": [
       "[<matplotlib.lines.Line2D at 0x7f2744ad9780>]"
      ]
     },
     "execution_count": 47,
     "metadata": {},
     "output_type": "execute_result"
    },
    {
     "data": {
      "image/png": "[encoded data removed]",
      "text/plain": [
       "<Figure size 432x288 with 1 Axes>"
      ]
     },
     "metadata": {
      "needs_background": "light"
     },
     "output_type": "display_data"
    }
   ],
   "source": [
    "y = func(x)\n",
    "\n",
    "# Plot graph defined by x/y points\n",
    "plt.plot(x, y)"
   ]
  },
  {
   "cell_type": "markdown",
   "metadata": {
    "slideshow": {
     "slide_type": "fragment"
    }
   },
   "source": [
    "To make it look like we want, we change the line to be red, with a linewidth of two, and y-axis cut-off at 0:"
   ]
  },
  {
   "cell_type": "code",
   "execution_count": 48,
   "metadata": {},
   "outputs": [
    {
     "name": "stderr",
     "output_type": "stream",
     "text": [
      "/usr/lib/python3/dist-packages/matplotlib/axes/_base.py:3604: MatplotlibDeprecationWarning: \n",
      "The `ymin` argument was deprecated in Matplotlib 3.0 and will be removed in 3.2. Use `bottom` instead.\n",
      "  alternative='`bottom`', obj_type='argument')\n"
     ]
    },
    {
     "data": {
      "text/plain": [
       "(0, 200.5)"
      ]
     },
     "execution_count": 48,
     "metadata": {},
     "output_type": "execute_result"
    },
    {
     "data": {
      "image/png": "[encoded data removed]",
      "text/plain": [
       "<Figure size 432x288 with 1 Axes>"
      ]
     },
     "metadata": {
      "needs_background": "light"
     },
     "output_type": "display_data"
    }
   ],
   "source": [
    "plt.plot(x, y, 'r', linewidth=2)\n",
    "plt.ylim(ymin=0)"
   ]
  },
  {
   "cell_type": "markdown",
   "metadata": {
    "slideshow": {
     "slide_type": "skip"
    }
   },
   "source": [
    "A more complex showcase to play around with (taken from one of several matplotlib examples (http://matplotlib.org/gallery.html):"
   ]
  },
  {
   "cell_type": "code",
   "execution_count": 49,
   "metadata": {
    "slideshow": {
     "slide_type": "skip"
    }
   },
   "outputs": [
    {
     "name": "stderr",
     "output_type": "stream",
     "text": [
      "/usr/lib/python3/dist-packages/matplotlib/axes/_base.py:3604: MatplotlibDeprecationWarning: \n",
      "The `ymin` argument was deprecated in Matplotlib 3.0 and will be removed in 3.2. Use `bottom` instead.\n",
      "  alternative='`bottom`', obj_type='argument')\n"
     ]
    },
    {
     "data": {
      "text/plain": [
       "[]"
      ]
     },
     "execution_count": 49,
     "metadata": {},
     "output_type": "execute_result"
    },
    {
     "data": {
      "image/png": "[encoded data removed]",
      "text/plain": [
       "<Figure size 432x288 with 1 Axes>"
      ]
     },
     "metadata": {
      "needs_background": "light"
     },
     "output_type": "display_data"
    }
   ],
   "source": [
    "from matplotlib.patches import Polygon\n",
    "\n",
    "a, b = 2, 9  # integral limits\n",
    "\n",
    "fig, ax = plt.subplots()\n",
    "plt.plot(x, y, 'r', linewidth=2)\n",
    "plt.ylim(ymin=0)\n",
    "\n",
    "# Make the shaded region\n",
    "ix = np.linspace(a, b)\n",
    "iy = func(ix)\n",
    "verts = [(a, 0)] + list(zip(ix, iy)) + [(b, 0)]\n",
    "poly = Polygon(verts, facecolor='0.9', edgecolor='0.5')\n",
    "ax.add_patch(poly)\n",
    "\n",
    "plt.text(0.5 * (a + b), 30, r\"$\\int_a^b f(x)\\mathrm{d}x$\",\n",
    "         horizontalalignment='center', fontsize=20)\n",
    "\n",
    "plt.figtext(0.9, 0.05, '$x$')\n",
    "plt.figtext(0.1, 0.9, '$y$')\n",
    "\n",
    "ax.spines['right'].set_visible(False)\n",
    "ax.spines['top'].set_visible(False)\n",
    "ax.xaxis.set_ticks_position('bottom')\n",
    "\n",
    "ax.set_xticks((a, b))\n",
    "ax.set_xticklabels(('$a$', '$b$'))\n",
    "ax.set_yticks([])"
   ]
  },
  {
   "cell_type": "markdown",
   "metadata": {
    "slideshow": {
     "slide_type": "subslide"
    }
   },
   "source": [
    "## Combining two plots"
   ]
  },
  {
   "cell_type": "code",
   "execution_count": 50,
   "metadata": {},
   "outputs": [
    {
     "data": {
      "text/plain": [
       "<matplotlib.legend.Legend at 0x7f27449b2e10>"
      ]
     },
     "execution_count": 50,
     "metadata": {},
     "output_type": "execute_result"
    },
    {
     "data": {
      "image/png": "[encoded data removed]",
      "text/plain": [
       "<Figure size 432x288 with 1 Axes>"
      ]
     },
     "metadata": {
      "needs_background": "light"
     },
     "output_type": "display_data"
    }
   ],
   "source": [
    "A = [1.0, 1.5, 2.0, 2.5, 3.0]\n",
    "B = [4.0, 2.0, 1.0, 0.5, 0.25]\n",
    "\n",
    "plt.plot(A, label=\"A\", color=\"blue\", linewidth=2.5, linestyle=\"-\")    # Add labels for the legend\n",
    "plt.plot(B, label=\"B\", color=\"red\", linewidth=2.5, linestyle=\"--\")\n",
    "\n",
    "plt.xlabel('x')   # Add labels for the axis\n",
    "plt.ylabel('function value')   # Add labels for the axis\n",
    "\n",
    "plt.legend(loc=2)"
   ]
  },
  {
   "cell_type": "markdown",
   "metadata": {
    "slideshow": {
     "slide_type": "subslide"
    }
   },
   "source": [
    "## A final tip: Prettify your plot with `seaborn`"
   ]
  },
  {
   "cell_type": "markdown",
   "metadata": {},
   "source": [
    "seaborn is a package for statistical data visualization. But it also sets nice(r) settings for matplotlib plots! \n",
    "\n",
    "Importing `seaborn` is sufficient to get the seaborn style plots:"
   ]
  },
  {
   "cell_type": "code",
   "execution_count": 51,
   "metadata": {
    "scrolled": true
   },
   "outputs": [
    {
     "data": {
      "image/png": "[encoded data removed]",
      "text/plain": [
       "<Figure size 432x288 with 1 Axes>"
      ]
     },
     "metadata": {
      "needs_background": "light"
     },
     "output_type": "display_data"
    }
   ],
   "source": [
    "from matplotlib import pyplot as plt\n",
    "import numpy as np\n",
    "import seaborn\n",
    "\n",
    "plt.plot(np.random.random(10))\n",
    "plt.plot(np.random.random(10))\n",
    "plt.ylabel('Random numbers')\n",
    "plt.show()"
   ]
  }
 ],
 "metadata": {
  "celltoolbar": "Slideshow",
  "kernelspec": {
   "display_name": "Python 3",
   "language": "python",
   "name": "python3"
  },
  "language_info": {
   "codemirror_mode": {
    "name": "ipython",
    "version": 3
   },
   "file_extension": ".py",
   "mimetype": "text/x-python",
   "name": "python",
   "nbconvert_exporter": "python",
   "pygments_lexer": "ipython3",
   "version": "3.7.3"
  },
  "livereveal": {
   "scroll": true,
   "start_slideshow_at": "selected",
   "theme": "serif"
  }
 },
 "nbformat": 4,
 "nbformat_minor": 1
}
