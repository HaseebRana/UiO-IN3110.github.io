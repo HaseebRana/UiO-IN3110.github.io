{
 "cells": [
  {
   "cell_type": "markdown",
   "metadata": {
    "slideshow": {
     "slide_type": "slide"
    }
   },
   "source": [
    "# Profiling\n",
    "### Finding bottlenecks in your Python program\n",
    "\n",
    "<img src=\"https://www.explainxkcd.com/wiki/images/e/e2/estimating_time.png\" style=\"width: 500px;\"/>\n"
   ]
  },
  {
   "cell_type": "markdown",
   "metadata": {
    "slideshow": {
     "slide_type": "subslide"
    }
   },
   "source": [
    "## Contents\n",
    "\n",
    "* Timing\n",
    "* Profiling\n",
    "* Line-by-line profiling"
   ]
  },
  {
   "cell_type": "markdown",
   "metadata": {
    "slideshow": {
     "slide_type": "subslide"
    }
   },
   "source": [
    "**\"First make it work. Then make it right. Then make it fast.\"**\n",
    " \n",
    "-  Kent Beck"
   ]
  },
  {
   "cell_type": "markdown",
   "metadata": {
    "slideshow": {
     "slide_type": "fragment"
    }
   },
   "source": [
    "Prior to code optimization, hotspots and bottlenecks must be located. "
   ]
  },
  {
   "cell_type": "markdown",
   "metadata": {
    "slideshow": {
     "slide_type": "subslide"
    }
   },
   "source": [
    "## Profiling allows us to measure resources used by sections of the program. "
   ]
  },
  {
   "cell_type": "markdown",
   "metadata": {
    "slideshow": {
     "slide_type": "fragment"
    }
   },
   "source": [
    "Typical resources of interest are\n",
    "* Amount of CPU used\n",
    "* Amount of RAM used"
   ]
  },
  {
   "cell_type": "markdown",
   "metadata": {
    "slideshow": {
     "slide_type": "fragment"
    }
   },
   "source": [
    "But also other resources can be measured, such as:\n",
    "\n",
    "* Disk I/O\n",
    "* Network I/O\n",
    "* ..."
   ]
  },
  {
   "cell_type": "markdown",
   "metadata": {
    "slideshow": {
     "slide_type": "fragment"
    }
   },
   "source": [
    "Today, we only consider CPU profiling."
   ]
  },
  {
   "cell_type": "markdown",
   "metadata": {
    "slideshow": {
     "slide_type": "subslide"
    }
   },
   "source": [
    "## Profiling techniques\n",
    "\n",
    "Start simple, switch to more complex techniques if needed!"
   ]
  },
  {
   "cell_type": "markdown",
   "metadata": {
    "slideshow": {
     "slide_type": "fragment"
    }
   },
   "source": [
    "Techniques for measuring CPU time in increasing complexity:\n",
    "1. Manual timing\n",
    "2. The `timeit` module\n",
    "3. The `cprofile` module"
   ]
  },
  {
   "cell_type": "markdown",
   "metadata": {
    "slideshow": {
     "slide_type": "slide"
    }
   },
   "source": [
    "## Case study: filling a grid with point values\n",
    "\n",
    "* Consider a rectangular 2D grid\n",
    "\n",
    "\n",
    "\n",
    "<center> \n",
    "    <img src=\"pdf/grid_lattice.svg\" style=\"width: 200px;\"/>\n",
    "Grid lattice\n",
    "</center>\n",
    "\n",
    "* A NumPy array `a[i,j]` holds values at the grid points"
   ]
  },
  {
   "cell_type": "markdown",
   "metadata": {
    "slideshow": {
     "slide_type": "subslide"
    }
   },
   "source": [
    "# Implementation"
   ]
  },
  {
   "cell_type": "code",
   "execution_count": 16,
   "metadata": {},
   "outputs": [],
   "source": [
    "from numpy import *\n",
    "\n",
    "class Grid2D(object):\n",
    "    def __init__(self,\n",
    "                 xmin=0, xmax=1, dx=0.5,\n",
    "                 ymin=0, ymax=1, dy=0.5):\n",
    "        \n",
    "        self.xcoor = arange(xmin, xmax+dx, step=dx)\n",
    "        self.ycoor = arange(ymin, ymax+dy, step=dy)\n",
    "\n",
    "    def gridloop(self, f):\n",
    "        lx = size(self.xcoor)\n",
    "        ly = size(self.ycoor)\n",
    "        a = zeros((lx,ly))\n",
    "\n",
    "        for i in range(lx):\n",
    "            x = self.xcoor[i]\n",
    "            for j in range(ly):\n",
    "                y = self.ycoor[j]\n",
    "                a[i,j] = f(x, y)\n",
    "        return a"
   ]
  },
  {
   "cell_type": "markdown",
   "metadata": {
    "slideshow": {
     "slide_type": "subslide"
    }
   },
   "source": [
    "# Usage"
   ]
  },
  {
   "cell_type": "markdown",
   "metadata": {},
   "source": [
    "Create a new grid:"
   ]
  },
  {
   "cell_type": "code",
   "execution_count": 17,
   "metadata": {
    "slideshow": {
     "slide_type": "-"
    }
   },
   "outputs": [],
   "source": [
    "g = Grid2D(dx=0.001, dy=0.001)"
   ]
  },
  {
   "cell_type": "markdown",
   "metadata": {
    "slideshow": {
     "slide_type": "fragment"
    }
   },
   "source": [
    "Computing grid values:"
   ]
  },
  {
   "cell_type": "code",
   "execution_count": 19,
   "metadata": {
    "slideshow": {
     "slide_type": "fragment"
    }
   },
   "outputs": [
    {
     "name": "stdout",
     "output_type": "stream",
     "text": [
      "Computing values...\n",
      "done\n"
     ]
    }
   ],
   "source": [
    "import numpy\n",
    "\n",
    "def myfunc(x, y):\n",
    "    return numpy.sin(x*y) + y\n",
    "\n",
    "print(\"Computing values...\")\n",
    "a = g.gridloop(myfunc)\n",
    "print(\"done\")"
   ]
  },
  {
   "cell_type": "markdown",
   "metadata": {
    "slideshow": {
     "slide_type": "slide"
    }
   },
   "source": [
    "# Timing"
   ]
  },
  {
   "cell_type": "markdown",
   "metadata": {
    "slideshow": {
     "slide_type": "fragment"
    }
   },
   "source": [
    "Use `time.time()` to measure the time spend in a code section.\n",
    "  ```python\n",
    "  t0 = time.time()\n",
    "  # execute code here\n",
    "  t1 = time.time()\n",
    "  print(\"Runtime: {}\".format(t1-t0))\n",
    "  ```\n",
    "  "
   ]
  },
  {
   "cell_type": "markdown",
   "metadata": {
    "slideshow": {
     "slide_type": "fragment"
    }
   },
   "source": [
    "Timing guidelines:\n",
    "* Put simple statements in a loop.\n",
    "* Make sure to use a constant machine load.\n",
    "* Run the tests several times, choose the **smallest**. Why?"
   ]
  },
  {
   "cell_type": "markdown",
   "metadata": {
    "slideshow": {
     "slide_type": "fragment"
    }
   },
   "source": [
    "*Note*: \n",
    "* time.time() measures **wall clock time**. \n",
    "* time.clock() measures **CPU time**."
   ]
  },
  {
   "cell_type": "markdown",
   "metadata": {
    "slideshow": {
     "slide_type": "subslide"
    }
   },
   "source": [
    "## Timing of the case study"
   ]
  },
  {
   "cell_type": "markdown",
   "metadata": {},
   "source": [
    "The case study has two parts that could potentially be slow: \n",
    "1. The initialisation `Grid2D(dx=0.001, dy=0.001)`\n",
    "2. Calling the `g.gridloop(myfunc)` function."
   ]
  },
  {
   "cell_type": "markdown",
   "metadata": {
    "slideshow": {
     "slide_type": "fragment"
    }
   },
   "source": [
    "We time these two parts separately to figure out how much time is spend in each."
   ]
  },
  {
   "cell_type": "markdown",
   "metadata": {
    "slideshow": {
     "slide_type": "subslide"
    }
   },
   "source": [
    "### Timing the Grid2D initialisation"
   ]
  },
  {
   "cell_type": "code",
   "execution_count": 20,
   "metadata": {
    "slideshow": {
     "slide_type": "fragment"
    }
   },
   "outputs": [
    {
     "name": "stdout",
     "output_type": "stream",
     "text": [
      "Experiment 1, CPU time: 4.292e-05 s\n",
      "Experiment 2, CPU time: 0.0002937 s\n",
      "Experiment 3, CPU time: 2.789e-05 s\n",
      "Done\n"
     ]
    }
   ],
   "source": [
    "import time\n",
    "\n",
    "for i in range(1, 4):\n",
    "    t0 = time.time()\n",
    "    g = Grid2D(dx=0.001, dy=0.001)\n",
    "    t1 = time.time()\n",
    "    print(\"Experiment {}, CPU time: {:.4} s\".format(i, t1-t0))\n",
    "print(\"Done\")"
   ]
  },
  {
   "cell_type": "markdown",
   "metadata": {
    "slideshow": {
     "slide_type": "subslide"
    }
   },
   "source": [
    "### Timing the `gridloop` function"
   ]
  },
  {
   "cell_type": "code",
   "execution_count": 23,
   "metadata": {
    "slideshow": {
     "slide_type": "fragment"
    }
   },
   "outputs": [
    {
     "name": "stdout",
     "output_type": "stream",
     "text": [
      "1569401457.8328924\n"
     ]
    }
   ],
   "source": [
    "\n",
    "import time\n",
    "print(time.time())\n",
    "\n",
    "#for i in range(1, 4):\n",
    "#    t0 = time.time()\n",
    "#    g.gridloop(myfunc)\n",
    "#    t1 = time.time()\n",
    "#    print(\"Experiment {}. CPU time: {:.4} s\".format(i, t1-t0))\n",
    "#print(\"Done\")"
   ]
  },
  {
   "cell_type": "markdown",
   "metadata": {
    "slideshow": {
     "slide_type": "fragment"
    }
   },
   "source": [
    "$=>$ The gridloop function is causing the slow execution!"
   ]
  },
  {
   "cell_type": "markdown",
   "metadata": {
    "slideshow": {
     "slide_type": "subslide"
    }
   },
   "source": [
    "## The *timeit* module\n",
    "\n",
    "The `timeit` module provides an convenient way for measuring the CPU time of small code snippets."
   ]
  },
  {
   "cell_type": "markdown",
   "metadata": {
    "slideshow": {
     "slide_type": "fragment"
    }
   },
   "source": [
    "Usage:"
   ]
  },
  {
   "cell_type": "code",
   "execution_count": 24,
   "metadata": {},
   "outputs": [
    {
     "data": {
      "text/plain": [
       "0.06533873200169182"
      ]
     },
     "execution_count": 24,
     "metadata": {},
     "output_type": "execute_result"
    }
   ],
   "source": [
    "import timeit\n",
    "\n",
    "timeit.timeit(stmt=\"a+=1\", setup=\"a=0\")"
   ]
  },
  {
   "cell_type": "markdown",
   "metadata": {},
   "source": [
    "The code is automatically wrapped in a for loop. By default the command is executed 1,000,000 times. It returns the **accumulated** runtime."
   ]
  },
  {
   "cell_type": "markdown",
   "metadata": {
    "slideshow": {
     "slide_type": "fragment"
    }
   },
   "source": [
    "You can adjust the the number of executions:"
   ]
  },
  {
   "cell_type": "code",
   "execution_count": 7,
   "metadata": {},
   "outputs": [
    {
     "data": {
      "text/plain": [
       "0.000572180997551186"
      ]
     },
     "execution_count": 7,
     "metadata": {},
     "output_type": "execute_result"
    }
   ],
   "source": [
    "timeit.timeit(stmt=\"a+=1\",setup=\"a=0\", number=10000)"
   ]
  },
  {
   "cell_type": "markdown",
   "metadata": {
    "slideshow": {
     "slide_type": "fragment"
    }
   },
   "source": [
    "Use timeit.repeat if you would like to repeat the experiment multiple times:"
   ]
  },
  {
   "cell_type": "code",
   "execution_count": 8,
   "metadata": {},
   "outputs": [
    {
     "data": {
      "text/plain": [
       "[0.0006758550007361919,\n",
       " 0.0009771650002221577,\n",
       " 0.0008011019999685232,\n",
       " 0.0005401749986049253,\n",
       " 0.0006059890001779422]"
      ]
     },
     "execution_count": 8,
     "metadata": {},
     "output_type": "execute_result"
    }
   ],
   "source": [
    "timeit.repeat(stmt=\"a+=1\",setup=\"a=0\", number=10000, repeat=5)"
   ]
  },
  {
   "cell_type": "markdown",
   "metadata": {
    "slideshow": {
     "slide_type": "subslide"
    }
   },
   "source": [
    "## Timing user defined function"
   ]
  },
  {
   "cell_type": "markdown",
   "metadata": {
    "slideshow": {
     "slide_type": "fragment"
    }
   },
   "source": [
    "Timeit creates its own namespace - which means that variables, functions, ... are not avaible in timeit, unless they are imported in the setup argument:"
   ]
  },
  {
   "cell_type": "code",
   "execution_count": 9,
   "metadata": {
    "slideshow": {
     "slide_type": "-"
    }
   },
   "outputs": [
    {
     "data": {
      "text/plain": [
       "[3.2948365679985727,\n",
       " 2.8746060699995724,\n",
       " 2.6881581689995073,\n",
       " 2.874211877999187,\n",
       " 2.921613537000667]"
      ]
     },
     "execution_count": 9,
     "metadata": {},
     "output_type": "execute_result"
    }
   ],
   "source": [
    "timeit.repeat(stmt=\"g.gridloop(myfunc)\", setup=\"from __main__  import g, myfunc\", repeat=5, number=1)"
   ]
  },
  {
   "cell_type": "markdown",
   "metadata": {
    "slideshow": {
     "slide_type": "slide"
    }
   },
   "source": [
    "## Profiling modules with cProfile"
   ]
  },
  {
   "cell_type": "markdown",
   "metadata": {},
   "source": [
    "A profile is a set of statistics that describes how often and for how long various parts of the program executed.\n",
    "\n",
    "`cProfile` is two main (deterministic) profiling module in Python."
   ]
  },
  {
   "cell_type": "markdown",
   "metadata": {
    "slideshow": {
     "slide_type": "fragment"
    }
   },
   "source": [
    "### Using cProfile"
   ]
  },
  {
   "cell_type": "markdown",
   "metadata": {},
   "source": [
    "* As a script: `python -m cProfile script.py\n",
    "`"
   ]
  },
  {
   "cell_type": "markdown",
   "metadata": {
    "slideshow": {
     "slide_type": "fragment"
    }
   },
   "source": [
    "* As a module:"
   ]
  },
  {
   "cell_type": "code",
   "execution_count": 10,
   "metadata": {},
   "outputs": [
    {
     "name": "stdout",
     "output_type": "stream",
     "text": [
      "         1002008 function calls in 2.988 seconds\n",
      "\n",
      "   Ordered by: standard name\n",
      "\n",
      "   ncalls  tottime  percall  cumtime  percall filename:lineno(function)\n",
      "        1    0.642    0.642    2.988    2.988 <ipython-input-1-bdd39b4c44e8>:11(gridloop)\n",
      "  1002001    2.345    0.000    2.345    0.000 <ipython-input-3-a51c4e6c8393>:3(myfunc)\n",
      "        1    0.000    0.000    2.988    2.988 <string>:1(<module>)\n",
      "        2    0.000    0.000    0.000    0.000 fromnumeric.py:2889(size)\n",
      "        1    0.000    0.000    2.988    2.988 {built-in method builtins.exec}\n",
      "        1    0.001    0.001    0.001    0.001 {built-in method numpy.zeros}\n",
      "        1    0.000    0.000    0.000    0.000 {method 'disable' of '_lsprof.Profiler' objects}\n",
      "\n",
      "\n"
     ]
    }
   ],
   "source": [
    "import cProfile\n",
    "pr = cProfile.Profile()\n",
    "res = pr.run(\"g.gridloop(myfunc)\")  # res contains the statistics\n",
    "res.print_stats()                   # Print profiling statistics "
   ]
  },
  {
   "cell_type": "markdown",
   "metadata": {
    "slideshow": {
     "slide_type": "subslide"
    }
   },
   "source": [
    "## Getting runtime statistics"
   ]
  },
  {
   "cell_type": "markdown",
   "metadata": {
    "slideshow": {
     "slide_type": "fragment"
    }
   },
   "source": [
    "Header definitions\n",
    "* **ncalls**: number of calls\n",
    "* **tottime**: total time spent in the given function excluding time made in calls to sub-functions\n",
    "* **percall**: tottime divided by ncalls\n",
    "* **cumtime**: cumulative time spent in this and all subfunctions\n",
    "* **percall**: cumtime divided by ncalls\n",
    "* **filename:lineno(function)**: information about the function"
   ]
  },
  {
   "cell_type": "markdown",
   "metadata": {
    "slideshow": {
     "slide_type": "fragment"
    }
   },
   "source": [
    "Tip: You can also dump the profiling data to disk and use the `pstats` Python module to get more control over the statistics (sort, restrict, ...)."
   ]
  },
  {
   "cell_type": "markdown",
   "metadata": {
    "slideshow": {
     "slide_type": "subslide"
    }
   },
   "source": [
    "## Back to our case-study: What have we learned so far?"
   ]
  },
  {
   "cell_type": "markdown",
   "metadata": {
    "slideshow": {
     "slide_type": "fragment"
    }
   },
   "source": [
    "The biggest contributors of the total runtime are:\n",
    "   1. `gridloop` contributes one third of the total runtime.\n",
    "   2. `myfunc` calls contributes two thirds of the total runtime."
   ]
  },
  {
   "cell_type": "markdown",
   "metadata": {
    "slideshow": {
     "slide_type": "fragment"
    }
   },
   "source": [
    "* `myfunc` is fairly straight-forward\n",
    "  ```python\n",
    "  def myfunc(x, y):\n",
    "    return sin(x*y) + y\n",
    "  ```\n",
    "  Might be difficult to improve.\n",
    "* What about `gridloop`?"
   ]
  },
  {
   "cell_type": "markdown",
   "metadata": {
    "slideshow": {
     "slide_type": "subslide"
    }
   },
   "source": [
    "## Recall that, `gridloop` was a function of the form"
   ]
  },
  {
   "cell_type": "markdown",
   "metadata": {
    "slideshow": {
     "slide_type": "-"
    }
   },
   "source": [
    "```python\n",
    "def gridloop(self, f):\n",
    "    lx = size(self.xcoor)\n",
    "    ly = size(self.ycoor)\n",
    "    a = zeros((lx,ly))\n",
    "\n",
    "    for i in range(lx):\n",
    "        x = self.xcoor[i]\n",
    "        for j in range(ly):\n",
    "            y = self.ycoor[j]\n",
    "             a[i,j] = f(x, y)\n",
    "    return a\n",
    "```"
   ]
  },
  {
   "cell_type": "markdown",
   "metadata": {},
   "source": [
    "It would be useful to see how much time is spend in each line!"
   ]
  },
  {
   "cell_type": "markdown",
   "metadata": {
    "slideshow": {
     "slide_type": "slide"
    }
   },
   "source": [
    "## Line by line profiling"
   ]
  },
  {
   "cell_type": "markdown",
   "metadata": {},
   "source": [
    "The line_profiler module inspects the time spend in each line of a Python function. "
   ]
  },
  {
   "cell_type": "markdown",
   "metadata": {
    "slideshow": {
     "slide_type": "subslide"
    }
   },
   "source": [
    "## Usage\n",
    "\n",
    "1. Install with `conda install line_profiler`\n",
    "2. \"Decorate\" the function of interest with `@profile`:\n",
    "    ```python\n",
    "    @profile\n",
    "    def gridloop(func):\n",
    "        # ...\n",
    "    ```\n",
    "3. Run line profiler with:\n",
    "    ```bash\n",
    "    kernprof -l -v grid2d_lineprofile.py\n",
    "    ```"
   ]
  },
  {
   "cell_type": "markdown",
   "metadata": {
    "slideshow": {
     "slide_type": "subslide"
    }
   },
   "source": [
    "## Demo"
   ]
  },
  {
   "cell_type": "code",
   "execution_count": 25,
   "metadata": {},
   "outputs": [
    {
     "name": "stdout",
     "output_type": "stream",
     "text": [
      "Wrote profile results to grid2d_lineprofile.py.lprof\r\n",
      "Timer unit: 1e-06 s\r\n",
      "\r\n",
      "Total time: 4.63776 s\r\n",
      "File: grid2d_lineprofile.py\r\n",
      "Function: gridloop at line 11\r\n",
      "\r\n",
      "Line #      Hits         Time  Per Hit   % Time  Line Contents\r\n",
      "==============================================================\r\n",
      "    11                                               @profile\r\n",
      "    12                                               def gridloop(self, f):\r\n",
      "    13         1          7.0      7.0      0.0          lx = size(self.xcoor)\r\n",
      "    14         1          2.0      2.0      0.0          ly = size(self.ycoor)\r\n",
      "    15         1         18.0     18.0      0.0          a = zeros((lx,ly))\r\n",
      "    16                                           \r\n",
      "    17      1002        593.0      0.6      0.0          for i in range(lx):\r\n",
      "    18      1001        859.0      0.9      0.0              x = self.xcoor[i]\r\n",
      "    19   1003002     622880.0      0.6     13.4              for j in range(ly):\r\n",
      "    20   1002001     740304.0      0.7     16.0                  y = self.ycoor[j]\r\n",
      "    21   1002001    3273095.0      3.3     70.6                  a[i,j] = f(x, y)\r\n",
      "    22         1          1.0      1.0      0.0          return a\r\n",
      "\r\n"
     ]
    }
   ],
   "source": [
    "!kernprof -l -v grid2d_lineprofile.py"
   ]
  },
  {
   "cell_type": "markdown",
   "metadata": {
    "slideshow": {
     "slide_type": "fragment"
    }
   },
   "source": [
    "**Conclusion:** A significant amount of time is spend in loops and indexing. How can we improve this?"
   ]
  },
  {
   "cell_type": "markdown",
   "metadata": {
    "slideshow": {
     "slide_type": "slide"
    }
   },
   "source": [
    "## A vectorised Grid2D implementation"
   ]
  },
  {
   "cell_type": "code",
   "execution_count": 26,
   "metadata": {},
   "outputs": [],
   "source": [
    "class VectorisedGrid2D(object):\n",
    "    def __init__(self,\n",
    "                 xmin=0, xmax=1, dx=0.5,\n",
    "                 ymin=0, ymax=1, dy=0.5):\n",
    "        \n",
    "        self.xcoor = arange(xmin, xmax+dx, step=dx)\n",
    "        self.ycoor = arange(ymin, ymax+dy, step=dy)\n",
    "\n",
    "    def gridloop(self, f):\n",
    "        return f(self.xcoor[:,None], self.ycoor[None,:])  # Vectorized grid evaluation "
   ]
  },
  {
   "cell_type": "markdown",
   "metadata": {
    "slideshow": {
     "slide_type": "subslide"
    }
   },
   "source": [
    "## Timing the vectorised Grid2D"
   ]
  },
  {
   "cell_type": "code",
   "execution_count": 30,
   "metadata": {},
   "outputs": [
    {
     "data": {
      "text/plain": [
       "0.016483209998114035"
      ]
     },
     "execution_count": 30,
     "metadata": {},
     "output_type": "execute_result"
    }
   ],
   "source": [
    "vg = VectorisedGrid2D(dx=0.001, dy=0.001)\n",
    "min(timeit.repeat(stmt=\"vg.gridloop(myfunc)\", setup=\"from __main__  import vg, myfunc\", repeat=5, number=1))"
   ]
  },
  {
   "cell_type": "code",
   "execution_count": 31,
   "metadata": {
    "slideshow": {
     "slide_type": "fragment"
    }
   },
   "outputs": [
    {
     "data": {
      "text/plain": [
       "2.6357826870007557"
      ]
     },
     "execution_count": 31,
     "metadata": {},
     "output_type": "execute_result"
    }
   ],
   "source": [
    "g = Grid2D(dx=0.001, dy=0.001)\n",
    "min(timeit.repeat(stmt=\"g.gridloop(myfunc)\", setup=\"from __main__  import g, myfunc\", repeat=5, number=1))"
   ]
  },
  {
   "cell_type": "markdown",
   "metadata": {
    "slideshow": {
     "slide_type": "fragment"
    }
   },
   "source": [
    "**Vectorization yields a ca 70 times speed improvement!**"
   ]
  }
 ],
 "metadata": {
  "celltoolbar": "Slideshow",
  "kernelspec": {
   "display_name": "Python 3",
   "language": "python",
   "name": "python3"
  },
  "language_info": {
   "codemirror_mode": {
    "name": "ipython",
    "version": 3
   },
   "file_extension": ".py",
   "mimetype": "text/x-python",
   "name": "python",
   "nbconvert_exporter": "python",
   "pygments_lexer": "ipython3",
   "version": "3.7.3"
  },
  "livereveal": {
   "scroll": true,
   "start_slideshow_at": "selected",
   "theme": "serif"
  }
 },
 "nbformat": 4,
 "nbformat_minor": 1
}
