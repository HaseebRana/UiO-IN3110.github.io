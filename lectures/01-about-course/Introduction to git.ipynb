{
 "cells": [
  {
   "cell_type": "markdown",
   "metadata": {
    "slideshow": {
     "slide_type": "slide"
    }
   },
   "source": [
    "# The git version control system\n",
    "\n",
    "<center>\n",
    "<img src=\"https://imgs.xkcd.com/comics/git.png\"/>  \n",
    "</center>"
   ]
  },
  {
   "cell_type": "markdown",
   "metadata": {
    "slideshow": {
     "slide_type": "subslide"
    }
   },
   "source": [
    "Version control systems are systems to **manage changes** to documents, computer programs, large web sites, and other collections of information."
   ]
  },
  {
   "cell_type": "markdown",
   "metadata": {
    "slideshow": {
     "slide_type": "subslide"
    }
   },
   "source": [
    "## The main idea of version control systems\n",
    "<center>\n",
    "  <img src=\"https://raw.githubusercontent.com/progit/progit2/2.1.252/images/distributed.png\" style=\"width: 600px;\"/>     \n",
    "  </center>\n",
    "\n",
    "\n",
    "* A version controlled system (typically) contains **one official repository**.\n",
    "* Contributors work on **copies** of repository files and upload the changes to the official repository.\n",
    "* **Conflicts** might occur if two people work on the same file simultaneously.\n",
    "    * Non-conflicting modifications are merged automatically.\n",
    "    * Conflicting modifications must be resolved manually.  "
   ]
  },
  {
   "cell_type": "markdown",
   "metadata": {
    "slideshow": {
     "slide_type": "subslide"
    }
   },
   "source": [
    "## Use cases for version control systems\n",
    "\n",
    "**Organization**\n",
    "  * Retrieve old versions of files.\n",
    "  * Print history of changes.\n",
    "  \n",
    "**Collaboration**\n",
    " * Share code between people and work simultanously on the same codebase\n",
    " * Track changes and quickly undo changes if necessary\n",
    "\n",
    "**Backups**\n",
    "  * Store copy of git repository on an external platform e.g. github  "
   ]
  },
  {
   "cell_type": "markdown",
   "metadata": {
    "slideshow": {
     "slide_type": "subslide"
    }
   },
   "source": [
    "## Git: the current standard for version control\n",
    "\n",
    "  * git is a **fast**, **desentralized**, and **open-source** version control system\n",
    "  * Many sites for storing git repositories online (e.g. github and bitbucket).\n",
    "  * Installation instructions: <https://git-scm.com>. On Debian derivates (e.g. Ubuntu):\n",
    "  ```bash\n",
    "  sudo apt-get install git\n",
    "  ```\n",
    "  * Recommended book Pro Git (free to download [here](https://git-scm.com/book/en/v2))\n",
    "  <center>\n",
    "  <img src=\"figs/progit.png\" style=\"width: 400px;\"/>  \n",
    "  </center>\n",
    "  (The rest of the lecture uses material from this book)\n",
    "  "
   ]
  },
  {
   "cell_type": "markdown",
   "metadata": {
    "slideshow": {
     "slide_type": "slide"
    }
   },
   "source": [
    "# Creating your first git repository\n",
    "\n",
    "* A git repository is a folder in which files can be tracked by git. \n",
    "* A git repository is created with:"
   ]
  },
  {
   "cell_type": "code",
   "execution_count": null,
   "metadata": {
    "slideshow": {
     "slide_type": "skip"
    }
   },
   "outputs": [],
   "source": [
    "rm -rf ~/in3110/mysrc"
   ]
  },
  {
   "cell_type": "code",
   "execution_count": null,
   "metadata": {
    "scrolled": true
   },
   "outputs": [],
   "source": [
    "mkdir -p ~/in3110/mysrc\n",
    "cd ~/in3110/mysrc\n",
    "git init .  # The src folder is now also a git repository "
   ]
  },
  {
   "cell_type": "markdown",
   "metadata": {},
   "source": [
    "* Git created a (hidden) directory `.git` in that folder which will contain all history information."
   ]
  },
  {
   "cell_type": "markdown",
   "metadata": {
    "slideshow": {
     "slide_type": "subslide"
    }
   },
   "source": [
    "## Adding files to the repository\n",
    "* By default, git does not track any files.\n",
    "* Files need to be **added** to the repository in order to track their changes:"
   ]
  },
  {
   "cell_type": "code",
   "execution_count": null,
   "metadata": {},
   "outputs": [],
   "source": [
    "echo \"print(\\\"Hello\\\")\" > myfile.py  # Create a new file myfile.py \n",
    "git add myfile.py\n",
    "ls"
   ]
  },
  {
   "cell_type": "markdown",
   "metadata": {
    "slideshow": {
     "slide_type": "fragment"
    }
   },
   "source": [
    "Create a snapshot of the repository by **committing** the added file:"
   ]
  },
  {
   "cell_type": "code",
   "execution_count": null,
   "metadata": {},
   "outputs": [],
   "source": [
    "git commit -m 'Initial version of myfile.py'  "
   ]
  },
  {
   "cell_type": "markdown",
   "metadata": {
    "slideshow": {
     "slide_type": "subslide"
    }
   },
   "source": [
    "## The lifecycle of the status of your files \n",
    "\n",
    "* Files in your repository can either be **tracked** or **untracked**.\n",
    "* Untracked files are always left untouched by `git`.\n",
    "* Tracked files can be \n",
    "    * **unmodified** (no changes since last commit)\n",
    "    * **modified**   (changes since last commit)\n",
    "    * **staged**    (changes are ready to commit)\n",
    "* This figure shows the full lifecycle:    \n",
    "<center>\n",
    "  <img src=\"https://raw.githubusercontent.com/progit/progit2/2.1.252/images/lifecycle.png\"/>  \n",
    "</center>\n",
    "* The `git status` command shows in which status files are.\n"
   ]
  },
  {
   "cell_type": "markdown",
   "metadata": {
    "slideshow": {
     "slide_type": "subslide"
    }
   },
   "source": [
    "## Inpsecting the changes made since the last commit\n",
    "\n",
    "Let's first make some changes"
   ]
  },
  {
   "cell_type": "code",
   "execution_count": null,
   "metadata": {},
   "outputs": [],
   "source": [
    "echo \"print(\\\"World\\\")\" >> myfile.py \n",
    "echo \"This is a simple hello world project.\" > README.md"
   ]
  },
  {
   "cell_type": "markdown",
   "metadata": {},
   "source": [
    "We use `git status` to see the current state of the repo:"
   ]
  },
  {
   "cell_type": "code",
   "execution_count": null,
   "metadata": {},
   "outputs": [],
   "source": [
    "git status"
   ]
  },
  {
   "cell_type": "markdown",
   "metadata": {},
   "source": [
    "Line-by-line changes since the last commit can be displayed with `git diff`"
   ]
  },
  {
   "cell_type": "code",
   "execution_count": null,
   "metadata": {},
   "outputs": [],
   "source": [
    "git diff"
   ]
  },
  {
   "cell_type": "markdown",
   "metadata": {
    "slideshow": {
     "slide_type": "subslide"
    }
   },
   "source": [
    "## Creating another commit\n",
    "Let's stage all changes with `git add`: "
   ]
  },
  {
   "cell_type": "code",
   "execution_count": null,
   "metadata": {},
   "outputs": [],
   "source": [
    "git add README.md myfile.py"
   ]
  },
  {
   "cell_type": "code",
   "execution_count": null,
   "metadata": {},
   "outputs": [],
   "source": [
    "git status"
   ]
  },
  {
   "cell_type": "markdown",
   "metadata": {},
   "source": [
    "If we are satisfied, we create a snapshot of the repo with `git commit`: "
   ]
  },
  {
   "cell_type": "code",
   "execution_count": null,
   "metadata": {},
   "outputs": [],
   "source": [
    "git commit -m 'New README.md file and fix in myfile.py'"
   ]
  },
  {
   "cell_type": "markdown",
   "metadata": {
    "slideshow": {
     "slide_type": "subslide"
    }
   },
   "source": [
    "## Viewing the history of commits\n",
    "* For every commit, git creates a snapshot of all tracked files in the repository.\n",
    "* Each commit is identified by unique hash key\n",
    "<center>\n",
    "  <img src=\"https://raw.githubusercontent.com/progit/progit2/2.1.252/images/advance-master.png\"/> \n",
    "</center>\n",
    "\n",
    "* `git log` can be used to view the commits in a repository:"
   ]
  },
  {
   "cell_type": "code",
   "execution_count": null,
   "metadata": {},
   "outputs": [],
   "source": [
    "git log --oneline"
   ]
  },
  {
   "cell_type": "markdown",
   "metadata": {
    "slideshow": {
     "slide_type": "fragment"
    }
   },
   "source": [
    "* Git allows us to view older version of the repository \n",
    "    * **But how do we know which version we are currently at?**"
   ]
  },
  {
   "cell_type": "markdown",
   "metadata": {
    "slideshow": {
     "slide_type": "subslide"
    }
   },
   "source": [
    "## The role of the `HEAD` pointer\n",
    "\n",
    "* `HEAD` is a special pointer that shows where you currently are in the repository history.\n",
    "<center>\n",
    "  <img src=\"https://raw.githubusercontent.com/progit/progit2/2.1.252/images/advance-testing.png\"/>  \n",
    "</center>\n",
    "* Running `git commit` updates the `HEAD` pointer to that latest commit.\n"
   ]
  },
  {
   "cell_type": "code",
   "execution_count": null,
   "metadata": {},
   "outputs": [],
   "source": [
    "git log --oneline"
   ]
  },
  {
   "cell_type": "markdown",
   "metadata": {},
   "source": [
    "Some usefull command line arguments for `git log`:\n",
    "* `--oneline`: summarize each commit as one line\n",
    "* `git log FILENAME`: show commits affecting one file or directory"
   ]
  },
  {
   "cell_type": "markdown",
   "metadata": {
    "slideshow": {
     "slide_type": "subslide"
    }
   },
   "source": [
    "##  Back to the future: Getting older revisions of a repository\n",
    "\n",
    "* To go to a previous snapshot of the repository:\n",
    "    * Simply **move the `HEAD` pointer to that commit**.\n",
    "    * All tracked files will automatically be updated to the version in that commit. \n",
    "* The command for moving the `HEAD` pointer is `git checkout`:"
   ]
  },
  {
   "cell_type": "code",
   "execution_count": null,
   "metadata": {},
   "outputs": [],
   "source": [
    "git log --oneline"
   ]
  },
  {
   "cell_type": "markdown",
   "metadata": {},
   "source": [
    "Let's revert to the first commit:"
   ]
  },
  {
   "cell_type": "code",
   "execution_count": null,
   "metadata": {},
   "outputs": [],
   "source": [
    "git checkout 77a7c3b"
   ]
  },
  {
   "cell_type": "code",
   "execution_count": null,
   "metadata": {
    "scrolled": true,
    "slideshow": {
     "slide_type": "fragment"
    }
   },
   "outputs": [],
   "source": [
    "git log --oneline --all"
   ]
  },
  {
   "cell_type": "markdown",
   "metadata": {},
   "source": [
    "The `README.md` has disappeared and we have the initial version of `myfile.py` back:"
   ]
  },
  {
   "cell_type": "code",
   "execution_count": null,
   "metadata": {},
   "outputs": [],
   "source": [
    "ls"
   ]
  },
  {
   "cell_type": "code",
   "execution_count": null,
   "metadata": {},
   "outputs": [],
   "source": [
    "cat myfile.py"
   ]
  },
  {
   "cell_type": "markdown",
   "metadata": {
    "slideshow": {
     "slide_type": "fragment"
    }
   },
   "source": [
    "To move back to the latest version, we use:"
   ]
  },
  {
   "cell_type": "code",
   "execution_count": null,
   "metadata": {},
   "outputs": [],
   "source": [
    "git checkout master  # alternatively use the identifier of the latest commit"
   ]
  },
  {
   "cell_type": "code",
   "execution_count": null,
   "metadata": {},
   "outputs": [],
   "source": [
    "ls"
   ]
  },
  {
   "cell_type": "markdown",
   "metadata": {
    "slideshow": {
     "slide_type": "subslide"
    }
   },
   "source": [
    "## Removing and moving files\n",
    "\n",
    "Files can be removed from the repository with\n",
    "```bash\n",
    "$ git rm myfile.py\n",
    "```\n",
    "\n",
    "and moved with\n",
    "\n",
    "```bash\n",
    "$ git mv myfile.py file.py\n",
    "```"
   ]
  },
  {
   "cell_type": "markdown",
   "metadata": {
    "slideshow": {
     "slide_type": "skip"
    }
   },
   "source": [
    "## Tagging \n",
    "\n",
    "* Git has the ability to tag specific commits (i.e. give them a more memorable name than the identifier).\n",
    "* Typically used to mark release points of your software"
   ]
  },
  {
   "cell_type": "markdown",
   "metadata": {
    "slideshow": {
     "slide_type": "subslide"
    }
   },
   "source": [
    "## `git` cheat sheet (part 1)\n",
    "\n",
    "  * `git init .`: create a new (local) repository\n",
    "\n",
    "  * `git status`: View status of commited/uncommited files\n",
    "\n",
    "  * `git commit -a`: create a commit of all tracked files\n",
    "\n",
    "  * `git rm FILE`: remove a file\n",
    "\n",
    "  * `git mv FILE`: move/rename a file\n",
    "  "
   ]
  },
  {
   "cell_type": "markdown",
   "metadata": {
    "slideshow": {
     "slide_type": "subslide"
    }
   },
   "source": [
    "# Remote repositories\n",
    "\n",
    "We can work on git repositories that live on a remote location (for collaboration or backup).\n",
    "\n",
    "Let's say we created a git repository on github.com: https://github.com/minrk/mytest\n",
    "\n",
    "<center>\n",
    "<img src=\"figs/github.png\" height=200>\n",
    "</center>"
   ]
  },
  {
   "cell_type": "markdown",
   "metadata": {
    "slideshow": {
     "slide_type": "subslide"
    }
   },
   "source": [
    "## Working with remote repositories\n",
    "Clone a remote repository to a local directory:"
   ]
  },
  {
   "cell_type": "code",
   "execution_count": null,
   "metadata": {
    "slideshow": {
     "slide_type": "skip"
    }
   },
   "outputs": [],
   "source": [
    "rm -rf ~/in3110/mytest"
   ]
  },
  {
   "cell_type": "code",
   "execution_count": 1,
   "metadata": {},
   "outputs": [
    {
     "name": "stdout",
     "output_type": "stream",
     "text": [
      "Cloning into 'mytest'...\n",
      "remote: Enumerating objects: 3, done.\u001b[K\n",
      "remote: Counting objects: 100% (3/3), done.\u001b[K\n",
      "remote: Total 3 (delta 0), reused 0 (delta 0), pack-reused 0\u001b[K\n",
      "Receiving objects: 100% (3/3), done.\n",
      "README.md\n"
     ]
    }
   ],
   "source": [
    "cd ~/in3110\n",
    "git clone git@github.com:minrk/mytest.git mytest\n",
    "cd mytest\n",
    "ls"
   ]
  },
  {
   "cell_type": "markdown",
   "metadata": {
    "slideshow": {
     "slide_type": "fragment"
    }
   },
   "source": [
    "Create a new commit and push it to the remote repository (requires write permission on the remote repository)."
   ]
  },
  {
   "cell_type": "code",
   "execution_count": 2,
   "metadata": {},
   "outputs": [
    {
     "name": "stdout",
     "output_type": "stream",
     "text": [
      "[master f0c98cd] Add main.py file\n",
      " 1 file changed, 1 insertion(+)\n",
      " create mode 100644 main.py\n",
      "README.md main.py\n"
     ]
    }
   ],
   "source": [
    "echo \"print(42)\" > main.py\n",
    "git add main.py\n",
    "git commit -m \"Add main.py file\"\n",
    "ls"
   ]
  },
  {
   "cell_type": "code",
   "execution_count": 3,
   "metadata": {},
   "outputs": [
    {
     "name": "stdout",
     "output_type": "stream",
     "text": [
      "Enumerating objects: 4, done.\n",
      "Counting objects: 100% (4/4), done.\n",
      "Delta compression using up to 4 threads\n",
      "Compressing objects: 100% (2/2), done.\n",
      "Writing objects: 100% (3/3), 289 bytes | 57.00 KiB/s, done.\n",
      "Total 3 (delta 0), reused 0 (delta 0), pack-reused 0\n",
      "To github.com:minrk/mytest.git\n",
      "   1f174d7..f0c98cd  master -> master\n"
     ]
    }
   ],
   "source": [
    "git push origin master   "
   ]
  },
  {
   "cell_type": "markdown",
   "metadata": {
    "slideshow": {
     "slide_type": "fragment"
    }
   },
   "source": [
    "On https://github.com/minrk/mytest we can see the new commit has been uploaded.\n",
    "\n",
    "![uploaded](figs/github-pushed.png)"
   ]
  },
  {
   "cell_type": "markdown",
   "metadata": {
    "slideshow": {
     "slide_type": "fragment"
    }
   },
   "source": [
    "You can download updates from remote repository with \n",
    "```bash\n",
    "git pull origin master \n",
    "```\n",
    "* Conflicting changes might have been made on the local and remote repository. \n",
    "* This results merge conflicts which need to be resolved manually.\n",
    "* This will be part of your first assignment."
   ]
  },
  {
   "cell_type": "markdown",
   "metadata": {
    "slideshow": {
     "slide_type": "subslide"
    }
   },
   "source": [
    "## `git` cheat sheet (part 2)\n",
    "\n",
    "  * `git clone URL`: clone a (remote) repository\n",
    "\n",
    "  * `git pull origin master`: update file tree from (remote) repository\n",
    "\n",
    "  * `git push origin master`: push changes to remote repository"
   ]
  },
  {
   "cell_type": "markdown",
   "metadata": {
    "slideshow": {
     "slide_type": "slide"
    }
   },
   "source": [
    "# Branches\n",
    "\n",
    "\n",
    "* Branches are leightweight copies of the main version \n",
    "* Allow fast testing of new code without touching the default version\n",
    "\n",
    "<center>\n",
    "<img src=\"https://github.com/progit/progit2/raw/2.1.252/images/branch-and-history.png\" width=800px>\n",
    "</center>\n",
    "\n",
    "* Remember: `HEAD` is a special pointer that shows where you currently are in the repository history.\n",
    "* `master` is a default branch that is created when initializing a new repository."
   ]
  },
  {
   "cell_type": "markdown",
   "metadata": {
    "slideshow": {
     "slide_type": "subslide"
    }
   },
   "source": [
    "## Creating a branch"
   ]
  },
  {
   "cell_type": "markdown",
   "metadata": {},
   "source": [
    "* Branches are created with the `git branch NAME` command."
   ]
  },
  {
   "cell_type": "code",
   "execution_count": 4,
   "metadata": {},
   "outputs": [],
   "source": [
    "cd ~/in3110/mysrc\n",
    "git branch testing"
   ]
  },
  {
   "cell_type": "markdown",
   "metadata": {},
   "source": [
    "* The result is that we created a new pointer to the current commit.\n",
    "* The `HEAD` pointer still points to the branch `master`.\n",
    "<center>\n",
    "<img src=\"https://git-scm.com/book/en/v2/images/head-to-master.png\" width=800>\n",
    "</center>"
   ]
  },
  {
   "cell_type": "code",
   "execution_count": 5,
   "metadata": {},
   "outputs": [
    {
     "name": "stdout",
     "output_type": "stream",
     "text": [
      "\u001b[33m539b0ff\u001b[m\u001b[33m (\u001b[m\u001b[1;36mHEAD -> \u001b[m\u001b[1;32mmaster\u001b[m\u001b[33m, \u001b[m\u001b[1;32mtesting\u001b[m\u001b[33m)\u001b[m New README.md file and fix in myfile.py\n",
      "\u001b[33m77a7c3b\u001b[m Initial version of myfile.py\n"
     ]
    }
   ],
   "source": [
    "git log --oneline"
   ]
  },
  {
   "cell_type": "markdown",
   "metadata": {
    "slideshow": {
     "slide_type": "subslide"
    }
   },
   "source": [
    "# Switching to the new branch\n",
    "\n",
    "* As usual, we use the `git checkout` command to move the `HEAD` pointer."
   ]
  },
  {
   "cell_type": "code",
   "execution_count": 6,
   "metadata": {},
   "outputs": [
    {
     "name": "stdout",
     "output_type": "stream",
     "text": [
      "Switched to branch 'testing'\n"
     ]
    }
   ],
   "source": [
    "git checkout testing"
   ]
  },
  {
   "cell_type": "markdown",
   "metadata": {},
   "source": [
    "<center>\n",
    "    <img src=\"https://git-scm.com/book/en/v2/images/head-to-testing.png\" width=800>\n",
    "    </center>"
   ]
  },
  {
   "cell_type": "code",
   "execution_count": 7,
   "metadata": {},
   "outputs": [
    {
     "name": "stdout",
     "output_type": "stream",
     "text": [
      "\u001b[33m539b0ff\u001b[m\u001b[33m (\u001b[m\u001b[1;36mHEAD -> \u001b[m\u001b[1;32mtesting\u001b[m\u001b[33m, \u001b[m\u001b[1;32mmaster\u001b[m\u001b[33m)\u001b[m New README.md file and fix in myfile.py\n",
      "\u001b[33m77a7c3b\u001b[m Initial version of myfile.py\n"
     ]
    }
   ],
   "source": [
    "git log --oneline"
   ]
  },
  {
   "cell_type": "markdown",
   "metadata": {
    "slideshow": {
     "slide_type": "subslide"
    }
   },
   "source": [
    "## Creating a commit on the new branch\n",
    "\n",
    "Which difference does this make? Let's make another commit:"
   ]
  },
  {
   "cell_type": "code",
   "execution_count": 8,
   "metadata": {},
   "outputs": [
    {
     "name": "stdout",
     "output_type": "stream",
     "text": [
      "[testing 80d6947] Add testing.txt\n",
      " 1 file changed, 1 insertion(+)\n",
      " create mode 100644 testing.txt\n",
      "README.md   myfile.py   testing.txt\n"
     ]
    }
   ],
   "source": [
    "echo \"Hello world\" >> testing.txt\n",
    "git add testing.txt\n",
    "git commit -m \"Add testing.txt\"\n",
    "ls"
   ]
  },
  {
   "cell_type": "markdown",
   "metadata": {},
   "source": [
    "<center>\n",
    "<img src=\"https://git-scm.com/book/en/v2/images/advance-testing.png\" width=800> \n",
    "    </center>"
   ]
  },
  {
   "cell_type": "code",
   "execution_count": 9,
   "metadata": {},
   "outputs": [
    {
     "name": "stdout",
     "output_type": "stream",
     "text": [
      "\u001b[33m80d6947\u001b[m\u001b[33m (\u001b[m\u001b[1;36mHEAD -> \u001b[m\u001b[1;32mtesting\u001b[m\u001b[33m)\u001b[m Add testing.txt\n",
      "\u001b[33m539b0ff\u001b[m\u001b[33m (\u001b[m\u001b[1;32mmaster\u001b[m\u001b[33m)\u001b[m New README.md file and fix in myfile.py\n",
      "\u001b[33m77a7c3b\u001b[m Initial version of myfile.py\n"
     ]
    }
   ],
   "source": [
    "git log --oneline --all"
   ]
  },
  {
   "cell_type": "markdown",
   "metadata": {
    "slideshow": {
     "slide_type": "subslide"
    }
   },
   "source": [
    "## Switching between branches\n",
    "If we checkout the `master` branch again, all files will be updated to the version in `master` - in particular the `testing.txt` file will be missing:"
   ]
  },
  {
   "cell_type": "code",
   "execution_count": 10,
   "metadata": {},
   "outputs": [
    {
     "name": "stdout",
     "output_type": "stream",
     "text": [
      "Switched to branch 'master'\n"
     ]
    }
   ],
   "source": [
    "git checkout master"
   ]
  },
  {
   "cell_type": "markdown",
   "metadata": {},
   "source": [
    "<center>\n",
    "    <img src=\"https://git-scm.com/book/en/v2/images/checkout-master.png\" width=800> \n",
    "    </center>"
   ]
  },
  {
   "cell_type": "code",
   "execution_count": 11,
   "metadata": {},
   "outputs": [
    {
     "name": "stdout",
     "output_type": "stream",
     "text": [
      "README.md myfile.py\n"
     ]
    }
   ],
   "source": [
    "ls"
   ]
  },
  {
   "cell_type": "markdown",
   "metadata": {
    "slideshow": {
     "slide_type": "subslide"
    }
   },
   "source": [
    "## Diverging branches\n",
    "Let's now create another commit on the master branch:\n"
   ]
  },
  {
   "cell_type": "code",
   "execution_count": 12,
   "metadata": {},
   "outputs": [
    {
     "name": "stdout",
     "output_type": "stream",
     "text": [
      "[master 92b9c3e] Add master.txt\n",
      " 1 file changed, 1 insertion(+)\n",
      " create mode 100644 master.txt\n"
     ]
    }
   ],
   "source": [
    "echo \"Hello world\" >> master.txt\n",
    "git add master.txt\n",
    "git commit -m \"Add master.txt\""
   ]
  },
  {
   "cell_type": "markdown",
   "metadata": {},
   "source": [
    "<center><img src=\"https://git-scm.com/book/en/v2/images/advance-master.png\" width=800> \n",
    "    </center>"
   ]
  },
  {
   "cell_type": "code",
   "execution_count": 13,
   "metadata": {},
   "outputs": [
    {
     "name": "stdout",
     "output_type": "stream",
     "text": [
      "* \u001b[33m92b9c3e\u001b[m\u001b[33m (\u001b[m\u001b[1;36mHEAD -> \u001b[m\u001b[1;32mmaster\u001b[m\u001b[33m)\u001b[m Add master.txt\n",
      "\u001b[31m|\u001b[m * \u001b[33m80d6947\u001b[m\u001b[33m (\u001b[m\u001b[1;32mtesting\u001b[m\u001b[33m)\u001b[m Add testing.txt\n",
      "\u001b[31m|\u001b[m\u001b[31m/\u001b[m  \n",
      "* \u001b[33m539b0ff\u001b[m New README.md file and fix in myfile.py\n",
      "* \u001b[33m77a7c3b\u001b[m Initial version of myfile.py\n"
     ]
    }
   ],
   "source": [
    "git log --oneline --graph --all"
   ]
  },
  {
   "cell_type": "markdown",
   "metadata": {
    "slideshow": {
     "slide_type": "subslide"
    }
   },
   "source": [
    "## Merging branches\n",
    "\n",
    "We can now merge the change from the testing branch into the master branch:"
   ]
  },
  {
   "cell_type": "code",
   "execution_count": 14,
   "metadata": {},
   "outputs": [
    {
     "name": "stdout",
     "output_type": "stream",
     "text": [
      "* \u001b[32mmaster\u001b[m\n",
      "  testing\u001b[m\n"
     ]
    }
   ],
   "source": [
    "git branch # Show that we are on the master branch"
   ]
  },
  {
   "cell_type": "code",
   "execution_count": 15,
   "metadata": {},
   "outputs": [
    {
     "name": "stdout",
     "output_type": "stream",
     "text": [
      "Merge made by the 'recursive' strategy.\n",
      " testing.txt | 1 \u001b[32m+\u001b[m\n",
      " 1 file changed, 1 insertion(+)\n",
      " create mode 100644 testing.txt\n"
     ]
    }
   ],
   "source": [
    "git merge testing -m \"Merge testing into master\""
   ]
  },
  {
   "cell_type": "code",
   "execution_count": 16,
   "metadata": {},
   "outputs": [
    {
     "name": "stdout",
     "output_type": "stream",
     "text": [
      "*   \u001b[33mea4d120\u001b[m\u001b[33m (\u001b[m\u001b[1;36mHEAD -> \u001b[m\u001b[1;32mmaster\u001b[m\u001b[33m)\u001b[m Merge testing into master\n",
      "\u001b[31m|\u001b[m\u001b[32m\\\u001b[m  \n",
      "\u001b[31m|\u001b[m * \u001b[33m80d6947\u001b[m\u001b[33m (\u001b[m\u001b[1;32mtesting\u001b[m\u001b[33m)\u001b[m Add testing.txt\n",
      "* \u001b[32m|\u001b[m \u001b[33m92b9c3e\u001b[m Add master.txt\n",
      "\u001b[32m|\u001b[m\u001b[32m/\u001b[m  \n",
      "* \u001b[33m539b0ff\u001b[m New README.md file and fix in myfile.py\n",
      "* \u001b[33m77a7c3b\u001b[m Initial version of myfile.py\n"
     ]
    }
   ],
   "source": [
    "git log --oneline --graph --all"
   ]
  },
  {
   "cell_type": "markdown",
   "metadata": {},
   "source": [
    "Now both the files from master and testing are in the repo:"
   ]
  },
  {
   "cell_type": "code",
   "execution_count": 17,
   "metadata": {
    "scrolled": true
   },
   "outputs": [
    {
     "name": "stdout",
     "output_type": "stream",
     "text": [
      "README.md   master.txt  myfile.py   testing.txt\n"
     ]
    }
   ],
   "source": [
    "ls"
   ]
  },
  {
   "cell_type": "markdown",
   "metadata": {
    "slideshow": {
     "slide_type": "subslide"
    }
   },
   "source": [
    "## `git` cheat sheet (part 3)\n",
    "\n",
    "\n",
    "* `git branch NAME`: create a new branch\n",
    "* `git checkout NAME`: move the `HEAD` pointer to `NAME` (can be a commit identifier or branch name) \n",
    "* `git merge NAME`: merges the commits of the branch with name `NAME` into the current branch.\n",
    "\n",
    "  "
   ]
  },
  {
   "cell_type": "markdown",
   "metadata": {
    "slideshow": {
     "slide_type": "subslide"
    }
   },
   "source": [
    "## That's it for today!\n",
    "\n",
    "\n",
    "Do the interactive git tutorial on https://try.github.io\n",
    "\n",
    "<img src=\"figs/try-git.png\" height=150>\n",
    "\n"
   ]
  }
 ],
 "metadata": {
  "celltoolbar": "Slideshow",
  "kernelspec": {
   "display_name": "Bash",
   "language": "bash",
   "name": "bash"
  },
  "language_info": {
   "codemirror_mode": "shell",
   "file_extension": ".sh",
   "mimetype": "text/x-sh",
   "name": "bash"
  },
  "rise": {
   "scroll": true,
   "start_slideshow_at": "selected",
   "theme": "serif",
   "transition": "none"
  }
 },
 "nbformat": 4,
 "nbformat_minor": 1
}
