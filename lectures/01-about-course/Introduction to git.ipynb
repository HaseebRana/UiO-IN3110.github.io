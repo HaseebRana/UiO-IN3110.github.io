{
 "cells": [
  {
   "cell_type": "markdown",
   "metadata": {
    "slideshow": {
     "slide_type": "slide"
    }
   },
   "source": [
    "# The git version control system\n",
    "\n",
    "<center>\n",
    "<img src=\"https://imgs.xkcd.com/comics/git.png\"/>  \n",
    "</center>"
   ]
  },
  {
   "cell_type": "markdown",
   "metadata": {
    "slideshow": {
     "slide_type": "subslide"
    }
   },
   "source": [
    "Version control systems are systems to **manage changes** to documents, computer programs, large web sites, and other collections of information."
   ]
  },
  {
   "cell_type": "markdown",
   "metadata": {
    "slideshow": {
     "slide_type": "subslide"
    }
   },
   "source": [
    "## The main idea of version control systems\n",
    "<center>\n",
    "  <img src=\"https://git-scm.com/figures/18333fig0103-tn.png\" style=\"width: 600px;\"/>     \n",
    "  </center>\n",
    "\n",
    "\n",
    "* A version controlled system (typically) contains one official repository.\n",
    "* Programmers work on *copies* of repository files and upload the changes to the official repository.\n",
    "* Conflicts might occur if two people work on the same file simultaneously.\n",
    "    * Non-conflicting modifications are merged automatically.\n",
    "    * Conflicting modifications must be resolved manually.  "
   ]
  },
  {
   "cell_type": "markdown",
   "metadata": {
    "slideshow": {
     "slide_type": "subslide"
    }
   },
   "source": [
    "## Use cases for version control systems\n",
    "\n",
    "**Organization**\n",
    "  * Retrieve old versions of files.\n",
    "  * Print history of changes.\n",
    "  \n",
    "**Collaboration**\n",
    " * Share code between people and work simultanously on the same codebase\n",
    " * Track changes and quickly undo changes if necessary\n",
    "\n",
    "**Backups**\n",
    "  * Store copy of git repository on an external platform e.g. github  "
   ]
  },
  {
   "cell_type": "markdown",
   "metadata": {
    "slideshow": {
     "slide_type": "subslide"
    }
   },
   "source": [
    "## The git version control system\n",
    "\n",
    "  * git: a modern version control system developed by Linus Torvalds\n",
    "  * There exist a good ecosystem for storing git repositories online (e.g. github and bitbucket).\n",
    "  * Installation instructions: <http://git-scm.com>. On Debian derivates (e.g. Ubuntu):\n",
    "  ```bash\n",
    "  sudo apt-get install git\n",
    "  ```\n",
    "  * Recommended book (free to download [here](https://git-scm.com/book/en/v2))\n",
    "  <center>\n",
    "  <img src=\"figs/progit.png\" style=\"width: 400px;\"/>  \n",
    "  </center>\n",
    "  (The rest of the lecture uses material from this book)\n",
    "  "
   ]
  },
  {
   "cell_type": "markdown",
   "metadata": {
    "slideshow": {
     "slide_type": "slide"
    }
   },
   "source": [
    "# Creating your first git repository\n",
    "\n",
    "* A git repository is a folder in which files can be tracked by git. \n",
    "* A git repository is created with:"
   ]
  },
  {
   "cell_type": "code",
   "execution_count": null,
   "metadata": {
    "scrolled": true
   },
   "outputs": [],
   "source": [
    "cd ~/in3110/mysrc\n",
    "git init .  # The src folder is now also a git repository"
   ]
  },
  {
   "cell_type": "markdown",
   "metadata": {},
   "source": [
    "* Git created a (hidden) directory `.git` in that folder which will contain all history information."
   ]
  },
  {
   "cell_type": "markdown",
   "metadata": {
    "slideshow": {
     "slide_type": "subslide"
    }
   },
   "source": [
    "## Adding files to the repository\n",
    "* By default, git does not track any files.\n",
    "* Files need to be **added** to the repository in order to track their changes:"
   ]
  },
  {
   "cell_type": "code",
   "execution_count": null,
   "metadata": {},
   "outputs": [],
   "source": [
    "echo \"print(\\\"Hello\\\")\" > myfile.py  # Create a new file myfile.py \n",
    "git add myfile.py"
   ]
  },
  {
   "cell_type": "markdown",
   "metadata": {
    "slideshow": {
     "slide_type": "fragment"
    }
   },
   "source": [
    "Create a snapshot of the repository by **committing** the added file:"
   ]
  },
  {
   "cell_type": "code",
   "execution_count": null,
   "metadata": {},
   "outputs": [],
   "source": [
    "git commit -m 'Initial version of myfile.py'  "
   ]
  },
  {
   "cell_type": "markdown",
   "metadata": {
    "slideshow": {
     "slide_type": "subslide"
    }
   },
   "source": [
    "## The lifecycle of the status of your files \n",
    "\n",
    "* Files in your repository can either be **tracked** or **untracked**.\n",
    "* Untracked files are always left untouched by `git`.\n",
    "* Tracked files can be \n",
    "    * **unmodified** (no changes since last commit)\n",
    "    * **modified**   (changes since last commit)\n",
    "    * **staged**    (changes are ready to commit)\n",
    "* This figure shows the full lifecycle:    \n",
    "<center>\n",
    "  <img src=\"figs/lifecycle_with_cmds.png\" style=\"width: 1000px;\"/>  \n",
    "</center>\n",
    "* The `git status` command shows in which status files are.\n"
   ]
  },
  {
   "cell_type": "markdown",
   "metadata": {
    "slideshow": {
     "slide_type": "subslide"
    }
   },
   "source": [
    "## Inpsecting the changes made since the last commit\n",
    "\n",
    "Let's first make some changes"
   ]
  },
  {
   "cell_type": "code",
   "execution_count": null,
   "metadata": {},
   "outputs": [],
   "source": [
    "echo \"print(\\\"World\\\")\" >> myfile.py \n",
    "echo \"This is a simple hello world project.\" > README.md"
   ]
  },
  {
   "cell_type": "markdown",
   "metadata": {},
   "source": [
    "We use `git status` to see the current state of the repo:"
   ]
  },
  {
   "cell_type": "code",
   "execution_count": null,
   "metadata": {},
   "outputs": [],
   "source": [
    "git status"
   ]
  },
  {
   "cell_type": "markdown",
   "metadata": {},
   "source": [
    "Line-by-line changes since the last commit can be displayed with `git diff`"
   ]
  },
  {
   "cell_type": "code",
   "execution_count": null,
   "metadata": {},
   "outputs": [],
   "source": [
    "git diff  "
   ]
  },
  {
   "cell_type": "markdown",
   "metadata": {
    "slideshow": {
     "slide_type": "subslide"
    }
   },
   "source": [
    "## Creating another commit\n",
    "Let's stage all changes with `git add`: "
   ]
  },
  {
   "cell_type": "code",
   "execution_count": null,
   "metadata": {},
   "outputs": [],
   "source": [
    "git add README.md myfile.py"
   ]
  },
  {
   "cell_type": "code",
   "execution_count": null,
   "metadata": {},
   "outputs": [],
   "source": [
    "git status"
   ]
  },
  {
   "cell_type": "markdown",
   "metadata": {},
   "source": [
    "If we are satisfied, we create a snapshot of the repo with `git commit`: "
   ]
  },
  {
   "cell_type": "code",
   "execution_count": null,
   "metadata": {},
   "outputs": [],
   "source": [
    "git commit -m 'New README.md file and fix in myfile.py'"
   ]
  },
  {
   "cell_type": "markdown",
   "metadata": {
    "slideshow": {
     "slide_type": "subslide"
    }
   },
   "source": [
    "## Viewing the history of commits\n",
    "* For every commit, git creates a snapshot of all tracked files in the repository.\n",
    "* Each commit is identified by unique hash key\n",
    "<center>\n",
    "  <img src=\"figs/git_hist_simple1.png\" style=\"width: 1000px;\"/>  \n",
    "</center>\n",
    "\n",
    "* `git log` can be used to view the commits in a repository:"
   ]
  },
  {
   "cell_type": "code",
   "execution_count": null,
   "metadata": {},
   "outputs": [],
   "source": [
    "git log --oneline"
   ]
  },
  {
   "cell_type": "markdown",
   "metadata": {
    "slideshow": {
     "slide_type": "fragment"
    }
   },
   "source": [
    "* Git allows us to view older version of the repository \n",
    "    * **But how do we know which version we are currently at?**"
   ]
  },
  {
   "cell_type": "markdown",
   "metadata": {
    "slideshow": {
     "slide_type": "subslide"
    }
   },
   "source": [
    "## The role of the `HEAD` pointer\n",
    "\n",
    "* `HEAD` is a special pointer that shows where you currently are in the repository history.\n",
    "<center>\n",
    "  <img src=\"figs/git_hist_simple.png\" style=\"width: 1000px;\"/>  \n",
    "</center>\n",
    "* Running `git commit` updates the `HEAD` pointer to that latest commit.\n"
   ]
  },
  {
   "cell_type": "code",
   "execution_count": null,
   "metadata": {},
   "outputs": [],
   "source": [
    "git log --oneline"
   ]
  },
  {
   "cell_type": "markdown",
   "metadata": {},
   "source": [
    "Some usefull command line arguments for `git log`:\n",
    "* `--oneline`: summarize each commit as one line\n",
    "* `--decorate`: use colors to make output more readable"
   ]
  },
  {
   "cell_type": "markdown",
   "metadata": {
    "slideshow": {
     "slide_type": "subslide"
    }
   },
   "source": [
    "##  Back to the future: Getting older revisions of a repository\n",
    "\n",
    "* To go to a previous snapshot of the repository:\n",
    "    * Simply **move the `HEAD` pointer to that commit**.\n",
    "    * All tracked files will automatically be updated to the version in that commit. \n",
    "* The command for moving the `HEAD` pointer is `git checkout`:"
   ]
  },
  {
   "cell_type": "code",
   "execution_count": null,
   "metadata": {},
   "outputs": [],
   "source": [
    "git log --oneline"
   ]
  },
  {
   "cell_type": "markdown",
   "metadata": {},
   "source": [
    "Let's revert to the first commit:"
   ]
  },
  {
   "cell_type": "code",
   "execution_count": null,
   "metadata": {},
   "outputs": [],
   "source": [
    "git checkout 542ba1e"
   ]
  },
  {
   "cell_type": "code",
   "execution_count": null,
   "metadata": {
    "scrolled": true,
    "slideshow": {
     "slide_type": "fragment"
    }
   },
   "outputs": [],
   "source": [
    "git log --oneline --all"
   ]
  },
  {
   "cell_type": "markdown",
   "metadata": {},
   "source": [
    "The `README.md` has disappeared and we have the initial version of `myfile.py` back:"
   ]
  },
  {
   "cell_type": "code",
   "execution_count": null,
   "metadata": {},
   "outputs": [],
   "source": [
    "ls"
   ]
  },
  {
   "cell_type": "markdown",
   "metadata": {
    "slideshow": {
     "slide_type": "fragment"
    }
   },
   "source": [
    "To move back to the latest version, we use:"
   ]
  },
  {
   "cell_type": "code",
   "execution_count": null,
   "metadata": {},
   "outputs": [],
   "source": [
    "git checkout master  # alternativly use the identifier of the latest commit"
   ]
  },
  {
   "cell_type": "code",
   "execution_count": null,
   "metadata": {},
   "outputs": [],
   "source": [
    "ls"
   ]
  },
  {
   "cell_type": "markdown",
   "metadata": {
    "slideshow": {
     "slide_type": "subslide"
    }
   },
   "source": [
    "## Removing and moving files\n",
    "\n",
    "Files can be removed from the repository with\n",
    "```bash\n",
    "$ git rm myfile.py\n",
    "```\n",
    "\n",
    "and moved with\n",
    "\n",
    "```bash\n",
    "$ git mv myfile.py file.py\n",
    "```"
   ]
  },
  {
   "cell_type": "markdown",
   "metadata": {
    "slideshow": {
     "slide_type": "skip"
    }
   },
   "source": [
    "## Tagging \n",
    "\n",
    "* Git has the ability to tag specific commits (i.e. give them a more memorable name than the identifier).\n",
    "* Typically used to mark release points of your software"
   ]
  },
  {
   "cell_type": "markdown",
   "metadata": {
    "slideshow": {
     "slide_type": "subslide"
    }
   },
   "source": [
    "## `git` cheat sheet (part 1)\n",
    "\n",
    "  * `git init .`: create a new (local) repository\n",
    "\n",
    "  * `git status`: View status of commited/uncommited files\n",
    "\n",
    "  * `git commit -a`: create a commit of all tracked files\n",
    "\n",
    "  * `git rm FILE`: remove a file\n",
    "\n",
    "  * `git mv FILE`: move/rename a file\n",
    "  "
   ]
  },
  {
   "cell_type": "markdown",
   "metadata": {
    "slideshow": {
     "slide_type": "subslide"
    }
   },
   "source": [
    "# Remote repositories\n",
    "\n",
    "We can work on git repositories that live on a remote location (for collaboration and backup).\n",
    "\n",
    "Let's say we created a git repository on github.com: https://github.com/funsim/mytest\n",
    "\n",
    "<center>\n",
    "<img src=\"figs/github.png\" height=200>\n",
    "</center>"
   ]
  },
  {
   "cell_type": "markdown",
   "metadata": {
    "slideshow": {
     "slide_type": "subslide"
    }
   },
   "source": [
    "## Working with remote repositorys\n",
    "Clone a remote repository to a local directory:"
   ]
  },
  {
   "cell_type": "code",
   "execution_count": null,
   "metadata": {},
   "outputs": [],
   "source": [
    "cd ~/in3110\n",
    "git clone git@github.com:funsim/mytest.git\n",
    "cd mytest"
   ]
  },
  {
   "cell_type": "markdown",
   "metadata": {
    "slideshow": {
     "slide_type": "fragment"
    }
   },
   "source": [
    "Create a new commit and push it to the remote repository (requires write permission on the remote repository)."
   ]
  },
  {
   "cell_type": "code",
   "execution_count": null,
   "metadata": {},
   "outputs": [],
   "source": [
    "# echo \"print(42)\" > main.py\n",
    "# git add main.py\n",
    "# git commit -m \"Add main.py file\"\n",
    "git push origin master   "
   ]
  },
  {
   "cell_type": "markdown",
   "metadata": {
    "slideshow": {
     "slide_type": "fragment"
    }
   },
   "source": [
    "On https://github.com/funsim/mytest we can see the new commit has been uploaded."
   ]
  },
  {
   "cell_type": "markdown",
   "metadata": {
    "slideshow": {
     "slide_type": "fragment"
    }
   },
   "source": [
    "You can download updates from remote repository with \n",
    "```bash\n",
    "git pull origin master \n",
    "```\n",
    "* Conflicting changes might have been made on the local and remote repository. \n",
    "* This results merge conflicts which need to be resolved manually.\n",
    "* This will be part of your first assignment."
   ]
  },
  {
   "cell_type": "markdown",
   "metadata": {
    "slideshow": {
     "slide_type": "subslide"
    }
   },
   "source": [
    "## `git` cheat sheet (part 2)\n",
    "\n",
    "  * `git clone URL`: clone a (remote) repository\n",
    "\n",
    "  * `git pull origin master`: update file tree from (remote) repository\n",
    "\n",
    "  * `git push origin master`: push changes to central repository"
   ]
  },
  {
   "cell_type": "markdown",
   "metadata": {
    "slideshow": {
     "slide_type": "slide"
    }
   },
   "source": [
    "# Branches\n",
    "\n",
    "\n",
    "* Branches are leighweigt copies of the main repository \n",
    "* Allow fast testing of new code without touching the main repository\n",
    "\n",
    "<center>\n",
    "<img src=\"figs/git_hist2.png\" width=800>\n",
    "</center>\n",
    "\n",
    "* Remember: `HEAD` is a special pointer that shows where you currently are in the repository history.\n",
    "* `master` is a default branch that is created when initializing a new repository."
   ]
  },
  {
   "cell_type": "markdown",
   "metadata": {
    "slideshow": {
     "slide_type": "subslide"
    }
   },
   "source": [
    "## Creating a branch"
   ]
  },
  {
   "cell_type": "markdown",
   "metadata": {},
   "source": [
    "* Branches are created with the `git branch NAME` command."
   ]
  },
  {
   "cell_type": "code",
   "execution_count": null,
   "metadata": {},
   "outputs": [],
   "source": [
    "cd ~/in3110/mysrc\n",
    "git branch testing"
   ]
  },
  {
   "cell_type": "markdown",
   "metadata": {},
   "source": [
    "* The result is that we created a new pointer to the current commit.\n",
    "* The `HEAD` pointer still points to the branch `master`.\n",
    "<center>\n",
    "<img src=\"https://git-scm.com/book/en/v2/images/head-to-master.png\" width=800>\n",
    "</center>"
   ]
  },
  {
   "cell_type": "code",
   "execution_count": null,
   "metadata": {},
   "outputs": [],
   "source": [
    "git log --oneline --decorate"
   ]
  },
  {
   "cell_type": "markdown",
   "metadata": {
    "slideshow": {
     "slide_type": "subslide"
    }
   },
   "source": [
    "# Switching to the new branch\n",
    "\n",
    "* As usual, we use the `git checkout` command to move the `HEAD` pointer."
   ]
  },
  {
   "cell_type": "code",
   "execution_count": null,
   "metadata": {},
   "outputs": [],
   "source": [
    "git checkout testing"
   ]
  },
  {
   "cell_type": "markdown",
   "metadata": {},
   "source": [
    "<center>\n",
    "    <img src=\"https://git-scm.com/book/en/v2/images/head-to-testing.png\" width=800>\n",
    "    </center>"
   ]
  },
  {
   "cell_type": "code",
   "execution_count": null,
   "metadata": {},
   "outputs": [],
   "source": [
    "git log --oneline --decorate"
   ]
  },
  {
   "cell_type": "markdown",
   "metadata": {
    "slideshow": {
     "slide_type": "subslide"
    }
   },
   "source": [
    "## Creating a commit on the new branch\n",
    "\n",
    "Which difference does this make? Let's make another commit:"
   ]
  },
  {
   "cell_type": "code",
   "execution_count": null,
   "metadata": {},
   "outputs": [],
   "source": [
    "echo \"Hello world\" >> testing.txt\n",
    "git add testing.txt\n",
    "git commit -m \"Add testing.txt\""
   ]
  },
  {
   "cell_type": "markdown",
   "metadata": {},
   "source": [
    "<center>\n",
    "<img src=\"https://git-scm.com/book/en/v2/images/advance-testing.png\" width=800> \n",
    "    </center>"
   ]
  },
  {
   "cell_type": "code",
   "execution_count": null,
   "metadata": {},
   "outputs": [],
   "source": [
    "git log --oneline --decorate --all"
   ]
  },
  {
   "cell_type": "markdown",
   "metadata": {
    "slideshow": {
     "slide_type": "subslide"
    }
   },
   "source": [
    "## Switching between branches\n",
    "If we checkout the `master` branch again, all files will be updated to the version in `master` - in particular the `testing.txt` file will be missing:"
   ]
  },
  {
   "cell_type": "code",
   "execution_count": null,
   "metadata": {},
   "outputs": [],
   "source": [
    "git checkout master"
   ]
  },
  {
   "cell_type": "markdown",
   "metadata": {},
   "source": [
    "<center>\n",
    "    <img src=\"https://git-scm.com/book/en/v2/images/checkout-master.png\" width=800> \n",
    "    </center>"
   ]
  },
  {
   "cell_type": "code",
   "execution_count": null,
   "metadata": {},
   "outputs": [],
   "source": [
    "ls"
   ]
  },
  {
   "cell_type": "markdown",
   "metadata": {
    "slideshow": {
     "slide_type": "subslide"
    }
   },
   "source": [
    "## Diverging branches\n",
    "Let's now create another commit on the master branch:\n"
   ]
  },
  {
   "cell_type": "code",
   "execution_count": null,
   "metadata": {},
   "outputs": [],
   "source": [
    "echo \"Hello world\" >> master.txt\n",
    "git add master.txt\n",
    "git commit -m \"Add master.txt\""
   ]
  },
  {
   "cell_type": "markdown",
   "metadata": {},
   "source": [
    "<center><img src=\"https://git-scm.com/book/en/v2/images/advance-master.png\" width=800> \n",
    "    </center>"
   ]
  },
  {
   "cell_type": "code",
   "execution_count": null,
   "metadata": {},
   "outputs": [],
   "source": [
    "git log --oneline --decorate --graph --all"
   ]
  },
  {
   "cell_type": "markdown",
   "metadata": {
    "slideshow": {
     "slide_type": "subslide"
    }
   },
   "source": [
    "## Merging branches\n",
    "\n",
    "We can now merge the change from the testing branch into the master branch:"
   ]
  },
  {
   "cell_type": "code",
   "execution_count": null,
   "metadata": {},
   "outputs": [],
   "source": [
    "git branch # Check that we are on the master branch"
   ]
  },
  {
   "cell_type": "markdown",
   "metadata": {},
   "source": [
    "```bash\n",
    "git merge testing # Note for Simon: Run this on the cmd prompt\n",
    "```"
   ]
  },
  {
   "cell_type": "code",
   "execution_count": null,
   "metadata": {},
   "outputs": [],
   "source": [
    "git log --oneline --decorate --graph --all"
   ]
  },
  {
   "cell_type": "markdown",
   "metadata": {},
   "source": [
    "Now both the files from master and testing are in the repo:"
   ]
  },
  {
   "cell_type": "code",
   "execution_count": null,
   "metadata": {},
   "outputs": [],
   "source": [
    "ls"
   ]
  },
  {
   "cell_type": "markdown",
   "metadata": {
    "slideshow": {
     "slide_type": "subslide"
    }
   },
   "source": [
    "## `git` cheat sheet (part 3)\n",
    "\n",
    "\n",
    "* `git branch NAME`: create a new branch\n",
    "* `git checkout NAME`: move the `HEAD` pointer to `NAME` (can be a commit identifier or branch name) \n",
    "* `git merge NAME`: merges the commits of the branch with name `NAME` into the current branch.\n",
    "\n",
    "  "
   ]
  },
  {
   "cell_type": "markdown",
   "metadata": {
    "slideshow": {
     "slide_type": "subslide"
    }
   },
   "source": [
    "## That's it for today!\n",
    "\n",
    "\n",
    "Do the interactive git tutorial on https://try.github.io\n",
    "\n",
    "<img src=\"figs/try-git.png\" height=150>\n",
    "\n"
   ]
  }
 ],
 "metadata": {
  "celltoolbar": "Slideshow",
  "kernelspec": {
   "display_name": "Bash",
   "language": "bash",
   "name": "bash"
  },
  "language_info": {
   "codemirror_mode": "shell",
   "file_extension": ".sh",
   "mimetype": "text/x-sh",
   "name": "bash"
  },
  "livereveal": {
   "scroll": true,
   "start_slideshow_at": "selected",
   "theme": "serif"
  }
 },
 "nbformat": 4,
 "nbformat_minor": 1
}
