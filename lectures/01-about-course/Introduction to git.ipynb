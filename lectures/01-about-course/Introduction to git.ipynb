{
 "cells": [
  {
   "cell_type": "markdown",
   "metadata": {
    "slideshow": {
     "slide_type": "slide"
    }
   },
   "source": [
    "# The git version control system\n",
    "\n",
    "<img src=\"https://imgs.xkcd.com/comics/git.png\"/>  \n"
   ]
  },
  {
   "cell_type": "markdown",
   "metadata": {
    "slideshow": {
     "slide_type": "subslide"
    }
   },
   "source": [
    "Version control systems are systems to manage changes to documents, computer programs, large web sites, and other collections of information."
   ]
  },
  {
   "cell_type": "markdown",
   "metadata": {
    "slideshow": {
     "slide_type": "subslide"
    }
   },
   "source": [
    "## The main idea of version control systems\n",
    "  <img src=\"https://git-scm.com/figures/18333fig0103-tn.png\" style=\"width: 400px;\"/>     \n",
    "  \n",
    "---------------------------\n",
    "* A version controlled system (typically) contains one official repository.\n",
    "* Programmers work on *copies* of repository files and upload the changes to the official repository.\n",
    "* Non-conflicting modifications by different team members are merged automatically.\n",
    "* Conflicting modifications are detected and must be resolved manually.  "
   ]
  },
  {
   "cell_type": "markdown",
   "metadata": {
    "slideshow": {
     "slide_type": "subslide"
    }
   },
   "source": [
    "## Use cases for version control systems\n",
    "\n",
    "**Organization**\n",
    "  * Retrieve old versions of files.\n",
    "  * Print history of changes.\n",
    "  \n",
    "**Collaboration**\n",
    " * Share code between people and work simultanously on the same codebase\n",
    " * Track changes and quickly undo changes if necessary\n",
    "\n",
    "**Backups**\n",
    "  * Store copy of git repository on an external platform e.g. github  "
   ]
  },
  {
   "cell_type": "markdown",
   "metadata": {
    "slideshow": {
     "slide_type": "subslide"
    }
   },
   "source": [
    "## The git version control system\n",
    "\n",
    "  * git: a modern version control system, similar to mercurial, bazaar, svn, cvs etc. version control system.\n",
    "  * There exist a good ecosystem for storing git repositories online (e.g. github and bitbucket).\n",
    "  * Installation from <http://git-scm.com>\n",
    "  * Recommended book (free to download [here](https://git-scm.com/book/en/v2))\n",
    "  <img src=\"figs/progit.png\" style=\"width: 400px;\"/>  \n",
    "  \n",
    "  "
   ]
  },
  {
   "cell_type": "markdown",
   "metadata": {
    "slideshow": {
     "slide_type": "slide"
    }
   },
   "source": [
    "# Creating your first git repository\n",
    "\n",
    "A git repository is a folder in which files can be tracked by git. A git repository is created with:"
   ]
  },
  {
   "cell_type": "markdown",
   "metadata": {},
   "source": [
    "```bash\n",
    "$ cd src\n",
    "$ git init .  # The src folder is now also a git repository\n",
    "```"
   ]
  },
  {
   "cell_type": "markdown",
   "metadata": {
    "slideshow": {
     "slide_type": "fragment"
    }
   },
   "source": [
    "Files need to be **added** to the repository in order to track their changes:"
   ]
  },
  {
   "cell_type": "markdown",
   "metadata": {},
   "source": [
    "```bash\n",
    "# create myfile.py and some text files\n",
    "$ git add myfile.py *.txt\n",
    "```"
   ]
  },
  {
   "cell_type": "markdown",
   "metadata": {
    "slideshow": {
     "slide_type": "fragment"
    }
   },
   "source": [
    "Commit all tracked files into a new version:"
   ]
  },
  {
   "cell_type": "markdown",
   "metadata": {},
   "source": [
    "```bash\n",
    "$ git commit -a -m 'This is my first commit'\n",
    "```\n"
   ]
  },
  {
   "cell_type": "markdown",
   "metadata": {
    "slideshow": {
     "slide_type": "fragment"
    }
   },
   "source": [
    "Make some changes and create a new commit."
   ]
  },
  {
   "cell_type": "markdown",
   "metadata": {},
   "source": [
    "```bash\n",
    "# edit myfile.py\n",
    "\n",
    "$ git status # list files that have been changed since last commit\n",
    "\n",
    "$ git diff   # show the detailed changes since the last commit\n",
    "\n",
    "$ git commit -a -m 'Explain what I changed'\n",
    "```"
   ]
  },
  {
   "cell_type": "markdown",
   "metadata": {
    "slideshow": {
     "slide_type": "subslide"
    }
   },
   "source": [
    "## Back to the future"
   ]
  },
  {
   "cell_type": "markdown",
   "metadata": {},
   "source": [
    "We can view the history of changes with:\n",
    "```bash\n",
    "git log\n",
    "```\n",
    "\n",
    "<img src=\"figs/git.png\" height=200>\n"
   ]
  },
  {
   "cell_type": "markdown",
   "metadata": {
    "slideshow": {
     "slide_type": "subslide"
    }
   },
   "source": [
    "Each version has a unique hash key. The hash can be used to see the specific changes made in one commit:"
   ]
  },
  {
   "cell_type": "markdown",
   "metadata": {},
   "source": [
    "```bash\n",
    "$ git log 6b229273cb1090bb63761d3d95457a1b57d91b7c -p\n",
    "```"
   ]
  },
  {
   "cell_type": "markdown",
   "metadata": {},
   "source": [
    "Or to reset to an older version:"
   ]
  },
  {
   "cell_type": "markdown",
   "metadata": {},
   "source": [
    "```bash\n",
    "$ git checkout 664250addc1a23c9e8db2c53e203ea2ef9c7c9fc myfile.py\n",
    "```"
   ]
  },
  {
   "cell_type": "markdown",
   "metadata": {},
   "source": [
    "# Removing and moving files\n",
    "\n",
    "Files can be removed from the repository with\n",
    "```bash\n",
    "$ git rm myfile.py\n",
    "```\n",
    "\n",
    "and moved with\n",
    "\n",
    "```bash\n",
    "$ git mv myfile.py file.py\n",
    "```"
   ]
  },
  {
   "cell_type": "code",
   "execution_count": null,
   "metadata": {},
   "outputs": [],
   "source": []
  },
  {
   "cell_type": "markdown",
   "metadata": {
    "slideshow": {
     "slide_type": "subslide"
    }
   },
   "source": [
    "## Remote repositories\n",
    "\n",
    "We can work on git repositories that live on a remote location (for collaboration and backup).\n",
    "\n",
    "Let's say we created a git repository on github.com.\n",
    "\n",
    "\n",
    "<img src=\"figs/github.png\" height=200>\n",
    "\n",
    "\n",
    "\n",
    "Clone a remote repository to a local repository:"
   ]
  },
  {
   "cell_type": "markdown",
   "metadata": {},
   "source": [
    "```bash\n",
    "git clone git@github.com:UiO-INF3331/UiO-INF3331.github.io.git\n",
    "cd UiO-INF3331.github.io\n",
    "```"
   ]
  },
  {
   "cell_type": "markdown",
   "metadata": {
    "slideshow": {
     "slide_type": "fragment"
    }
   },
   "source": [
    "Create a new commit and push it to the remote repository."
   ]
  },
  {
   "cell_type": "markdown",
   "metadata": {},
   "source": [
    "```bash\n",
    "(edit files)\n",
    "git commit -a -m 'Explain what I changed'\n",
    "git push origin master   # Requires write permission on the remote repository\n",
    "```\n"
   ]
  },
  {
   "cell_type": "markdown",
   "metadata": {
    "slideshow": {
     "slide_type": "fragment"
    }
   },
   "source": [
    "Download changes from remote repository:"
   ]
  },
  {
   "cell_type": "markdown",
   "metadata": {},
   "source": [
    "```bash\n",
    "git pull # This might result merge conflicts which need to be resolved manually (see exercise).\n",
    "```\n"
   ]
  },
  {
   "cell_type": "markdown",
   "metadata": {
    "slideshow": {
     "slide_type": "subslide"
    }
   },
   "source": [
    "## Some more git commands\n",
    "\n",
    "  * `git clone URL`: clone a (remote) repository\n",
    "\n",
    "  * `git init`: create a new (local) repository\n",
    "\n",
    "  * `git status`: View status of commited/uncommited files\n",
    "\n",
    "  * `git commit -a`: check files into the repository\n",
    "\n",
    "  * `git rm`: remove a file\n",
    "\n",
    "  * `git mv`: move/rename a file\n",
    "\n",
    "  * `git pull`: update file tree from (remote) repository\n",
    "\n",
    "  * `git push`: push changes to central repository\n",
    "\n",
    "  * And much more, see `git help`\n",
    "  "
   ]
  },
  {
   "cell_type": "markdown",
   "metadata": {
    "slideshow": {
     "slide_type": "subslide"
    }
   },
   "source": [
    "## Online git tutorial\n",
    "\n",
    "Do the interactive git tutorial on https://try.github.io\n",
    "\n",
    "<img src=\"figs/try-git.png\" height=150>\n",
    "\n"
   ]
  }
 ],
 "metadata": {
  "celltoolbar": "Slideshow",
  "kernelspec": {
   "display_name": "Python 3",
   "language": "python",
   "name": "python3"
  },
  "language_info": {
   "codemirror_mode": {
    "name": "ipython",
    "version": 3
   },
   "file_extension": ".py",
   "mimetype": "text/x-python",
   "name": "python",
   "nbconvert_exporter": "python",
   "pygments_lexer": "ipython3",
   "version": "3.7.3"
  },
  "livereveal": {
   "scroll": true,
   "start_slideshow_at": "selected",
   "theme": "serif"
  }
 },
 "nbformat": 4,
 "nbformat_minor": 1
}
