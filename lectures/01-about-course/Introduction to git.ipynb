{
 "cells": [
  {
   "cell_type": "markdown",
   "metadata": {
    "slideshow": {
     "slide_type": "slide"
    }
   },
   "source": [
    "# The git version control system\n",
    "\n",
    "<center>\n",
    "<img src=\"https://imgs.xkcd.com/comics/git.png\"/>  \n",
    "</center>"
   ]
  },
  {
   "cell_type": "markdown",
   "metadata": {
    "slideshow": {
     "slide_type": "subslide"
    }
   },
   "source": [
    "Version control systems are systems to **manage changes** to documents, computer programs, large web sites, and other collections of information."
   ]
  },
  {
   "cell_type": "markdown",
   "metadata": {
    "slideshow": {
     "slide_type": "subslide"
    }
   },
   "source": [
    "## The main idea of version control systems\n",
    "<center>\n",
    "  <img src=\"https://git-scm.com/figures/18333fig0103-tn.png\" style=\"width: 600px;\"/>     \n",
    "  </center>\n",
    "\n",
    "\n",
    "* A version controlled system (typically) contains **one official repository**.\n",
    "* Programmers work on **copies** of repository files and upload the changes to the official repository.\n",
    "* **Conflicts** might occur if two people work on the same file simultaneously.\n",
    "    * Non-conflicting modifications are merged automatically.\n",
    "    * Conflicting modifications must be resolved manually.  "
   ]
  },
  {
   "cell_type": "markdown",
   "metadata": {
    "slideshow": {
     "slide_type": "subslide"
    }
   },
   "source": [
    "## Use cases for version control systems\n",
    "\n",
    "**Organization**\n",
    "  * Retrieve old versions of files.\n",
    "  * Print history of changes.\n",
    "  \n",
    "**Collaboration**\n",
    " * Share code between people and work simultanously on the same codebase\n",
    " * Track changes and quickly undo changes if necessary\n",
    "\n",
    "**Backups**\n",
    "  * Store copy of git repository on an external platform e.g. github  "
   ]
  },
  {
   "cell_type": "markdown",
   "metadata": {
    "slideshow": {
     "slide_type": "subslide"
    }
   },
   "source": [
    "## The git version control system\n",
    "\n",
    "  * git: a modern version control system developed by Linus Torvalds\n",
    "  * git is a **fast**, **desentralized** and **open-source**.\n",
    "  * There exist a good ecosystem for storing git repositories online (e.g. github and bitbucket).\n",
    "  * Installation instructions: <http://git-scm.com>. On Debian derivates (e.g. Ubuntu):\n",
    "  ```bash\n",
    "  sudo apt-get install git\n",
    "  ```\n",
    "  * Recommended book (free to download [here](https://git-scm.com/book/en/v2))\n",
    "  <center>\n",
    "  <img src=\"figs/progit.png\" style=\"width: 400px;\"/>  \n",
    "  </center>\n",
    "  (The rest of the lecture uses material from this book)\n",
    "  "
   ]
  },
  {
   "cell_type": "markdown",
   "metadata": {
    "slideshow": {
     "slide_type": "slide"
    }
   },
   "source": [
    "# Creating your first git repository\n",
    "\n",
    "* A git repository is a folder in which files can be tracked by git. \n",
    "* A git repository is created with:"
   ]
  },
  {
   "cell_type": "code",
   "execution_count": 1,
   "metadata": {
    "scrolled": true
   },
   "outputs": [
    {
     "name": "stdout",
     "output_type": "stream",
     "text": [
      "Initialized empty Git repository in /home/simon/in3110/mysrc/.git/\n"
     ]
    }
   ],
   "source": [
    "cd ~/in3110/mysrc\n",
    "git init .  # The src folder is now also a git repository "
   ]
  },
  {
   "cell_type": "markdown",
   "metadata": {},
   "source": [
    "* Git created a (hidden) directory `.git` in that folder which will contain all history information."
   ]
  },
  {
   "cell_type": "markdown",
   "metadata": {
    "slideshow": {
     "slide_type": "subslide"
    }
   },
   "source": [
    "## Adding files to the repository\n",
    "* By default, git does not track any files.\n",
    "* Files need to be **added** to the repository in order to track their changes:"
   ]
  },
  {
   "cell_type": "code",
   "execution_count": 2,
   "metadata": {},
   "outputs": [],
   "source": [
    "echo \"print(\\\"Hello\\\")\" > myfile.py  # Create a new file myfile.py \n",
    "git add myfile.py"
   ]
  },
  {
   "cell_type": "markdown",
   "metadata": {
    "slideshow": {
     "slide_type": "fragment"
    }
   },
   "source": [
    "Create a snapshot of the repository by **committing** the added file:"
   ]
  },
  {
   "cell_type": "code",
   "execution_count": 3,
   "metadata": {},
   "outputs": [
    {
     "name": "stdout",
     "output_type": "stream",
     "text": [
      "[master (root-commit) 5e982ab] Initial version of myfile.py\n",
      " 1 file changed, 1 insertion(+)\n",
      " create mode 100644 myfile.py\n"
     ]
    }
   ],
   "source": [
    "git commit -m 'Initial version of myfile.py'  "
   ]
  },
  {
   "cell_type": "markdown",
   "metadata": {
    "slideshow": {
     "slide_type": "subslide"
    }
   },
   "source": [
    "## The lifecycle of the status of your files \n",
    "\n",
    "* Files in your repository can either be **tracked** or **untracked**.\n",
    "* Untracked files are always left untouched by `git`.\n",
    "* Tracked files can be \n",
    "    * **unmodified** (no changes since last commit)\n",
    "    * **modified**   (changes since last commit)\n",
    "    * **staged**    (changes are ready to commit)\n",
    "* This figure shows the full lifecycle:    \n",
    "<center>\n",
    "  <img src=\"figs/lifecycle_with_cmds.png\" style=\"width: 1000px;\"/>  \n",
    "</center>\n",
    "* The `git status` command shows in which status files are.\n"
   ]
  },
  {
   "cell_type": "markdown",
   "metadata": {
    "slideshow": {
     "slide_type": "subslide"
    }
   },
   "source": [
    "## Inpsecting the changes made since the last commit\n",
    "\n",
    "Let's first make some changes"
   ]
  },
  {
   "cell_type": "code",
   "execution_count": 5,
   "metadata": {},
   "outputs": [],
   "source": [
    "echo \"print(\\\"World\\\")\" >> myfile.py \n",
    "echo \"This is a simple hello world project.\" > README.md"
   ]
  },
  {
   "cell_type": "markdown",
   "metadata": {},
   "source": [
    "We use `git status` to see the current state of the repo:"
   ]
  },
  {
   "cell_type": "code",
   "execution_count": 6,
   "metadata": {},
   "outputs": [
    {
     "name": "stdout",
     "output_type": "stream",
     "text": [
      "On branch master\n",
      "Changes not staged for commit:\n",
      "  (use \"git add <file>...\" to update what will be committed)\n",
      "  (use \"git checkout -- <file>...\" to discard changes in working directory)\n",
      "\n",
      "\t\u001b[32mmodified:   myfile.py\u001b[m\n",
      "\n",
      "Untracked files:\n",
      "  (use \"git add <file>...\" to include in what will be committed)\n",
      "\n",
      "\t\u001b[36mREADME.md\u001b[m\n",
      "\n",
      "no changes added to commit (use \"git add\" and/or \"git commit -a\")\n"
     ]
    }
   ],
   "source": [
    "git status"
   ]
  },
  {
   "cell_type": "markdown",
   "metadata": {},
   "source": [
    "Line-by-line changes since the last commit can be displayed with `git diff`"
   ]
  },
  {
   "cell_type": "code",
   "execution_count": 7,
   "metadata": {},
   "outputs": [
    {
     "name": "stdout",
     "output_type": "stream",
     "text": [
      "\u001b[1;33mdiff --git a/myfile.py b/myfile.py\u001b[m\u001b[m\n",
      "\u001b[1;33mindex 2f9a147..3d3d93b 100644\u001b[m\u001b[m\n",
      "\u001b[1;33m--- a/myfile.py\u001b[m\u001b[m\n",
      "\u001b[1;33m+++ b/myfile.py\u001b[m\u001b[m\n",
      "\u001b[1;35m@@ -1 +1,2 @@\u001b[m\u001b[m\n",
      " print(\"Hello\")\u001b[m\u001b[m\n",
      "\u001b[1;32m+\u001b[m\u001b[1;32mprint(\"World\")\u001b[m\u001b[m\n",
      "\u001b[K\u001b[?1l\u001b>"
     ]
    }
   ],
   "source": [
    "git diff  "
   ]
  },
  {
   "cell_type": "markdown",
   "metadata": {
    "slideshow": {
     "slide_type": "subslide"
    }
   },
   "source": [
    "## Creating another commit\n",
    "Let's stage all changes with `git add`: "
   ]
  },
  {
   "cell_type": "code",
   "execution_count": 8,
   "metadata": {},
   "outputs": [],
   "source": [
    "git add README.md #myfile.py"
   ]
  },
  {
   "cell_type": "code",
   "execution_count": 9,
   "metadata": {},
   "outputs": [
    {
     "name": "stdout",
     "output_type": "stream",
     "text": [
      "On branch master\n",
      "Changes to be committed:\n",
      "  (use \"git reset HEAD <file>...\" to unstage)\n",
      "\n",
      "\t\u001b[33mnew file:   README.md\u001b[m\n",
      "\t\u001b[33mmodified:   myfile.py\u001b[m\n",
      "\n"
     ]
    }
   ],
   "source": [
    "git status"
   ]
  },
  {
   "cell_type": "markdown",
   "metadata": {},
   "source": [
    "If we are satisfied, we create a snapshot of the repo with `git commit`: "
   ]
  },
  {
   "cell_type": "code",
   "execution_count": 10,
   "metadata": {},
   "outputs": [
    {
     "name": "stdout",
     "output_type": "stream",
     "text": [
      "[master 08f9cf0] New README.md file and fix in myfile.py\n",
      " 2 files changed, 2 insertions(+)\n",
      " create mode 100644 README.md\n"
     ]
    }
   ],
   "source": [
    "git commit -m 'New README.md file and fix in myfile.py'"
   ]
  },
  {
   "cell_type": "markdown",
   "metadata": {
    "slideshow": {
     "slide_type": "subslide"
    }
   },
   "source": [
    "## Viewing the history of commits\n",
    "* For every commit, git creates a snapshot of all tracked files in the repository.\n",
    "* Each commit is identified by unique hash key\n",
    "<center>\n",
    "  <img src=\"figs/git_hist_simple1.png\" style=\"width: 1000px;\"/>  \n",
    "</center>\n",
    "\n",
    "* `git log` can be used to view the commits in a repository:"
   ]
  },
  {
   "cell_type": "code",
   "execution_count": 11,
   "metadata": {},
   "outputs": [
    {
     "name": "stdout",
     "output_type": "stream",
     "text": [
      "\u001b[33m08f9cf0\u001b[m\u001b[33m (\u001b[m\u001b[1;36mHEAD -> \u001b[m\u001b[1;32mmaster\u001b[m\u001b[33m)\u001b[m New README.md file and fix in myfile.py\u001b[m\n",
      "\u001b[33m5e982ab\u001b[m Initial version of myfile.py\u001b[m\n",
      "\u001b[K\u001b[?1l\u001b>"
     ]
    }
   ],
   "source": [
    "git log --oneline"
   ]
  },
  {
   "cell_type": "markdown",
   "metadata": {
    "slideshow": {
     "slide_type": "fragment"
    }
   },
   "source": [
    "* Git allows us to view older version of the repository \n",
    "    * **But how do we know which version we are currently at?**"
   ]
  },
  {
   "cell_type": "markdown",
   "metadata": {
    "slideshow": {
     "slide_type": "subslide"
    }
   },
   "source": [
    "## The role of the `HEAD` pointer\n",
    "\n",
    "* `HEAD` is a special pointer that shows where you currently are in the repository history.\n",
    "<center>\n",
    "  <img src=\"figs/git_hist_simple.png\" style=\"width: 1000px;\"/>  \n",
    "</center>\n",
    "* Running `git commit` updates the `HEAD` pointer to that latest commit.\n"
   ]
  },
  {
   "cell_type": "code",
   "execution_count": 12,
   "metadata": {},
   "outputs": [
    {
     "name": "stdout",
     "output_type": "stream",
     "text": [
      "\u001b[33m08f9cf0\u001b[m\u001b[33m (\u001b[m\u001b[1;36mHEAD -> \u001b[m\u001b[1;32mmaster\u001b[m\u001b[33m)\u001b[m New README.md file and fix in myfile.py\u001b[m\n",
      "\u001b[33m5e982ab\u001b[m Initial version of myfile.py\u001b[m\n",
      "\u001b[K\u001b[?1l\u001b>"
     ]
    }
   ],
   "source": [
    "git log --oneline"
   ]
  },
  {
   "cell_type": "markdown",
   "metadata": {},
   "source": [
    "Some usefull command line arguments for `git log`:\n",
    "* `--oneline`: summarize each commit as one line\n",
    "* `--decorate`: use colors to make output more readable"
   ]
  },
  {
   "cell_type": "markdown",
   "metadata": {
    "slideshow": {
     "slide_type": "subslide"
    }
   },
   "source": [
    "##  Back to the future: Getting older revisions of a repository\n",
    "\n",
    "* To go to a previous snapshot of the repository:\n",
    "    * Simply **move the `HEAD` pointer to that commit**.\n",
    "    * All tracked files will automatically be updated to the version in that commit. \n",
    "* The command for moving the `HEAD` pointer is `git checkout`:"
   ]
  },
  {
   "cell_type": "code",
   "execution_count": 13,
   "metadata": {},
   "outputs": [
    {
     "name": "stdout",
     "output_type": "stream",
     "text": [
      "\u001b[33m08f9cf0\u001b[m\u001b[33m (\u001b[m\u001b[1;36mHEAD -> \u001b[m\u001b[1;32mmaster\u001b[m\u001b[33m)\u001b[m New README.md file and fix in myfile.py\u001b[m\n",
      "\u001b[33m5e982ab\u001b[m Initial version of myfile.py\u001b[m\n",
      "\u001b[K\u001b[?1l\u001b>"
     ]
    }
   ],
   "source": [
    "git log --oneline"
   ]
  },
  {
   "cell_type": "markdown",
   "metadata": {},
   "source": [
    "Let's revert to the first commit:"
   ]
  },
  {
   "cell_type": "code",
   "execution_count": 14,
   "metadata": {},
   "outputs": [
    {
     "name": "stdout",
     "output_type": "stream",
     "text": [
      "Note: checking out '5e982ab'.\n",
      "\n",
      "You are in 'detached HEAD' state. You can look around, make experimental\n",
      "changes and commit them, and you can discard any commits you make in this\n",
      "state without impacting any branches by performing another checkout.\n",
      "\n",
      "If you want to create a new branch to retain commits you create, you may\n",
      "do so (now or later) by using -b with the checkout command again. Example:\n",
      "\n",
      "  git checkout -b <new-branch-name>\n",
      "\n",
      "HEAD is now at 5e982ab Initial version of myfile.py\n"
     ]
    }
   ],
   "source": [
    "git checkout 5e982ab"
   ]
  },
  {
   "cell_type": "code",
   "execution_count": 15,
   "metadata": {
    "scrolled": true,
    "slideshow": {
     "slide_type": "fragment"
    }
   },
   "outputs": [
    {
     "name": "stdout",
     "output_type": "stream",
     "text": [
      "\u001b[33m08f9cf0\u001b[m\u001b[33m (\u001b[m\u001b[1;32mmaster\u001b[m\u001b[33m)\u001b[m New README.md file and fix in myfile.py\u001b[m\n",
      "\u001b[33m5e982ab\u001b[m\u001b[33m (\u001b[m\u001b[1;36mHEAD\u001b[m\u001b[33m)\u001b[m Initial version of myfile.py\u001b[m\n",
      "\u001b[K\u001b[?1l\u001b>"
     ]
    }
   ],
   "source": [
    "git log --oneline --all"
   ]
  },
  {
   "cell_type": "markdown",
   "metadata": {},
   "source": [
    "The `README.md` has disappeared and we have the initial version of `myfile.py` back:"
   ]
  },
  {
   "cell_type": "code",
   "execution_count": 17,
   "metadata": {},
   "outputs": [
    {
     "name": "stdout",
     "output_type": "stream",
     "text": [
      "print(\"Hello\")\n"
     ]
    }
   ],
   "source": [
    "cat myfile.py"
   ]
  },
  {
   "cell_type": "markdown",
   "metadata": {
    "slideshow": {
     "slide_type": "fragment"
    }
   },
   "source": [
    "To move back to the latest version, we use:"
   ]
  },
  {
   "cell_type": "code",
   "execution_count": 18,
   "metadata": {},
   "outputs": [
    {
     "name": "stdout",
     "output_type": "stream",
     "text": [
      "Previous HEAD position was 5e982ab Initial version of myfile.py\n",
      "Switched to branch 'master'\n"
     ]
    }
   ],
   "source": [
    "git checkout master  # alternativly use the identifier of the latest commit"
   ]
  },
  {
   "cell_type": "code",
   "execution_count": 19,
   "metadata": {},
   "outputs": [
    {
     "name": "stdout",
     "output_type": "stream",
     "text": [
      "myfile.py  README.md\n"
     ]
    }
   ],
   "source": [
    "ls"
   ]
  },
  {
   "cell_type": "markdown",
   "metadata": {
    "slideshow": {
     "slide_type": "subslide"
    }
   },
   "source": [
    "## Removing and moving files\n",
    "\n",
    "Files can be removed from the repository with\n",
    "```bash\n",
    "$ git rm myfile.py\n",
    "```\n",
    "\n",
    "and moved with\n",
    "\n",
    "```bash\n",
    "$ git mv myfile.py file.py\n",
    "```"
   ]
  },
  {
   "cell_type": "markdown",
   "metadata": {
    "slideshow": {
     "slide_type": "skip"
    }
   },
   "source": [
    "## Tagging \n",
    "\n",
    "* Git has the ability to tag specific commits (i.e. give them a more memorable name than the identifier).\n",
    "* Typically used to mark release points of your software"
   ]
  },
  {
   "cell_type": "markdown",
   "metadata": {
    "slideshow": {
     "slide_type": "subslide"
    }
   },
   "source": [
    "## `git` cheat sheet (part 1)\n",
    "\n",
    "  * `git init .`: create a new (local) repository\n",
    "\n",
    "  * `git status`: View status of commited/uncommited files\n",
    "\n",
    "  * `git commit -a`: create a commit of all tracked files\n",
    "\n",
    "  * `git rm FILE`: remove a file\n",
    "\n",
    "  * `git mv FILE`: move/rename a file\n",
    "  "
   ]
  },
  {
   "cell_type": "markdown",
   "metadata": {
    "slideshow": {
     "slide_type": "subslide"
    }
   },
   "source": [
    "# Remote repositories\n",
    "\n",
    "We can work on git repositories that live on a remote location (for collaboration and backup).\n",
    "\n",
    "Let's say we created a git repository on github.com: https://github.com/funsim/mytest\n",
    "\n",
    "<center>\n",
    "<img src=\"figs/github.png\" height=200>\n",
    "</center>"
   ]
  },
  {
   "cell_type": "markdown",
   "metadata": {
    "slideshow": {
     "slide_type": "subslide"
    }
   },
   "source": [
    "## Working with remote repositorys\n",
    "Clone a remote repository to a local directory:"
   ]
  },
  {
   "cell_type": "code",
   "execution_count": 20,
   "metadata": {},
   "outputs": [
    {
     "name": "stdout",
     "output_type": "stream",
     "text": [
      "Cloning into 'mytest'...\n",
      "remote: Enumerating objects: 3, done.\u001b[K\n",
      "remote: Counting objects: 100% (3/3), done.\u001b[K\n",
      "remote: Total 3 (delta 0), reused 0 (delta 0), pack-reused 0\u001b[K\n",
      "Receiving objects: 100% (3/3), done.\n"
     ]
    }
   ],
   "source": [
    "cd ~/in3110\n",
    "git clone git@github.com:funsim/mytest.git\n",
    "cd mytest"
   ]
  },
  {
   "cell_type": "markdown",
   "metadata": {
    "slideshow": {
     "slide_type": "fragment"
    }
   },
   "source": [
    "Create a new commit and push it to the remote repository (requires write permission on the remote repository)."
   ]
  },
  {
   "cell_type": "code",
   "execution_count": 21,
   "metadata": {},
   "outputs": [
    {
     "name": "stdout",
     "output_type": "stream",
     "text": [
      "[master f22346f] Add main.py file\n",
      " 1 file changed, 1 insertion(+)\n",
      " create mode 100644 main.py\n",
      "Enumerating objects: 4, done.\n",
      "Counting objects: 100% (4/4), done.\n",
      "Delta compression using up to 8 threads\n",
      "Compressing objects: 100% (2/2), done.\n",
      "Writing objects: 100% (3/3), 288 bytes | 288.00 KiB/s, done.\n",
      "Total 3 (delta 0), reused 0 (delta 0)\n",
      "To github.com:funsim/mytest.git\n",
      "   b734ee7..f22346f  master -> master\n"
     ]
    }
   ],
   "source": [
    "echo \"print(42)\" > main.py\n",
    "git add main.py\n",
    "git commit -m \"Add main.py file\"\n",
    "git push origin master   "
   ]
  },
  {
   "cell_type": "markdown",
   "metadata": {
    "slideshow": {
     "slide_type": "fragment"
    }
   },
   "source": [
    "On https://github.com/funsim/mytest we can see the new commit has been uploaded."
   ]
  },
  {
   "cell_type": "markdown",
   "metadata": {
    "slideshow": {
     "slide_type": "fragment"
    }
   },
   "source": [
    "You can download updates from remote repository with \n",
    "```bash\n",
    "git pull origin master \n",
    "```\n",
    "* Conflicting changes might have been made on the local and remote repository. \n",
    "* This results merge conflicts which need to be resolved manually.\n",
    "* This will be part of your first assignment."
   ]
  },
  {
   "cell_type": "markdown",
   "metadata": {
    "slideshow": {
     "slide_type": "subslide"
    }
   },
   "source": [
    "## `git` cheat sheet (part 2)\n",
    "\n",
    "  * `git clone URL`: clone a (remote) repository\n",
    "\n",
    "  * `git pull origin master`: update file tree from (remote) repository\n",
    "\n",
    "  * `git push origin master`: push changes to central repository"
   ]
  },
  {
   "cell_type": "markdown",
   "metadata": {
    "slideshow": {
     "slide_type": "slide"
    }
   },
   "source": [
    "# Branches\n",
    "\n",
    "\n",
    "* Branches are leighweigt copies of the main repository \n",
    "* Allow fast testing of new code without touching the main repository\n",
    "\n",
    "<center>\n",
    "<img src=\"figs/git_hist2.png\" width=800>\n",
    "</center>\n",
    "\n",
    "* Remember: `HEAD` is a special pointer that shows where you currently are in the repository history.\n",
    "* `master` is a default branch that is created when initializing a new repository."
   ]
  },
  {
   "cell_type": "markdown",
   "metadata": {
    "slideshow": {
     "slide_type": "subslide"
    }
   },
   "source": [
    "## Creating a branch"
   ]
  },
  {
   "cell_type": "markdown",
   "metadata": {},
   "source": [
    "* Branches are created with the `git branch NAME` command."
   ]
  },
  {
   "cell_type": "code",
   "execution_count": 22,
   "metadata": {},
   "outputs": [],
   "source": [
    "cd ~/in3110/mysrc\n",
    "git branch testing"
   ]
  },
  {
   "cell_type": "markdown",
   "metadata": {},
   "source": [
    "* The result is that we created a new pointer to the current commit.\n",
    "* The `HEAD` pointer still points to the branch `master`.\n",
    "<center>\n",
    "<img src=\"https://git-scm.com/book/en/v2/images/head-to-master.png\" width=800>\n",
    "</center>"
   ]
  },
  {
   "cell_type": "code",
   "execution_count": 23,
   "metadata": {},
   "outputs": [
    {
     "name": "stdout",
     "output_type": "stream",
     "text": [
      "\u001b[33m08f9cf0\u001b[m\u001b[33m (\u001b[m\u001b[1;36mHEAD -> \u001b[m\u001b[1;32mmaster\u001b[m\u001b[33m, \u001b[m\u001b[1;32mtesting\u001b[m\u001b[33m)\u001b[m New README.md file and fix in myfile.py\u001b[m\n",
      "\u001b[33m5e982ab\u001b[m Initial version of myfile.py\u001b[m\n",
      "\u001b[K\u001b[?1l\u001b>"
     ]
    }
   ],
   "source": [
    "git log --oneline --decorate"
   ]
  },
  {
   "cell_type": "markdown",
   "metadata": {
    "slideshow": {
     "slide_type": "subslide"
    }
   },
   "source": [
    "# Switching to the new branch\n",
    "\n",
    "* As usual, we use the `git checkout` command to move the `HEAD` pointer."
   ]
  },
  {
   "cell_type": "code",
   "execution_count": 25,
   "metadata": {},
   "outputs": [
    {
     "name": "stdout",
     "output_type": "stream",
     "text": [
      "Switched to branch 'testing'\n"
     ]
    }
   ],
   "source": [
    "git checkout testing"
   ]
  },
  {
   "cell_type": "markdown",
   "metadata": {},
   "source": [
    "<center>\n",
    "    <img src=\"https://git-scm.com/book/en/v2/images/head-to-testing.png\" width=800>\n",
    "    </center>"
   ]
  },
  {
   "cell_type": "code",
   "execution_count": 26,
   "metadata": {},
   "outputs": [
    {
     "name": "stdout",
     "output_type": "stream",
     "text": [
      "\u001b[33m08f9cf0\u001b[m\u001b[33m (\u001b[m\u001b[1;36mHEAD -> \u001b[m\u001b[1;32mtesting\u001b[m\u001b[33m, \u001b[m\u001b[1;32mmaster\u001b[m\u001b[33m)\u001b[m New README.md file and fix in myfile.py\u001b[m\n",
      "\u001b[33m5e982ab\u001b[m Initial version of myfile.py\u001b[m\n",
      "\u001b[K\u001b[?1l\u001b>"
     ]
    }
   ],
   "source": [
    "git log --oneline --decorate"
   ]
  },
  {
   "cell_type": "markdown",
   "metadata": {
    "slideshow": {
     "slide_type": "subslide"
    }
   },
   "source": [
    "## Creating a commit on the new branch\n",
    "\n",
    "Which difference does this make? Let's make another commit:"
   ]
  },
  {
   "cell_type": "code",
   "execution_count": 27,
   "metadata": {},
   "outputs": [
    {
     "name": "stdout",
     "output_type": "stream",
     "text": [
      "[testing e0ff689] Add testing.txt\n",
      " 1 file changed, 1 insertion(+)\n",
      " create mode 100644 testing.txt\n"
     ]
    }
   ],
   "source": [
    "echo \"Hello world\" >> testing.txt\n",
    "git add testing.txt\n",
    "git commit -m \"Add testing.txt\""
   ]
  },
  {
   "cell_type": "markdown",
   "metadata": {},
   "source": [
    "<center>\n",
    "<img src=\"https://git-scm.com/book/en/v2/images/advance-testing.png\" width=800> \n",
    "    </center>"
   ]
  },
  {
   "cell_type": "code",
   "execution_count": 28,
   "metadata": {},
   "outputs": [
    {
     "name": "stdout",
     "output_type": "stream",
     "text": [
      "\u001b[33me0ff689\u001b[m\u001b[33m (\u001b[m\u001b[1;36mHEAD -> \u001b[m\u001b[1;32mtesting\u001b[m\u001b[33m)\u001b[m Add testing.txt\u001b[m\n",
      "\u001b[33m08f9cf0\u001b[m\u001b[33m (\u001b[m\u001b[1;32mmaster\u001b[m\u001b[33m)\u001b[m New README.md file and fix in myfile.py\u001b[m\n",
      "\u001b[33m5e982ab\u001b[m Initial version of myfile.py\u001b[m\n",
      "\u001b[K\u001b[?1l\u001b>"
     ]
    }
   ],
   "source": [
    "git log --oneline --decorate --all"
   ]
  },
  {
   "cell_type": "markdown",
   "metadata": {
    "slideshow": {
     "slide_type": "subslide"
    }
   },
   "source": [
    "## Switching between branches\n",
    "If we checkout the `master` branch again, all files will be updated to the version in `master` - in particular the `testing.txt` file will be missing:"
   ]
  },
  {
   "cell_type": "code",
   "execution_count": 33,
   "metadata": {},
   "outputs": [
    {
     "name": "stdout",
     "output_type": "stream",
     "text": [
      "Switched to branch 'master'\n"
     ]
    }
   ],
   "source": [
    "git checkout master"
   ]
  },
  {
   "cell_type": "markdown",
   "metadata": {},
   "source": [
    "<center>\n",
    "    <img src=\"https://git-scm.com/book/en/v2/images/checkout-master.png\" width=800> \n",
    "    </center>"
   ]
  },
  {
   "cell_type": "code",
   "execution_count": 34,
   "metadata": {},
   "outputs": [
    {
     "name": "stdout",
     "output_type": "stream",
     "text": [
      "myfile.py  README.md\n"
     ]
    }
   ],
   "source": [
    "ls"
   ]
  },
  {
   "cell_type": "markdown",
   "metadata": {
    "slideshow": {
     "slide_type": "subslide"
    }
   },
   "source": [
    "## Diverging branches\n",
    "Let's now create another commit on the master branch:\n"
   ]
  },
  {
   "cell_type": "code",
   "execution_count": 35,
   "metadata": {},
   "outputs": [
    {
     "name": "stdout",
     "output_type": "stream",
     "text": [
      "[master 096608c] Add master.txt\n",
      " 1 file changed, 1 insertion(+)\n",
      " create mode 100644 master.txt\n"
     ]
    }
   ],
   "source": [
    "echo \"Hello world\" >> master.txt\n",
    "git add master.txt\n",
    "git commit -m \"Add master.txt\""
   ]
  },
  {
   "cell_type": "markdown",
   "metadata": {},
   "source": [
    "<center><img src=\"https://git-scm.com/book/en/v2/images/advance-master.png\" width=800> \n",
    "    </center>"
   ]
  },
  {
   "cell_type": "code",
   "execution_count": 36,
   "metadata": {},
   "outputs": [
    {
     "name": "stdout",
     "output_type": "stream",
     "text": [
      "* \u001b[33m096608c\u001b[m\u001b[33m (\u001b[m\u001b[1;36mHEAD -> \u001b[m\u001b[1;32mmaster\u001b[m\u001b[33m)\u001b[m Add master.txt\u001b[m\n",
      "\u001b[31m|\u001b[m * \u001b[33me0ff689\u001b[m\u001b[33m (\u001b[m\u001b[1;32mtesting\u001b[m\u001b[33m)\u001b[m Add testing.txt\u001b[m\n",
      "\u001b[31m|\u001b[m\u001b[31m/\u001b[m  \u001b[m\n",
      "* \u001b[33m08f9cf0\u001b[m New README.md file and fix in myfile.py\u001b[m\n",
      "* \u001b[33m5e982ab\u001b[m Initial version of myfile.py\u001b[m\n",
      "\u001b[K\u001b[?1l\u001b>"
     ]
    }
   ],
   "source": [
    "git log --oneline --decorate --graph --all"
   ]
  },
  {
   "cell_type": "markdown",
   "metadata": {
    "slideshow": {
     "slide_type": "subslide"
    }
   },
   "source": [
    "## Merging branches\n",
    "\n",
    "We can now merge the change from the testing branch into the master branch:"
   ]
  },
  {
   "cell_type": "code",
   "execution_count": 37,
   "metadata": {},
   "outputs": [
    {
     "name": "stdout",
     "output_type": "stream",
     "text": [
      "* \u001b[7;33mmaster\u001b[m\u001b[m\n",
      "  \u001b[33mtesting\u001b[m\u001b[m\n",
      "\u001b[K\u001b[?1l\u001b>"
     ]
    }
   ],
   "source": [
    "git branch # Check that we are on the master branch"
   ]
  },
  {
   "cell_type": "markdown",
   "metadata": {},
   "source": [
    "```bash\n",
    "git merge testing # Note for Simon: Run this on the cmd prompt\n",
    "```"
   ]
  },
  {
   "cell_type": "code",
   "execution_count": 38,
   "metadata": {},
   "outputs": [
    {
     "name": "stdout",
     "output_type": "stream",
     "text": [
      "*   \u001b[33mcbca4b7\u001b[m\u001b[33m (\u001b[m\u001b[1;36mHEAD -> \u001b[m\u001b[1;32mmaster\u001b[m\u001b[33m)\u001b[m Include new testing features\u001b[m\n",
      "\u001b[31m|\u001b[m\u001b[32m\\\u001b[m  \u001b[m\n",
      "\u001b[31m|\u001b[m * \u001b[33me0ff689\u001b[m\u001b[33m (\u001b[m\u001b[1;32mtesting\u001b[m\u001b[33m)\u001b[m Add testing.txt\u001b[m\n",
      "* \u001b[32m|\u001b[m \u001b[33m096608c\u001b[m Add master.txt\u001b[m\n",
      "\u001b[32m|\u001b[m\u001b[32m/\u001b[m  \u001b[m\n",
      "* \u001b[33m08f9cf0\u001b[m New README.md file and fix in myfile.py\u001b[m\n",
      "* \u001b[33m5e982ab\u001b[m Initial version of myfile.py\u001b[m\n",
      "\u001b[K\u001b[?1l\u001b>"
     ]
    }
   ],
   "source": [
    "git log --oneline --decorate --graph --all"
   ]
  },
  {
   "cell_type": "markdown",
   "metadata": {},
   "source": [
    "Now both the files from master and testing are in the repo:"
   ]
  },
  {
   "cell_type": "code",
   "execution_count": 40,
   "metadata": {},
   "outputs": [
    {
     "name": "stdout",
     "output_type": "stream",
     "text": [
      "master.txt  myfile.py  README.md  testing.txt\n"
     ]
    }
   ],
   "source": [
    "ls"
   ]
  },
  {
   "cell_type": "markdown",
   "metadata": {
    "slideshow": {
     "slide_type": "subslide"
    }
   },
   "source": [
    "## `git` cheat sheet (part 3)\n",
    "\n",
    "\n",
    "* `git branch NAME`: create a new branch\n",
    "* `git checkout NAME`: move the `HEAD` pointer to `NAME` (can be a commit identifier or branch name) \n",
    "* `git merge NAME`: merges the commits of the branch with name `NAME` into the current branch.\n",
    "\n",
    "  "
   ]
  },
  {
   "cell_type": "markdown",
   "metadata": {
    "slideshow": {
     "slide_type": "subslide"
    }
   },
   "source": [
    "## That's it for today!\n",
    "\n",
    "\n",
    "Do the interactive git tutorial on https://try.github.io\n",
    "\n",
    "<img src=\"figs/try-git.png\" height=150>\n",
    "\n"
   ]
  }
 ],
 "metadata": {
  "celltoolbar": "Slideshow",
  "kernelspec": {
   "display_name": "Bash",
   "language": "bash",
   "name": "bash"
  },
  "language_info": {
   "codemirror_mode": "shell",
   "file_extension": ".sh",
   "mimetype": "text/x-sh",
   "name": "bash"
  },
  "livereveal": {
   "scroll": true,
   "start_slideshow_at": "selected",
   "theme": "serif"
  }
 },
 "nbformat": 4,
 "nbformat_minor": 1
}
