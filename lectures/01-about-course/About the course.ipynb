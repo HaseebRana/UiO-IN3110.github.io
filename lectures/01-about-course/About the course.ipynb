{
 "cells": [
  {
   "cell_type": "markdown",
   "metadata": {
    "slideshow": {
     "slide_type": "slide"
    }
   },
   "source": [
    "# Problem solving with higher level programming \n",
    "## The IN3110/IN4110 course\n",
    "<img src=\"https://imgs.xkcd.com/comics/python.png\" style=\"width: 400px;\"/>"
   ]
  },
  {
   "cell_type": "markdown",
   "metadata": {
    "slideshow": {
     "slide_type": "slide"
    }
   },
   "source": [
    "## The team\n",
    "\n",
    "  * Lecturer: Simon Funke (simon@simula.no)\n",
    "  * Guest lecturers: \n",
    "      * Benjamin Ragan-Kelley (Simula, to be confirmed) \n",
    "      * Jonathan Feinberg (Expert Analytics, to be confirmedd)\n",
    "  * Exercises and assignments: Sebastian Mitusch\n",
    "  * Ca 10 teaching assistants and assignment correctors\n",
    "\n",
    "<img src=\"figs/funke.jpg\" style=\"width:200px;display:inline;\"/>\n",
    "<img src=\"figs/kelley.jpg\" style=\"width:200px;display:inline;\"/>\n",
    "<img src=\"figs/feinberg.jpg\" style=\"width:200px;display:inline;\"/>\n"
   ]
  },
  {
   "cell_type": "markdown",
   "metadata": {
    "slideshow": {
     "slide_type": "subslide"
    }
   },
   "source": [
    "## What we use higher level languages for...\n",
    "  * creating efficient working (or problem solving) environments\n",
    "  * developing large-scale simulation software (which solves partial differential equations)\n",
    "  * making flexible and user-friendly software!\n",
    "  * we mostly use the Bash and Python languages (also thaught in this course)"
   ]
  },
  {
   "cell_type": "markdown",
   "metadata": {
    "slideshow": {
     "slide_type": "subslide"
    }
   },
   "source": [
    "## Some of our research migrates into this course\n",
    "\n",
    "Computer simulation of fibre stresses in beating heart - (Hernik Finsberg et al):\n",
    "\n",
    "<video controls src=\"figs/heart.mp4\" />"
   ]
  },
  {
   "cell_type": "markdown",
   "metadata": {
    "slideshow": {
     "slide_type": "subslide"
    }
   },
   "source": [
    "## Some of our research migrates into this course\n",
    "\n",
    "Assimilation and simulation of blood flow through an aneurysm from MRI scans - (Simon Funke et al):\n",
    "<video controls src=\"figs/aneurysm.mp4\"  style=\"width: 600px;\"/>\n",
    "\n",
    "There are lots of opportunities for Master projects related to this course\n",
    "\n"
   ]
  },
  {
   "cell_type": "markdown",
   "metadata": {
    "slideshow": {
     "slide_type": "subslide"
    }
   },
   "source": [
    "## Course content\n",
    "\n",
    "  * **Bash** programming\n",
    "  * Advanced **Python**:\n",
    "      * Fast numerical computations in Python \n",
    "          * Vectorization with NumPy\n",
    "          * Combining Python with third party languages\n",
    "      * Powerful Python modules: \n",
    "          * Graphical (web) interfaces (Jupyter, Flask)\n",
    "          * Data analysis in Python (Pandas)\n",
    "          * Machine learning in Python (scikit-learn)    \n",
    "  * **Essential tools** for effective programmers\n",
    "      * Version control system\n",
    "      * Tests and profiling\n",
    "      * Documentation\n",
    " "
   ]
  },
  {
   "cell_type": "markdown",
   "metadata": {},
   "source": [
    "## What you will learn (1): Navigate through the jungel\n",
    "\n",
    "  * **Problem**: you are not an expert (yet).\n",
    "  * Where to find detailed info, and how to understand it?\n",
    "  * The **efficient programmer** navigates quickly in the jungle of textbooks, man pages, README files, source code examples, Web sites, news groups, ... and has a gut feeling for what to look for.\n",
    "  * The **aim of the course** is to improve your practical problem-solving abilities.\n",
    " "
   ]
  },
  {
   "cell_type": "markdown",
   "metadata": {
    "slideshow": {
     "slide_type": "subslide"
    }
   },
   "source": [
    "## What you will learn (2): Practical problem solving\n",
    "\n",
    "  * Scripting in general, but with most examples taken from scientific computing\n",
    "  * Jump into useful scripts and dissect the code\n",
    "  * Learning by doing\n",
    "  * Find examples, look up man pages, online documentation and textbooks on demand\n",
    "  * Get the overview\n",
    "  * Customize existing code\n",
    "  * **Have fun and work with useful things**"
   ]
  },
  {
   "cell_type": "markdown",
   "metadata": {
    "slideshow": {
     "slide_type": "subslide"
    }
   },
   "source": [
    "## Background 1: INF3(4)110 vs IN1900\n",
    "\n",
    "  * Wide range of backgrounds with respect to Python and general programming experience.\n",
    "  * Some Python programming knowledge is expected for IN3110/IN4110.\n",
    "  * We will have a a Python lecture where we introduce more advanced Python features. \n",
    "  * Generally, IN3110/IN4110 has more focus on scripting and practical problem solving."
   ]
  },
  {
   "cell_type": "markdown",
   "metadata": {
    "slideshow": {
     "slide_type": "subslide"
    }
   },
   "source": [
    "## Background 2: Mathematics\n",
    "\n",
    "* Very little mathematics is needed to complete the course.\n",
    "* Basic knowledge will make life easier:\n",
    "  * General functions, such as $f(x) = ax +b$, and how they are turned into computer code.\n",
    "  * Standard mathematical functions such as $\\sin(x),\\cos(x)$ and exponential functions.\n",
    "  * Simple matrix-vector operations.\n",
    "* A learn-on-demand strategy should work fine, as long as you do not panic at the sight of a mathematical expression."
   ]
  },
  {
   "cell_type": "markdown",
   "metadata": {
    "slideshow": {
     "slide_type": "subslide"
    }
   },
   "source": [
    "## Difference between IN3110 and IN4110\n",
    "  * Same lectures and group sessions.\n",
    "  * IN4110 has additional exercises."
   ]
  },
  {
   "cell_type": "markdown",
   "metadata": {
    "slideshow": {
     "slide_type": "subslide"
    }
   },
   "source": [
    "## Teaching material (1)\n",
    "\n",
    "* Lecture slides: https://uio-in3110.github.io. \n",
    "  * All lectures are video recorded.\n",
    "  * Slides and videos will be published every week.\n",
    "  * If you cannot wait: Videos and slides from previous year are also available.\n",
    "* Associated book (optional): \n",
    "  * H. P. Langtangen: Python Scripting for Computational Science, 3rd/4th edition, Springer 2014. \n",
    "  * Book is based on Python 2, but can easily converted to Python 3. \n",
    "  * Ebook version available through the UiO Library (free).\n",
    "  \n",
    "<img src=\"http://t0.gstatic.com/images?q=tbn:ANd9GcTDbJBbghC-sCXiS1a5OYfEz0G7LhWl2CcEJgLGwwPeC_fA7naQ\"  style=\"width:200px;display:inline;\">\n",
    "\n",
    "\n",
    "\n"
   ]
  },
  {
   "cell_type": "markdown",
   "metadata": {
    "slideshow": {
     "slide_type": "subslide"
    }
   },
   "source": [
    "## Teaching material (2)\n",
    "\n",
    "* I will present relevant literature before every lecture\n",
    "* You must find the rest: manuals, textbooks, Google\n",
    "* Some good Python literature:\n",
    "    * Mark Pilgrim: Dive into Python 3, 2004 (freely available on http://www.diveintopython3.net)\n",
    "    * Harms and McDonald: The Quick Python Book, 2nd edition, 2010\n",
    "    * Beazley: Python Essential Reference, 4th edition, 2009\n",
    "\n",
    "\n",
    "<img src=\"figs/beazley_grayson_harms.jpg\" >\n"
   ]
  },
  {
   "cell_type": "markdown",
   "metadata": {
    "slideshow": {
     "slide_type": "subslide"
    }
   },
   "source": [
    "## An outlook of the first lectures \n",
    "\n",
    "  * Today:\n",
    "      * Introductio: scripting vs regular programming,\n",
    "      * Version control systems\n",
    "  * Next week: Bash programming\n",
    "  * Week 2: Advanced Python topics\n",
    "  * ..."
   ]
  },
  {
   "cell_type": "markdown",
   "metadata": {
    "slideshow": {
     "slide_type": "subslide"
    }
   },
   "source": [
    "## Group sessions and assignments (1)\n",
    "\n",
    "  * Two types of assignments:\n",
    "    1. Mandatory assignments (homework)\n",
    "    2. Group session exercises (will be solved during weekly groups sessions)\n",
    "  * Assignments will be published before each lecture on the [course webpage](http://www.uio.no/studier/emner/matnat/ifi/IN3110/h19/oppgaver.html).\n",
    "  * First assignment has been published today!\n",
    "\n",
    "\n",
    "**Groups sessions and exercises are the core of the course: problem solving is in focus**."
   ]
  },
  {
   "cell_type": "markdown",
   "metadata": {
    "slideshow": {
     "slide_type": "subslide"
    }
   },
   "source": [
    "## Group classes and assignments (2)\n",
    "\n",
    "Mandatory assignments:\n",
    "  * Mix of short (1 week) and large (3+1 weeks) assignments.\n",
    "  * Deadlines are published on course website.\n",
    "  * Large assignments have a peer review phase.\n",
    "  * **Each student solves the mandatory assignments individually**.\n",
    "  * These assignments (and peer-reviews) are corrected and give points towards passing the course.\n",
    "  \n",
    "Group sessions exercises:\n",
    "  * You will work on the group exercises and can ask questions on your mandatory assignment.\n",
    "  * No strict requirement to show up in group classes, but useful to ask questions and discuss solutions.  \n",
    "  * Group classes start next week."
   ]
  },
  {
   "cell_type": "markdown",
   "metadata": {
    "slideshow": {
     "slide_type": "subslide"
    }
   },
   "source": [
    "## Peer-review of large assignments\n",
    "\n",
    "  * After the assignment is handed in, you are given a *marking group* (rettegruppe) with 1-3 students.\n",
    "  * Each marking group will get the access to the solutions of 1-3 other students.\n",
    "  * You marking group must review the solutions: comments and evaluates the quality of the programming, and provide constructive feedback for each solution.\n",
    "  * When, where and how you organize the evaluation is up to you, but the intention is to do the evaluation in groups.\n",
    "  * Deadline for reports: one week after you have been assigned to the marking groups."
   ]
  },
  {
   "cell_type": "markdown",
   "metadata": {
    "slideshow": {
     "slide_type": "subslide"
    }
   },
   "source": [
    "## How to pass the course\n",
    "\n",
    "  * **Pass/fail** (no exam, no grades)\n",
    "  * Mandatory assignments and peer-review give points towards passing the course.\n",
    "  * N3110: The total number of points will be 150 (plus 30 bonus points). The course is passed with a minimum of 120 points.\n",
    "  * IN4110: The total number of points will be 180 (plus 10 bonus points). The course is passed with a minimum of 150 points."
   ]
  },
  {
   "cell_type": "markdown",
   "metadata": {
    "slideshow": {
     "slide_type": "subslide"
    }
   },
   "source": [
    "\n",
    "## Mandatory assignments are handed in using github.uio.no\n",
    "\n",
    "  * Login to [github.uio.no](http://www.github.uio.no) with your UiO username and password automatically creates your account.\n",
    "  * We established a **github organization called IN3110**.\n",
    "  * By Friday you will receive an **invitation** to join this organisation.\n",
    "  * In this organisation, you will find your **personal git repository IN3110-username** (same name for IN4110 students) where you need to upload the assignment solutions."
   ]
  },
  {
   "cell_type": "markdown",
   "metadata": {
    "slideshow": {
     "slide_type": "subslide"
    }
   },
   "source": [
    "## Software for this course\n",
    "\n",
    "* Git (see https://git-scm.com)\n",
    "* Bash\n",
    "* Python 3 \n",
    "* C (GCC)\n",
    "* Various Python packages\n",
    "    \n",
    "Installation:     \n",
    "* Ifi machines: See installation instructions on the course website.\n",
    "* Mac, Linux the software should install run flawlessly.\n",
    "* Windows 10 your best option is to use the Windows Subsystem for Linux. \n",
    "\n",
    "**For compatibility reasons, it is recommended to test your assignment solutions on an IfI machine**"
   ]
  },
  {
   "cell_type": "markdown",
   "metadata": {
    "slideshow": {
     "slide_type": "subslide"
    }
   },
   "source": [
    "## We will use Piazza as a knowledge platform\n",
    "\n",
    "  * Allows students to ask and answer questions.\n",
    "  * Great discussion platform.\n",
    "  * Lecturers/teaching assistants will be active on the platform to help.\n",
    "  * Sign up: http://piazza.com/uio.no/fall2019/in3110in4110\n",
    "<img src=\"figs/piazza.jpg\" style=\"width: 1200px;\"/>  "
   ]
  },
  {
   "cell_type": "markdown",
   "metadata": {
    "slideshow": {
     "slide_type": "subslide"
    }
   },
   "source": [
    "## Why has the course been organized like this?\n",
    "\n",
    "  * \"Problem solving\" is best learnt by solving a large number of problems.\n",
    "  * With limited resources, this is the only way we can maintain the large number of mandatory assignments.\n",
    "  * You learn from reading and inspecting each other's code.\n",
    "  * **Goal**: more flexible implementation, but which still allows a high volume of programming exercises.\n"
   ]
  },
  {
   "cell_type": "markdown",
   "metadata": {
    "slideshow": {
     "slide_type": "subslide"
    }
   },
   "source": [
    "## Things to do in the first week\n",
    "\n",
    "  1. Login to github.uio.no (**before this Friday!**)\n",
    "  2. On Friday:\n",
    "      * You will get an invitation email from github to join the IN3110 organization. \n",
    "      * In that organisation you will find your personal github repo called https://github.com/IN3110/IN3110-uio_username \n",
    "  3. Sign up to Piazza: http://piazza.com/uio.no/fall2019/in3110in4110\n",
    "  4. Solve the first assignment: http://www.uio.no/studier/emner/matnat/ifi/IN3110/h19/oppgaver.html.\n",
    "  5. Join the group sessions starting next Monday.\n",
    "  \n",
    "Ideas how to make this course more interesting and challenging for students with different backgrounds? Email me: `simon@simula.no`"
   ]
  },
  {
   "cell_type": "code",
   "execution_count": null,
   "metadata": {},
   "outputs": [],
   "source": []
  }
 ],
 "metadata": {
  "celltoolbar": "Slideshow",
  "kernelspec": {
   "display_name": "Python 3",
   "language": "python",
   "name": "python3"
  },
  "language_info": {
   "codemirror_mode": {
    "name": "ipython",
    "version": 3
   },
   "file_extension": ".py",
   "mimetype": "text/x-python",
   "name": "python",
   "nbconvert_exporter": "python",
   "pygments_lexer": "ipython3",
   "version": "3.7.3"
  },
  "livereveal": {
   "scroll": true,
   "start_slideshow_at": "selected",
   "theme": "serif"
  }
 },
 "nbformat": 4,
 "nbformat_minor": 1
}
