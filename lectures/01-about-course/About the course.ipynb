{
 "cells": [
  {
   "cell_type": "markdown",
   "metadata": {
    "slideshow": {
     "slide_type": "slide"
    }
   },
   "source": [
    "# IN3110/IN4110: Problem solving with higher level programming\n",
    "<center>\n",
    "<img src=\"https://imgs.xkcd.com/comics/python.png\" style=\"width: 400px;\"/>\n",
    "    </center>"
   ]
  },
  {
   "cell_type": "markdown",
   "metadata": {
    "slideshow": {
     "slide_type": "slide"
    }
   },
   "source": [
    "<center><h1>What will you learn</h1></center>"
   ]
  },
  {
   "cell_type": "markdown",
   "metadata": {
    "slideshow": {
     "slide_type": "subslide"
    }
   },
   "source": [
    "## This course teaches you the tools to become an effective programmer\n",
    "\n",
    "  * **Problem**: you are not an expert (yet).\n",
    "      * Where to find detailed info, and how to understand it?\n",
    "      * How to collaborate with and receive feedback from my team?\n",
    "  * The **effective programmer**:\n",
    "      * navigates quickly in the jungle of Readme files, source code examples, web sites, ... and has a gut feeling for what to look for. \n",
    "      * knows the tools and best practices for collaborative programming. \n",
    "  * The **aim of the course** is to improve your practical problem-solving abilities.\n",
    " "
   ]
  },
  {
   "cell_type": "markdown",
   "metadata": {
    "slideshow": {
     "slide_type": "skip"
    }
   },
   "source": [
    "## This course teaches you how to become an practical problem solver\n",
    "\n",
    "  * Scripting in general, but with most examples taken from scientific computing\n",
    "  * Find examples, online documentation and textbooks on demand\n",
    "  * Learning by doing  \n",
    "  * Write robust, well-documented and fast code \n",
    "  * Provide feedback and learn from fellow student's implementations  \n",
    "  * **Have fun and work with useful things**"
   ]
  },
  {
   "cell_type": "markdown",
   "metadata": {
    "slideshow": {
     "slide_type": "subslide"
    }
   },
   "source": [
    "## An outlook of the first lectures \n",
    "\n",
    "  * Today: The **Git** version control system\n",
    "  * Next week: **Bash** programming\n",
    "  * Week 3 and 4: Basic and advanced **Python** \n",
    "  * ..."
   ]
  },
  {
   "cell_type": "markdown",
   "metadata": {
    "slideshow": {
     "slide_type": "subslide"
    }
   },
   "source": [
    "## Required background (1): Programming\n",
    "\n",
    "* Wide range of backgrounds with respect to Python and general programming experience.\n",
    "* Some Python programming knowledge is expected for IN3110/IN4110.\n",
    "* Two Python lectures will introduces (basic and advanced) Python features. "
   ]
  },
  {
   "cell_type": "markdown",
   "metadata": {
    "slideshow": {
     "slide_type": "subslide"
    }
   },
   "source": [
    "## Required background (2): Mathematics\n",
    "\n",
    "* Very little mathematics is needed to complete the course.\n",
    "* Basic knowledge will make life easier:\n",
    "  * General functions, such as $f(x) = ax +b$, and how they are turned into computer code.\n",
    "  * Standard mathematical functions such as $\\sin(x),\\cos(x)$ and exponential functions.\n",
    "  * Simple matrix-vector operations.\n",
    "* A learn-on-demand strategy should work fine, as long as you do not panic at the sight of a mathematical expression."
   ]
  },
  {
   "cell_type": "markdown",
   "metadata": {
    "slideshow": {
     "slide_type": "slide"
    }
   },
   "source": [
    "<center><h1>The team behind this course</h1></center>"
   ]
  },
  {
   "cell_type": "markdown",
   "metadata": {
    "slideshow": {
     "slide_type": "slide"
    }
   },
   "source": [
    "<h3>Lecturers</h3>\n",
    "<center>\n",
    "<div style=\"float:left;\"><img src=\"figs/funke.jpg\" style=\"width:200px;\"/>Simon Funke</div>\n",
    "<div style=\"float:left;\"><img src=\"figs/kelley.jpg\" style=\"width:200px;\"/>Benjamin Kelley</div>\n",
    "<div style=\"float:left;\"><img src=\"figs/unknown.png\" style=\"width:200px;height:200px;\"/>Guest lecturer (to be announced)</div>\n",
    "</center>\n",
    "\n",
    "<br style=\"clear:both\" />\n",
    "\n",
    "<h3>Exercises and assignments</h3>\n",
    "<center>\n",
    "<div style=\"float:left;\"><img src=\"figs/pankewitz.jpg\" style=\"width:200px;\"/>Lisa Pankewitz</div>\n",
    "<div style=\"float:left;\"><img src=\"figs/unknown.png\" style=\"width:200px;height:200px;\"/>Sebastian Mitusch</div>\n",
    "</center>\n",
    "   \n",
    "<br style=\"clear:both\" />   \n",
    "    \n",
    "<h3>Group sessions</h3>    \n",
    "Thirteen teaching assistants and assignment correctors\n",
    "\n",
    "Do you have an idea how to make this course better? Contact us!"
   ]
  },
  {
   "cell_type": "markdown",
   "metadata": {
    "slideshow": {
     "slide_type": "subslide"
    }
   },
   "source": [
    "## What we use higher level languages for...\n",
    "\n",
    "* creating efficient working (or problem solving) environments\n",
    "* developing large-scale simulation software\n",
    "* making flexible and user-friendly software\n",
    "* we mostly use the Bash and Python languages.\n",
    "\n",
    "<video controls src=\"figs/aneurysm.mp4\"  style=\"width: 600px;\"/>\n",
    "Video credit: Simulation of blood flow through an aneurysms (Kristian Valen-Sendstad et al)\n"
   ]
  },
  {
   "cell_type": "markdown",
   "metadata": {
    "slideshow": {
     "slide_type": "slide"
    }
   },
   "source": [
    "<center><h1>Course organisation</h1></center>\n",
    "\n",
    "\n"
   ]
  },
  {
   "cell_type": "markdown",
   "metadata": {
    "slideshow": {
     "slide_type": "subslide"
    }
   },
   "source": [
    "## Lectures\n",
    "\n",
    "* All lectures are online. \n",
    "    * Monday: A new topic is introduced (15-30min video). \n",
    "    * Tuesday: The topic is further deepened (15-30min video).\n",
    "    * Wednesday: We demo the topic and answer questions (interactive zoom lecture). \n",
    "\n",
    "* Lecture slides: https://uio-in3110.github.io. \n",
    "  * All lectures are video recorded (except the first one).\n",
    "  * Slides and videos will be published every week.\n",
    "  * If you cannot wait: Videos and slides from previous year are also available.\n",
    "\n",
    "* Relevant literature will be presented before every lecture\n",
    "* You must find the rest: manuals, textbooks, google\n",
    "\n",
    "* Associated book (optional): \n",
    "  * H. P. Langtangen: Python Scripting for Computational Science, 3rd/4th edition, Springer 2014. \n",
    "  * Book is based on Python 2, but can easily converted to Python 3. \n",
    "  * Ebook version available through the UiO Library (free).\n",
    "  \n",
    "  <center>\n",
    "<img src=\"http://t0.gstatic.com/images?q=tbn:ANd9GcTDbJBbghC-sCXiS1a5OYfEz0G7LhWl2CcEJgLGwwPeC_fA7naQ\"  style=\"width:200px;display:inline;\">\n",
    "</center>\n",
    "\n",
    "\n"
   ]
  },
  {
   "cell_type": "markdown",
   "metadata": {
    "slideshow": {
     "slide_type": "subslide"
    }
   },
   "source": [
    "## Group sessions and assignments (1)\n",
    "\n",
    "  * Two types of assignments:\n",
    "    1. Mandatory assignments (homework)\n",
    "    2. Group session exercises (will be solved during weekly groups sessions)\n",
    "  * Assignments will be published before each lecture on the [course webpage](http://www.uio.no/studier/emner/matnat/ifi/IN3110/h19/oppgaver.html).\n",
    "  * First assignment has been published today!\n",
    "\n",
    "\n",
    "**Groups sessions and exercises are the core of the course: problem solving is in focus**."
   ]
  },
  {
   "cell_type": "markdown",
   "metadata": {
    "slideshow": {
     "slide_type": "subslide"
    }
   },
   "source": [
    "## Group sessions and assignments (1)\n",
    "\n",
    "  * Two types of assignments:\n",
    "    1. Mandatory assignments (homework)\n",
    "    2. Group session exercises (will be solved during weekly groups sessions)\n",
    "  * Assignments will be published before each lecture on the [course webpage](http://www.uio.no/studier/emner/matnat/ifi/IN3110/h19/oppgaver.html).\n",
    "  * First assignment has been published today!\n",
    "\n",
    "\n",
    "**Groups sessions and exercises are the core of the course: problem solving is in focus**."
   ]
  },
  {
   "cell_type": "markdown",
   "metadata": {
    "slideshow": {
     "slide_type": "subslide"
    }
   },
   "source": [
    "## Group classes and assignments (2)\n",
    "\n",
    "**Mandatory assignments:**\n",
    "  * Mix of short (1 week) and large (3+1 weeks) assignments.\n",
    "  * Deadlines are published on course website.\n",
    "  * Large assignments have a peer review phase.\n",
    "  * **Each student solves the mandatory assignments individually**.\n",
    "  * These assignments (and peer-reviews) are corrected and give points towards passing the course.\n",
    "  \n",
    "**Group sessions exercises:**\n",
    "  * You will work on the group exercises and can ask questions on your mandatory assignment.\n",
    "  * No strict requirement to show up in group classes, but useful to ask questions and discuss solutions.  \n",
    "  * Group classes start next week."
   ]
  },
  {
   "cell_type": "markdown",
   "metadata": {
    "slideshow": {
     "slide_type": "subslide"
    }
   },
   "source": [
    "## Peer-review of large assignments (3+1 week)\n",
    "\n",
    "  * After the assignment is handed in, you are given a **marking group** (rettegruppe) with 1-3 students.\n",
    "  * Each marking group will get the **access to the solutions** of 1-3 other students.\n",
    "  * You marking group must **review the solutions**: comments and evaluates the quality of the programming, and provide constructive feedback for each solution.\n",
    "  * When, where and how you organize the evaluation is up to you, but the intention is to do the evaluation in groups.\n",
    "  * Deadline for reports: one week after you have been assigned to the marking groups."
   ]
  },
  {
   "cell_type": "markdown",
   "metadata": {
    "slideshow": {
     "slide_type": "subslide"
    }
   },
   "source": [
    "## Difference between IN3110 and IN4110\n",
    "  * Same lectures and group sessions.\n",
    "  * IN4110 has additional exercises."
   ]
  },
  {
   "cell_type": "markdown",
   "metadata": {
    "slideshow": {
     "slide_type": "subslide"
    }
   },
   "source": [
    "## How to pass the course\n",
    "\n",
    "  * **Pass/fail** (no exam, no grades)\n",
    "  * Mandatory assignments and peer-review give points towards passing the course.\n",
    "  * **IN3110**: The total number of points will be 150 (plus 30 bonus points). The course is passed with a minimum of 120 points.\n",
    "  * **IN4110**: The total number of points will be 180 (plus 10 bonus points). The course is passed with a minimum of 150 points."
   ]
  },
  {
   "cell_type": "markdown",
   "metadata": {
    "slideshow": {
     "slide_type": "subslide"
    }
   },
   "source": [
    "\n",
    "## Mandatory assignments are handed in using github.uio.no\n",
    "\n",
    "  * Login to [github.uio.no](http://www.github.uio.no) with your UiO username and password automatically creates your account.\n",
    "  * We established a **github organization called IN3110**.\n",
    "  * By Friday you will receive an **invitation** to join this organisation.\n",
    "  * In this organisation, you will find your **personal git repository IN3110-username** (same name for IN4110 students) where you need to upload the assignment solutions."
   ]
  },
  {
   "cell_type": "markdown",
   "metadata": {
    "slideshow": {
     "slide_type": "subslide"
    }
   },
   "source": [
    "## Software for this course\n",
    "\n",
    "* Git (see https://git-scm.com)\n",
    "* Bash\n",
    "* Python 3 \n",
    "* C (GCC)\n",
    "* Various Python packages\n",
    "    \n",
    "See the course website for installation instructions.\n",
    "\n",
    "Important: **For compatibility reasons, it is recommended to test your assignment solutions on an IfI machine**"
   ]
  },
  {
   "cell_type": "markdown",
   "metadata": {
    "slideshow": {
     "slide_type": "subslide"
    }
   },
   "source": [
    "## We will use Piazza as a knowledge platform\n",
    "\n",
    "  * Allows students to ask and answer questions.\n",
    "  * Great discussion platform.\n",
    "  * Lecturers/teaching assistants will be active on the platform to help.\n",
    "  * Sign up: http://piazza.com/uio.no/fall2019/in3110in4110\n",
    "<img src=\"figs/piazza.jpg\" style=\"width: 1200px;\"/>  "
   ]
  },
  {
   "cell_type": "markdown",
   "metadata": {
    "slideshow": {
     "slide_type": "subslide"
    }
   },
   "source": [
    "## Why has the course been organized like this?\n",
    "\n",
    "  * \"Problem solving\" is best learnt by solving a large number of problems.\n",
    "  * With limited resources, this is the only way we can maintain the large number of mandatory assignments.\n",
    "  * You learn from reading and inspecting each other's code.\n",
    "  * **Goal**: more flexible implementation, but which still allows a high volume of programming exercises.\n"
   ]
  },
  {
   "cell_type": "markdown",
   "metadata": {
    "slideshow": {
     "slide_type": "subslide"
    }
   },
   "source": [
    "## Things to do in the first week\n",
    "\n",
    "  1. Login to github.uio.no (**before this Friday!**)\n",
    "  2. Over the weekend:\n",
    "      * You will get an invitation email from github to join the IN3110 organization. \n",
    "      * In that organisation you will find your personal github repo called https://github.uio.no/UiO-INF3331/INF3331-username\n",
    "  3. Sign up to Piazza: http://piazza.com/uio.no/fall2020/in3110in4110\n",
    "  4. Solve the first assignment: http://www.uio.no/studier/emner/matnat/ifi/IN3110/h20/oppgaver.html.\n",
    "  5. Join the group sessions starting next Monday.\n",
    "  \n",
    "Ideas how to make this course more interesting and challenging for students with different backgrounds? Email me: `simon@simula.no`"
   ]
  }
 ],
 "metadata": {
  "celltoolbar": "Slideshow",
  "kernelspec": {
   "display_name": "Python 3",
   "language": "python",
   "name": "python3"
  },
  "language_info": {
   "codemirror_mode": {
    "name": "ipython",
    "version": 3
   },
   "file_extension": ".py",
   "mimetype": "text/x-python",
   "name": "python",
   "nbconvert_exporter": "python",
   "pygments_lexer": "ipython3",
   "version": "3.7.6"
  },
  "livereveal": {
   "scroll": true,
   "start_slideshow_at": "selected",
   "theme": "serif"
  }
 },
 "nbformat": 4,
 "nbformat_minor": 1
}
