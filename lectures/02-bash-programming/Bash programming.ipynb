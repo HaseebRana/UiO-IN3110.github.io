{
 "cells": [
  {
   "cell_type": "markdown",
   "metadata": {},
   "source": [
    "# Bash programming\n",
    "\n",
    "<img src=\"figs/bash.png\" style=\"width: 500px;\"/>"
   ]
  },
  {
   "cell_type": "markdown",
   "metadata": {
    "slideshow": {
     "slide_type": "slide"
    }
   },
   "source": [
    "# First some organisational stuff"
   ]
  },
  {
   "cell_type": "markdown",
   "metadata": {
    "slideshow": {
     "slide_type": "subslide"
    }
   },
   "source": [
    "## Assignment 1\n",
    "\n",
    "* Group session asssignment 1 (optional): This week \n",
    "* Mandatory assignment deadline: Friday midnight\n",
    "* Make sure that your solution is pushed to \n",
    "  \n",
    "  `https://github.com/UiO-INF3331/INF3331-username`.\n",
    "* If you have problems accessing your repo, talk to me during the break/after the lecture."
   ]
  },
  {
   "cell_type": "markdown",
   "metadata": {
    "slideshow": {
     "slide_type": "subslide"
    }
   },
   "source": [
    "## Assignment 2\n",
    "\n",
    "* Mandatory assignment 2 is online now.\n",
    "* Group assignment 2 will be published soon (group sessions next week)\n",
    "* Topic: Bash scripting (lecture today)."
   ]
  },
  {
   "cell_type": "markdown",
   "metadata": {
    "slideshow": {
     "slide_type": "slide"
    }
   },
   "source": [
    "# Bash programming\n"
   ]
  },
  {
   "cell_type": "markdown",
   "metadata": {
    "slideshow": {
     "slide_type": "subslide"
    }
   },
   "source": [
    "## Overview of Unix shells\n",
    "\n",
    "  * The original scripting languages were (extensions of) command interpreters in operating systems\n",
    "\n",
    "  * Primary example: Unix shells\n",
    "\n",
    "  * Bourne shell (`sh`) was the first major shell\n",
    "    * C and TC shell (`csh` and `tcsh`) had improved command interpreters, but were less popular than Bourne shell for programming\n",
    "    * Bourne Again shell (Bash/`bash`) is a GNU/FSF improvement of Bourne shell\n",
    "    * Other Bash-like shells: Dash (`dash`), Korn shell (`ksh`), Z shell (`zsh`)\n",
    "\n",
    "  * Bash is the dominating Unix shell today"
   ]
  },
  {
   "cell_type": "markdown",
   "metadata": {
    "slideshow": {
     "slide_type": "subslide"
    }
   },
   "source": [
    "## Why learn Bash?\n",
    "\n",
    "  * Learning Bash means learning Unix\n",
    "\n",
    "  * Learning Bash means learning the roots of scripting (Bourne shell is a subset of Bash)\n",
    "\n",
    "  * Shell scripts, especially in Bourne shell and Bash, are frequently encountered on Unix systems\n",
    "\n",
    "  * Bash is widely available (open source) and the dominating command interpreter and scripting language on today's Unix systems"
   ]
  },
  {
   "cell_type": "markdown",
   "metadata": {
    "slideshow": {
     "slide_type": "subslide"
    }
   },
   "source": [
    "## Why learn Bash? (2)\n",
    "\n",
    "* Shell scripts evolve naturally from a workflow: \n",
    "  * A sequence of commands you use often are placed in a file\n",
    "  * Command-line options are introduced to enable different options to be passed to the commands\n",
    "  * Introducing variables, if tests, loops enables more complex program flow\n",
    "  * At some point pre- and postprocessing becomes too advanced for bash, at which point (parts of) the script should be ported to Python or other tools\n",
    "* Shell scripts are often used to glue more advanced scripts in Perl and Python"
   ]
  },
  {
   "cell_type": "markdown",
   "metadata": {
    "slideshow": {
     "slide_type": "subslide"
    }
   },
   "source": [
    "## Remark\n",
    "\n",
    "* We use plain Bourne shell (`/bin/sh`) when special features of Bash (`/bin/bash`) are not needed\n",
    "* Most of our examples can in fact be run under Bourne shell (and of course also Bash)\n",
    "* Differences in operating systems:\n",
    "    * **Mac OSX**: `/bin/sh` is just a link to Bash (`/bin/bash`).\n",
    "    * **Ubuntu**: `/bin/sh` is a link to Dash, a minimal, but much faster shell than bash.\n",
    "    * **Windows**: bash is available through `cygwin` or the Linux-Subsystem in Windows 10.     "
   ]
  },
  {
   "cell_type": "markdown",
   "metadata": {
    "slideshow": {
     "slide_type": "-"
    }
   },
   "source": [
    "  * Bash reference manual: `www.gnu.org/software/bash/manual/bashref.html`\n",
    "\n",
    "  * \"Advanced Bash-Scripting Guide\": `http://www.tldp.org/LDP/abs/html/`"
   ]
  },
  {
   "cell_type": "markdown",
   "metadata": {
    "slideshow": {
     "slide_type": "subslide"
    }
   },
   "source": [
    "## What Bash is *good* for\n",
    "\n",
    "* File and directory management\n",
    "\n",
    "* Systems management (build scripts)\n",
    "\n",
    "* Combining other scripts and commands\n",
    "\n",
    "* Rapid prototyping of more advanced scripts\n",
    "\n",
    "* Very simple output processing, plotting etc."
   ]
  },
  {
   "cell_type": "markdown",
   "metadata": {
    "slideshow": {
     "slide_type": "subslide"
    }
   },
   "source": [
    "## What Bash is *not good* for\n",
    "\n",
    "* Cross-platform portability\n",
    "\n",
    "* Graphics, GUIs\n",
    "\n",
    "* Interface with libraries or legacy code\n",
    "\n",
    "* More advanced post processing and plotting\n",
    "\n",
    "* Calculations, math etc."
   ]
  },
  {
   "cell_type": "markdown",
   "metadata": {
    "slideshow": {
     "slide_type": "subslide"
    }
   },
   "source": [
    "## Some common tasks in Bash\n",
    "\n",
    "  * file writing\n",
    "  * for-loops\n",
    "  * running an application\n",
    "  * combining applications (pipes)\n",
    "  * file globbing, testing file types\n",
    "  * managing files and directories (creation, deletion, renaming)\n",
    "  * directory tree traversal\n",
    "  * packing directory trees"
   ]
  },
  {
   "cell_type": "markdown",
   "metadata": {
    "slideshow": {
     "slide_type": "subslide"
    }
   },
   "source": [
    "### Bash example: Hello world"
   ]
  },
  {
   "cell_type": "code",
   "execution_count": null,
   "metadata": {},
   "outputs": [],
   "source": [
    "#!/bin/bash\n",
    "echo \"Hello world\""
   ]
  },
  {
   "cell_type": "markdown",
   "metadata": {},
   "source": [
    "Two options to run this script:\n",
    "\n",
    "1. Type the commands directly in the bash shell (only feasible for\n",
    "small scripts).\n",
    "2. Save the code as `helloworld.sh` and run with:\n",
    "```bash\n",
    "chmod a+x helloworld.sh # Make script executable\n",
    "./helloworld.sh\n",
    "```"
   ]
  },
  {
   "cell_type": "markdown",
   "metadata": {
    "slideshow": {
     "slide_type": "subslide"
    }
   },
   "source": [
    "### Bash example: Hello world, v2"
   ]
  },
  {
   "cell_type": "code",
   "execution_count": 30,
   "metadata": {},
   "outputs": [
    {
     "name": "stdout",
     "output_type": "stream",
     "text": [
      "Hello world!\r\n"
     ]
    }
   ],
   "source": [
    "#!/bin/bash\n",
    "x=\"world\"\n",
    "echo \"Hello ${x}!\""
   ]
  },
  {
   "cell_type": "markdown",
   "metadata": {},
   "source": [
    "* Assign a variable by `x=value`, \n",
    "* Retrieve the value of the variable by `${x}` (also called **variable substitution**).\n",
    "* You can also use `$x` to retrieve variables. "
   ]
  },
  {
   "cell_type": "markdown",
   "metadata": {
    "slideshow": {
     "slide_type": "subslide"
    }
   },
   "source": [
    "### Bash example: Hello world, v3"
   ]
  },
  {
   "cell_type": "code",
   "execution_count": null,
   "metadata": {},
   "outputs": [],
   "source": [
    "#!/bin/bash\n",
    "x=`date +\"I dag er %A\"`\n",
    "echo \"Hello world. $x\""
   ]
  },
  {
   "cell_type": "markdown",
   "metadata": {},
   "source": [
    "* Use x=\\`date\\` to store the output of the `date` command in the variable `x`.\n",
    "* Alternative syntax: `x=$(date)`"
   ]
  },
  {
   "cell_type": "markdown",
   "metadata": {
    "slideshow": {
     "slide_type": "subslide"
    }
   },
   "source": [
    "## Quiz: Why does this not work?"
   ]
  },
  {
   "cell_type": "code",
   "execution_count": null,
   "metadata": {},
   "outputs": [],
   "source": [
    "x = 5\n",
    "echo $x"
   ]
  },
  {
   "cell_type": "markdown",
   "metadata": {
    "slideshow": {
     "slide_type": "fragment"
    }
   },
   "source": [
    "**Remember**: Do not use spaces around the \"=\" in variable assignments!"
   ]
  },
  {
   "cell_type": "markdown",
   "metadata": {},
   "source": [
    "## Arithmetic operations\n",
    "\n",
    "Use the `$((expr))` syntax to evaluate simple arithmetic operations:"
   ]
  },
  {
   "cell_type": "code",
   "execution_count": null,
   "metadata": {},
   "outputs": [],
   "source": [
    "x=5\n",
    "echo $(($x+1)) is 6"
   ]
  },
  {
   "cell_type": "markdown",
   "metadata": {},
   "source": [
    "For more advanced calculations, you need to call an external program (e.g. `bc`)"
   ]
  },
  {
   "cell_type": "markdown",
   "metadata": {
    "slideshow": {
     "slide_type": "subslide"
    }
   },
   "source": [
    "## By default variables are un-typed\n"
   ]
  },
  {
   "cell_type": "markdown",
   "metadata": {},
   "source": [
    "Generally treated as character arrays:"
   ]
  },
  {
   "cell_type": "code",
   "execution_count": 18,
   "metadata": {},
   "outputs": [
    {
     "name": "stdout",
     "output_type": "stream",
     "text": []
    }
   ],
   "source": [
    "x=5+5\n",
    "echo $x"
   ]
  },
  {
   "cell_type": "markdown",
   "metadata": {
    "slideshow": {
     "slide_type": "subslide"
    }
   },
   "source": [
    "Sometimes it is useful to explicitly declare the variable type:"
   ]
  },
  {
   "cell_type": "code",
   "execution_count": null,
   "metadata": {},
   "outputs": [],
   "source": [
    "declare -i x     # integer\n",
    "x=5+5\n",
    "echo $x\n",
    "\n",
    "x=\"Hallo\"\n",
    "echo $x"
   ]
  },
  {
   "cell_type": "markdown",
   "metadata": {
    "slideshow": {
     "slide_type": "subslide"
    }
   },
   "source": [
    "Use `declare -a` for arrays and `declare -r` for read only variables:"
   ]
  },
  {
   "cell_type": "code",
   "execution_count": 28,
   "metadata": {
    "collapsed": true
   },
   "outputs": [
    {
     "name": "stdout",
     "output_type": "stream",
     "text": [
      "bash: r: readonly variable\r\n"
     ]
    }
   ],
   "source": [
    "declare -r r=10     # read only\n",
    "r=\"a\""
   ]
  },
  {
   "cell_type": "markdown",
   "metadata": {
    "slideshow": {
     "slide_type": "subslide"
    }
   },
   "source": [
    "## Bash variables: Comparisons and if statements\n",
    "\n",
    "Simple if statement:"
   ]
  },
  {
   "cell_type": "markdown",
   "metadata": {},
   "source": [
    "```bash\n",
    "if [ \"$name\" == \"Simon\" ]; then  # string  comparison\n",
    "    echoe \"God morgen, Simon!\"\n",
    "fi \n",
    "```"
   ]
  },
  {
   "cell_type": "markdown",
   "metadata": {},
   "source": [
    "**Note**: Unless you have declared a variable to be an integer, assume that all variables are strings and use double quotes (strings) when comparing variables."
   ]
  },
  {
   "cell_type": "markdown",
   "metadata": {
    "slideshow": {
     "slide_type": "fragment"
    }
   },
   "source": [
    "Comparison of two integers use a syntax different from comparison of two strings:\n",
    "\n",
    "```bash\n",
    "if [ $variable -eq 10 ]; then        # integer comparison\n",
    "fi \n",
    "```\n",
    "\n"
   ]
  },
  {
   "cell_type": "markdown",
   "metadata": {
    "slideshow": {
     "slide_type": "fragment"
    }
   },
   "source": [
    "**Example**: \n",
    "```bash\n",
    "if [ \"$?\" != \"0\" ]; then  # this is safe\n",
    "```\n",
    "\n",
    "```bash\n",
    "if [  $?  !=  0  ]; then  # might be unsafe\n",
    "```"
   ]
  },
  {
   "cell_type": "markdown",
   "metadata": {
    "slideshow": {
     "slide_type": "subslide"
    }
   },
   "source": [
    "## Command line arguments\n",
    "\n",
    "It is common to pass command line arguments when running a script:"
   ]
  },
  {
   "cell_type": "markdown",
   "metadata": {},
   "source": [
    "**Example**:\n",
    "\n",
    "```bash\n",
    "ls               # lists the files in the current directory\n",
    "ls -l            # shows more details\n",
    "ls -l inf3331/   # list the files in the inf3331 subdirectory\n",
    "```"
   ]
  },
  {
   "cell_type": "markdown",
   "metadata": {
    "slideshow": {
     "slide_type": "fragment"
    }
   },
   "source": [
    "Bash scripts has special variables for accessing these arguments:\n",
    "```bash\n",
    "$0    # ls    \n",
    "$1    # -l \n",
    "$2    # inf3331/\n",
    "$@    # String of all arguments \n",
    "$#    # Number of arguments\n",
    "```"
   ]
  },
  {
   "cell_type": "markdown",
   "metadata": {
    "slideshow": {
     "slide_type": "subslide"
    }
   },
   "source": [
    "### Example\n",
    "\n",
    "\n",
    "**Idea**: Write a script that takes a command as an argument, runs it and checks if it was succesfull."
   ]
  },
  {
   "cell_type": "markdown",
   "metadata": {},
   "source": [
    "```bash\n",
    "#!/bin/bash\n",
    "# run_and_test.sh \n",
    "$@\n",
    "\n",
    "if [ \"$?\" == \"0\" ]; then      # $? returns 0 if the last command was success\n",
    "    echo \"Command executed succesfully.\"\n",
    "else\n",
    "    echo \"An error occured.\"\n",
    "fi\n",
    "```"
   ]
  },
  {
   "cell_type": "code",
   "execution_count": 12,
   "metadata": {
    "collapsed": true
   },
   "outputs": [
    {
     "name": "stdout",
     "output_type": "stream",
     "text": [
      "hello-world/c++.cpp\r\n",
      "Hurray, everything went fine.\r\n"
     ]
    }
   ],
   "source": [
    "./run_and_test.sh rm myfile.txt"
   ]
  },
  {
   "cell_type": "markdown",
   "metadata": {
    "slideshow": {
     "slide_type": "subslide"
    }
   },
   "source": [
    "## Convenient debugging tool: -x\n",
    "\n",
    "\n",
    "Each source code line is printed prior to its execution if you add -x as option to `/bin/sh` or `/bin/bash`\n",
    "\n",
    "Either in the header\n",
    "\n",
    "```bash\n",
    "#!/bin/bash -x\n",
    "```\n",
    "or on the command line:\n",
    "```bash\n",
    "bash -x hw.sh\n",
    "```"
   ]
  },
  {
   "cell_type": "markdown",
   "metadata": {},
   "source": [
    "**Live example**:"
   ]
  },
  {
   "cell_type": "code",
   "execution_count": 33,
   "metadata": {},
   "outputs": [
    {
     "name": "stdout",
     "output_type": "stream",
     "text": [
      "+ echo 'Hello World'\r\n",
      "Hello World\r\n"
     ]
    }
   ],
   "source": [
    "bash -x hw.sh"
   ]
  },
  {
   "cell_type": "markdown",
   "metadata": {
    "slideshow": {
     "slide_type": "slide"
    }
   },
   "source": [
    "## Combining bash commands\n",
    "\n",
    "  * The power of Unix lies in combining simple commands into powerful operations\n",
    "\n",
    "  * Standard bash commands and unix applications normally do one small task\n",
    "\n",
    "  * Text is used for input and output - easy to send output from one command as input to another"
   ]
  },
  {
   "cell_type": "markdown",
   "metadata": {
    "slideshow": {
     "slide_type": "subslide"
    }
   },
   "source": [
    "## Combining bash commands: Pipes\n",
    "\n",
    "\n",
    "The pipe, sends the output of one command as input to the next:"
   ]
  },
  {
   "cell_type": "markdown",
   "metadata": {},
   "source": [
    "```bash\n",
    "ls -l | grep 3331\n",
    "```"
   ]
  },
  {
   "cell_type": "markdown",
   "metadata": {},
   "source": [
    "Will list all files having 3331 as part of the name"
   ]
  },
  {
   "cell_type": "markdown",
   "metadata": {
    "slideshow": {
     "slide_type": "subslide"
    }
   },
   "source": [
    "## Combining bash commands: Examples with Pipes\n",
    "\n",
    "Send files with size to `sort -rn` (reverse numerical sort) to get a list\n",
    "of files sorted after their sizes:\n"
   ]
  },
  {
   "cell_type": "markdown",
   "metadata": {},
   "source": [
    "```bash\n",
    "ls -s | sort -rn\n",
    "```"
   ]
  },
  {
   "cell_type": "markdown",
   "metadata": {},
   "source": [
    "Make a new application: sort all files in a directory\n",
    "tree `assignments`, with the largest files appearing first, and\n",
    "equip the output with paging functionality:"
   ]
  },
  {
   "cell_type": "markdown",
   "metadata": {},
   "source": [
    "```bash\n",
    "du -a assignments | sort -rn | less\n",
    "```"
   ]
  },
  {
   "cell_type": "markdown",
   "metadata": {
    "slideshow": {
     "slide_type": "subslide"
    }
   },
   "source": [
    "## Bash redirects\n",
    "\n",
    "Redirects are used to pass output to either a file or stream."
   ]
  },
  {
   "cell_type": "markdown",
   "metadata": {},
   "source": [
    "```bash\n",
    "echo \"Hei verden\" > myfile.txt  # Save (stdout) output to file\n",
    "echo \"Hei verden\" >> myfile.txt # Append (stdout) output to file\n",
    "wc -w < myfile.txt              # Use file content as (stdin) command input\n",
    "```"
   ]
  },
  {
   "cell_type": "markdown",
   "metadata": {},
   "source": [
    "## Quiz: Can you simplify this code?"
   ]
  },
  {
   "cell_type": "markdown",
   "metadata": {},
   "source": [
    "```bash\n",
    "ls > files && grep 2017 < files\n",
    "```"
   ]
  },
  {
   "cell_type": "markdown",
   "metadata": {
    "slideshow": {
     "slide_type": "fragment"
    }
   },
   "source": [
    "The code above implements a (inefficient) pipe. Better:\n",
    "```bash\n",
    "ls | grep 2017\n",
    "```"
   ]
  },
  {
   "cell_type": "markdown",
   "metadata": {},
   "source": [
    "**Note**: The two solutions only **behave** the same if the commands are succesfull."
   ]
  },
  {
   "cell_type": "markdown",
   "metadata": {},
   "source": [
    "## Quiz: Can you simplify this code?"
   ]
  },
  {
   "cell_type": "markdown",
   "metadata": {},
   "source": [
    "```bash\n",
    "cat INF3331-$username | ./test\n",
    "```"
   ]
  },
  {
   "cell_type": "markdown",
   "metadata": {},
   "source": [
    "The above can also be implemented as a:"
   ]
  },
  {
   "cell_type": "markdown",
   "metadata": {
    "slideshow": {
     "slide_type": "fragment"
    }
   },
   "source": [
    "```bash\n",
    "./test < INF3331-$username\n",
    "```"
   ]
  },
  {
   "cell_type": "markdown",
   "metadata": {
    "slideshow": {
     "slide_type": "subslide"
    }
   },
   "source": [
    "## The in-/outputs of a shell process: stdin, stdout and stderr"
   ]
  },
  {
   "cell_type": "markdown",
   "metadata": {},
   "source": [
    "A process takes standard input (STDIN) and returns\n",
    "\n",
    "* standard output (STDOUT)\n",
    "* standard error (STDERR)\n",
    "* return code - 0 on success, a different number otherwise"
   ]
  },
  {
   "cell_type": "markdown",
   "metadata": {},
   "source": [
    "<img src=\"figs/bash_process_codes.jpg\" style=\"width: 500px;\"/>"
   ]
  },
  {
   "cell_type": "markdown",
   "metadata": {
    "slideshow": {
     "slide_type": "subslide"
    }
   },
   "source": [
    "## Redirecting process streams"
   ]
  },
  {
   "cell_type": "markdown",
   "metadata": {},
   "source": [
    "```bash\n",
    "rm -v *.txt                 # stdout and stderr are displayed on the terminal\n",
    "rm -v *.txt 1> out.txt      # Redirect stout to a file, same as >\n",
    "rm -v *.txt 2> err.txt      # Redirect stderr to a file\n",
    "rm -v *.txt &> outerr.txt   # Redirect stdout and stderr to file\n",
    "```"
   ]
  },
  {
   "cell_type": "markdown",
   "metadata": {},
   "source": [
    "You can print to `stderr` with:"
   ]
  },
  {
   "cell_type": "markdown",
   "metadata": {},
   "source": [
    "```bash\n",
    "echo \"Wrong arguments\" >&2\n",
    "```"
   ]
  },
  {
   "cell_type": "markdown",
   "metadata": {},
   "source": [
    "Redirects and pipes can be combined:"
   ]
  },
  {
   "cell_type": "markdown",
   "metadata": {},
   "source": [
    "```bash   \n",
    "./compile 2>&1 | less  # View both stdout and stderr in less\n",
    "```"
   ]
  },
  {
   "cell_type": "markdown",
   "metadata": {
    "slideshow": {
     "slide_type": "subslide"
    }
   },
   "source": [
    "## Example: the classical Unix script\n",
    "A combination of commands, or a single long command, that you use often:"
   ]
  },
  {
   "cell_type": "markdown",
   "metadata": {},
   "source": [
    "```bash\n",
    "./pulse_app -cmt WinslowRice -casename ellipsoid < ellipsoid.i | tee main_output\n",
    "```"
   ]
  },
  {
   "cell_type": "markdown",
   "metadata": {},
   "source": [
    "In this case, flexibility is often not a high priority. \n",
    "\n",
    "However, there\n",
    "is room for improvement;\n",
    "\n",
    "  * Not possible to change command line options, input and output files\n",
    "\n",
    "  * Output file `main_output` is overwritten for each run\n",
    "\n",
    "  * Can we edit the input file for each run?"
   ]
  },
  {
   "cell_type": "markdown",
   "metadata": {
    "slideshow": {
     "slide_type": "subslide"
    }
   },
   "source": [
    "## Problem 1: changing application input\n",
    "In many cases only one parameter is changed frequently:"
   ]
  },
  {
   "cell_type": "markdown",
   "metadata": {},
   "source": [
    "```bash\n",
    "CASE='testbox'\n",
    "CMT='WinslowRice'\n",
    "if [ $# -gt 0 ]; then\n",
    "   CMT=$1\n",
    "fi\n",
    "INFILE='ellipsoid_test.i'\n",
    "OUTFILE='main_output'\n",
    "\n",
    "./pulse_app -cmt $CMT -cname $CASE < $INFILE | tee $OUTFILE\n",
    "```"
   ]
  },
  {
   "cell_type": "markdown",
   "metadata": {},
   "source": [
    "Still not very flexible, but in many cases sufficient. More\n",
    "flexibility requires more advanced parsing of command line options,\n",
    "which will be introduced later."
   ]
  },
  {
   "cell_type": "markdown",
   "metadata": {
    "slideshow": {
     "slide_type": "subslide"
    }
   },
   "source": [
    "## Problem 2: overwriting output file\n",
    "\n",
    "\n",
    "A simple solution is to add the output file as a command line\n",
    "  option, but what if we forget to change this from one run to the\n",
    "  next?\n",
    "\n",
    "Simple solution to ensure data is never over-written:"
   ]
  },
  {
   "cell_type": "markdown",
   "metadata": {},
   "source": [
    "```bash\n",
    "jobdir=$PWD/$(date)\n",
    "mkdir $jobdir\n",
    "cd $jobdir\n",
    "\n",
    "./pulse_app -cmt $CMT -cname $CASE  < $INFILE | tee $OUTFILE\n",
    "cd ..\n",
    "if [ -L 'latest' ]; then\n",
    "    rm latest\n",
    "fi\n",
    "ln -s $jobdir latest\n",
    "```"
   ]
  },
  {
   "cell_type": "markdown",
   "metadata": {
    "slideshow": {
     "slide_type": "subslide"
    }
   },
   "source": [
    "## Problem 2: overwriting output file (2)\n",
    "Alternative solutions:\n",
    "\n",
    "* Use process ID of the script (`$$`, not really unique)\n",
    "\n",
    "* `mktemp` can create a temporary file with a unique name, for\n",
    "  use by the script\n",
    "\n",
    "* Check if subdirectory exists, exit script if it does:"
   ]
  },
  {
   "cell_type": "markdown",
   "metadata": {},
   "source": [
    "```bash\n",
    "dir=$case\n",
    "# check if $dir is a directory:\n",
    "if [ -d $dir ]\n",
    "  # exit script to avoid overwriting data\n",
    "  then\n",
    "    echo \"Output directory exists, provide a different name\"\n",
    "    exit\n",
    "fi\n",
    "mkdir $dir   # create new directory $dir\n",
    "cd $dir      # move to $dir\n",
    "```"
   ]
  },
  {
   "cell_type": "markdown",
   "metadata": {
    "slideshow": {
     "slide_type": "subslide"
    }
   },
   "source": [
    "## Alternative `if`-tests\n",
    "As with everything else in Bash, there are multiple ways to do `if`-tests:"
   ]
  },
  {
   "cell_type": "markdown",
   "metadata": {},
   "source": [
    "```bash        \n",
    "# the 'then' statement can also appear on the 1st line:\n",
    "if [ -d $dir ]; \n",
    "then\n",
    "  exit\n",
    "fi\n",
    "\n",
    "# another form of if-tests:\n",
    "if test -d $dir; then\n",
    "  exit\n",
    "fi\n",
    "\n",
    "# and a shortcut:\n",
    "[ -d $dir ] && exit\n",
    "test -d $dir && exit\n",
    "```"
   ]
  },
  {
   "cell_type": "markdown",
   "metadata": {},
   "source": [
    "Be aware of the whitespaces in the `[ -d $dir ]`, otherwise it will not work."
   ]
  },
  {
   "cell_type": "markdown",
   "metadata": {
    "slideshow": {
     "slide_type": "subslide"
    }
   },
   "source": [
    "## Problem 3: can we edit the input file at run time?\n",
    "\n",
    "  * Some applications do not take command line options, all input must read from standard input or an input file\n",
    "\n",
    "  * A Bash script can be used to equip such programs with basic handling of command line options\n",
    "\n",
    "**Idea**: We want to grab input from the command line, create the correct input file, and run the application"
   ]
  },
  {
   "cell_type": "markdown",
   "metadata": {
    "slideshow": {
     "slide_type": "subslide"
    }
   },
   "source": [
    "## File reading and writing\n",
    "\n",
    "\n",
    "File writing is efficiently done by 'here documents':"
   ]
  },
  {
   "cell_type": "markdown",
   "metadata": {},
   "source": [
    "```bash\n",
    "cat > myfile <<EOF\n",
    "multi-line text\n",
    "can now be inserted here,\n",
    "and variable substition such as\n",
    "$myvariable is\n",
    "supported.\n",
    "EOF\n",
    "```"
   ]
  },
  {
   "cell_type": "markdown",
   "metadata": {},
   "source": [
    "The final EOF must\n",
    "start in column 1 of the\n",
    "script file."
   ]
  },
  {
   "cell_type": "markdown",
   "metadata": {
    "slideshow": {
     "slide_type": "subslide"
    }
   },
   "source": [
    "## Parsing command-line options"
   ]
  },
  {
   "cell_type": "markdown",
   "metadata": {},
   "source": [
    "```bash\n",
    "# read variables from the command line, one by one:\n",
    "while [ $# -gt 0 ]\n",
    "do\n",
    "    option=$1; # load command-line arg into option\n",
    "    shift;     # eat currently first command-line arg\n",
    "    case \"$option\" in\n",
    "        -m)\n",
    "            m=$1; shift; ;;  # ;; indicates end of case\n",
    "        -b)\n",
    "            b=$1; shift; ;;\n",
    "        *)\n",
    "            echo \"$0: invalid option \\\"$option\\\"\"; exit ;;\n",
    "    esac\n",
    "done\n",
    "\n",
    "echo \"Command line arguments:\"\n",
    "[ -n \"$m\" ] && echo \"m=$m\"\n",
    "[ -n \"$b\" ] && echo \"b=$b\"\n",
    "```"
   ]
  },
  {
   "cell_type": "markdown",
   "metadata": {
    "slideshow": {
     "slide_type": "subslide"
    }
   },
   "source": [
    "## Alternative to case: if\n",
    "\n",
    "`case` is standard when parsing command-line arguments in Bash, but if-tests can also be used. Consider"
   ]
  },
  {
   "cell_type": "markdown",
   "metadata": {},
   "source": [
    "```bash\n",
    "if [ \"$option\" == \"-m\" ]; then\n",
    "    m=$1; shift;  \n",
    "elif [ \"$option\" == \"-b\" ]; then\n",
    "    b=$1; shift;\n",
    "else\n",
    "    echo exit;\n",
    "fi\n",
    "```"
   ]
  },
  {
   "cell_type": "markdown",
   "metadata": {
    "slideshow": {
     "slide_type": "subslide"
    }
   },
   "source": [
    "## After assigning variables, we can write the input file"
   ]
  },
  {
   "cell_type": "markdown",
   "metadata": {},
   "source": [
    "Write to `$infile` the lines that appear between the EOF symbols:\n",
    "\n",
    "```bash\n",
    "cat > $infile <<EOF\n",
    "        gridfile='test2.grid'\n",
    "        param_m=$m\n",
    "        param_b=$b\n",
    "EOF\n",
    "```"
   ]
  },
  {
   "cell_type": "markdown",
   "metadata": {
    "slideshow": {
     "slide_type": "subslide"
    }
   },
   "source": [
    "## Then execute the program as usual\n",
    "\n",
    "\n",
    "Redirecting input to read from the new input file"
   ]
  },
  {
   "cell_type": "markdown",
   "metadata": {},
   "source": [
    "```bash\n",
    "../pulse_app < $infile\n",
    "```"
   ]
  },
  {
   "cell_type": "markdown",
   "metadata": {},
   "source": [
    "We can add a check for successful execution.\n",
    "The shell variable `$?` is 0 if last command\n",
    "was successful, otherwise `$? != 0`."
   ]
  },
  {
   "cell_type": "markdown",
   "metadata": {},
   "source": [
    "```bash\n",
    "if [ \"$?\" != \"0\" ]; then\n",
    "  echo \"running pulse_app failed\"; exit 1\n",
    "fi\n",
    "\n",
    "# exit n sets $? to n\n",
    "```"
   ]
  },
  {
   "cell_type": "markdown",
   "metadata": {
    "slideshow": {
     "slide_type": "subslide"
    }
   },
   "source": [
    "## For-loops\n",
    "\n",
    "\n",
    "What if we want to run the application for multiple input files?"
   ]
  },
  {
   "cell_type": "markdown",
   "metadata": {},
   "source": [
    "```bash\n",
    "./run.sh test1.i test2.i test3.i test4.i\n",
    "```"
   ]
  },
  {
   "cell_type": "markdown",
   "metadata": {},
   "source": [
    "or"
   ]
  },
  {
   "cell_type": "markdown",
   "metadata": {},
   "source": [
    "```bash\n",
    "./run.sh *.i\n",
    "```"
   ]
  },
  {
   "cell_type": "markdown",
   "metadata": {},
   "source": [
    "A for-loop over command line arguments"
   ]
  },
  {
   "cell_type": "markdown",
   "metadata": {},
   "source": [
    "```bash\n",
    "for arg in $@; do\n",
    "  ../pulse_app < $arg\n",
    "done\n",
    "```"
   ]
  },
  {
   "cell_type": "markdown",
   "metadata": {},
   "source": [
    "Can be combined with more advanced command line options, output\n",
    "  directories, etc..."
   ]
  },
  {
   "cell_type": "markdown",
   "metadata": {
    "slideshow": {
     "slide_type": "subslide"
    }
   },
   "source": [
    "## For-loops (2)\n",
    "\n",
    "\n",
    "For loops for file management:"
   ]
  },
  {
   "cell_type": "markdown",
   "metadata": {},
   "source": [
    "```bash\n",
    "files=`ls *.tmp`\n",
    "\n",
    "for file in $files\n",
    "do\n",
    "  echo removing $file\n",
    "  rm -f $file\n",
    "done\n",
    "```"
   ]
  },
  {
   "cell_type": "markdown",
   "metadata": {
    "slideshow": {
     "slide_type": "subslide"
    }
   },
   "source": [
    "## Counters\n",
    "\n",
    "\n",
    "Declare an integer counter:"
   ]
  },
  {
   "cell_type": "markdown",
   "metadata": {},
   "source": [
    "```bash\n",
    "declare -i counter\n",
    "counter=0\n",
    "# arithmetic expressions must appear inside (( ))\n",
    "((counter++))\n",
    "echo $counter  # yields 1\n",
    "```"
   ]
  },
  {
   "cell_type": "markdown",
   "metadata": {},
   "source": [
    "For-loop with counter:"
   ]
  },
  {
   "cell_type": "markdown",
   "metadata": {},
   "source": [
    "```bash\n",
    "declare -i n; n=1\n",
    "for arg in $@; do\n",
    "  echo \"command-line argument no. $n is <$arg>\"\n",
    "  ((n++))\n",
    "done\n",
    "```"
   ]
  },
  {
   "cell_type": "markdown",
   "metadata": {
    "slideshow": {
     "slide_type": "subslide"
    }
   },
   "source": [
    "## C-style for-loops"
   ]
  },
  {
   "cell_type": "markdown",
   "metadata": {},
   "source": [
    "```bash\n",
    "declare -i i\n",
    "for ((i=0; i<$n; i++)); do\n",
    "  echo $c\n",
    "done\n",
    "```"
   ]
  },
  {
   "cell_type": "markdown",
   "metadata": {
    "slideshow": {
     "slide_type": "subslide"
    }
   },
   "source": [
    "## Example: bundle files\n",
    "\n",
    "\n",
    "Pack a series of files into one file\n",
    "\n",
    "Executing this single file as a Bash script packs out all the individual files again\n",
    "\n",
    "Usage:"
   ]
  },
  {
   "cell_type": "markdown",
   "metadata": {},
   "source": [
    "```bash\n",
    "bundle file1 file2 file3 > onefile  # pack\n",
    "bash onefile # unpack\n",
    "```"
   ]
  },
  {
   "cell_type": "markdown",
   "metadata": {},
   "source": [
    "Writing `bundle` is easy:"
   ]
  },
  {
   "cell_type": "markdown",
   "metadata": {},
   "source": [
    "```bash\n",
    "#/bin/sh\n",
    "for i in $@; do\n",
    "    echo \"echo unpacking file $i\"\n",
    "    echo \"cat > $i <<EOF\"\n",
    "    cat $i\n",
    "    echo \"EOF\"\n",
    "done\n",
    "```"
   ]
  },
  {
   "cell_type": "markdown",
   "metadata": {
    "slideshow": {
     "slide_type": "subslide"
    }
   },
   "source": [
    "## The bundle output file\n",
    "\n",
    "\n",
    "Consider 2 fake files: `file1`:"
   ]
  },
  {
   "cell_type": "markdown",
   "metadata": {},
   "source": [
    "```bash\n",
    "Hello, World!\n",
    "No sine computations today\n",
    "```"
   ]
  },
  {
   "cell_type": "markdown",
   "metadata": {},
   "source": [
    "and `file2`:"
   ]
  },
  {
   "cell_type": "markdown",
   "metadata": {},
   "source": [
    "```bash\n",
    "1.0 2.0 4.0\n",
    "0.1 0.2 0.4\n",
    "```"
   ]
  },
  {
   "cell_type": "markdown",
   "metadata": {},
   "source": [
    "Running `bundle file1 file2` yields the output"
   ]
  },
  {
   "cell_type": "markdown",
   "metadata": {},
   "source": [
    "```bash\n",
    "echo unpacking file file1\n",
    "cat > file1 <<EOF\n",
    "Hello, World!\n",
    "No sine computations today\n",
    "EOF\n",
    "echo unpacking file file2\n",
    "cat > file2 <<EOF\n",
    "1.0 2.0 4.0\n",
    "0.1 0.2 0.4\n",
    "EOF\n",
    "```"
   ]
  },
  {
   "cell_type": "markdown",
   "metadata": {
    "slideshow": {
     "slide_type": "subslide"
    }
   },
   "source": [
    "## Running an application\n",
    "\n",
    "\n",
    "Running in the foreground:"
   ]
  },
  {
   "cell_type": "markdown",
   "metadata": {},
   "source": [
    "```bash\n",
    "cmd=\"myprog -c file.1 -p -f -q\";\n",
    "$cmd < my_input_file\n",
    "\n",
    "# output is directed to the file res\n",
    "$cmd < my_input_file > res\n",
    "\n",
    "# process res file by Sed, Awk, Perl or Python\n",
    "```"
   ]
  },
  {
   "cell_type": "markdown",
   "metadata": {},
   "source": [
    "Running in the background:"
   ]
  },
  {
   "cell_type": "markdown",
   "metadata": {},
   "source": [
    "```bash\n",
    "myprog -c file.1 -p -f -q < my_input_file &\n",
    "```"
   ]
  },
  {
   "cell_type": "markdown",
   "metadata": {},
   "source": [
    "or stop a foreground job with Ctrl-Z and then type `bg`"
   ]
  },
  {
   "cell_type": "markdown",
   "metadata": {
    "slideshow": {
     "slide_type": "subslide"
    }
   },
   "source": [
    "## Functions"
   ]
  },
  {
   "cell_type": "markdown",
   "metadata": {},
   "source": [
    "```bash\n",
    "function system {\n",
    "# Run operating system command and if failure, report and abort\n",
    "\n",
    "  \"$@\"\n",
    "  if [ $? -ne 0 ]; then\n",
    "    echo \"make.sh: unsuccessful command $@\"\n",
    "    echo \"abort!\"\n",
    "    exit 1\n",
    "  fi\n",
    "}\n",
    "# function arguments: $1 $2 $3 and so on\n",
    "# return value: last statement\n",
    "# call:\n",
    "name=mydoc\n",
    "system pdflatex $name\n",
    "system bibtex $name\n",
    "```"
   ]
  },
  {
   "cell_type": "markdown",
   "metadata": {},
   "source": [
    "How to return a value from a function? Define a new variable within the function - all functions are global!"
   ]
  },
  {
   "cell_type": "markdown",
   "metadata": {
    "slideshow": {
     "slide_type": "subslide"
    }
   },
   "source": [
    "## File globbing, for loop on the command line\n",
    "\n",
    "\n",
    "List all .ps and .gif files using wildcard notation:"
   ]
  },
  {
   "cell_type": "markdown",
   "metadata": {},
   "source": [
    "```bash\n",
    "files=`ls *.ps *.gif`\n",
    "\n",
    "# or safer, if you have aliased ls:\n",
    "files=`/bin/ls *.ps *.gif`\n",
    "\n",
    "# compress and move the files:\n",
    "gzip $files\n",
    "for file in $files; do\n",
    "  mv ${file}.gz $HOME/images\n",
    "```"
   ]
  },
  {
   "cell_type": "markdown",
   "metadata": {
    "slideshow": {
     "slide_type": "subslide"
    }
   },
   "source": [
    "## Testing file types"
   ]
  },
  {
   "cell_type": "markdown",
   "metadata": {},
   "source": [
    "```bash\n",
    "if [ -f $myfile ]; then\n",
    "    echo \"$myfile is a plain file\"\n",
    "fi\n",
    "\n",
    "# or equivalently:\n",
    "if test -f $myfile; then\n",
    "    echo \"$myfile is a plain file\"\n",
    "fi\n",
    "\n",
    "if [ ! -d $myfile ]; then\n",
    "    echo \"$myfile is NOT a directory\"\n",
    "fi\n",
    "\n",
    "if [ -x $myfile ]; then\n",
    "    echo \"$myfile is executable\"\n",
    "fi\n",
    "\n",
    "[ -z $myfile ] && echo \"empty file $myfile\"\n",
    "```"
   ]
  },
  {
   "cell_type": "markdown",
   "metadata": {
    "slideshow": {
     "slide_type": "subslide"
    }
   },
   "source": [
    "## Rename, copy and remove files"
   ]
  },
  {
   "cell_type": "markdown",
   "metadata": {},
   "source": [
    "```bash\n",
    "# rename $myfile to tmp.1:\n",
    "mv $myfile tmp.1\n",
    "\n",
    "# force renaming:\n",
    "mv -f $myfile tmp.1\n",
    "\n",
    "# move a directory tree my tree to $root:\n",
    "mv mytree $root\n",
    "\n",
    "# copy myfile to $tmpfile:\n",
    "cp myfile $tmpfile\n",
    "\n",
    "# copy a directory tree mytree recursively to $root:\n",
    "cp -r mytree $root\n",
    "\n",
    "# remove myfile and all files with suffix .ps:\n",
    "rm myfile *.ps\n",
    "\n",
    "# remove a non-empty directory tmp/mydir:\n",
    "rm -r tmp/mydir\n",
    "```"
   ]
  },
  {
   "cell_type": "markdown",
   "metadata": {
    "slideshow": {
     "slide_type": "subslide"
    }
   },
   "source": [
    "## Directory management"
   ]
  },
  {
   "cell_type": "markdown",
   "metadata": {},
   "source": [
    "```bash\n",
    "# make directory:\n",
    "$dir = \"mynewdir\";\n",
    "mkdir $mynewdir\n",
    "mkdir -m 0755 $dir  # readable for all\n",
    "mkdir -m 0700 $dir  # readable for owner only\n",
    "mkdir -m 0777 $dir  # all rights for all\n",
    "\n",
    "# move to $dir\n",
    "cd $dir\n",
    "# move to $HOME\n",
    "cd\n",
    "\n",
    "# create intermediate directories (the whole path):\n",
    "mkdir -p  $HOME/bash/prosjects/test1\n",
    "```"
   ]
  },
  {
   "cell_type": "markdown",
   "metadata": {
    "slideshow": {
     "slide_type": "subslide"
    }
   },
   "source": [
    "## The find command\n",
    "\n",
    "Very useful command!\n",
    "\n",
    "\n",
    "`find` visits all files in a directory tree and can execute one or more commands for every file\n",
    "\n",
    "Basic example: find the `oscillator` codes"
   ]
  },
  {
   "cell_type": "markdown",
   "metadata": {},
   "source": [
    "```bash\n",
    "find $scripting/src -name 'oscillator*' -print\n",
    "```"
   ]
  },
  {
   "cell_type": "markdown",
   "metadata": {},
   "source": [
    "Or find all PostScript files"
   ]
  },
  {
   "cell_type": "markdown",
   "metadata": {},
   "source": [
    "```bash\n",
    "find $HOME \\( -name '*.ps' -o -name '*.eps' \\) -print\n",
    "```"
   ]
  },
  {
   "cell_type": "markdown",
   "metadata": {},
   "source": [
    "We can also run a command for each file:"
   ]
  },
  {
   "cell_type": "markdown",
   "metadata": {},
   "source": [
    "```bash\n",
    "find rootdir -name filenamespec -exec command {} \\; -print\n",
    "# {} is the current filename\n",
    "```"
   ]
  },
  {
   "cell_type": "markdown",
   "metadata": {
    "slideshow": {
     "slide_type": "subslide"
    }
   },
   "source": [
    "## Applications of find (1)\n",
    "\n",
    "\n",
    "Find all files larger than 2000 blocks a 512 bytes (=1Mb):"
   ]
  },
  {
   "cell_type": "markdown",
   "metadata": {},
   "source": [
    "```bash\n",
    "find $HOME -name '*' -type f -size +2000 -exec ls -s {} \\;\n",
    "```"
   ]
  },
  {
   "cell_type": "markdown",
   "metadata": {},
   "source": [
    "Remove all these files:"
   ]
  },
  {
   "cell_type": "markdown",
   "metadata": {},
   "source": [
    "```bash\n",
    "find $HOME -name '*' -type f -size +2000 \\\n",
    "           -exec ls -s {} \\; -exec rm -f {} \\;\n",
    "```"
   ]
  },
  {
   "cell_type": "markdown",
   "metadata": {},
   "source": [
    "or ask the user for permission to remove:"
   ]
  },
  {
   "cell_type": "markdown",
   "metadata": {},
   "source": [
    "```bash\n",
    "find $HOME -name '*' -type f -size +2000 \\\n",
    "           -exec ls -s {} \\; -ok rm -f {} \\;\n",
    "```"
   ]
  },
  {
   "cell_type": "markdown",
   "metadata": {
    "slideshow": {
     "slide_type": "subslide"
    }
   },
   "source": [
    "## Applications of find (2)\n",
    "\n",
    "\n",
    "Find all files not being accessed for the last 90 days:"
   ]
  },
  {
   "cell_type": "markdown",
   "metadata": {},
   "source": [
    "```bash\n",
    "find $HOME -name '*' -atime +90 -print\n",
    "```"
   ]
  },
  {
   "cell_type": "markdown",
   "metadata": {},
   "source": [
    "and move these to /tmp/trash:"
   ]
  },
  {
   "cell_type": "markdown",
   "metadata": {},
   "source": [
    "```bash\n",
    "find $HOME -name '*' -atime +90 -print \\\n",
    "           -exec mv -f {} /tmp/trash \\;\n",
    "```"
   ]
  },
  {
   "cell_type": "markdown",
   "metadata": {
    "slideshow": {
     "slide_type": "subslide"
    }
   },
   "source": [
    "## Tar and gzip\n",
    "\n",
    "\n",
    "The `tar` command can pack single files or  all files in a directory tree into one file, which can be unpacked later"
   ]
  },
  {
   "cell_type": "markdown",
   "metadata": {},
   "source": [
    "```bash\n",
    "tar -cvf myfiles.tar mytree file1 file2\n",
    "\n",
    "# options:\n",
    "# c: pack, v: list name of files, f: pack into file\n",
    "\n",
    "# unpack the mytree tree and the files file1 and file2:\n",
    "tar -xvf myfiles.tar\n",
    "\n",
    "# options:\n",
    "# x: extract (unpack)\n",
    "```"
   ]
  },
  {
   "cell_type": "markdown",
   "metadata": {},
   "source": [
    "The tarfile can be compressed:"
   ]
  },
  {
   "cell_type": "markdown",
   "metadata": {},
   "source": [
    "```bash\n",
    "gzip mytar.tar\n",
    "# result: mytar.tar.gz\n",
    "```"
   ]
  },
  {
   "cell_type": "markdown",
   "metadata": {
    "slideshow": {
     "slide_type": "subslide"
    }
   },
   "source": [
    "## Two find/tar/gzip examples\n",
    "\n",
    "\n",
    "Pack all PostScript figures:"
   ]
  },
  {
   "cell_type": "markdown",
   "metadata": {},
   "source": [
    "```bash\n",
    "tar -cvf ps.tar `find $HOME -name '*.ps' -print`\n",
    "gzip ps.tar\n",
    "```"
   ]
  },
  {
   "cell_type": "markdown",
   "metadata": {},
   "source": [
    "Pack a directory but remove CVS directories and redundant files"
   ]
  },
  {
   "cell_type": "markdown",
   "metadata": {},
   "source": [
    "```bash\n",
    "# take a copy of the original directory:\n",
    "cp -r myhacks /tmp/oblig1-hpl\n",
    "# remove CVS directories\n",
    "find /tmp/oblig1-hpl -name CVS -print -exec rm -rf {} \\;\n",
    "# remove redundant files:\n",
    "find /tmp/oblig1-hpl \\( -name '*~' -o -name '*.bak' \\\n",
    " -o -name '*.log' \\) -print -exec rm -f {} \\;\n",
    "# pack files:\n",
    "tar -cf oblig1-hpl.tar /tmp/tar/oblig1-hpl.tar\n",
    "gzip oblig1-hpl.tar\n",
    "# send oblig1-hpl.tar.gz as mail attachment\n",
    "```"
   ]
  }
 ],
 "metadata": {
  "celltoolbar": "Slideshow",
  "kernelspec": {
   "display_name": "Bash",
   "language": "bash",
   "name": "bash"
  },
  "language_info": {
   "codemirror_mode": "shell",
   "file_extension": ".sh",
   "mimetype": "text/x-sh",
   "name": "bash"
  },
  "livereveal": {
   "scroll": true,
   "start_slideshow_at": "selected",
   "theme": "serif"
  }
 },
 "nbformat": 4,
 "nbformat_minor": 1
}
