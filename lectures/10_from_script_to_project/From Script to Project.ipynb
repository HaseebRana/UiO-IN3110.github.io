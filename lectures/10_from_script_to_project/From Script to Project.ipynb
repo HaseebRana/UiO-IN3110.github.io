{
 "cells": [
  {
   "cell_type": "markdown",
   "metadata": {},
   "source": [
    "# From script to project\n",
    "\n",
    "\n",
    "Topics:\n",
    "    \n",
    "* Installation\n",
    "    * Virtual environments with virtualenv and conda\n",
    "       - Create new environment with \"python -m venv venv/\"\n",
    "       - Activate the environment with \"source venv/bin/activate\"\n",
    "       - Install all dependencies with \"pip install flask\" and \"pip install gunicorn\"\n",
    "       - Create a requirements.txt with flaks and unicorn \n",
    "       - (alternatively record all dependencies with \"pip freeze > requirements.txt\" (but maybe remove versions afterwards)\n",
    "    * requirements.txt\n",
    "    * Package + setup.py \n",
    "    * Makefiles?\n",
    "    * Add install section in README\n",
    "* Testing\n",
    "    * py.test\n",
    "    * Continuous integration (use travis/github)\n",
    "* Documentation\n",
    "    * Sphinx / pydoc (readthedocs?)\n",
    "* Deployment / Publishing\n",
    "    * Versioning and releases (git tags / pypi)   \n",
    "    * Simple deployment of a flask app: heroku?\n",
    "    * (docker image?)  -> services like heroku, but input is Dockerfile (google cloud run)"
   ]
  },
  {
   "cell_type": "markdown",
   "metadata": {},
   "source": [
    "## Typical steps\n",
    "\n",
    "1. Organize your script into a package and modules.\n",
    "2. Add documentation.\n",
    "3. Create project website with online documentation.\n",
    "4. Handle errors.\n",
    "5. Add tests.\n",
    "6. Add installation instructions/files.\n",
    "\n",
    "\n",
    "The files of this lecture are available here: https://github.com/UiO-IN3110/UiO-IN3110.github.io/tree/master/lectures/10_from_script_to_project"
   ]
  },
  {
   "cell_type": "markdown",
   "metadata": {},
   "source": [
    "## Our testcase "
   ]
  },
  {
   "cell_type": "markdown",
   "metadata": {},
   "source": [
    "We will use the `Monty Hall Game` implementation from last week as an example."
   ]
  },
  {
   "cell_type": "markdown",
   "metadata": {},
   "source": [
    "<img src=\"images/monty_hall_game.png\" style=\"width: 400px;\"/>"
   ]
  },
  {
   "cell_type": "markdown",
   "metadata": {},
   "source": [
    "This `project` currently consists of the game file itself and some html templates:"
   ]
  },
  {
   "cell_type": "markdown",
   "metadata": {},
   "source": [
    "```bash\n",
    "monty_hall_game/\n",
    "    game_server.py     # Start web server\n",
    "    templates/*.html   # Templates for web-server\n",
    "```"
   ]
  },
  {
   "cell_type": "markdown",
   "metadata": {},
   "source": [
    "**Goal**:\n",
    "Make the game available as a project with:\n",
    "* a *command line* interface \n",
    "* a *web* interface\n",
    "* online and offline documentation\n",
    "* tests \n",
    "* error handling."
   ]
  },
  {
   "cell_type": "markdown",
   "metadata": {},
   "source": [
    "## Step 1. Organize your script into modules and functions."
   ]
  },
  {
   "cell_type": "markdown",
   "metadata": {},
   "source": [
    "We would like to offer a command line interface and a web interface. To achieve this, \n",
    "we separate the game logic into a separate package (which is simply a directory with Python modules). \n",
    "\n",
    "```bash\n",
    "myproject/\n",
    "    monty_hall_game/               # Game package\n",
    "        __init__.py                    #    Init file module \n",
    "        monty_hall_game.py             #    Core game module\n",
    "```        \n",
    "\n",
    "\n",
    "\n",
    "The core game module contains the class `MontyHallGame`, which implements the core functionality of the game. Here is a the user interface for the game package:"
   ]
  },
  {
   "cell_type": "markdown",
   "metadata": {},
   "source": [
    "Let's look at the user interface of the package.\n",
    "\n",
    "Setting up the game:"
   ]
  },
  {
   "cell_type": "code",
   "execution_count": 1,
   "metadata": {},
   "outputs": [],
   "source": [
    "from monty_hall_game import MontyHallGame\n",
    "\n",
    "game = MontyHallGame()"
   ]
  },
  {
   "cell_type": "markdown",
   "metadata": {},
   "source": [
    "We can now play one round:"
   ]
  },
  {
   "cell_type": "code",
   "execution_count": 2,
   "metadata": {},
   "outputs": [],
   "source": [
    "game.select_door(door=1)"
   ]
  },
  {
   "cell_type": "code",
   "execution_count": 3,
   "metadata": {},
   "outputs": [
    {
     "data": {
      "text/plain": [
       "3"
      ]
     },
     "execution_count": 3,
     "metadata": {},
     "output_type": "execute_result"
    }
   ],
   "source": [
    "game.let_host_open_door()"
   ]
  },
  {
   "cell_type": "code",
   "execution_count": 4,
   "metadata": {},
   "outputs": [],
   "source": [
    "game.select_door(1)"
   ]
  },
  {
   "cell_type": "code",
   "execution_count": 5,
   "metadata": {
    "scrolled": true
   },
   "outputs": [
    {
     "data": {
      "text/plain": [
       "False"
      ]
     },
     "execution_count": 5,
     "metadata": {},
     "output_type": "execute_result"
    }
   ],
   "source": [
    "game.open_door()   # True == win, False == loose"
   ]
  },
  {
   "cell_type": "markdown",
   "metadata": {},
   "source": [
    "Printing the game statistics:"
   ]
  },
  {
   "cell_type": "code",
   "execution_count": 6,
   "metadata": {},
   "outputs": [
    {
     "name": "stdout",
     "output_type": "stream",
     "text": [
      "Changed and won: 0 out of 0\n",
      "Not changed and won: 0 out of 1\n"
     ]
    }
   ],
   "source": [
    "print(game.statistics())"
   ]
  },
  {
   "cell_type": "markdown",
   "metadata": {},
   "source": [
    "With this package, we can build scripts that expose the game to the user via the command line and the web-interface.\n",
    "We implement these in the folder `bin` (for binary files. We use this name of convention reasons, even though our files are not really bindary files)."
   ]
  },
  {
   "cell_type": "markdown",
   "metadata": {},
   "source": [
    "Our new directory structure is:"
   ]
  },
  {
   "cell_type": "markdown",
   "metadata": {},
   "source": [
    "```bash\n",
    "myproject/\n",
    "    bin/                           # Scripts\n",
    "        play_monty_hall_cli.py         #    Start game with command line interface \n",
    "        play_monty_hall_web.py         #    Start game with web-server\n",
    "    monty_hall_game/               # Game package\n",
    "        __init__.py                    #    Init file module \n",
    "        monty_hall_game.py             #    Core game module\n",
    "    templates/*.html               # Templates for web-server        \n",
    "```"
   ]
  },
  {
   "cell_type": "markdown",
   "metadata": {},
   "source": [
    "Let's look at the code in more detail (see files in `monty-hall-game1` folder)"
   ]
  },
  {
   "cell_type": "markdown",
   "metadata": {},
   "source": [
    "## Step 2. Add documentation"
   ]
  },
  {
   "cell_type": "markdown",
   "metadata": {},
   "source": [
    "We should add docstrings to the module `monty_hall_game.py` file.\n",
    "\n",
    "Note, that I write the documentation in a Sphinx Markup Style (see https://goo.gl/4P4AZU) to obtain nicely rendered online documentation.\n",
    "\n",
    "Let's look at the code in more detail (see files in `monty-hall-game2` folder)\n",
    "\n",
    "Once done, we can access the docstrings as usual:"
   ]
  },
  {
   "cell_type": "code",
   "execution_count": 2,
   "metadata": {
    "collapsed": true
   },
   "outputs": [],
   "source": [
    "import monty_hall_game\n",
    "monty_hall_game.MontyHallGame.let_host_open_door?"
   ]
  },
  {
   "cell_type": "markdown",
   "metadata": {},
   "source": [
    "## Step 3. Python documentation with PyDoc and Sphinx\n",
    "\n",
    "\n",
    "\n",
    "\n",
    "### PyDoc\n",
    "\n",
    "PyDoc is a tool to automatically generates documentation of Python files.\n",
    "No installation is required as PyDoc is part of the Python distribution.\n",
    "\n",
    "#### How to get started\n",
    "Create the text documentation for a Python file:\n",
    "\n",
    "```bash\n",
    "pydoc python_file\n",
    "```\n",
    "\n",
    "Create a html documentation for a Python file:\n",
    "\n",
    "```bash\n",
    "pydoc -w python_file\n",
    "```\n",
    "\n",
    "Start an HTTP server on an unused port and open a Web browser to interactively browse documentation:\n",
    "```bash\n",
    "pydoc -b 5555\n",
    "```"
   ]
  },
  {
   "cell_type": "markdown",
   "metadata": {},
   "source": [
    "#### Test with our example:"
   ]
  },
  {
   "cell_type": "code",
   "execution_count": 7,
   "metadata": {},
   "outputs": [
    {
     "name": "stdout",
     "output_type": "stream",
     "text": [
      "wrote monty_hall_game.html\r\n"
     ]
    }
   ],
   "source": [
    "!pydoc -w monty-hall-game3/monty_hall_game/monty_hall_game.py"
   ]
  },
  {
   "cell_type": "code",
   "execution_count": 8,
   "metadata": {},
   "outputs": [
    {
     "name": "stdout",
     "output_type": "stream",
     "text": [
      "[25318:25318:1105/172653.917413:ERROR:sandbox_linux.cc(369)] InitializeSandbox() called with multiple threads in process gpu-process.\n",
      "Opening in existing browser session.\n"
     ]
    }
   ],
   "source": [
    "!google-chrome monty_hall_game.html"
   ]
  },
  {
   "cell_type": "markdown",
   "metadata": {},
   "source": [
    "### Sphinx\n",
    "Sphinx is a more powerful tool to create documentation for Python projects and provides more flexibiliy.\n",
    "\n",
    "#### Installation\n",
    "```bash\n",
    "pip install sphinx\n",
    "```\n",
    "#### How to get started\n",
    "1. Use the quick start command to configure a base Sphinx documentation\n",
    "```bash\n",
    "sphinx-quickstart\n",
    "```\n",
    "Amongst other things, the quickstart guide will ask for the documentation folder. I typically choose `doc` for this.\n",
    "2. Use \n",
    "```bash\n",
    "sphinx-apidoc -o doc moduledir\n",
    "```\n",
    "to add documentation for each module. \n",
    "3. Edit `docs/index.rst` to change the content of your main page. \n",
    "4. Compile the documentation with:\n",
    "```bash\n",
    "cd docs\n",
    "make html\n",
    "```\n",
    "(make sure that the module is in the Pythonpath or installed).\n",
    "5. The documentation is available on `docs/_build/html/index.html`."
   ]
  },
  {
   "cell_type": "markdown",
   "metadata": {},
   "source": [
    "#### New files (autogenerated with `sphinx-quickstart` and `sphinx-apidoc`)\n",
    "    \n",
    "```bash\n",
    "    doc/\n",
    "        conf.py              # Sphinx configuration file\n",
    "        index.rst            # Index page (in markdown format)\n",
    "        make.bat             # Windows build file\n",
    "        Makefile             # Linux/MacOS build file\n",
    "        modules.rst          # Module page\n",
    "        monty_hall_game.rst  # Module page\n",
    "``` \n",
    "\n",
    "**Tip**: I use https://readthedocs.org/ to host my documentation. It also automatically generates your documentation when you push to your github repo. "
   ]
  },
  {
   "cell_type": "markdown",
   "metadata": {},
   "source": [
    "## Step 4. Handling errors"
   ]
  },
  {
   "cell_type": "markdown",
   "metadata": {},
   "source": [
    "Our script currently does not handle invalid inputs. For example:\n",
    "\n",
    "```bash\n",
    "$ python bin/play_monty_hall_cli.py \n",
    "\n",
    "Welcome to a new Monty Hall game\n",
    "******************************\n",
    "\n",
    "Select a door between 1-3: 5\n",
    "The host opens door 1.\n",
    "```\n",
    "\n",
    "We will use Python `Exception` classes to handle errors."
   ]
  },
  {
   "cell_type": "markdown",
   "metadata": {},
   "source": [
    "See `Error handling in Python` Notebook"
   ]
  },
  {
   "cell_type": "markdown",
   "metadata": {},
   "source": [
    "Let's look at the code in more detail (see files in `monty-hall-game6` folder)"
   ]
  },
  {
   "cell_type": "markdown",
   "metadata": {},
   "source": [
    "## Step 5. Add tests\n",
    "\n",
    "We will use `pytest` as testing framework.\n",
    "New files:\n",
    "    \n",
    "```bash\n",
    "monty_hall_game/\n",
    "    tests\n",
    "        test_module.py\n",
    "```\n",
    "\n",
    "We can run the test suite with"
   ]
  },
  {
   "cell_type": "markdown",
   "metadata": {},
   "source": [
    "Let's look at the code in more detail (see files in `monty-hall-game6` folder)"
   ]
  },
  {
   "cell_type": "code",
   "execution_count": 10,
   "metadata": {},
   "outputs": [
    {
     "name": "stdout",
     "output_type": "stream",
     "text": [
      "\u001b[1m============================= test session starts ==============================\u001b[0m\n",
      "platform linux2 -- Python 2.7.17rc1, pytest-3.10.1, py-1.8.0, pluggy-0.12.0\n",
      "rootdir: /media/simon/Data/simon/Documents/in3110/UiO-IN3110.github.io/lectures/10_from_script_to_project/monty-hall-game6, inifile:\n",
      "plugins: forked-1.0.2, xdist-1.26.1\n",
      "collected 3 items                                                              \u001b[0m\n",
      "\n",
      "tests/test_game_module.py \u001b[32m.\u001b[0m\u001b[32m.\u001b[0m\u001b[32m.\u001b[0m\u001b[36m                                            [100%]\u001b[0m\n",
      "\n",
      "\u001b[32m\u001b[1m=========================== 3 passed in 0.08 seconds ===========================\u001b[0m\n"
     ]
    }
   ],
   "source": [
    "!cd monty-hall-game6 && python -m pytest tests"
   ]
  },
  {
   "cell_type": "markdown",
   "metadata": {},
   "source": [
    "## Step 6. Add installation files and instructions"
   ]
  },
  {
   "cell_type": "markdown",
   "metadata": {},
   "source": [
    "### Dependencies"
   ]
  },
  {
   "cell_type": "markdown",
   "metadata": {},
   "source": [
    "Our project has some dependencies, such as `flask` and `pytest`. We can list these in the file `requirements.txt`:"
   ]
  },
  {
   "cell_type": "code",
   "execution_count": 11,
   "metadata": {},
   "outputs": [
    {
     "name": "stdout",
     "output_type": "stream",
     "text": [
      "flask\r\n",
      "pytest\r\n",
      "sphinx\r\n"
     ]
    }
   ],
   "source": [
    "!cat monty-hall-game6/requirements.txt"
   ]
  },
  {
   "cell_type": "markdown",
   "metadata": {},
   "source": [
    "The dependencies can be automatically installed with"
   ]
  },
  {
   "cell_type": "code",
   "execution_count": 12,
   "metadata": {},
   "outputs": [
    {
     "name": "stdout",
     "output_type": "stream",
     "text": [
      "Collecting flask (from -r monty-hall-game6/requirements.txt (line 1))\n",
      "  Using cached https://files.pythonhosted.org/packages/9b/93/628509b8d5dc749656a9641f4caf13540e2cdec85276964ff8f43bbb1d3b/Flask-1.1.1-py2.py3-none-any.whl\n",
      "Requirement already satisfied: pytest in /usr/lib/python2.7/dist-packages (from -r monty-hall-game6/requirements.txt (line 2)) (3.10.1)\n",
      "Requirement already satisfied: sphinx in /usr/lib/python2.7/dist-packages (from -r monty-hall-game6/requirements.txt (line 3)) (1.8.5)\n",
      "Requirement already satisfied: click>=5.1 in /usr/lib/python2.7/dist-packages (from flask->-r monty-hall-game6/requirements.txt (line 1)) (7.0)\n",
      "Collecting Werkzeug>=0.15 (from flask->-r monty-hall-game6/requirements.txt (line 1))\n",
      "  Using cached https://files.pythonhosted.org/packages/ce/42/3aeda98f96e85fd26180534d36570e4d18108d62ae36f87694b476b83d6f/Werkzeug-0.16.0-py2.py3-none-any.whl\n",
      "Collecting itsdangerous>=0.24 (from flask->-r monty-hall-game6/requirements.txt (line 1))\n",
      "  Using cached https://files.pythonhosted.org/packages/76/ae/44b03b253d6fade317f32c24d100b3b35c2239807046a4c953c7b89fa49e/itsdangerous-1.1.0-py2.py3-none-any.whl\n",
      "Collecting Jinja2>=2.10.1 (from flask->-r monty-hall-game6/requirements.txt (line 1))\n",
      "  Using cached https://files.pythonhosted.org/packages/65/e0/eb35e762802015cab1ccee04e8a277b03f1d8e53da3ec3106882ec42558b/Jinja2-2.10.3-py2.py3-none-any.whl\n",
      "Requirement already satisfied: funcsigs in /home/simon/.local/lib/python2.7/site-packages (from pytest->-r monty-hall-game6/requirements.txt (line 2)) (1.0.2)\n",
      "Requirement already satisfied: pathlib2>=2.2.0 in /usr/lib/python2.7/dist-packages (from pytest->-r monty-hall-game6/requirements.txt (line 2)) (2.3.4)\n",
      "Requirement already satisfied: typing in /usr/lib/python2.7/dist-packages (from sphinx->-r monty-hall-game6/requirements.txt (line 3)) (3.6.6)\n",
      "Requirement already satisfied: MarkupSafe>=0.23 in /usr/lib/python2.7/dist-packages (from Jinja2>=2.10.1->flask->-r monty-hall-game6/requirements.txt (line 1)) (1.1.0)\n",
      "Requirement already satisfied: scandir in /usr/lib/python2.7/dist-packages (from pathlib2>=2.2.0->pytest->-r monty-hall-game6/requirements.txt (line 2)) (1.10.0)\n",
      "Installing collected packages: Werkzeug, itsdangerous, Jinja2, flask\n",
      "Successfully installed Jinja2-2.10.3 Werkzeug-0.16.0 flask-1.1.1 itsdangerous-1.1.0\n"
     ]
    }
   ],
   "source": [
    "!pip install -r monty-hall-game6/requirements.txt"
   ]
  },
  {
   "cell_type": "markdown",
   "metadata": {},
   "source": [
    "### Setuptools\n",
    "Further, we can create a setup file to simplify the installation of our game. \n",
    "First thing we need is a `setup.py` file:"
   ]
  },
  {
   "cell_type": "code",
   "execution_count": 13,
   "metadata": {},
   "outputs": [
    {
     "name": "stdout",
     "output_type": "stream",
     "text": [
      "from setuptools import setup\r\n",
      "\r\n",
      "setup(\r\n",
      "    name = \"monty_hall_game\",\r\n",
      "    version = \"0.0.1\",\r\n",
      "    author = \"Simon Funke\",\r\n",
      "    author_email = \"simon@simula.no\",\r\n",
      "    description = (\"A game implementation of the Monty Hall problem.\"),\r\n",
      "    license = \"BSD\",\r\n",
      "    packages=['monty_hall_game'],\r\n",
      "    scripts=['bin/play_monty_hall_cli.py', 'bin/play_monty_hall_web.py'],\r\n",
      ")\r\n"
     ]
    }
   ],
   "source": [
    "!cat monty-hall-game6/setup.py"
   ]
  },
  {
   "cell_type": "markdown",
   "metadata": {},
   "source": [
    "We can now install the `MontyHallGame` module with\n",
    "```bash\n",
    "python setup.py install\n",
    "```\n",
    "or with\n",
    "```bash\n",
    "pip install . \n",
    "```"
   ]
  },
  {
   "cell_type": "markdown",
   "metadata": {},
   "source": [
    "Using the Python package manager `pip` has the advantage that we can uninstall the package again:\n",
    "```bash\n",
    "pip uninstall monty_hall_game\n",
    "```"
   ]
  },
  {
   "cell_type": "markdown",
   "metadata": {},
   "source": [
    "### Installation instructions"
   ]
  },
  {
   "cell_type": "markdown",
   "metadata": {},
   "source": [
    "Finally it is good practice to add a installation instructions to the README.md file:"
   ]
  },
  {
   "cell_type": "code",
   "execution_count": 14,
   "metadata": {
    "scrolled": true
   },
   "outputs": [
    {
     "name": "stdout",
     "output_type": "stream",
     "text": [
      "Monty Hall Game\r\n",
      "===============\r\n",
      "\r\n",
      "This repository contains a simple implemenation of the Monty Hall Game with \r\n",
      "a command line and web interface.\r\n",
      "\r\n",
      "\r\n",
      "Installation \r\n",
      "------------\r\n",
      "\r\n",
      "Install dependencies with\r\n",
      "\r\n",
      ">> pip install -r requirements.txt\r\n",
      "\r\n",
      "Install the game with\r\n",
      "\r\n",
      ">> pip install .\r\n",
      "\r\n",
      "Running the game \r\n",
      "----------------\r\n",
      "\r\n",
      "The command line interface is started with:\r\n",
      "\r\n",
      ">> play_monty_hall_cli.py\r\n",
      "\r\n",
      "The web server is started with:\r\n",
      "\r\n",
      ">> play_monty_hall_web.py\r\n"
     ]
    }
   ],
   "source": [
    "!cat monty-hall-game6/Readme.md"
   ]
  },
  {
   "cell_type": "markdown",
   "metadata": {},
   "source": [
    "### New files\n",
    "    \n",
    "```bash\n",
    "monty_hall_game/\n",
    "    Readme.md                   # Installation instructions\n",
    "    requirements.txt            # List of project dependencies \n",
    "    setup.py                    # SetupTools file\n",
    "```"
   ]
  },
  {
   "cell_type": "markdown",
   "metadata": {},
   "source": [
    "## Continuous integration\n",
    "\n",
    "\n",
    "* Go to Travis-ci.com and Sign up with GitHub.\n",
    "Accept the Authorization of Travis CI. You’ll be redirected to GitHub.\n",
    "Click the green Activate button, and select the repositories you want to use with Travis CI.\n",
    "Add a .travis.yml file to your repository to tell Travis CI what to do. \n",
    "\n",
    "```\n",
    "language: python\n",
    "python:  \n",
    "  - 3.6\n",
    "  - 2.7\n",
    "before_install:\n",
    "  - pip install ...\n",
    "install: \n",
    "  - pip install .\n",
    "\n",
    "```\n",
    "\n",
    "* Add the .travis.yml file to git, commit and push to trigger a Travis CI build:\n",
    "* **Note:** Travis only runs builds on the commits you push after you’ve added a .travis.yml file.\n",
    "\n",
    "Check:\n",
    "\n",
    "https://travis-ci.com/funsim/monty_hall_game/\n",
    "\n",
    "\n",
    "Check the build status page to see if your build passes or fails according to the return status of the build command by visiting Travis CI and selecting your repository."
   ]
  },
  {
   "cell_type": "markdown",
   "metadata": {},
   "source": [
    "## Final directory layout"
   ]
  },
  {
   "cell_type": "markdown",
   "metadata": {},
   "source": [
    "```bash\n",
    "monyty_hall_game/\n",
    "    Readme.md                      # Installation instructions\n",
    "    requirements.txt               # Dependencies\n",
    "    setup.py                       # Setuptools\n",
    "    monty_hall_game/               # Main module\n",
    "        __init__.py  \n",
    "        game_exceptions.py  \n",
    "        monty_hall_game.py    \n",
    "    \n",
    "    bin/                           # Scripts \n",
    "        play_monty_hall_cli.py  \n",
    "        play_monty_hall_web.py  \n",
    "        templates/*.html\n",
    "    doc/                           # Sphinx documentation (mostly autogenerated)\n",
    "        conf.py  \n",
    "        index.rst  \n",
    "        Makefile  \n",
    "        modules.rst  \n",
    "        monty_hall_game.rst  \n",
    "    tests                          # tests in pytest format\n",
    "        test_game_module.py\n",
    "    .travis.yml                    # continuous intregration\n",
    "    .gitignore                     \n",
    "```"
   ]
  },
  {
   "cell_type": "markdown",
   "metadata": {},
   "source": [
    "Heroku deployment\n",
    "-----------------\n",
    "\n",
    "* efine a set of processes/commands that it should run beforehand. These commands are located in the file Procfile.txt:\n",
    "```\n",
    "web: gunicorn app:montyhallgame\n",
    "```\n",
    "The web command tells Heroku to start a web server for the application, using gunicorn. Since our application is called app.py, we've set the app name to be app as well.\n",
    "\n",
    "* Now, we should create a Heroku account.\n",
    "\n",
    "* Once that is out of the way, on the dashboard, select New -> Create new app:\n",
    "\n",
    "* Deploying the app:\n",
    "    ```\n",
    "    $ heroku login -i\n",
    "    ```\n",
    "    \n",
    "* Add our repository to the remote one:\n",
    "    ```\n",
    "    $ heroku git:remote -a montyhallgame\n",
    "    ```\n",
    "    \n",
    "* Push to heroku:\n",
    "    ```\n",
    "    $ git push heroku master\n",
    "    ```\n",
    "\n",
    "* Add at least one web dyno to start the webapplication\n",
    "    ```\n",
    "    $ heroku ps\n",
    "    ```\n",
    "\n",
    "    ```\n",
    "    $ heroku ps:scale web=1\n",
    "    ```"
   ]
  },
  {
   "cell_type": "code",
   "execution_count": null,
   "metadata": {},
   "outputs": [],
   "source": []
  }
 ],
 "metadata": {
  "kernelspec": {
   "display_name": "Python 3",
   "language": "python",
   "name": "python3"
  },
  "language_info": {
   "codemirror_mode": {
    "name": "ipython",
    "version": 3
   },
   "file_extension": ".py",
   "mimetype": "text/x-python",
   "name": "python",
   "nbconvert_exporter": "python",
   "pygments_lexer": "ipython3",
   "version": "3.7.5rc1"
  }
 },
 "nbformat": 4,
 "nbformat_minor": 1
}
