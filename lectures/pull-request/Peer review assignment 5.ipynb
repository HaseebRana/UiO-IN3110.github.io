{
 "cells": [
  {
   "cell_type": "markdown",
   "metadata": {
    "slideshow": {
     "slide_type": "slide"
    }
   },
   "source": [
    "## Information about peer-review for assignment 4\n",
    "\n",
    "* Assignment 5 due today at midnight.\n",
    "* Followed by a **one week peer-review**.\n",
    "* This review is worth **up to 10 points**.\n",
    "* **Important**: You need to do the peer-review in order to get the points for assignment 5!"
   ]
  },
  {
   "cell_type": "markdown",
   "metadata": {
    "slideshow": {
     "slide_type": "slide"
    }
   },
   "source": [
    "## Peer-review process\n",
    "Some change from last peer-review\n",
    "   * We now expect a **good description** of the pull request.\n",
    "      * Do not push a text file that describes the changes.\n",
    "      * Instead use the pull request comment field in github.\n",
    "      * A good example is shown here:  https://github.com/UiO-IN3110/UiO-IN3110.github.io/blob/master/lectures/pull-request/pull-request.webm?raw=true\n",
    "   * You should **merge or reject** the pull request for your own repository.\n",
    "       * Please finish your PR by Tuesday next week in order to give enough time for the merge/reject       \n",
    "       * We will not be strict if you merge/reject one day after the deadline.\n",
    "   * Everyone needs to create **one pull request** (this simplifies our correction process) "
   ]
  }
 ],
 "metadata": {
  "celltoolbar": "Slideshow",
  "kernelspec": {
   "display_name": "Python 3",
   "language": "python",
   "name": "python3"
  },
  "language_info": {
   "codemirror_mode": {
    "name": "ipython",
    "version": 3
   },
   "file_extension": ".py",
   "mimetype": "text/x-python",
   "name": "python",
   "nbconvert_exporter": "python",
   "pygments_lexer": "ipython3",
   "version": "3.7.3"
  }
 },
 "nbformat": 4,
 "nbformat_minor": 2
}
