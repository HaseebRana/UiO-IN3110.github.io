{
 "cells": [
  {
   "cell_type": "markdown",
   "metadata": {
    "slideshow": {
     "slide_type": "subslide"
    }
   },
   "source": [
    "## Subclasses\n",
    "\n",
    "**Remember**: A class collects attributes and functions that belong together. \n",
    "\n",
    "Subclasses can be used to specialize and extend existing classes.\n",
    "\n",
    "**Technical notes on sublclasses:**\n",
    "* Python supports single and multiple inheritance\n",
    "* Python has a similar class concept as in Java and C++, but:\n",
    "  * All functions are virtual\n",
    "  * No private/protected variables (the effect can be \"simulated\")\n",
    "  * This makes class programming easier and faster than in C++ and Java:"
   ]
  },
  {
   "cell_type": "markdown",
   "metadata": {
    "slideshow": {
     "slide_type": "subslide"
    }
   },
   "source": [
    "### We reconsider our class definition for a car"
   ]
  },
  {
   "cell_type": "code",
   "execution_count": 4,
   "metadata": {},
   "outputs": [],
   "source": [
    "class Car(object):\n",
    "    \"\"\" A class representing a car \"\"\"\n",
    "    \n",
    "    def __init__(self, color):\n",
    "        self.color = color\n",
    "        self.sound = \"Brooom\"\n",
    "    \n",
    "    def start(self):\n",
    "        print(self.sound)"
   ]
  },
  {
   "cell_type": "markdown",
   "metadata": {
    "slideshow": {
     "slide_type": "slide"
    }
   },
   "source": [
    "## Implementing a subclass\n",
    "\n",
    "Subclasses can be used to **inherit** the member functions/attributes from its Base class.\n",
    "\n",
    "It is usefull to create **specialisation** of a class without code duplication.\n",
    "\n",
    "Let's create a subclass `Golf` that inherits the properties from the `Car` class:"
   ]
  },
  {
   "cell_type": "code",
   "execution_count": 12,
   "metadata": {},
   "outputs": [],
   "source": [
    "class ElectricCar(Car):\n",
    "    def __init__(self, color):\n",
    "        Car.__init__(self, color) # Calls the Car constructor\n",
    "                                  # self.color and self.sound are now class members\n",
    "        self.sound = \"Sssss\"      # Change the sound\n",
    "        \n",
    "    def stop(self):               # Add a new class function to ElectricCar's\n",
    "        print(\"Engine stopped\")   "
   ]
  },
  {
   "cell_type": "markdown",
   "metadata": {
    "slideshow": {
     "slide_type": "fragment"
    }
   },
   "source": [
    "If a subclass method is not implemented, Python will try to call the function of the class:"
   ]
  },
  {
   "cell_type": "code",
   "execution_count": 13,
   "metadata": {},
   "outputs": [
    {
     "name": "stdout",
     "output_type": "stream",
     "text": [
      "Sssss\n",
      "Engine stopped\n"
     ]
    }
   ],
   "source": [
    "ecar = ElectricCar(\"white\")\n",
    "ecar.start()          \n",
    "ecar.stop()"
   ]
  },
  {
   "cell_type": "markdown",
   "metadata": {
    "slideshow": {
     "slide_type": "subslide"
    }
   },
   "source": [
    "### The `object` class is the mother of all classes"
   ]
  },
  {
   "cell_type": "markdown",
   "metadata": {},
   "source": [
    "If you do not want to inherit from a user-defined class, then use the *mother-class* `object`:\n",
    "```python\n",
    "class Car(object):\n",
    "    # ...\n",
    "```"
   ]
  }
 ],
 "metadata": {
  "celltoolbar": "Slideshow",
  "kernelspec": {
   "display_name": "Python 3",
   "language": "python",
   "name": "python3"
  },
  "language_info": {
   "codemirror_mode": {
    "name": "ipython",
    "version": 3
   },
   "file_extension": ".py",
   "mimetype": "text/x-python",
   "name": "python",
   "nbconvert_exporter": "python",
   "pygments_lexer": "ipython3",
   "version": "3.7.3"
  },
  "livereveal": {
   "scroll": true,
   "start_slideshow_at": "selected",
   "theme": "serif"
  }
 },
 "nbformat": 4,
 "nbformat_minor": 1
}
