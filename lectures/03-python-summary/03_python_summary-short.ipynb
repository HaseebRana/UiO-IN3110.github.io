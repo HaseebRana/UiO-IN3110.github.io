{
 "cells": [
  {
   "cell_type": "markdown",
   "metadata": {
    "slideshow": {
     "slide_type": "slide"
    }
   },
   "source": [
    "# Crash course to Python\n",
    "\n",
    "\n",
    "\n",
    "\n",
    "### The table below shows the rise of Python to one of the most popular programming languages\n",
    "<center>\n",
    "<img src=\"figs/toibe_index_2019.png\"/> \n",
    "    </center>"
   ]
  },
  {
   "cell_type": "markdown",
   "metadata": {
    "slideshow": {
     "slide_type": "subslide"
    }
   },
   "source": [
    "## Some updates\n",
    "\n",
    "**Assignment 2 (Bash)**\n",
    "\n",
    "* Deadline today at 23:59.\n",
    "* Make sure that your solution is in your private github repository.\n",
    "* No need to upload anything to devliry!\n",
    "* For extensions, follow the link on the course webpage -> oppgaver\n",
    "\n",
    "**Assignment 3 (Python)**\n",
    "* Mandatory assignment 3 is online.\n",
    "* Optional group session assignment 3 will be published this week\n",
    "\n",
    "**Lecture overview**\n",
    "* Today: Crash course to Python\n",
    "* Next week: Advanced Python"
   ]
  },
  {
   "cell_type": "markdown",
   "metadata": {
    "slideshow": {
     "slide_type": "slide"
    }
   },
   "source": [
    "\n",
    "## Installation\n",
    "\n",
    "Python can be installed in different ways - and might be already installed on your system!\n",
    "\n",
    "<img src=\"https://upload.wikimedia.org/wikipedia/en/c/cd/Anaconda_Logo.png\" style=\"width: 300px;\">\n",
    "\n",
    "We recommend to install `anaconda`. Why?\n",
    "* Provides a Python distribution with many packages.\n",
    "* Available for Windows, Mac and Linux.\n",
    "* Can be installed without admin access."
   ]
  },
  {
   "cell_type": "markdown",
   "metadata": {
    "slideshow": {
     "slide_type": "subslide"
    }
   },
   "source": [
    "## Quick guide:\n",
    "\n",
    "1. Install anaconda from https://www.continuum.io (for IfI machines read description on the course webpage)\n",
    "2. Check that Python >= 3.6 is installed:\n",
    "```bash\n",
    "> python --version  \n",
    "Python 3.6.8 :: Continuum Analytics, Inc.\n",
    "```"
   ]
  },
  {
   "cell_type": "markdown",
   "metadata": {
    "slideshow": {
     "slide_type": "subslide"
    }
   },
   "source": [
    "### The conda package manager\n",
    "Packages are Python extension that can be installed on your system.\n",
    "If you use anaconda, you can use the conda package manager to find and install new packages:\n",
    "\n",
    "\n",
    "* Search for a package: \n",
    "   ```bash\n",
    "   conda search scipy\n",
    "   ```\n",
    "* Install a package: \n",
    "   ```bash\n",
    "   conda install scipy\n",
    "   ```\n",
    "* List all installed packages: \n",
    "   ```bash\n",
    "   conda list\n",
    "   ```"
   ]
  },
  {
   "cell_type": "markdown",
   "metadata": {
    "slideshow": {
     "slide_type": "slide"
    }
   },
   "source": [
    "# Getting help\n",
    "\n",
    "<center>\n",
    "<img src=\"figs/help.jpg\" style=\"width: 700px;\"/>\n",
    "    </center>"
   ]
  },
  {
   "cell_type": "markdown",
   "metadata": {
    "slideshow": {
     "slide_type": "slide"
    }
   },
   "source": [
    "## Books and tutorials\n",
    "\n",
    "In addition to excellent web-resources, there are some good books and tutorials for Python 3:\n",
    "\n",
    "  * [Python Library Reference](https://docs.python.org/3/)\n",
    "  * [Python 3 tutorial](https://docs.python.org/3/tutorial/)\n",
    "  * [Think Python](http://greenteapress.com/thinkpython2/)"
   ]
  },
  {
   "cell_type": "markdown",
   "metadata": {
    "slideshow": {
     "slide_type": "subslide"
    }
   },
   "source": [
    "## Build-in documentation\n",
    "\n",
    "Build-in documentation is accessible via the command line program `pydoc`:\n",
    "```bash\n",
    "pydoc anymodule\n",
    "```\n",
    "\n",
    "Example: "
   ]
  },
  {
   "cell_type": "code",
   "execution_count": 1,
   "metadata": {
    "slideshow": {
     "slide_type": "-"
    }
   },
   "outputs": [
    {
     "name": "stdout",
     "output_type": "stream",
     "text": [
      "Help on built-in function log in math:\r\n",
      "\r\n",
      "m\bma\bat\bth\bh.\b.l\blo\bog\bg = log(...)\r\n",
      "    log(x, [base=math.e])\r\n",
      "    Return the logarithm of x to the given base.\r\n",
      "    \r\n",
      "    If the base not specified, returns the natural logarithm (base e) of x.\r\n",
      "\r\n"
     ]
    }
   ],
   "source": [
    "!pydoc math.log"
   ]
  },
  {
   "cell_type": "markdown",
   "metadata": {
    "slideshow": {
     "slide_type": "slide"
    }
   },
   "source": [
    "# First Python encounter: a scientific hello world program"
   ]
  },
  {
   "cell_type": "markdown",
   "metadata": {
    "slideshow": {
     "slide_type": "fragment"
    }
   },
   "source": [
    "```python\n",
    "#!/usr/bin/env python\n",
    "\n",
    "from math import sin\n",
    "import sys\n",
    "\n",
    "x = float(sys.argv[1])\n",
    "sinx = sin(x)\n",
    "print(f\"Hello, sin({x}) = {sinx}\")\n",
    "```\n",
    "\n",
    "Save this code in file `hw.py`."
   ]
  },
  {
   "cell_type": "markdown",
   "metadata": {
    "slideshow": {
     "slide_type": "subslide"
    }
   },
   "source": [
    "## Running the script from the command line\n",
    "\n",
    "Works an all operating systems:\n",
    "\n",
    "```bash\n",
    "> python hw.py 0.8\n",
    "Hello, sin(0.8) = 0.7173560908995228\n",
    "```"
   ]
  },
  {
   "cell_type": "markdown",
   "metadata": {
    "slideshow": {
     "slide_type": "fragment"
    }
   },
   "source": [
    "A Linux/OSX alternative is to make the file executable:\n",
    "\n",
    "```bash\n",
    "> chmod a+x hw.py\n",
    "> ./hw.py 10\n",
    "Hello, sin(10.0) = -0.5440211108893698\n",
    "```"
   ]
  },
  {
   "cell_type": "markdown",
   "metadata": {
    "slideshow": {
     "slide_type": "subslide"
    }
   },
   "source": [
    "## Dissection of `hw.py` (1)\n",
    "\n",
    "On Linux/OSX: find out what kind of script language (interpreter) to use:\n",
    "\n",
    "```python\n",
    "#!/usr/bin/env python\n",
    "```"
   ]
  },
  {
   "cell_type": "markdown",
   "metadata": {
    "slideshow": {
     "slide_type": "fragment"
    }
   },
   "source": [
    "Access library functionality like the function `sin` and the list `sys.arg`\n",
    "(of command-line arguments):\n",
    "\n",
    "```python\n",
    "from math import sin\n",
    "import sys\n",
    "```"
   ]
  },
  {
   "cell_type": "markdown",
   "metadata": {
    "slideshow": {
     "slide_type": "fragment"
    }
   },
   "source": [
    "Read first command line argument and convert it to a floating point object:\n",
    "\n",
    "```python\n",
    "x = float(sys.argv[1])\n",
    "```\n",
    "\n",
    "**Note**: Python variables are **strongly typed**, but **not declared**."
   ]
  },
  {
   "cell_type": "markdown",
   "metadata": {
    "slideshow": {
     "slide_type": "subslide"
    }
   },
   "source": [
    "## Dissection of `hw.py` (2)\n",
    "\n",
    "Print out the result using a format string:\n",
    "\n",
    "```python\n",
    "sinx = sin(x)\n",
    "print(f\"Hello, sin({x}) = {sinx}\")\n",
    "```\n",
    "\n",
    "or with complete control of the formating of floats (similar to the C's `printf` syntax):\n",
    "\n",
    "```python\n",
    "print(f\"Hello, sin({x:g}) = {sinx:.3f}\")\n",
    "```"
   ]
  },
  {
   "cell_type": "markdown",
   "metadata": {
    "slideshow": {
     "slide_type": "subslide"
    }
   },
   "source": [
    "## Formatted strings with f-strings\n",
    "\n",
    "f-strings is the new way to handle string formatting in Python 3.6+!\n",
    "\n",
    "**Simple usage**"
   ]
  },
  {
   "cell_type": "code",
   "execution_count": 2,
   "metadata": {},
   "outputs": [
    {
     "data": {
      "text/plain": [
       "'Hello, Simon. You are 35.'"
      ]
     },
     "execution_count": 2,
     "metadata": {},
     "output_type": "execute_result"
    }
   ],
   "source": [
    "name = \"Simon\"\n",
    "age = 35\n",
    "f\"Hello, {name}. You are {age}.\""
   ]
  },
  {
   "cell_type": "markdown",
   "metadata": {},
   "source": [
    "**Arbitrary expressions**"
   ]
  },
  {
   "cell_type": "code",
   "execution_count": 3,
   "metadata": {},
   "outputs": [
    {
     "data": {
      "text/plain": [
       "'Hello SIMON. You are 1225.'"
      ]
     },
     "execution_count": 3,
     "metadata": {},
     "output_type": "execute_result"
    }
   ],
   "source": [
    "f\"Hello {name.upper()}. You are {age**2}.\""
   ]
  },
  {
   "cell_type": "markdown",
   "metadata": {},
   "source": [
    "**Multiline f-strings**"
   ]
  },
  {
   "cell_type": "code",
   "execution_count": 7,
   "metadata": {},
   "outputs": [
    {
     "name": "stdout",
     "output_type": "stream",
     "text": [
      "Welcome!\n",
      "Name: Simon\n",
      "Age: 35\n"
     ]
    }
   ],
   "source": [
    "print(f'''Welcome!\n",
    "Name: {name}\n",
    "Age: {age}''')"
   ]
  },
  {
   "cell_type": "markdown",
   "metadata": {
    "slideshow": {
     "slide_type": "slide"
    }
   },
   "source": [
    "# Quick intro to Python basics"
   ]
  },
  {
   "cell_type": "markdown",
   "metadata": {
    "slideshow": {
     "slide_type": "subslide"
    }
   },
   "source": [
    "# Data types\n",
    "\n",
    "Python is a typed language, that is all variables have one specific type. \n",
    "The most common types are:\n",
    "\n",
    "**Basic types**:"
   ]
  },
  {
   "cell_type": "code",
   "execution_count": null,
   "metadata": {},
   "outputs": [],
   "source": [
    "motor_on  = True                            # type = boolean\n",
    "age       = 35                              # type = int \n",
    "cost      = 1.2                             # type =float"
   ]
  },
  {
   "cell_type": "markdown",
   "metadata": {
    "slideshow": {
     "slide_type": "fragment"
    }
   },
   "source": [
    "**Sequences (types storing collection of items)**:"
   ]
  },
  {
   "cell_type": "code",
   "execution_count": null,
   "metadata": {},
   "outputs": [],
   "source": [
    "name      = \"Hilde\"                       # type = str, collection of characters\n",
    "employees = [\"Heide\", \"Edvard\", \"Marie\"]  # type = list\n",
    "options   = (True, False)                 # type = tuple"
   ]
  },
  {
   "cell_type": "markdown",
   "metadata": {
    "slideshow": {
     "slide_type": "fragment"
    }
   },
   "source": [
    "**Mappings (dictionary/hashes):**"
   ]
  },
  {
   "cell_type": "code",
   "execution_count": null,
   "metadata": {},
   "outputs": [],
   "source": [
    "phonebook = {\"Simon\": 1234567,              # type = dict\n",
    "             \"Edvard\": 1234567}  "
   ]
  },
  {
   "cell_type": "markdown",
   "metadata": {
    "slideshow": {
     "slide_type": "subslide"
    }
   },
   "source": [
    "## What is the difference between lists and tuples?\n",
    "\n",
    "Lists are **mutable**, while tuples are **immutable**:"
   ]
  },
  {
   "cell_type": "code",
   "execution_count": 8,
   "metadata": {},
   "outputs": [
    {
     "ename": "TypeError",
     "evalue": "'tuple' object does not support item assignment",
     "output_type": "error",
     "traceback": [
      "\u001b[0;31m---------------------------------------------------------------------------\u001b[0m",
      "\u001b[0;31mTypeError\u001b[0m                                 Traceback (most recent call last)",
      "\u001b[0;32m<ipython-input-8-755ec21f4507>\u001b[0m in \u001b[0;36m<module>\u001b[0;34m\u001b[0m\n\u001b[1;32m      3\u001b[0m \u001b[0;34m\u001b[0m\u001b[0m\n\u001b[1;32m      4\u001b[0m \u001b[0mmytuple\u001b[0m \u001b[0;34m=\u001b[0m \u001b[0;34m(\u001b[0m\u001b[0;36m1\u001b[0m\u001b[0;34m,\u001b[0m \u001b[0;36m2\u001b[0m\u001b[0;34m,\u001b[0m \u001b[0;36m3\u001b[0m\u001b[0;34m)\u001b[0m\u001b[0;34m\u001b[0m\u001b[0;34m\u001b[0m\u001b[0m\n\u001b[0;32m----> 5\u001b[0;31m \u001b[0mmytuple\u001b[0m\u001b[0;34m[\u001b[0m\u001b[0;36m2\u001b[0m\u001b[0;34m]\u001b[0m \u001b[0;34m=\u001b[0m \u001b[0;36m4\u001b[0m      \u001b[0;31m# error\u001b[0m\u001b[0;34m\u001b[0m\u001b[0;34m\u001b[0m\u001b[0m\n\u001b[0m",
      "\u001b[0;31mTypeError\u001b[0m: 'tuple' object does not support item assignment"
     ]
    }
   ],
   "source": [
    "mylist = [1, 2, 3]\n",
    "mylist.append(14)   # valid  \n",
    "\n",
    "mytuple = (1, 2, 3)\n",
    "mytuple[2] = 4      # error"
   ]
  },
  {
   "cell_type": "markdown",
   "metadata": {
    "slideshow": {
     "slide_type": "subslide"
    }
   },
   "source": [
    "## Checking the type of an object"
   ]
  },
  {
   "cell_type": "code",
   "execution_count": 9,
   "metadata": {
    "collapsed": true
   },
   "outputs": [
    {
     "ename": "NameError",
     "evalue": "name 'phonebook' is not defined",
     "output_type": "error",
     "traceback": [
      "\u001b[0;31m---------------------------------------------------------------------------\u001b[0m",
      "\u001b[0;31mNameError\u001b[0m                                 Traceback (most recent call last)",
      "\u001b[0;32m<ipython-input-9-835f0e94757a>\u001b[0m in \u001b[0;36m<module>\u001b[0;34m\u001b[0m\n\u001b[0;32m----> 1\u001b[0;31m \u001b[0;32mif\u001b[0m \u001b[0mtype\u001b[0m\u001b[0;34m(\u001b[0m\u001b[0mphonebook\u001b[0m\u001b[0;34m)\u001b[0m\u001b[0;34m==\u001b[0m\u001b[0mdict\u001b[0m\u001b[0;34m:\u001b[0m\u001b[0;34m\u001b[0m\u001b[0;34m\u001b[0m\u001b[0m\n\u001b[0m\u001b[1;32m      2\u001b[0m     \u001b[0mprint\u001b[0m\u001b[0;34m(\u001b[0m\u001b[0;34m\"Phonebook is a dictionary\"\u001b[0m\u001b[0;34m)\u001b[0m\u001b[0;34m\u001b[0m\u001b[0;34m\u001b[0m\u001b[0m\n",
      "\u001b[0;31mNameError\u001b[0m: name 'phonebook' is not defined"
     ]
    }
   ],
   "source": [
    "if type(phonebook)==dict:\n",
    "    print(\"Phonebook is a dictionary\")"
   ]
  },
  {
   "cell_type": "markdown",
   "metadata": {
    "slideshow": {
     "slide_type": "subslide"
    }
   },
   "source": [
    "## Looping over sequences (strings/lists/tuples)\n"
   ]
  },
  {
   "cell_type": "code",
   "execution_count": 12,
   "metadata": {},
   "outputs": [
    {
     "name": "stdout",
     "output_type": "stream",
     "text": [
      "Welcome True\n",
      "Welcome Hallo\n"
     ]
    }
   ],
   "source": [
    "employees =  (True, \"Hallo\") # \"Hallo\" # [\"Heide\", \"Edvard\", \"Marie\"] \n",
    "\n",
    "for name in employees:\n",
    "    print(f\"Welcome {name}\")"
   ]
  },
  {
   "cell_type": "markdown",
   "metadata": {
    "slideshow": {
     "slide_type": "subslide"
    }
   },
   "source": [
    "## Indexing and slicing  for sequences"
   ]
  },
  {
   "cell_type": "markdown",
   "metadata": {},
   "source": [
    "How do we extract parts of a string/list/tuple?\n",
    "\n",
    "Extract a sub-string with the `[start:end:stride]` slicing notation. Positive indices index \"from the left and negative indices index \"from the right\"."
   ]
  },
  {
   "cell_type": "markdown",
   "metadata": {},
   "source": [
    "```\n",
    " +---+---+---+---+---+\n",
    " | c | h | i | p | s |\n",
    " +---+---+---+---+---+\n",
    " 0   1   2   3   4   5\n",
    "-5  -4  -3  -2  -1  \n",
    "```"
   ]
  },
  {
   "cell_type": "code",
   "execution_count": 14,
   "metadata": {},
   "outputs": [
    {
     "data": {
      "text/plain": [
       "'h'"
      ]
     },
     "execution_count": 14,
     "metadata": {},
     "output_type": "execute_result"
    }
   ],
   "source": [
    "string = \"chips\"\n",
    "string[1:-2]"
   ]
  },
  {
   "cell_type": "markdown",
   "metadata": {},
   "source": [
    "Slicing works in the exact same way with tuples/lists:"
   ]
  },
  {
   "cell_type": "code",
   "execution_count": 16,
   "metadata": {},
   "outputs": [
    {
     "name": "stdout",
     "output_type": "stream",
     "text": [
      "[0, 2, 4, 6, 8, 10, 12, 14, 16, 18, 20, 22, 24, 26, 28, 30, 32, 34, 36, 38]\n"
     ]
    }
   ],
   "source": [
    "numbers = list(range(40))\n",
    "even_numbers = numbers[::2]\n",
    "print(even_numbers)"
   ]
  },
  {
   "cell_type": "markdown",
   "metadata": {
    "slideshow": {
     "slide_type": "subslide"
    }
   },
   "source": [
    "## Duplication and concatonation of sequences\n",
    "\n",
    "Sequences can be *glued* together with the `+` and the `*` operators:\n"
   ]
  },
  {
   "cell_type": "code",
   "execution_count": 17,
   "metadata": {},
   "outputs": [
    {
     "data": {
      "text/plain": [
       "'I will not eat chips all day, I will not eat chips all day, I will not eat chips all day, I will not eat chips all day, I will not eat chips all day, I will not eat chips all day, I will not eat chips all day, I will not eat chips all day, I will not eat chips all day, I will not eat chips all day, I will not eat chips all day'"
      ]
     },
     "execution_count": 17,
     "metadata": {},
     "output_type": "execute_result"
    }
   ],
   "source": [
    "quote = \"I will not eat chips all day\"\n",
    "(quote + \", \")*10 + quote"
   ]
  },
  {
   "cell_type": "markdown",
   "metadata": {
    "slideshow": {
     "slide_type": "subslide"
    }
   },
   "source": [
    "\n",
    "## Cheatsheet 1: Strings"
   ]
  },
  {
   "cell_type": "markdown",
   "metadata": {
    "slideshow": {
     "slide_type": "-"
    }
   },
   "source": [
    "| Code               |   Meaning                                       |                                                                                                              \n",
    "|----------------------------|-------------------------------------------------|                                    \n",
    "|'day' in quote              |       True if string contains substring        |\n",
    "|quote.find('i')             |       index where first 'i' is found           |\n",
    "|quote.split()               |       split at whitespace (returns list)      |\n",
    "|quote.replace('chips', 'salad')|    replace all occurances                   |\n",
    "|quote.lower()                |      convert to lower case                    |\n",
    "|quote.upper()                |      convert to upper case                    |\n",
    "|quote.strip()                |      remove leading/trailing blanks           | "
   ]
  },
  {
   "cell_type": "markdown",
   "metadata": {},
   "source": [
    "Note: Many of these operations return a **new** string."
   ]
  },
  {
   "cell_type": "markdown",
   "metadata": {
    "slideshow": {
     "slide_type": "subslide"
    }
   },
   "source": [
    "## Cheatsheet 2: Lists\n",
    "\n",
    "| Construction               |   Meaning                                       |                                                                                                              \n",
    "|----------------------------|-------------------------------------------------|                                                                                                              \n",
    "| a = []                   | initialize an empty list                        |                                                                                                               \n",
    "| a = [1, 4.4, 'run.py']   | initialize a list                               |                                                                                                               \n",
    "| a.append(elem)           | add elem object to the end                    |                                                                                                               \n",
    "| a + [1,3]                | add two lists                                   |                                                                                                               \n",
    "| a.insert(i, e)           | insert element e before index i             |                                                                                                               \n",
    "| a[3]                     | index a list element                            |                                                                                                               \n",
    "| a[-1]                    | get last list element                           |                                                                                                              \n",
    "| a[1:3]                   | slice: return sublist (here: index 1, 2)  |                                                                                                               \n",
    "| del a[3]                 | delete an element (index 3)                   |                                                                                                              \n",
    "| a.remove(e)              | remove an element with value e                |                                                                                                               \n",
    "| a.index('run.py')        | find index corresponding to an element's value  |                                                                                                              \n",
    "| 'value' in a            | test if a value is contained in the list        |                                                                                                               \n",
    "| a.count(v)               | count how many elements have the value v |                                                                                                              \n",
    "| len(a)                   | number of elements in list a                  |                                                                                                               \n",
    "| min(a)                   | the smallest element in a                     |                                                                                                              \n",
    "| max(a)                   | the largest element in a                      |                                                                                                               \n",
    "| sum(a)                   | add all elements in a                         |                                                                                                              \n",
    "| sorted(a)                | return sorted version of list a               |                                                                                                               \n",
    "| reversed(a)              | return reversed sorted version of list a      |                                                                                                              \n",
    "| b[3][0][2]               | nested list indexing                            |                                                                                                               \n",
    "| isinstance(a, list)      | is True if a is a list                      |                                                                                                              \n",
    "| type(a) is list          | is True if a is a list                      |                                                                                                                "
   ]
  },
  {
   "cell_type": "markdown",
   "metadata": {
    "slideshow": {
     "slide_type": "subslide"
    }
   },
   "source": [
    "## Cheat sheet 3: Tupels\n",
    "\n",
    "| Code               |   Meaning                                       |                                                                                                              \n",
    "|----------------------------|-------------------------------------------------|                                                                                                              \n",
    "| a = ()                   | initialize an empty tuple                        |                                                                                                               \n",
    "| a = (1, 4.4, 'run.py')   | initialize a tuple                               |                                                                                                               \n",
    "| a + (1,3)                | add two tuples (returns a new tuple) |                                                                                                           \n",
    "| a[3]                     | index a list element                            |                                                                                                               \n",
    "| a[-1]                    | get last list element                           |                                                                                                              \n",
    "| a[1:3]                   | slice: return subtuple (here: index 1, 2)  |                                                                                                               \n",
    "| a.index('value')        | find index corresponding to an element's value  |                                                                                                              \n",
    "| 'value' in a            | test if a value is contained in the list        |                                                                                                               \n",
    "| a.count(v)               | count how many elements have the value v |                                                                                                              \n",
    "| len(a)                   | number of elements in list a                  |                                                                                                               \n",
    "| min(a)                   | the smallest element in a                     |                                                                                                              \n",
    "| max(a)                   | the largest element in a                      |                                                                                                               \n",
    "| sum(a)                   | add all elements in a                         |                                                                                                              \n",
    "| sorted(a)                | return sorted list with the values of a               |                                                                                                               \n",
    "| reversed(a)              | return reversed sorted version of a      |                                                                                                              \n",
    "| b[3][0][2]               | nested list indexing                            |                                                                                                               \n",
    "| isinstance(a, tuple)      | is True if a is a tuple                      |                                                                                                              \n",
    "| type(a) is tuple          | is True if a is a tuple                      |                                                                                                                "
   ]
  },
  {
   "cell_type": "markdown",
   "metadata": {
    "slideshow": {
     "slide_type": "subslide"
    }
   },
   "source": [
    "## Python dictionaries\n",
    "\n",
    "<center>\n",
    "<img src=\"figs/dictionary.jpg\" style=\"width: 300px;\">\n",
    "</center>\n",
    "\n",
    "Lists and tuples always use integers as indices:\n",
    "```python\n",
    "mylist[10]       \n",
    "```\n",
    "\n",
    "Python dictionaries are similar but you can use any **immutable** object (e.g. string, int, tuple) as index:\n",
    "```python\n",
    "mydict[\"hallo\"] \n",
    "```"
   ]
  },
  {
   "cell_type": "markdown",
   "metadata": {
    "slideshow": {
     "slide_type": "subslide"
    }
   },
   "source": [
    "## Basic dictionary operations\n",
    "\n",
    "We create dictionaries with the `{}` syntax. \n",
    "For each dictionary entry, we need to probide one (immutable) key and its value:"
   ]
  },
  {
   "cell_type": "code",
   "execution_count": 24,
   "metadata": {},
   "outputs": [],
   "source": [
    "phonebook = {\"John Doe\"  : None, \n",
    "             \"Franz Dahl\": 4881221,\n",
    "             \"Edvard Munch\": None}"
   ]
  },
  {
   "cell_type": "markdown",
   "metadata": {
    "slideshow": {
     "slide_type": "fragment"
    }
   },
   "source": [
    "Once created, we can access the dictionary entries:"
   ]
  },
  {
   "cell_type": "code",
   "execution_count": 21,
   "metadata": {},
   "outputs": [
    {
     "name": "stdout",
     "output_type": "stream",
     "text": [
      "None\n"
     ]
    }
   ],
   "source": [
    "print(phonebook[\"Edvard Munch\"])"
   ]
  },
  {
   "cell_type": "markdown",
   "metadata": {
    "slideshow": {
     "slide_type": "fragment"
    }
   },
   "source": [
    "Dictionaryes are **mutable** objects:"
   ]
  },
  {
   "cell_type": "code",
   "execution_count": 23,
   "metadata": {
    "slideshow": {
     "slide_type": "-"
    }
   },
   "outputs": [
    {
     "data": {
      "text/plain": [
       "{'Franz Dahl': 4881221, 'Edvard Munch': None, 'Marie Erdahl': 12345}"
      ]
     },
     "execution_count": 23,
     "metadata": {},
     "output_type": "execute_result"
    }
   ],
   "source": [
    "#phonebook['Marie Erdahl'] = 12345  # Add a new entry\n",
    "#del phonebook['John Doe']          # Delete a entry\n",
    "phonebook"
   ]
  },
  {
   "cell_type": "markdown",
   "metadata": {
    "slideshow": {
     "slide_type": "subslide"
    }
   },
   "source": [
    "# Looping over dictionary items:"
   ]
  },
  {
   "cell_type": "code",
   "execution_count": 26,
   "metadata": {
    "slideshow": {
     "slide_type": "-"
    }
   },
   "outputs": [
    {
     "name": "stdout",
     "output_type": "stream",
     "text": [
      "John Doe\n",
      "None\n",
      "Franz Dahl\n",
      "4881221\n",
      "Edvard Munch\n",
      "None\n"
     ]
    }
   ],
   "source": [
    "for name in phonebook:\n",
    "    print(name)\n",
    "    print(phonebook[name])"
   ]
  },
  {
   "cell_type": "markdown",
   "metadata": {
    "slideshow": {
     "slide_type": "-"
    }
   },
   "source": [
    "or "
   ]
  },
  {
   "cell_type": "code",
   "execution_count": 27,
   "metadata": {},
   "outputs": [
    {
     "name": "stdout",
     "output_type": "stream",
     "text": [
      "Name: John Doe\tNumber: None\n",
      "Name: Franz Dahl\tNumber: 4881221\n",
      "Name: Edvard Munch\tNumber: None\n"
     ]
    }
   ],
   "source": [
    "for name, number in phonebook.items(): \n",
    "    print(f\"Name: {name}\\tNumber: {number}\")"
   ]
  },
  {
   "cell_type": "markdown",
   "metadata": {
    "slideshow": {
     "slide_type": "slide"
    }
   },
   "source": [
    "# Functions\n",
    "\n",
    "Python functions allow you to encapsulate a task - they combine many instructions into a single line of code. \n",
    "\n",
    "**Task**: Split a string at a given character:"
   ]
  },
  {
   "cell_type": "code",
   "execution_count": 28,
   "metadata": {},
   "outputs": [],
   "source": [
    "def split(string, split_char):\n",
    "    \"\"\" Split the string at the given character \"\"\"\n",
    "    \n",
    "    position = string.find(split_char)\n",
    "    if  position >= 0:\n",
    "        return string[:position+1], string[position+1:]\n",
    "    else:\n",
    "        return string, ''    "
   ]
  },
  {
   "cell_type": "markdown",
   "metadata": {
    "slideshow": {
     "slide_type": "fragment"
    }
   },
   "source": [
    "Call the function with"
   ]
  },
  {
   "cell_type": "code",
   "execution_count": 29,
   "metadata": {
    "scrolled": false,
    "slideshow": {
     "slide_type": "-"
    }
   },
   "outputs": [
    {
     "data": {
      "text/plain": [
       "('Hei', 'sann')"
      ]
     },
     "execution_count": 29,
     "metadata": {},
     "output_type": "execute_result"
    }
   ],
   "source": [
    "message = 'Heisann'\n",
    "split(message, split_char='i')"
   ]
  },
  {
   "cell_type": "markdown",
   "metadata": {
    "slideshow": {
     "slide_type": "subslide"
    }
   },
   "source": [
    "# Multiple return values\n",
    "\n",
    "Often it is useful to return multiple values in a function. This is achieved by packing these values into a tuple:"
   ]
  },
  {
   "cell_type": "code",
   "execution_count": 30,
   "metadata": {},
   "outputs": [],
   "source": [
    "def coordinates():\n",
    "    x = 1\n",
    "    y = 2\n",
    "    return x, y, 1  # Note: Short notation for tuple([x, y])"
   ]
  },
  {
   "cell_type": "markdown",
   "metadata": {
    "slideshow": {
     "slide_type": "fragment"
    }
   },
   "source": [
    "When calling the function, we can extact the two coordinate values from the tuple again:"
   ]
  },
  {
   "cell_type": "code",
   "execution_count": null,
   "metadata": {},
   "outputs": [],
   "source": [
    "xy = coordinates()\n",
    "x = xy[0]\n",
    "y = xy[1]"
   ]
  },
  {
   "cell_type": "markdown",
   "metadata": {
    "slideshow": {
     "slide_type": "fragment"
    }
   },
   "source": [
    "or we use the shorter notation:"
   ]
  },
  {
   "cell_type": "code",
   "execution_count": 32,
   "metadata": {},
   "outputs": [],
   "source": [
    "x, y, z = coordinates()   # Note: Python automatically \"unpacks\" the tuple entries"
   ]
  },
  {
   "cell_type": "markdown",
   "metadata": {
    "collapsed": true,
    "slideshow": {
     "slide_type": "subslide"
    }
   },
   "source": [
    "## Document your code \n",
    "\n",
    "Python treats a string in the first line of a module/function/class definition as a special **documentation string**.:"
   ]
  },
  {
   "cell_type": "code",
   "execution_count": 33,
   "metadata": {},
   "outputs": [],
   "source": [
    "from math import sin\n",
    "\n",
    "def positive_sin(x):\n",
    "    \"\"\" Calculates max(0, sin(x)) and returns the result\n",
    "    \n",
    "    For more complex functions, add a more detailed description here.\n",
    "    \"\"\"\n",
    "    return max(0, sin(x))"
   ]
  },
  {
   "cell_type": "markdown",
   "metadata": {},
   "source": [
    "**Docstring guideline**: \n",
    "\n",
    "* The first line should be a short, concise summary of the functions’s purpose. \n",
    "* A more detailed description can follow below seperated by a newline.\n",
    "\n",
    "See http://sphinxcontrib-napoleon.readthedocs.io/en/latest/example_google.html for a complete docstring example.\n",
    "    "
   ]
  },
  {
   "cell_type": "markdown",
   "metadata": {
    "slideshow": {
     "slide_type": "subslide"
    }
   },
   "source": [
    "## Where docstrings are used\n",
    "\n",
    "Code editors will present docstrings for you on request. For example in `IPython (notebook)`:"
   ]
  },
  {
   "cell_type": "code",
   "execution_count": 34,
   "metadata": {},
   "outputs": [],
   "source": [
    "positive_sin?"
   ]
  },
  {
   "cell_type": "markdown",
   "metadata": {
    "slideshow": {
     "slide_type": "slide"
    }
   },
   "source": [
    "# Classes\n"
   ]
  },
  {
   "cell_type": "markdown",
   "metadata": {},
   "source": [
    "A class collects attributes and functions that belong together. \n",
    "\n",
    "\n",
    "<center>\n",
    "<img src=\"https://upload.wikimedia.org/wikipedia/commons/thumb/9/98/CPT-OOP-objects_and_classes_-_attmeth.svg/1280px-CPT-OOP-objects_and_classes_-_attmeth.svg.png\" style=\"width: 500px\"> \n",
    "    </center>\n"
   ]
  },
  {
   "cell_type": "markdown",
   "metadata": {
    "slideshow": {
     "slide_type": "subslide"
    }
   },
   "source": [
    "### Example of a class definition for a car"
   ]
  },
  {
   "cell_type": "code",
   "execution_count": 36,
   "metadata": {},
   "outputs": [],
   "source": [
    "class Car(object):\n",
    "    \"\"\" A class representing a car \"\"\"\n",
    "    \n",
    "    def __init__(self, year, fuel):\n",
    "        self.year = year\n",
    "        self.fuel = fuel\n",
    "        self.speed = 0\n",
    "        \n",
    "        if fuel == \"electric\":\n",
    "            self.sound = \"Ssssss\"\n",
    "        else:\n",
    "            self.sound = \"Wohmmm\"\n",
    "    \n",
    "    def start(self):\n",
    "        print(self.sound)\n",
    "\n",
    "            \n",
    "    def accelerate(self, new_speed):\n",
    "        self.speed = new_speed"
   ]
  },
  {
   "cell_type": "markdown",
   "metadata": {},
   "source": [
    "This class contains tree functions: \n",
    "  1. The `__init__` function is the **constructor** function which is called when a new class object is instantiated. \n",
    "  2. The `start` and `accelerate` functions are member functions of the class.\n",
    "\n",
    "**Important**: All class functions take a **self** variable as first argument."
   ]
  },
  {
   "cell_type": "markdown",
   "metadata": {
    "slideshow": {
     "slide_type": "subslide"
    }
   },
   "source": [
    "## What is the `self` variable?"
   ]
  },
  {
   "cell_type": "markdown",
   "metadata": {
    "slideshow": {
     "slide_type": "-"
    }
   },
   "source": [
    "Python automatically passes the object itself as first argument when calling member functions. \n",
    "\n",
    "In other words:\n",
    "\n",
    "```python\n",
    "mycar = Car(2005, \"bensin\")\n",
    "mycar.start()\n",
    "```\n",
    "and\n",
    "```python\n",
    "Car.start(self=mycar)\n",
    "``` \n",
    "do the same!"
   ]
  },
  {
   "cell_type": "markdown",
   "metadata": {
    "slideshow": {
     "slide_type": "fragment"
    }
   },
   "source": [
    "### Why do we need self?\n",
    "self is used to access other attributes or methods of the object from inside the method.\n",
    "```python\n",
    "class Car(object):\n",
    "    # ...\n",
    "    def start(self):          \n",
    "        print(self.sound)  # accesses the variable of that car instance\n",
    "```        "
   ]
  },
  {
   "cell_type": "markdown",
   "metadata": {
    "slideshow": {
     "slide_type": "subslide"
    }
   },
   "source": [
    "## Using our Python class\n",
    "\n",
    "We can create a new instance of the class:"
   ]
  },
  {
   "cell_type": "code",
   "execution_count": 37,
   "metadata": {},
   "outputs": [],
   "source": [
    "mycar = Car(year=2007, fuel=\"Bensin\")"
   ]
  },
  {
   "cell_type": "markdown",
   "metadata": {},
   "source": [
    "Instantiating the class calls the `__init__` constructor and returns a new **class object**."
   ]
  },
  {
   "cell_type": "markdown",
   "metadata": {
    "slideshow": {
     "slide_type": "fragment"
    }
   },
   "source": [
    "We can call the user-defined functions on our object:"
   ]
  },
  {
   "cell_type": "code",
   "execution_count": 39,
   "metadata": {},
   "outputs": [
    {
     "name": "stdout",
     "output_type": "stream",
     "text": [
      "Wohmmm\n"
     ]
    }
   ],
   "source": [
    "mycar.start()\n",
    "mycar.accelerate(new_speed=100)"
   ]
  },
  {
   "cell_type": "markdown",
   "metadata": {
    "slideshow": {
     "slide_type": "fragment"
    }
   },
   "source": [
    "We can also access the member variables:"
   ]
  },
  {
   "cell_type": "code",
   "execution_count": 41,
   "metadata": {},
   "outputs": [
    {
     "data": {
      "text/plain": [
       "'Wohmmm'"
      ]
     },
     "execution_count": 41,
     "metadata": {},
     "output_type": "execute_result"
    }
   ],
   "source": [
    "mycar.sound"
   ]
  },
  {
   "cell_type": "markdown",
   "metadata": {
    "slideshow": {
     "slide_type": "subslide"
    }
   },
   "source": [
    "## Magic class methods\n",
    "\n",
    "Currently, printing our Car object is not very informative:"
   ]
  },
  {
   "cell_type": "code",
   "execution_count": 42,
   "metadata": {},
   "outputs": [
    {
     "name": "stdout",
     "output_type": "stream",
     "text": [
      "<__main__.Car object at 0x7f526c3176a0>\n"
     ]
    }
   ],
   "source": [
    "print(mycar)"
   ]
  },
  {
   "cell_type": "markdown",
   "metadata": {},
   "source": [
    "What if we want to customize this information? "
   ]
  },
  {
   "cell_type": "markdown",
   "metadata": {
    "slideshow": {
     "slide_type": "fragment"
    }
   },
   "source": [
    "Python classes can implement some magic methods. If implemented, Python calls these magic methods on certain operations. \n",
    "\n",
    "Here are some operations defined by magic methods:\n",
    "```python\n",
    "str(a)            # calls a.__str__(), called also with print(a)\n",
    "c = a*b           # calls c = a.__mul__(b)\n",
    "a = a+b           # calls a = a.__add__(b)\n",
    "a == b            # calls a.__eq__(self, b)\n",
    "a(x)               # calls a.__call__(self, x)\n",
    "```\n",
    "\n",
    "A complete list is available here: [Python reference - Data model](https://docs.python.org/3/reference/datamodel.html)"
   ]
  },
  {
   "cell_type": "markdown",
   "metadata": {
    "slideshow": {
     "slide_type": "subslide"
    }
   },
   "source": [
    "## Example of magic class methods"
   ]
  },
  {
   "cell_type": "markdown",
   "metadata": {
    "slideshow": {
     "slide_type": "fragment"
    }
   },
   "source": [
    "Let's extend our car class with the magic `__str__` method:"
   ]
  },
  {
   "cell_type": "code",
   "execution_count": 43,
   "metadata": {},
   "outputs": [],
   "source": [
    "class CaR(object):\n",
    "    \"\"\" A class representing a car \"\"\"\n",
    "    \n",
    "    def __init__(self, year, fuel=\"diesel\"):\n",
    "        self.year = year\n",
    "        self.fuel = fuel\n",
    "        self.speed = 0\n",
    "    \n",
    "    def __str__(self):\n",
    "        return(\"This is a car from {} driving on {} at speed {}\".format(self.year, self.fuel, self.speed))"
   ]
  },
  {
   "cell_type": "markdown",
   "metadata": {
    "slideshow": {
     "slide_type": "fragment"
    }
   },
   "source": [
    "This magic `__str__` function is now called when we convert the car object to a string:"
   ]
  },
  {
   "cell_type": "code",
   "execution_count": 45,
   "metadata": {},
   "outputs": [
    {
     "name": "stdout",
     "output_type": "stream",
     "text": [
      "This is a car from 2007 driving on bensin at speed 0\n"
     ]
    }
   ],
   "source": [
    "mycar = CaR(2007, fuel=\"bensin\")\n",
    "print(mycar)"
   ]
  },
  {
   "cell_type": "markdown",
   "metadata": {
    "slideshow": {
     "slide_type": "slide"
    }
   },
   "source": [
    "## A more adanced example of magic class methods: functions with extra parameters\n",
    "\n",
    "Suppose we need a function of `x` and `y` with three additional parameters `a`, `b`, and `c`:"
   ]
  },
  {
   "cell_type": "code",
   "execution_count": null,
   "metadata": {},
   "outputs": [],
   "source": [
    "def f(x, y, a, b, c):\n",
    "    return a + b*x + c*y*y"
   ]
  },
  {
   "cell_type": "markdown",
   "metadata": {},
   "source": [
    "Suppose we need to send this function to another function"
   ]
  },
  {
   "cell_type": "code",
   "execution_count": null,
   "metadata": {},
   "outputs": [],
   "source": [
    "def gridvalues(f, xcoor, ycoor, file):\n",
    "    for i in range(len(xcoor)):\n",
    "        for j in range(len(ycoor)):\n",
    "            fval = f(xcoor[i], ycoor[j])\n",
    "            file.write('%g %g %g\\n' % (xcoor[i], ycoor[j], fval))"
   ]
  },
  {
   "cell_type": "markdown",
   "metadata": {},
   "source": [
    "* `func` is expected to be a function of `x` and `y` only (many libraries make such assumptions!)\n",
    "* How can we send our `f` function to `gridvalues`?"
   ]
  },
  {
   "cell_type": "markdown",
   "metadata": {
    "slideshow": {
     "slide_type": "subslide"
    }
   },
   "source": [
    "## Possible (inferior) solution\n",
    "**Bad solution 1**: global parameters"
   ]
  },
  {
   "cell_type": "markdown",
   "metadata": {},
   "source": [
    "```python\n",
    "global a, b, c\n",
    "#...\n",
    "def f(x, y):\n",
    "    return a + b*x + c*y*y\n",
    "\n",
    "#...\n",
    "a = 0.5;  b = 1;  c = 0.01\n",
    "gridvalues(f, xcoor, ycoor, somefile)\n",
    "```"
   ]
  },
  {
   "cell_type": "markdown",
   "metadata": {},
   "source": [
    "**Problem**: Global variables are usually considered evil!"
   ]
  },
  {
   "cell_type": "markdown",
   "metadata": {
    "slideshow": {
     "slide_type": "subslide"
    }
   },
   "source": [
    "## Possible (inferior) solution\n",
    "**Bad solution 2**: keyword arguments with default values"
   ]
  },
  {
   "cell_type": "markdown",
   "metadata": {},
   "source": [
    "```python\n",
    "def f(x, y, a=0.5, b=1, c=0.01):\n",
    "    return a + b*x + c*y*y\n",
    "\n",
    "# ...\n",
    "gridvalues(f, xcoor, ycoor, somefile)\n",
    "```\n",
    "\n",
    "**Problem**: Useless for other values of `a`, `b`, `c`"
   ]
  },
  {
   "cell_type": "markdown",
   "metadata": {
    "slideshow": {
     "slide_type": "subslide"
    }
   },
   "source": [
    "## Solution: class with `__call__` operator\n",
    "\n",
    "Make a class with function behavior instead of a pure function.\n",
    "  2. Make the parameters class attributes.\n",
    "  3. Implement the magic `__call__`  function."
   ]
  },
  {
   "cell_type": "code",
   "execution_count": 46,
   "metadata": {
    "slideshow": {
     "slide_type": "fragment"
    }
   },
   "outputs": [],
   "source": [
    "class F(object):\n",
    "    def __init__(self, a=1, b=1, c=1):\n",
    "        self.a = a\n",
    "        self.b = b\n",
    "        self.c = c\n",
    "\n",
    "    def __call__(self, x, y):    # special method!\n",
    "        return self.a  + self.b*x + self.c*y*y"
   ]
  },
  {
   "cell_type": "markdown",
   "metadata": {
    "slideshow": {
     "slide_type": "fragment"
    }
   },
   "source": [
    "Now, instances can be called as ordinary functions, but with *x* and *y* as the only formal arguments:"
   ]
  },
  {
   "cell_type": "code",
   "execution_count": 47,
   "metadata": {},
   "outputs": [
    {
     "data": {
      "text/plain": [
       "1.95"
      ]
     },
     "execution_count": 47,
     "metadata": {},
     "output_type": "execute_result"
    }
   ],
   "source": [
    "f = F(a=1, b=2, c=3)\n",
    "f(0.1, 0.5)"
   ]
  },
  {
   "cell_type": "markdown",
   "metadata": {
    "slideshow": {
     "slide_type": "subslide"
    }
   },
   "source": [
    "## Comment on object-orientation\n",
    "Consider:"
   ]
  },
  {
   "cell_type": "code",
   "execution_count": null,
   "metadata": {},
   "outputs": [],
   "source": [
    "# this function works with any object that has a start function\n",
    "def start(v):\n",
    "    v.start()\n",
    "\n",
    "mycar = Car(year=2007, fuel=\"Bensin\")\n",
    "start(mycar)"
   ]
  },
  {
   "cell_type": "markdown",
   "metadata": {
    "slideshow": {
     "slide_type": "fragment"
    }
   },
   "source": [
    "* In C++/Java we would declare `v` as a `Car` reference and rely on `golf.start()` to call the virtual function `start` in `Golf`.\n",
    "* The same works in Python, but we do not need inheritance and virtual functions here: `v.start()` will work for **any** object `v` that has a callable attribute `start` that takes no arguments."
   ]
  }
 ],
 "metadata": {
  "celltoolbar": "Slideshow",
  "kernelspec": {
   "display_name": "Python 3",
   "language": "python",
   "name": "python3"
  },
  "language_info": {
   "codemirror_mode": {
    "name": "ipython",
    "version": 3
   },
   "file_extension": ".py",
   "mimetype": "text/x-python",
   "name": "python",
   "nbconvert_exporter": "python",
   "pygments_lexer": "ipython3",
   "version": "3.7.3"
  },
  "livereveal": {
   "scroll": true,
   "start_slideshow_at": "selected",
   "theme": "serif"
  }
 },
 "nbformat": 4,
 "nbformat_minor": 1
}
