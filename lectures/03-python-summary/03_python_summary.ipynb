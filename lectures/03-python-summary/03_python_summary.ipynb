{
 "cells": [
  {
   "cell_type": "markdown",
   "metadata": {
    "slideshow": {
     "slide_type": "slide"
    }
   },
   "source": [
    "# Introduction to Python 3"
   ]
  },
  {
   "cell_type": "markdown",
   "metadata": {
    "slideshow": {
     "slide_type": "slide"
    }
   },
   "source": [
    "## Contents\n",
    "  \n",
    "* Installation\n",
    "* Getting started\n",
    "* Variables and types\n",
    "* Control structures\n",
    "* Functions\n",
    "* A glimpse into classes"
   ]
  },
  {
   "cell_type": "markdown",
   "metadata": {
    "slideshow": {
     "slide_type": "slide"
    }
   },
   "source": [
    "## Installation\n",
    "\n",
    "Python can be installed in different ways - and might be already installed on your system!\n",
    "\n",
    "<img src=\"https://www.continuum.io/sites/all/themes/continuum/assets/images/logos/logo-horizontal-large.svg\"/ style=\"width: 300px;\">\n",
    "\n",
    "We recommend to install `anaconda`. Advantages:\n",
    "* Includes a Python distribution with package manager and many packages.\n",
    "* Freely available for Windows, Mac and Linux\n",
    "* Installation on IfI machines is described in the *oppgaver* section on the course webpage."
   ]
  },
  {
   "cell_type": "markdown",
   "metadata": {
    "slideshow": {
     "slide_type": "subslide"
    }
   },
   "source": [
    "## Quick guide:\n",
    "\n",
    "1. Install `anaconda` from https://www.continuum.io as a local user.\n",
    "2. Check that Python >= 3.5 is installed:\n",
    "```bash\n",
    "> python --version\n",
    "Python 3.5.2 :: Continuum Analytics, Inc.\n",
    "```"
   ]
  },
  {
   "cell_type": "markdown",
   "metadata": {
    "slideshow": {
     "slide_type": "subslide"
    }
   },
   "source": [
    "### The conda package manager\n",
    "Packages are Python extension that can be installed on your system.\n",
    "You can use the conda package manager to find and install new packages:\n",
    "\n",
    "\n",
    "* Search for a package: \n",
    "   ```bash\n",
    "   conda search scipy\n",
    "   ```\n",
    "* Install a package: \n",
    "   ```bash\n",
    "   conda install scipy\n",
    "   ```\n",
    "* List all installed packages: \n",
    "   ```bash\n",
    "   conda list\n",
    "   ```"
   ]
  },
  {
   "cell_type": "markdown",
   "metadata": {
    "slideshow": {
     "slide_type": "slide"
    }
   },
   "source": [
    "# Getting help\n",
    "\n",
    "<img src=\"figs/help.jpg\" style=\"width: 400px;\"/>"
   ]
  },
  {
   "cell_type": "markdown",
   "metadata": {
    "slideshow": {
     "slide_type": "subslide"
    }
   },
   "source": [
    "## Books and tutorials\n",
    "Here are some good books and tutorials for Python 3:\n",
    "  * [Python Library Reference](https://docs.python.org/3/)\n",
    "  * [Python 3 tutorial](https://docs.python.org/3/tutorial/)\n",
    "  * [Think Python](http://greenteapress.com/thinkpython2/)"
   ]
  },
  {
   "cell_type": "markdown",
   "metadata": {
    "slideshow": {
     "slide_type": "subslide"
    }
   },
   "source": [
    "## Build-in documentation\n",
    "\n",
    "Build-in documentation is accessible via the command line program `pydoc`:\n",
    "```bash\n",
    "pydoc anymodule\n",
    "pydoc anymodule.anyfunc\n",
    "```\n",
    "\n",
    "Example: "
   ]
  },
  {
   "cell_type": "code",
   "execution_count": 1,
   "metadata": {
    "collapsed": true,
    "slideshow": {
     "slide_type": "fragment"
    }
   },
   "outputs": [
    {
     "name": "stdout",
     "output_type": "stream",
     "text": [
      "Help on built-in function exit in sys:\r\n",
      "\r\n",
      "s\bsy\bys\bs.\b.e\bex\bxi\bit\bt = exit(...)\r\n",
      "    exit([status])\r\n",
      "    \r\n",
      "    Exit the interpreter by raising SystemExit(status).\r\n",
      "    If the status is omitted or None, it defaults to zero (i.e., success).\r\n",
      "    If the status is an integer, it will be used as the system exit status.\r\n",
      "    If it is another kind of object, it will be printed and the system\r\n",
      "    exit status will be one (i.e., failure).\r\n",
      "\r\n"
     ]
    }
   ],
   "source": [
    "!pydoc sys.exit"
   ]
  },
  {
   "cell_type": "markdown",
   "metadata": {
    "slideshow": {
     "slide_type": "slide"
    }
   },
   "source": [
    "# First Python encounter: a scientific hello world program"
   ]
  },
  {
   "cell_type": "markdown",
   "metadata": {
    "slideshow": {
     "slide_type": "fragment"
    }
   },
   "source": [
    "```python\n",
    "#!/usr/bin/env python\n",
    "from math import sin\n",
    "import sys\n",
    "\n",
    "x = float(sys.argv[1])\n",
    "print(\"Hello world, sin({0}) = {1}\".format(x, sin(x)))\n",
    "```\n",
    "\n",
    "Save this code in file `hw.py`."
   ]
  },
  {
   "cell_type": "markdown",
   "metadata": {
    "slideshow": {
     "slide_type": "subslide"
    }
   },
   "source": [
    "## Running the script from the command line\n",
    "\n",
    "Works an all operating systems:\n",
    "\n",
    "```bash\n",
    "> python hw.py 0.8\n",
    "Hello world, sin(0.8) = 0.7173560908995228\n",
    "```"
   ]
  },
  {
   "cell_type": "markdown",
   "metadata": {
    "slideshow": {
     "slide_type": "fragment"
    }
   },
   "source": [
    "A Linux/OSX alternative is to make the file executable:\n",
    "\n",
    "```bash\n",
    "> chmod a+x hw.py\n",
    "> ./hw.py 10\n",
    "Hello world, sin(10.0) = -0.5440211108893698\n",
    "```"
   ]
  },
  {
   "cell_type": "markdown",
   "metadata": {
    "slideshow": {
     "slide_type": "subslide"
    }
   },
   "source": [
    "## Dissection of `hw.py` (1)\n",
    "\n",
    "On Linux/OSX: find out what kind of script language (interpreter) to use:\n",
    "\n",
    "```python\n",
    "#!/usr/bin/env python\n",
    "```"
   ]
  },
  {
   "cell_type": "markdown",
   "metadata": {
    "slideshow": {
     "slide_type": "fragment"
    }
   },
   "source": [
    "Access library functionality like the function `sin` and the list `sys.arg`\n",
    "(of command-line arguments):\n",
    "\n",
    "```python\n",
    "from math import sin\n",
    "import sys\n",
    "```"
   ]
  },
  {
   "cell_type": "markdown",
   "metadata": {
    "slideshow": {
     "slide_type": "fragment"
    }
   },
   "source": [
    "Read first command line argument and convert it to a floating point object:\n",
    "\n",
    "```python\n",
    "x = float(sys.argv[1])\n",
    "```\n",
    "\n",
    "**Note**: Python variables are not declared."
   ]
  },
  {
   "cell_type": "markdown",
   "metadata": {
    "slideshow": {
     "slide_type": "subslide"
    }
   },
   "source": [
    "## Dissection of `hw.py` (2)\n",
    "\n",
    "Print out the result using a format string:\n",
    "\n",
    "```python\n",
    "print(\"Hello world, sin({0}) = {1}\".format(x, sin(x)))\n",
    "```\n",
    "\n",
    "or with complete control of the formating of floats (similar to the C's `printf` syntax):\n",
    "\n",
    "```python\n",
    "print(\"Hello world, sin({x:g}) = {s:.3f}\".format(x=x, s=sin(x)))\n",
    "```"
   ]
  },
  {
   "cell_type": "markdown",
   "metadata": {
    "slideshow": {
     "slide_type": "slide"
    }
   },
   "source": [
    "## Python as a calculator\n",
    "\n",
    "You can use the Python as a simple calculator:"
   ]
  },
  {
   "cell_type": "code",
   "execution_count": 9,
   "metadata": {},
   "outputs": [
    {
     "data": {
      "text/plain": [
       "3"
      ]
     },
     "execution_count": 9,
     "metadata": {},
     "output_type": "execute_result"
    }
   ],
   "source": [
    "1+2"
   ]
  },
  {
   "cell_type": "code",
   "execution_count": 11,
   "metadata": {},
   "outputs": [
    {
     "data": {
      "text/plain": [
       "10.5"
      ]
     },
     "execution_count": 11,
     "metadata": {},
     "output_type": "execute_result"
    }
   ],
   "source": [
    "4.5/3 + (1+2)*3"
   ]
  },
  {
   "cell_type": "markdown",
   "metadata": {},
   "source": [
    "Use `**` to compute the power:"
   ]
  },
  {
   "cell_type": "code",
   "execution_count": 15,
   "metadata": {},
   "outputs": [
    {
     "data": {
      "text/plain": [
       "1024"
      ]
     },
     "execution_count": 15,
     "metadata": {},
     "output_type": "execute_result"
    }
   ],
   "source": [
    "4**5"
   ]
  },
  {
   "cell_type": "markdown",
   "metadata": {},
   "source": [
    "Python also supports complex numbers:"
   ]
  },
  {
   "cell_type": "code",
   "execution_count": 13,
   "metadata": {},
   "outputs": [
    {
     "data": {
      "text/plain": [
       "(13+1j)"
      ]
     },
     "execution_count": 13,
     "metadata": {},
     "output_type": "execute_result"
    }
   ],
   "source": [
    "a = 1+2j\n",
    "b = 3-5j\n",
    "a*b"
   ]
  },
  {
   "cell_type": "markdown",
   "metadata": {
    "slideshow": {
     "slide_type": "subslide"
    }
   },
   "source": [
    "## Python as a calculator (2)\n",
    "\n",
    "More advanced mathematical functions can be `import`ed:"
   ]
  },
  {
   "cell_type": "code",
   "execution_count": 19,
   "metadata": {},
   "outputs": [
    {
     "data": {
      "text/plain": [
       "0.6989700043360189"
      ]
     },
     "execution_count": 19,
     "metadata": {},
     "output_type": "execute_result"
    }
   ],
   "source": [
    "from math import log10\n",
    "log10(5)"
   ]
  },
  {
   "cell_type": "markdown",
   "metadata": {
    "slideshow": {
     "slide_type": "slide"
    }
   },
   "source": [
    "# Python variables and data types"
   ]
  },
  {
   "cell_type": "markdown",
   "metadata": {
    "slideshow": {
     "slide_type": "subslide"
    }
   },
   "source": [
    "## Strings\n",
    "\n",
    "Strings can be expressed as single quotes ('...') or double quotes (\"...\") with the same result:\n",
    "```python\n",
    "'some string'\n",
    "```\n",
    "is equivalent to \n",
    "```python\n",
    "\"some string\"\n",
    "```\n",
    "\n",
    "Triple-quoted strings can be multi line with embedded newlines:\n",
    "```python\n",
    "text = \"\"\"large portions of a text\n",
    "can be conveniently placed inside\n",
    "triple-quoted strings (newlines\n",
    "are preserved)\"\"\"\n",
    "```"
   ]
  },
  {
   "cell_type": "markdown",
   "metadata": {
    "slideshow": {
     "slide_type": "subslide"
    }
   },
   "source": [
    "## Special characters in strings"
   ]
  },
  {
   "cell_type": "markdown",
   "metadata": {
    "slideshow": {
     "slide_type": "-"
    }
   },
   "source": [
    "Use the backslask `\\` to escape special characters:"
   ]
  },
  {
   "cell_type": "code",
   "execution_count": 29,
   "metadata": {
    "slideshow": {
     "slide_type": "-"
    }
   },
   "outputs": [
    {
     "name": "stdout",
     "output_type": "stream",
     "text": [
      "\"This is a quote\" and \n",
      " here comes a backslash: \\\n"
     ]
    }
   ],
   "source": [
    "s = \"\\\"This is a quote\\\" and \\n here comes a backslash: \\\\\" \n",
    "print(s)"
   ]
  },
  {
   "cell_type": "markdown",
   "metadata": {
    "slideshow": {
     "slide_type": "subslide"
    }
   },
   "source": [
    "## String concatenation\n",
    "\n",
    "Strings can be *glued* together with the `+` and the `*` operators:\n"
   ]
  },
  {
   "cell_type": "code",
   "execution_count": 33,
   "metadata": {},
   "outputs": [
    {
     "data": {
      "text/plain": [
       "'hello hello hello world'"
      ]
     },
     "execution_count": 33,
     "metadata": {},
     "output_type": "execute_result"
    }
   ],
   "source": [
    "\"hello \"*3 + \"world\""
   ]
  },
  {
   "cell_type": "markdown",
   "metadata": {},
   "source": [
    "This works also with string variables:"
   ]
  },
  {
   "cell_type": "code",
   "execution_count": 28,
   "metadata": {},
   "outputs": [
    {
     "data": {
      "text/plain": [
       "'I will not eat chips all day, I will not eat chips all day, I will not eat chips all day, I will not eat chips all day, I will not eat chips all day, I will not eat chips all day, I will not eat chips all day, I will not eat chips all day, I will not eat chips all day, I will not eat chips all day, I will not eat chips all day'"
      ]
     },
     "execution_count": 28,
     "metadata": {},
     "output_type": "execute_result"
    }
   ],
   "source": [
    "quote = \"I will not eat chips all day\"\n",
    "(quote + \", \")*10 + quote"
   ]
  },
  {
   "cell_type": "markdown",
   "metadata": {
    "slideshow": {
     "slide_type": "subslide"
    }
   },
   "source": [
    "## Slicing"
   ]
  },
  {
   "cell_type": "markdown",
   "metadata": {},
   "source": [
    "You can extract a sub-string with the `[start:end]` slicing notation:"
   ]
  },
  {
   "cell_type": "code",
   "execution_count": 29,
   "metadata": {},
   "outputs": [
    {
     "data": {
      "text/plain": [
       "'will'"
      ]
     },
     "execution_count": 29,
     "metadata": {},
     "output_type": "execute_result"
    }
   ],
   "source": [
    "quote[2:6]"
   ]
  },
  {
   "cell_type": "markdown",
   "metadata": {},
   "source": [
    "If the `start` (`left`) argument is left out, the substring will start from the first (last) charachter:"
   ]
  },
  {
   "cell_type": "code",
   "execution_count": 30,
   "metadata": {},
   "outputs": [
    {
     "data": {
      "text/plain": [
       "'not eat chips all day'"
      ]
     },
     "execution_count": 30,
     "metadata": {},
     "output_type": "execute_result"
    }
   ],
   "source": [
    "quote[:6]  # I will\n",
    "quote[7:]  # not eat chips all day"
   ]
  },
  {
   "cell_type": "markdown",
   "metadata": {},
   "source": [
    "Negative indices can be used to index \"from the right\":"
   ]
  },
  {
   "cell_type": "markdown",
   "metadata": {},
   "source": [
    "```\n",
    " +---+---+---+---+---+\n",
    " | c | h | i | p | s |\n",
    " +---+---+---+---+---+\n",
    " 0   1   2   3   4   5\n",
    "-5  -4  -3  -2  -1  \n",
    "```"
   ]
  },
  {
   "cell_type": "code",
   "execution_count": 31,
   "metadata": {},
   "outputs": [
    {
     "data": {
      "text/plain": [
       "'hi'"
      ]
     },
     "execution_count": 31,
     "metadata": {},
     "output_type": "execute_result"
    }
   ],
   "source": [
    "\"chips\"[1:-2]"
   ]
  },
  {
   "cell_type": "markdown",
   "metadata": {
    "slideshow": {
     "slide_type": "subslide"
    }
   },
   "source": [
    "## Python strings cannot be changed\n",
    "\n",
    "Python strings are **immutable**, meaning that they cannot be changed:"
   ]
  },
  {
   "cell_type": "code",
   "execution_count": 32,
   "metadata": {
    "collapsed": true
   },
   "outputs": [
    {
     "ename": "TypeError",
     "evalue": "'str' object does not support item assignment",
     "output_type": "error",
     "traceback": [
      "\u001b[0;31m---------------------------------------------------------------------------\u001b[0m",
      "\u001b[0;31mTypeError\u001b[0m                                 Traceback (most recent call last)",
      "\u001b[0;32m<ipython-input-32-306797a7b1b9>\u001b[0m in \u001b[0;36m<module>\u001b[0;34m()\u001b[0m\n\u001b[0;32m----> 1\u001b[0;31m \u001b[0mquote\u001b[0m\u001b[0;34m[\u001b[0m\u001b[0;36m1\u001b[0m\u001b[0;34m]\u001b[0m \u001b[0;34m=\u001b[0m \u001b[0;34m\"x\"\u001b[0m\u001b[0;34m\u001b[0m\u001b[0m\n\u001b[0m",
      "\u001b[0;31mTypeError\u001b[0m: 'str' object does not support item assignment"
     ]
    }
   ],
   "source": [
    "quote[1] = \"x\""
   ]
  },
  {
   "cell_type": "markdown",
   "metadata": {},
   "source": [
    "If one wants to change a string, one needs to create a new one:"
   ]
  },
  {
   "cell_type": "code",
   "execution_count": 33,
   "metadata": {},
   "outputs": [
    {
     "name": "stdout",
     "output_type": "stream",
     "text": [
      "Ixwill not eat chips all day\n"
     ]
    }
   ],
   "source": [
    "quote = quote[:1] + \"x\" + quote[2:]\n",
    "print(quote)"
   ]
  },
  {
   "cell_type": "markdown",
   "metadata": {
    "slideshow": {
     "slide_type": "subslide"
    }
   },
   "source": [
    "\n",
    "## More usefull string operations"
   ]
  },
  {
   "cell_type": "markdown",
   "metadata": {
    "slideshow": {
     "slide_type": "-"
    }
   },
   "source": [
    "| Code               |   Meaning                                       |                                                                                                              \n",
    "|----------------------------|-------------------------------------------------|                                    \n",
    "|'day' in quote              |       True if string contains substring        |\n",
    "|quote.find('i')             |       index where first 'i' is found           |\n",
    "|quote.split()               |       split at whitespace (returns list)      |\n",
    "|quote.replace('chips', 'salad')|    replace all occurances                   |\n",
    "|quote.lower()                |      convert to lower case                    |\n",
    "|quote.upper()                |      convert to upper case                    |\n",
    "|quote.strip()                |      remove leading/trailing blanks           | "
   ]
  },
  {
   "cell_type": "markdown",
   "metadata": {},
   "source": [
    "Note that many of these operations return a **new** string (since strings are immutable)."
   ]
  },
  {
   "cell_type": "markdown",
   "metadata": {
    "slideshow": {
     "slide_type": "subslide"
    }
   },
   "source": [
    "## Lists\n",
    "\n",
    "Python lists allow you to group together other values:"
   ]
  },
  {
   "cell_type": "code",
   "execution_count": 34,
   "metadata": {
    "collapsed": true,
    "slideshow": {
     "slide_type": "-"
    }
   },
   "outputs": [],
   "source": [
    "mylist  = ['Hello', 'world', '!!!']"
   ]
  },
  {
   "cell_type": "markdown",
   "metadata": {},
   "source": [
    "Lists can contain items of different type, though in practice they often have the same type."
   ]
  },
  {
   "cell_type": "code",
   "execution_count": 35,
   "metadata": {
    "collapsed": true
   },
   "outputs": [],
   "source": [
    "mylist  = ['Hello', 4, True]"
   ]
  },
  {
   "cell_type": "markdown",
   "metadata": {
    "slideshow": {
     "slide_type": "subslide"
    }
   },
   "source": [
    "### List operations\n",
    "Many of the operations that we know from strings also work on lists, such as indexing:"
   ]
  },
  {
   "cell_type": "code",
   "execution_count": 37,
   "metadata": {},
   "outputs": [
    {
     "data": {
      "text/plain": [
       "'Hello'"
      ]
     },
     "execution_count": 37,
     "metadata": {},
     "output_type": "execute_result"
    }
   ],
   "source": [
    "mylist[0]"
   ]
  },
  {
   "cell_type": "markdown",
   "metadata": {},
   "source": [
    "..., slicing:"
   ]
  },
  {
   "cell_type": "code",
   "execution_count": 38,
   "metadata": {},
   "outputs": [
    {
     "data": {
      "text/plain": [
       "[4, True]"
      ]
     },
     "execution_count": 38,
     "metadata": {},
     "output_type": "execute_result"
    }
   ],
   "source": [
    "mylist[1:]"
   ]
  },
  {
   "cell_type": "markdown",
   "metadata": {},
   "source": [
    "and concatenation:"
   ]
  },
  {
   "cell_type": "code",
   "execution_count": 42,
   "metadata": {},
   "outputs": [
    {
     "data": {
      "text/plain": [
       "['Hello', 4, True, '!', '!', '!']"
      ]
     },
     "execution_count": 42,
     "metadata": {},
     "output_type": "execute_result"
    }
   ],
   "source": [
    "newlist = mylist + [\"!\"]*3\n",
    "newlist"
   ]
  },
  {
   "cell_type": "markdown",
   "metadata": {
    "slideshow": {
     "slide_type": "subslide"
    }
   },
   "source": [
    "### Lists can be changed\n",
    "In constrast to `strings`, `lists` are **mutable** and can be changed:"
   ]
  },
  {
   "cell_type": "code",
   "execution_count": 52,
   "metadata": {},
   "outputs": [
    {
     "data": {
      "text/plain": [
       "[11, 12, 13]"
      ]
     },
     "execution_count": 52,
     "metadata": {},
     "output_type": "execute_result"
    }
   ],
   "source": [
    "mylist = [11, 12, 14]\n",
    "mylist[2] = 13\n",
    "mylist"
   ]
  },
  {
   "cell_type": "markdown",
   "metadata": {},
   "source": [
    "We can also append additional items to a list:"
   ]
  },
  {
   "cell_type": "code",
   "execution_count": 53,
   "metadata": {},
   "outputs": [
    {
     "data": {
      "text/plain": [
       "[11, 12, 13, 14]"
      ]
     },
     "execution_count": 53,
     "metadata": {},
     "output_type": "execute_result"
    }
   ],
   "source": [
    "mylist.append(14)\n",
    "mylist"
   ]
  },
  {
   "cell_type": "markdown",
   "metadata": {
    "slideshow": {
     "slide_type": "subslide"
    }
   },
   "source": [
    "## Cheat sheet for Python lists\n",
    "\n",
    "| Construction               |   Meaning                                       |                                                                                                              \n",
    "|----------------------------|-------------------------------------------------|                                                                                                              \n",
    "| a = []                   | initialize an empty list                        |                                                                                                               \n",
    "| a = [1, 4.4, 'run.py']   | initialize a list                               |                                                                                                               \n",
    "| a.append(elem)           | add elem object to the end                    |                                                                                                               \n",
    "| a + [1,3]                | add two lists                                   |                                                                                                               \n",
    "| a.insert(i, e)           | insert element e before index i             |                                                                                                               \n",
    "| a[3]                     | index a list element                            |                                                                                                               \n",
    "| a[-1]                    | get last list element                           |                                                                                                              \n",
    "| a[1:3]                   | slice: return sublist (here: index 1, 2)  |                                                                                                               \n",
    "| del a[3]                 | delete an element (index 3)                   |                                                                                                              \n",
    "| a.remove(e)              | remove an element with value e                |                                                                                                               \n",
    "| a.index('run.py')        | find index corresponding to an element's value  |                                                                                                              \n",
    "| 'value' in a            | test if a value is contained in the list        |                                                                                                               \n",
    "| a.count(v)               | count how many elements have the value v |                                                                                                              \n",
    "| len(a)                   | number of elements in list a                  |                                                                                                               \n",
    "| min(a)                   | the smallest element in a                     |                                                                                                              \n",
    "| max(a)                   | the largest element in a                      |                                                                                                               \n",
    "| sum(a)                   | add all elements in a                         |                                                                                                              \n",
    "| sorted(a)                | return sorted version of list a               |                                                                                                               \n",
    "| reversed(a)              | return reversed sorted version of list a      |                                                                                                              \n",
    "| b[3][0][2]               | nested list indexing                            |                                                                                                               \n",
    "| isinstance(a, list)      | is True if a is a list                      |                                                                                                              \n",
    "| type(a) is list          | is True if a is a list                      |                                                                                                                "
   ]
  },
  {
   "cell_type": "markdown",
   "metadata": {
    "slideshow": {
     "slide_type": "subslide"
    }
   },
   "source": [
    "### Tuples\n",
    "Tuples are very similar to lists, but they are **immutable**, just like strings.\n",
    "\n",
    "Tuples are created like this:"
   ]
  },
  {
   "cell_type": "code",
   "execution_count": 62,
   "metadata": {
    "collapsed": true
   },
   "outputs": [],
   "source": [
    "mytuple = ('a string', 2.5, 6, 'another string')"
   ]
  },
  {
   "cell_type": "markdown",
   "metadata": {},
   "source": [
    "or a even shorter notation without the brackets:"
   ]
  },
  {
   "cell_type": "code",
   "execution_count": 63,
   "metadata": {
    "collapsed": true
   },
   "outputs": [],
   "source": [
    "mytuple = 'a string', 2.5, 6, 'another string' "
   ]
  },
  {
   "cell_type": "markdown",
   "metadata": {},
   "source": [
    "Since tuples are immutable we cannot change them:\n",
    "```python\n",
    "mytuple[1] = -10  # Error, tuple cannot be changed\n",
    "```"
   ]
  },
  {
   "cell_type": "markdown",
   "metadata": {
    "slideshow": {
     "slide_type": "fragment"
    }
   },
   "source": [
    "Instead we need to create a new tuple with the changed values, for example by converting the tuple to a list, changing it, and converting it back to a tuple:"
   ]
  },
  {
   "cell_type": "code",
   "execution_count": 64,
   "metadata": {},
   "outputs": [
    {
     "data": {
      "text/plain": [
       "('a string', 'is', 'not', 'another string')"
      ]
     },
     "execution_count": 64,
     "metadata": {},
     "output_type": "execute_result"
    }
   ],
   "source": [
    "l = list(mytuple)   # convert tuple to list (copy)\n",
    "l[1:3] = [\"is\", \"not\"]\n",
    "mytuple = tuple(l)  # convert list to tuple (copy)\n",
    "mytuple"
   ]
  },
  {
   "cell_type": "markdown",
   "metadata": {
    "slideshow": {
     "slide_type": "subslide"
    }
   },
   "source": [
    "## Tuple cheat sheet\n",
    "\n",
    "| Code               |   Meaning                                       |                                                                                                              \n",
    "|----------------------------|-------------------------------------------------|                                                                                                              \n",
    "| a = ()                   | initialize an empty tuple                        |                                                                                                               \n",
    "| a = (1, 4.4, 'run.py')   | initialize a tuple                               |                                                                                                               \n",
    "| a + (1,3)                | add two tuples (returns a new tuple) |                                                                                                           \n",
    "| a[3]                     | index a list element                            |                                                                                                               \n",
    "| a[-1]                    | get last list element                           |                                                                                                              \n",
    "| a[1:3]                   | slice: return subtuple (here: index 1, 2)  |                                                                                                               \n",
    "| a.index('value')        | find index corresponding to an element's value  |                                                                                                              \n",
    "| 'value' in a            | test if a value is contained in the list        |                                                                                                               \n",
    "| a.count(v)               | count how many elements have the value v |                                                                                                              \n",
    "| len(a)                   | number of elements in list a                  |                                                                                                               \n",
    "| min(a)                   | the smallest element in a                     |                                                                                                              \n",
    "| max(a)                   | the largest element in a                      |                                                                                                               \n",
    "| sum(a)                   | add all elements in a                         |                                                                                                              \n",
    "| sorted(a)                | return sorted list with the values of a               |                                                                                                               \n",
    "| reversed(a)              | return reversed sorted version of a      |                                                                                                              \n",
    "| b[3][0][2]               | nested list indexing                            |                                                                                                               \n",
    "| isinstance(a, tuple)      | is True if a is a tuple                      |                                                                                                              \n",
    "| type(a) is tuple          | is True if a is a tuple                      |                                                                                                                "
   ]
  },
  {
   "cell_type": "markdown",
   "metadata": {
    "slideshow": {
     "slide_type": "subslide"
    }
   },
   "source": [
    "## Python dictionaries\n",
    "\n",
    "\n",
    "<img src=\"figs/dictionary.jpg\"/ style=\"width: 300px;\">\n",
    "\n",
    "Remeber that lists always used integers as indices:\n",
    "```python\n",
    "mylist[10]       \n",
    "```\n",
    "\n",
    "Python dictionaries are similar but you can use any **immutable** object as index:\n",
    "```python\n",
    "mydict[\"hallo\"]  # dictionary can use e.g. a string as indices\n",
    "```"
   ]
  },
  {
   "cell_type": "markdown",
   "metadata": {
    "slideshow": {
     "slide_type": "subslide"
    }
   },
   "source": [
    "## Basic dictionary operations\n",
    "\n",
    "We create dictionaries with the `{}` syntax. \n",
    "For each dictionary entry, we need to probide one (immutable) key and its value:"
   ]
  },
  {
   "cell_type": "markdown",
   "metadata": {},
   "source": [
    "```python\n",
    "phonebook = {\"John Doe\"  : 99954329, \n",
    "             \"Franz Dahl\": 4881221}\n",
    "\n",
    "mydict = {\"1\"      : \"A number\", \n",
    "          \"house\"  : \"A building to live in\", \n",
    "          \"kitchen\": None}\n",
    "```"
   ]
  },
  {
   "cell_type": "markdown",
   "metadata": {},
   "source": [
    "Once created, we can access the dictionary entries:\n",
    "```python\n",
    "phonebook[\"John Doe\"]  # 99954329\n",
    "mydict[\"tbane\"]        # gives an IndexError\n",
    "```"
   ]
  },
  {
   "cell_type": "markdown",
   "metadata": {
    "slideshow": {
     "slide_type": "fragment"
    }
   },
   "source": [
    "Dictionaryes are **mutable**, so we can change them:\n",
    "```python\n",
    "mydict['somekey'] = 1.0\n",
    "\n",
    "mydict.update(otherdict)  # add/replace key-value pairs\n",
    "\n",
    "del mydict[2]\n",
    "del mydict['somekey']\n",
    "```"
   ]
  },
  {
   "cell_type": "markdown",
   "metadata": {
    "slideshow": {
     "slide_type": "subslide"
    }
   },
   "source": [
    "## Dictionary cheat sheet\n",
    "\n",
    "\n",
    "| Construction                           | Meaning                                    |                                                                                                        \n",
    "|-------------------------------------------------------------------------------------|                                                                                                        \n",
    "| a = {}                               | initialize an empty dictionary             |                                                                                                        \n",
    "| a = {'point': [0,0.1], 'value': 7}   | initialize a dictionary                    |                                                                                                        \n",
    "| a = dict(point=[2,7], value=3)       | initialize a dictionary w/string keys      |                                                                                                        \n",
    "| a.update(b)                          | add key-value pairs from b in a |                                                                                                               \n",
    "| a.update(key1=value1, key2=value2)   | add key-value pairs in a          |                                                                                                               \n",
    "| a['hide'] = True                     | add new key-value pair to a              |                                                                                                        \n",
    "| a['point']                           | get value corresponding to key point     |                                                                                                        \n",
    "| for key in a:                        | loop over keys in unknown order            |                                                                                                        \n",
    "| for key in sorted(a):                | loop over keys in alphabetic order         |                                                                                                        \n",
    "| 'value' in a                         | True if string value is a key in a   |                                                                                                        \n",
    "| del a['point']                       | delete a key-value pair from a           |                                                                                                        \n",
    "| list(a.keys())                       | list of keys                               |                                                                                                        \n",
    "| list(a.values())                     | list of values                             |                                                                                                        \n",
    "| len(a)                               | number of key-value pairs in a           |                                                                                                        \n",
    "| isinstance(a, dict)                  | is True if a is a dictionary           |"
   ]
  },
  {
   "cell_type": "markdown",
   "metadata": {
    "slideshow": {
     "slide_type": "subslide"
    }
   },
   "source": [
    "## Summary: Common data structures\n",
    "\n",
    "* Numbers: \n",
    "    * `int`\n",
    "    * `float`\n",
    "    * `complex`\n",
    "\n",
    "* Sequences: \n",
    "    * `string`\n",
    "    * `list`\n",
    "    * `tuple`\n",
    "\n",
    "* Mappings: \n",
    "    * `dict` (dictionary/hash)"
   ]
  },
  {
   "cell_type": "markdown",
   "metadata": {
    "slideshow": {
     "slide_type": "slide"
    }
   },
   "source": [
    "# Control structures in Python"
   ]
  },
  {
   "cell_type": "markdown",
   "metadata": {
    "slideshow": {
     "slide_type": "subslide"
    }
   },
   "source": [
    "## Conditionals/branching\n",
    "\n",
    "```python\n",
    "if condition:\n",
    "    <block of statements>\n",
    "elif condition:\n",
    "    <block of statements>\n",
    "else:\n",
    "    <block of statements>\n",
    "```    \n",
    "\n",
    "Also here, `condition` must be a boolean expression.\n",
    "\n",
    "**Important**: Python uses indentation to determine the start/end of blocks\n",
    "(instead of e.g. brackets). In Python, it is common to indent with 4 spaces."
   ]
  },
  {
   "cell_type": "markdown",
   "metadata": {
    "slideshow": {
     "slide_type": "subslide"
    }
   },
   "source": [
    "## Examples\n",
    "Let's look at an example:"
   ]
  },
  {
   "cell_type": "code",
   "execution_count": 83,
   "metadata": {},
   "outputs": [
    {
     "name": "stdout",
     "output_type": "stream",
     "text": [
      "10 is a small number\n"
     ]
    }
   ],
   "source": [
    "i = 10\n",
    "\n",
    "if i < 0:\n",
    "    print(\"{} is a negative number\".format(i))\n",
    "elif 0 <= i < 20:\n",
    "    print(\"{} is a small number\".format(i))\n",
    "else:\n",
    "    print(\"{} is a large number\".format(i))"
   ]
  },
  {
   "cell_type": "markdown",
   "metadata": {
    "slideshow": {
     "slide_type": "fragment"
    }
   },
   "source": [
    "Python variables are strongy typed. We can use if statements to test for a variable's type:\n",
    "\n",
    "```python\n",
    "if isinstance(a, int): # int?\n",
    "    # ...\n",
    "if isinstance(a, (list, tuple)): # list or tuple?\n",
    "    # ...\n",
    "```    "
   ]
  },
  {
   "cell_type": "markdown",
   "metadata": {
    "slideshow": {
     "slide_type": "subslide"
    }
   },
   "source": [
    "## `while` loop\n",
    "\n",
    "```python\n",
    "while condition:\n",
    "    <block of statements>\n",
    "```\n",
    "\n",
    "Here, `condition` must be a boolean expression (or have a boolean interpretation), for example: `i < 10`."
   ]
  },
  {
   "cell_type": "markdown",
   "metadata": {
    "slideshow": {
     "slide_type": "subslide"
    }
   },
   "source": [
    "## `for` loop\n",
    "\n",
    "\n",
    "```python\n",
    "for element in somelist:\n",
    "    <block of statements>\n",
    "```    \n",
    "\n",
    "Here, `somelist` must be a indexable object, for example a `list`, `tuple` or a `string`."
   ]
  },
  {
   "cell_type": "markdown",
   "metadata": {
    "slideshow": {
     "slide_type": "subslide"
    }
   },
   "source": [
    "## Example\n",
    "Let's look at an example:"
   ]
  },
  {
   "cell_type": "code",
   "execution_count": 82,
   "metadata": {},
   "outputs": [
    {
     "name": "stdout",
     "output_type": "stream",
     "text": [
      "Remember to buy tea.\n",
      "Remember to buy butter.\n",
      "Remember to buy milk.\n"
     ]
    }
   ],
   "source": [
    "shoppinglist = [\"tea\", \"butter\", \"milk\"]\n",
    "\n",
    "for item in shoppinglist:\n",
    "    print(\"Remember to buy {}.\".format(item))"
   ]
  },
  {
   "cell_type": "markdown",
   "metadata": {
    "slideshow": {
     "slide_type": "subslide"
    }
   },
   "source": [
    "If you want to iterate over a sequence of numbers, you can use the `range` command:"
   ]
  },
  {
   "cell_type": "code",
   "execution_count": 84,
   "metadata": {},
   "outputs": [
    {
     "name": "stdout",
     "output_type": "stream",
     "text": [
      "0\n",
      "1\n",
      "2\n"
     ]
    }
   ],
   "source": [
    "for i in range(3):\n",
    "    print(i)"
   ]
  },
  {
   "cell_type": "markdown",
   "metadata": {
    "slideshow": {
     "slide_type": "slide"
    }
   },
   "source": [
    "# Functions"
   ]
  },
  {
   "cell_type": "markdown",
   "metadata": {},
   "source": [
    "Python functions allow you to encapsulate a task - they combine many instructions into a single line of code. "
   ]
  },
  {
   "cell_type": "markdown",
   "metadata": {},
   "source": [
    "As an example, let's write a function that splits a string at a given character:"
   ]
  },
  {
   "cell_type": "code",
   "execution_count": 67,
   "metadata": {
    "collapsed": true
   },
   "outputs": [],
   "source": [
    "def split(string, char):\n",
    "    \"\"\" Split the string at the given character \"\"\"\n",
    "    \n",
    "    position = string.find(char)\n",
    "    \n",
    "    if  position > 0:\n",
    "        return string[:position+1], string[position+1:]\n",
    "    else:\n",
    "        return string, ''"
   ]
  },
  {
   "cell_type": "markdown",
   "metadata": {
    "slideshow": {
     "slide_type": "fragment"
    }
   },
   "source": [
    "So far, we have only defined the function (in cooking this is equivalent of writing down a recipe). \n",
    "\n",
    "We must call our function to have an actual effect (or equivalently, actually cooking the recipe). Let's call our function for the first time:"
   ]
  },
  {
   "cell_type": "code",
   "execution_count": 66,
   "metadata": {
    "scrolled": true,
    "slideshow": {
     "slide_type": "-"
    }
   },
   "outputs": [
    {
     "name": "stdout",
     "output_type": "stream",
     "text": [
      "('Hei', 'sann')\n"
     ]
    }
   ],
   "source": [
    "message = 'Heisann'\n",
    "result = split(message, 'i') # Call our function\n",
    "print(result)"
   ]
  },
  {
   "cell_type": "markdown",
   "metadata": {
    "slideshow": {
     "slide_type": "subslide"
    }
   },
   "source": [
    "## Function syntax"
   ]
  },
  {
   "cell_type": "markdown",
   "metadata": {},
   "source": [
    "The syntax is the following:\n",
    "```python\n",
    "def functionname(arg1, arg2=\"default\", arg3=1.0, ...):\n",
    "   \"Docstring\"\n",
    "   <block of statements>\n",
    "   return [expression]\n",
    "```"
   ]
  },
  {
   "cell_type": "markdown",
   "metadata": {
    "slideshow": {
     "slide_type": "fragment"
    }
   },
   "source": [
    "We have a few options how to call a function:\n",
    "\n",
    "```python\n",
    "functionname(1.0, \"x\", \"i\")\n",
    "```\n",
    "is the same as\n",
    "```python\n",
    "functionname(arg1=1.0, arg2=\"x\", arg2=\"i\")\n",
    "```\n",
    "\n",
    "Default arguments can be left out:\n",
    "```python\n",
    "functionname(1.0, args3=\"i\") \n",
    "```\n",
    "\n",
    "Positional arguments must appear before keyword arguments:\n",
    "\n",
    "```python\n",
    "functionname(arg3='i', \"x\") # invalid\n",
    "```"
   ]
  },
  {
   "cell_type": "markdown",
   "metadata": {
    "slideshow": {
     "slide_type": "subslide"
    }
   },
   "source": [
    "# Multiple return values\n",
    "\n",
    "Often it is useful to return multiple values in a function. This is achieved by packing the return values into a tuple:"
   ]
  },
  {
   "cell_type": "code",
   "execution_count": 91,
   "metadata": {
    "collapsed": true
   },
   "outputs": [],
   "source": [
    "def coordinates():\n",
    "    x = 1\n",
    "    y = 2\n",
    "    return x, y  # Note: Short notation for tuple([x, y])"
   ]
  },
  {
   "cell_type": "markdown",
   "metadata": {
    "slideshow": {
     "slide_type": "fragment"
    }
   },
   "source": [
    "When calling the function, we can extact the two coordinate values from the tuple again:"
   ]
  },
  {
   "cell_type": "code",
   "execution_count": 93,
   "metadata": {
    "collapsed": true
   },
   "outputs": [],
   "source": [
    "xy = coordinates()\n",
    "x = xy[0]\n",
    "y = xy[1]"
   ]
  },
  {
   "cell_type": "markdown",
   "metadata": {},
   "source": [
    "or we use the shorter notation:"
   ]
  },
  {
   "cell_type": "code",
   "execution_count": 94,
   "metadata": {
    "collapsed": true
   },
   "outputs": [],
   "source": [
    "x, y = coordinates()   # Note: Python automatically \"unpacks\" the tuple entries"
   ]
  },
  {
   "cell_type": "markdown",
   "metadata": {
    "slideshow": {
     "slide_type": "slide"
    }
   },
   "source": [
    "# A glimpse into classes"
   ]
  },
  {
   "cell_type": "markdown",
   "metadata": {},
   "source": [
    "In your next assignment you will extend an given class, so let's have a brief look how classes work in Python."
   ]
  },
  {
   "cell_type": "markdown",
   "metadata": {
    "slideshow": {
     "slide_type": "subslide"
    }
   },
   "source": [
    "## Classes in Python\n"
   ]
  },
  {
   "cell_type": "markdown",
   "metadata": {},
   "source": [
    "A class collects attributes and functions together. Here is an example of a class definition for a car:"
   ]
  },
  {
   "cell_type": "code",
   "execution_count": 130,
   "metadata": {
    "collapsed": true
   },
   "outputs": [],
   "source": [
    "class Car(object):\n",
    "    \"\"\" A class representing a car \"\"\"\n",
    "    \n",
    "    def __init__(self, year, fuel):\n",
    "        self.year = year\n",
    "        self.fuel = fuel\n",
    "        self.speed = 0\n",
    "    \n",
    "    def start(self):\n",
    "        if self.fuel == \"electric\":\n",
    "            print(\"sssss\")\n",
    "        else:\n",
    "            print(\"Wohmmm\")\n",
    "            \n",
    "    def accelerate(self, new_speed):\n",
    "        self.speed = new_speed\n",
    "        "
   ]
  },
  {
   "cell_type": "markdown",
   "metadata": {},
   "source": [
    "This class contains tree functions: \n",
    "  1. The `__init__` function is the **constructor** function which is called when a new class object is instantiated. \n",
    "  2. The `start` function is a user defined function.\n",
    "  3. The `accelerate` function is also a user defined function.\n",
    "\n",
    "\n",
    "**Note**: All class functions take a **self** variable as first argument. This variable represents the car object itself.\n",
    "We can use the self variable to access information about the object."
   ]
  },
  {
   "cell_type": "markdown",
   "metadata": {
    "slideshow": {
     "slide_type": "subslide"
    }
   },
   "source": [
    "## Using our Python class\n",
    "\n",
    "We can create a new instance of the class:"
   ]
  },
  {
   "cell_type": "code",
   "execution_count": 110,
   "metadata": {},
   "outputs": [
    {
     "name": "stdout",
     "output_type": "stream",
     "text": [
      "<__main__.Car object at 0x7faf641a5a58>\n"
     ]
    }
   ],
   "source": [
    "mycar = Car(year=2007, fuel=\"Bensin\")\n",
    "print(mycar)"
   ]
  },
  {
   "cell_type": "markdown",
   "metadata": {},
   "source": [
    "Instantiating the class calls the `__init__` constructor and returns a new **class object**:"
   ]
  },
  {
   "cell_type": "markdown",
   "metadata": {
    "slideshow": {
     "slide_type": "fragment"
    }
   },
   "source": [
    "We can call the user-defined functions on our object:"
   ]
  },
  {
   "cell_type": "code",
   "execution_count": 112,
   "metadata": {},
   "outputs": [
    {
     "name": "stdout",
     "output_type": "stream",
     "text": [
      "Wohmmm\n"
     ]
    }
   ],
   "source": [
    "mycar.start()\n",
    "mycar.accelerate(new_speed=100)"
   ]
  },
  {
   "cell_type": "markdown",
   "metadata": {},
   "source": [
    "**Note**: When calling class functions, the `self` argument in the declaration is neglected."
   ]
  },
  {
   "cell_type": "markdown",
   "metadata": {
    "slideshow": {
     "slide_type": "fragment"
    }
   },
   "source": [
    "We can also access the member variables of that class:"
   ]
  },
  {
   "cell_type": "code",
   "execution_count": 114,
   "metadata": {},
   "outputs": [
    {
     "name": "stdout",
     "output_type": "stream",
     "text": [
      "2007\n",
      "Bensin\n",
      "100\n"
     ]
    }
   ],
   "source": [
    "print(mycar.year)\n",
    "print(mycar.fuel)\n",
    "print(mycar.speed)"
   ]
  },
  {
   "cell_type": "markdown",
   "metadata": {
    "slideshow": {
     "slide_type": "subslide"
    }
   },
   "source": [
    "## Magic class methods\n",
    "* Python classes can implement some magic methods.\n",
    "* If implemented, Python calls these magic methods on certain operations. \n",
    "* Here are some operations defined by magic methods:\n",
    "```python\n",
    "str(a)            # calls a.__str__(), called also with print(a)!\n",
    "len(a)            # calls a.__len__()\n",
    "c = a*b           # calls c = a.__mul__(b)\n",
    "a = a+b           # calls a = a.__add__(b)\n",
    "a += c            # calls a.__iadd__(c)\n",
    "d = a[3]          # calls d = a.__getitem__(3)\n",
    "a[3] = 0          # calls a.__setitem__(3, 0)\n",
    "f = a(1.2, True)  # calls f = a.__call__(1.2, True)\n",
    "if a:             # calls if a.__len__()> 0: or if a.__nonzero__():\n",
    "a == b            # calls a.__eq__(self, b)\n",
    "```\n",
    "\n",
    "A complete list is available here: [Python reference - Data model](https://docs.python.org/3/reference/datamodel.html)"
   ]
  },
  {
   "cell_type": "markdown",
   "metadata": {
    "slideshow": {
     "slide_type": "subslide"
    }
   },
   "source": [
    "## Example"
   ]
  },
  {
   "cell_type": "markdown",
   "metadata": {},
   "source": [
    "Currently, when we try to print our Car object the output is not very informative:"
   ]
  },
  {
   "cell_type": "code",
   "execution_count": 127,
   "metadata": {},
   "outputs": [
    {
     "data": {
      "text/plain": [
       "'This is a car from 2007 driving on bensin at speed 0'"
      ]
     },
     "execution_count": 127,
     "metadata": {},
     "output_type": "execute_result"
    }
   ],
   "source": [
    "str(mycar)"
   ]
  },
  {
   "cell_type": "markdown",
   "metadata": {
    "slideshow": {
     "slide_type": "fragment"
    }
   },
   "source": [
    "Let's extend our car class with the magic `__str__` method:"
   ]
  },
  {
   "cell_type": "code",
   "execution_count": 128,
   "metadata": {
    "collapsed": true
   },
   "outputs": [],
   "source": [
    "class Car(object):\n",
    "    \"\"\" A class representing a car \"\"\"\n",
    "    \n",
    "    def __init__(self, year, fuel):\n",
    "        self.year = year\n",
    "        self.fuel = fuel\n",
    "        self.speed = 0\n",
    "    \n",
    "    def __str__(self):\n",
    "        return(\"This is a car from {} driving on {} at speed {}\".format(self.year, self.fuel, self.speed))"
   ]
  },
  {
   "cell_type": "markdown",
   "metadata": {},
   "source": [
    "This magic `__str__` function is now called when we convert the car object to a string:"
   ]
  },
  {
   "cell_type": "code",
   "execution_count": 129,
   "metadata": {},
   "outputs": [
    {
     "data": {
      "text/plain": [
       "'This is a car from 2007 driving on bensin at speed 0'"
      ]
     },
     "execution_count": 129,
     "metadata": {},
     "output_type": "execute_result"
    }
   ],
   "source": [
    "mycar = Car(2007, \"bensin\")\n",
    "str(mycar)"
   ]
  }
 ],
 "metadata": {
  "celltoolbar": "Slideshow",
  "kernelspec": {
   "display_name": "Python 3",
   "language": "python",
   "name": "python3"
  },
  "language_info": {
   "codemirror_mode": {
    "name": "ipython",
    "version": 3
   },
   "file_extension": ".py",
   "mimetype": "text/x-python",
   "name": "python",
   "nbconvert_exporter": "python",
   "pygments_lexer": "ipython3",
   "version": "3.5.2"
  },
  "livereveal": {
   "scroll": true,
   "start_slideshow_at": "selected",
   "theme": "serif"
  }
 },
 "nbformat": 4,
 "nbformat_minor": 1
}
